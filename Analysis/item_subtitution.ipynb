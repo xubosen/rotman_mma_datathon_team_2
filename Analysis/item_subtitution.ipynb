{
 "cells": [
  {
   "cell_type": "code",
   "execution_count": 71,
   "id": "1b248576",
   "metadata": {},
   "outputs": [],
   "source": [
    "import numpy as np\n",
    "import pandas as pd\n",
    "import seaborn as sns\n",
    "import matplotlib.pyplot as plt\n",
    "from sklearn.feature_extraction.text import TfidfVectorizer\n",
    "from sklearn.metrics.pairwise import cosine_similarity\n",
    "import sys\n",
    "from sentence_transformers import SentenceTransformer, util"
   ]
  },
  {
   "cell_type": "code",
   "execution_count": 2,
   "id": "1aeec00d",
   "metadata": {},
   "outputs": [],
   "source": [
    "df = pd.read_csv('mma_mart.csv')\n",
    "top_1000 = pd.read_csv('items_1000.csv')"
   ]
  },
  {
   "cell_type": "code",
   "execution_count": 102,
   "id": "b437ea93",
   "metadata": {},
   "outputs": [],
   "source": [
    "rows_with_x = top_1000[top_1000['product_name'].str.contains('banana', case=False, regex=False)]"
   ]
  },
  {
   "cell_type": "code",
   "execution_count": 50,
   "id": "18a84c53",
   "metadata": {},
   "outputs": [],
   "source": [
    "rows_with_x = df[df['product_name'].str.contains('orange', case=False, regex=False)]"
   ]
  },
  {
   "cell_type": "code",
   "execution_count": 103,
   "id": "7e06f858",
   "metadata": {},
   "outputs": [
    {
     "data": {
      "text/html": [
       "<div>\n",
       "<style scoped>\n",
       "    .dataframe tbody tr th:only-of-type {\n",
       "        vertical-align: middle;\n",
       "    }\n",
       "\n",
       "    .dataframe tbody tr th {\n",
       "        vertical-align: top;\n",
       "    }\n",
       "\n",
       "    .dataframe thead th {\n",
       "        text-align: right;\n",
       "    }\n",
       "</style>\n",
       "<table border=\"1\" class=\"dataframe\">\n",
       "  <thead>\n",
       "    <tr style=\"text-align: right;\">\n",
       "      <th></th>\n",
       "      <th>product_name</th>\n",
       "      <th>total_quantity_sold</th>\n",
       "      <th>order_id</th>\n",
       "      <th>product_id</th>\n",
       "      <th>aisle_id</th>\n",
       "      <th>aisle</th>\n",
       "      <th>department_id</th>\n",
       "      <th>department</th>\n",
       "      <th>frozen</th>\n",
       "      <th>refrigerated</th>\n",
       "    </tr>\n",
       "  </thead>\n",
       "  <tbody>\n",
       "    <tr>\n",
       "      <th>126</th>\n",
       "      <td>Baby Food Stage 2 Pumpkin Banana</td>\n",
       "      <td>141</td>\n",
       "      <td>163</td>\n",
       "      <td>14211</td>\n",
       "      <td>92</td>\n",
       "      <td>baby food formula</td>\n",
       "      <td>18</td>\n",
       "      <td>babies</td>\n",
       "      <td>False</td>\n",
       "      <td>False</td>\n",
       "    </tr>\n",
       "    <tr>\n",
       "      <th>127</th>\n",
       "      <td>Peach,  Apricot &amp; Banana Stage 2 Baby Food</td>\n",
       "      <td>136</td>\n",
       "      <td>1457</td>\n",
       "      <td>5114</td>\n",
       "      <td>92</td>\n",
       "      <td>baby food formula</td>\n",
       "      <td>18</td>\n",
       "      <td>babies</td>\n",
       "      <td>False</td>\n",
       "      <td>False</td>\n",
       "    </tr>\n",
       "    <tr>\n",
       "      <th>588</th>\n",
       "      <td>Banana</td>\n",
       "      <td>14494</td>\n",
       "      <td>10</td>\n",
       "      <td>24852</td>\n",
       "      <td>24</td>\n",
       "      <td>fresh fruits</td>\n",
       "      <td>4</td>\n",
       "      <td>produce</td>\n",
       "      <td>False</td>\n",
       "      <td>False</td>\n",
       "    </tr>\n",
       "    <tr>\n",
       "      <th>589</th>\n",
       "      <td>Bag of Organic Bananas</td>\n",
       "      <td>11694</td>\n",
       "      <td>1</td>\n",
       "      <td>13176</td>\n",
       "      <td>24</td>\n",
       "      <td>fresh fruits</td>\n",
       "      <td>4</td>\n",
       "      <td>produce</td>\n",
       "      <td>False</td>\n",
       "      <td>False</td>\n",
       "    </tr>\n",
       "    <tr>\n",
       "      <th>683</th>\n",
       "      <td>Organic Banana</td>\n",
       "      <td>644</td>\n",
       "      <td>210</td>\n",
       "      <td>37067</td>\n",
       "      <td>24</td>\n",
       "      <td>fresh fruits</td>\n",
       "      <td>4</td>\n",
       "      <td>produce</td>\n",
       "      <td>False</td>\n",
       "      <td>False</td>\n",
       "    </tr>\n",
       "    <tr>\n",
       "      <th>991</th>\n",
       "      <td>Dark Chocolate Covered Banana</td>\n",
       "      <td>131</td>\n",
       "      <td>75</td>\n",
       "      <td>43889</td>\n",
       "      <td>119</td>\n",
       "      <td>frozen dessert</td>\n",
       "      <td>1</td>\n",
       "      <td>frozen</td>\n",
       "      <td>True</td>\n",
       "      <td>False</td>\n",
       "    </tr>\n",
       "  </tbody>\n",
       "</table>\n",
       "</div>"
      ],
      "text/plain": [
       "                                   product_name  total_quantity_sold  \\\n",
       "126            Baby Food Stage 2 Pumpkin Banana                  141   \n",
       "127  Peach,  Apricot & Banana Stage 2 Baby Food                  136   \n",
       "588                                      Banana                14494   \n",
       "589                      Bag of Organic Bananas                11694   \n",
       "683                              Organic Banana                  644   \n",
       "991               Dark Chocolate Covered Banana                  131   \n",
       "\n",
       "     order_id  product_id  aisle_id              aisle  department_id  \\\n",
       "126       163       14211        92  baby food formula             18   \n",
       "127      1457        5114        92  baby food formula             18   \n",
       "588        10       24852        24       fresh fruits              4   \n",
       "589         1       13176        24       fresh fruits              4   \n",
       "683       210       37067        24       fresh fruits              4   \n",
       "991        75       43889       119     frozen dessert              1   \n",
       "\n",
       "    department  frozen  refrigerated  \n",
       "126     babies   False         False  \n",
       "127     babies   False         False  \n",
       "588    produce   False         False  \n",
       "589    produce   False         False  \n",
       "683    produce   False         False  \n",
       "991     frozen    True         False  "
      ]
     },
     "execution_count": 103,
     "metadata": {},
     "output_type": "execute_result"
    }
   ],
   "source": [
    "rows_with_x"
   ]
  },
  {
   "cell_type": "markdown",
   "id": "545c4b10",
   "metadata": {},
   "source": [
    "### Helper Functions"
   ]
  },
  {
   "cell_type": "code",
   "execution_count": 88,
   "id": "b1f02987",
   "metadata": {},
   "outputs": [],
   "source": [
    "def get_similar_products(product_name: str) -> list:\n",
    "    \"\"\"\n",
    "    Get products similar to product_name\n",
    "\n",
    "    Parameters:\n",
    "    - product_name (str): Input string.\n",
    "\n",
    "    Returns:\n",
    "    - list: list of similar product_names.\n",
    "    \"\"\"\n",
    "    aisle = find_aisle(product_name)\n",
    "\n",
    "    temp_df = top_1000[top_1000['aisle']== aisle]\n",
    "    prod_name_list = temp_df['product_name'].tolist()\n",
    "    \n",
    "    # Check if the product_name is in the list\n",
    "    if product_name in prod_name_list:\n",
    "        prod_name_list.remove(product_name)\n",
    "        \n",
    "    return prod_name_list"
   ]
  },
  {
   "cell_type": "code",
   "execution_count": 45,
   "id": "ed20c7a2",
   "metadata": {},
   "outputs": [],
   "source": [
    "def find_aisle(product_name: str) -> str:\n",
    "    \"\"\"\n",
    "    Find the aisle of product_name\n",
    "\n",
    "    Parameters:\n",
    "    - product_name (str): Input string.\n",
    "\n",
    "    Returns:\n",
    "    - str: aisle.\n",
    "    \"\"\"\n",
    "    result_df = df[df['product_name'] == product_name]\n",
    "    \n",
    "    if not result_df.empty:\n",
    "        product_info = result_df.iloc[0]\n",
    "        # Now you can use product_info as needed\n",
    "        return product_info['aisle']\n",
    "    else:\n",
    "        print(f\"No information found for the product: {product_name}. Canceling the run.\")\n",
    "        sys.exit()\n",
    "    "
   ]
  },
  {
   "cell_type": "code",
   "execution_count": 9,
   "id": "ee19d087",
   "metadata": {},
   "outputs": [],
   "source": [
    "def find_department(product_name: str) -> str:\n",
    "    \"\"\"\n",
    "    Find the department of product_name\n",
    "\n",
    "    Parameters:\n",
    "    - product_name (str): Input string.\n",
    "\n",
    "    Returns:\n",
    "    - str: department.\n",
    "    \"\"\"\n",
    "    product_info = df[df['product_name'] == product_name].iloc[0]\n",
    "\n",
    "    return product_info['department']"
   ]
  },
  {
   "cell_type": "markdown",
   "id": "7ba0aae8",
   "metadata": {},
   "source": [
    "### Subsitution with Term Frequenccy"
   ]
  },
  {
   "cell_type": "code",
   "execution_count": 80,
   "id": "5ef921f1",
   "metadata": {},
   "outputs": [],
   "source": [
    "def substitution_term_freq(top_1000: pd.DataFrame, product_name: str) -> str:\n",
    "    \"\"\"\n",
    "    Converts product_name to vector, counts word occurance. Similar proccess for products available for substitution.\n",
    "\n",
    "    Parameters:\n",
    "    - top_1000 (pd.DataFrame): dataframe of products in aisle\n",
    "    - product_name (str): String parameter for unavailable item\n",
    "\n",
    "    Returns:\n",
    "    - str: The recommended product\n",
    "    \"\"\"\n",
    "    # Example: Printing the input DataFrame and string for demonstration    \n",
    "    prod_name_list = get_similar_products(product_name)  \n",
    "        \n",
    "    tfidf_vectorizer = TfidfVectorizer(stop_words='english')\n",
    "    tfidf_matrix = tfidf_vectorizer.fit_transform(prod_name_list + [product_name])\n",
    "    \n",
    "    # Step 3: Similarity Calculation\n",
    "    cosine_similarities = cosine_similarity(tfidf_matrix, tfidf_matrix)\n",
    "\n",
    "    # Step 4: Recommendation\n",
    "    target_product_index = len(prod_name_list)  # Index of the product_name in the extended list\n",
    "    similarity_scores = cosine_similarities[target_product_index]\n",
    "    most_similar_index = similarity_scores.argsort()[-2]  # Index of the most similar product (excluding the target product itself)\n",
    "\n",
    "    return prod_name_list[most_similar_index]"
   ]
  },
  {
   "cell_type": "code",
   "execution_count": 110,
   "id": "4dfb86b4",
   "metadata": {},
   "outputs": [
    {
     "name": "stdout",
     "output_type": "stream",
     "text": [
      "Organic Avocado\n"
     ]
    }
   ],
   "source": [
    "print(substitution_term_freq(top_1000, 'Bag of Organic Bananas'))"
   ]
  },
  {
   "cell_type": "code",
   "execution_count": 82,
   "id": "74db31c9",
   "metadata": {},
   "outputs": [
    {
     "name": "stdout",
     "output_type": "stream",
     "text": [
      "Organic Orange Juice\n"
     ]
    }
   ],
   "source": [
    "print(substitution_term_freq(top_1000, '100% Juice No Added Sugar Orange Tangerine'))"
   ]
  },
  {
   "cell_type": "markdown",
   "id": "b694e01b",
   "metadata": {},
   "source": [
    "### Substitution with Sequence Transformer"
   ]
  },
  {
   "cell_type": "code",
   "execution_count": 86,
   "id": "723d565f",
   "metadata": {},
   "outputs": [],
   "source": [
    "def substitution_seq_trans(top_1000: pd.DataFrame, product_name: str) -> str:\n",
    "    \"\"\"\n",
    "    Process a DataFrame based on a given input string.\n",
    "\n",
    "    Parameters:\n",
    "    - top_1000 (pd.DataFrame): dataframe of products in aisle\n",
    "    - product_name (str): String parameter for unavailable item\n",
    "\n",
    "    Returns:\n",
    "    - str: The recommended product\n",
    "    \"\"\"\n",
    "    # Pre-trained model\n",
    "    model = SentenceTransformer('paraphrase-MiniLM-L6-v2')\n",
    "\n",
    "    prod_name_list = get_similar_products(product_name)  \n",
    "\n",
    "    # Encode descriptions to get embeddings\n",
    "    description_embeddings = model.encode(prod_name_list + [product_name], convert_to_tensor=True)\n",
    "\n",
    "    # Calculate cosine similarities between the desired product and other products\n",
    "    similarities = util.pytorch_cos_sim(description_embeddings[-1:], description_embeddings[:-1])\n",
    "\n",
    "    # Get the most similar product\n",
    "    most_similar_index = similarities.argmax().item()\n",
    "    recommended_product = prod_name_list[most_similar_index]\n",
    "\n",
    "    return recommended_product"
   ]
  },
  {
   "cell_type": "code",
   "execution_count": 111,
   "id": "314ab063",
   "metadata": {},
   "outputs": [
    {
     "name": "stdout",
     "output_type": "stream",
     "text": [
      "Organic Banana\n"
     ]
    }
   ],
   "source": [
    "print(substitution_seq_trans(top_1000, 'Bag of Organic Bananas'))"
   ]
  },
  {
   "cell_type": "code",
   "execution_count": null,
   "id": "9d4e6d3a",
   "metadata": {},
   "outputs": [],
   "source": []
  }
 ],
 "metadata": {
  "kernelspec": {
   "display_name": "Python 3 (ipykernel)",
   "language": "python",
   "name": "python3"
  },
  "language_info": {
   "codemirror_mode": {
    "name": "ipython",
    "version": 3
   },
   "file_extension": ".py",
   "mimetype": "text/x-python",
   "name": "python",
   "nbconvert_exporter": "python",
   "pygments_lexer": "ipython3",
   "version": "3.9.13"
  }
 },
 "nbformat": 4,
 "nbformat_minor": 5
}
