{
 "cells": [
  {
   "cell_type": "code",
   "execution_count": 1,
   "id": "1b248576",
   "metadata": {},
   "outputs": [],
   "source": [
    "import pandas as pd\n",
    "from sklearn.feature_extraction.text import TfidfVectorizer\n",
    "from sklearn.metrics.pairwise import cosine_similarity\n",
    "import sys\n",
    "from sentence_transformers import SentenceTransformer, util"
   ]
  },
  {
   "cell_type": "code",
   "execution_count": 2,
   "id": "1aeec00d",
   "metadata": {},
   "outputs": [],
   "source": [
    "df = pd.read_csv('data/mma_mart.csv')"
   ]
  },
  {
   "cell_type": "code",
   "execution_count": 3,
   "outputs": [
    {
     "data": {
      "text/plain": "                                              sales\nproduct_name                                       \n#2 Coffee Filters                                24\n#2 Cone White Coffee Filters                      1\n#4 Natural Brown Coffee Filters                   4\n& Go! Hazelnut Spread + Pretzel Sticks            5\n+Energy Black Cherry Vegetable & Fruit Juice      1",
      "text/html": "<div>\n<style scoped>\n    .dataframe tbody tr th:only-of-type {\n        vertical-align: middle;\n    }\n\n    .dataframe tbody tr th {\n        vertical-align: top;\n    }\n\n    .dataframe thead th {\n        text-align: right;\n    }\n</style>\n<table border=\"1\" class=\"dataframe\">\n  <thead>\n    <tr style=\"text-align: right;\">\n      <th></th>\n      <th>sales</th>\n    </tr>\n    <tr>\n      <th>product_name</th>\n      <th></th>\n    </tr>\n  </thead>\n  <tbody>\n    <tr>\n      <th>#2 Coffee Filters</th>\n      <td>24</td>\n    </tr>\n    <tr>\n      <th>#2 Cone White Coffee Filters</th>\n      <td>1</td>\n    </tr>\n    <tr>\n      <th>#4 Natural Brown Coffee Filters</th>\n      <td>4</td>\n    </tr>\n    <tr>\n      <th>&amp; Go! Hazelnut Spread + Pretzel Sticks</th>\n      <td>5</td>\n    </tr>\n    <tr>\n      <th>+Energy Black Cherry Vegetable &amp; Fruit Juice</th>\n      <td>1</td>\n    </tr>\n  </tbody>\n</table>\n</div>"
     },
     "execution_count": 3,
     "metadata": {},
     "output_type": "execute_result"
    }
   ],
   "source": [
    "df_by_sales = df.groupby(\"product_name\")[\"order_id\"].count()\n",
    "df_by_sales = pd.DataFrame(df_by_sales)\n",
    "df_by_sales.columns = ['sales']\n",
    "df_by_sales.head()"
   ],
   "metadata": {
    "collapsed": false
   }
  },
  {
   "cell_type": "code",
   "execution_count": 4,
   "outputs": [
    {
     "data": {
      "text/plain": "   order_id  product_id                 product_name  aisle_id  \\\n2         1       10246        Organic Celery Hearts        83   \n3         1       49683               Cucumber Kirby        83   \n5         1       13176       Bag of Organic Bananas        24   \n6         1       47209         Organic Hass Avocado        24   \n7         1       22035  Organic Whole String Cheese        21   \n\n              aisle  department_id  department  \n2  fresh vegetables              4     produce  \n3  fresh vegetables              4     produce  \n5      fresh fruits              4     produce  \n6      fresh fruits              4     produce  \n7   packaged cheese             16  dairy eggs  ",
      "text/html": "<div>\n<style scoped>\n    .dataframe tbody tr th:only-of-type {\n        vertical-align: middle;\n    }\n\n    .dataframe tbody tr th {\n        vertical-align: top;\n    }\n\n    .dataframe thead th {\n        text-align: right;\n    }\n</style>\n<table border=\"1\" class=\"dataframe\">\n  <thead>\n    <tr style=\"text-align: right;\">\n      <th></th>\n      <th>order_id</th>\n      <th>product_id</th>\n      <th>product_name</th>\n      <th>aisle_id</th>\n      <th>aisle</th>\n      <th>department_id</th>\n      <th>department</th>\n    </tr>\n  </thead>\n  <tbody>\n    <tr>\n      <th>2</th>\n      <td>1</td>\n      <td>10246</td>\n      <td>Organic Celery Hearts</td>\n      <td>83</td>\n      <td>fresh vegetables</td>\n      <td>4</td>\n      <td>produce</td>\n    </tr>\n    <tr>\n      <th>3</th>\n      <td>1</td>\n      <td>49683</td>\n      <td>Cucumber Kirby</td>\n      <td>83</td>\n      <td>fresh vegetables</td>\n      <td>4</td>\n      <td>produce</td>\n    </tr>\n    <tr>\n      <th>5</th>\n      <td>1</td>\n      <td>13176</td>\n      <td>Bag of Organic Bananas</td>\n      <td>24</td>\n      <td>fresh fruits</td>\n      <td>4</td>\n      <td>produce</td>\n    </tr>\n    <tr>\n      <th>6</th>\n      <td>1</td>\n      <td>47209</td>\n      <td>Organic Hass Avocado</td>\n      <td>24</td>\n      <td>fresh fruits</td>\n      <td>4</td>\n      <td>produce</td>\n    </tr>\n    <tr>\n      <th>7</th>\n      <td>1</td>\n      <td>22035</td>\n      <td>Organic Whole String Cheese</td>\n      <td>21</td>\n      <td>packaged cheese</td>\n      <td>16</td>\n      <td>dairy eggs</td>\n    </tr>\n  </tbody>\n</table>\n</div>"
     },
     "execution_count": 4,
     "metadata": {},
     "output_type": "execute_result"
    }
   ],
   "source": [
    "top_1000 = df_by_sales.sort_values(by=['sales'], ascending=False).head(1000)\n",
    "top_1000 = df[df['product_name'].isin(top_1000.index)]\n",
    "top_1000.head()"
   ],
   "metadata": {
    "collapsed": false
   }
  },
  {
   "cell_type": "code",
   "execution_count": 5,
   "id": "b437ea93",
   "metadata": {},
   "outputs": [],
   "source": [
    "rows_with_x = top_1000[top_1000['product_name'].str.contains('banana', case=False, regex=False)]"
   ]
  },
  {
   "cell_type": "code",
   "execution_count": 6,
   "id": "18a84c53",
   "metadata": {},
   "outputs": [],
   "source": [
    "rows_with_x = df[df['product_name'].str.contains('orange', case=False, regex=False)]"
   ]
  },
  {
   "cell_type": "code",
   "execution_count": 7,
   "id": "7e06f858",
   "metadata": {},
   "outputs": [
    {
     "data": {
      "text/plain": "        order_id  product_id  \\\n35             4       25146   \n50             5       48002   \n67             7       34050   \n111           12        3164   \n437           51        4493   \n...          ...         ...   \n986976     99970       34050   \n987018     99975        8174   \n987037     99978        8174   \n987071     99981       15607   \n987216     99997       30639   \n\n                                             product_name  aisle_id  \\\n35                                  Original Orange Juice        31   \n50                                  Biscuits Orange Pim's        61   \n67                                           Orange Juice        31   \n111            100% Juice No Added Sugar Orange Tangerine        98   \n437         Italian Sparkling Pomegranate And Orange Soda       115   \n...                                                   ...       ...   \n986976                                       Orange Juice        31   \n987018                               Organic Navel Orange        24   \n987037                               Organic Navel Orange        24   \n987071  Sesame Ginger with Mandarin Orange Juice Marinade         5   \n987216                               Organic Orange Juice        98   \n\n                                aisle  department_id department  \n35                       refrigerated              7  beverages  \n50                      cookies cakes             19     snacks  \n67                       refrigerated              7  beverages  \n111                     juice nectars              7  beverages  \n437     water seltzer sparkling water              7  beverages  \n...                               ...            ...        ...  \n986976                   refrigerated              7  beverages  \n987018                   fresh fruits              4    produce  \n987037                   fresh fruits              4    produce  \n987071     marinades meat preparation             13     pantry  \n987216                  juice nectars              7  beverages  \n\n[14002 rows x 7 columns]",
      "text/html": "<div>\n<style scoped>\n    .dataframe tbody tr th:only-of-type {\n        vertical-align: middle;\n    }\n\n    .dataframe tbody tr th {\n        vertical-align: top;\n    }\n\n    .dataframe thead th {\n        text-align: right;\n    }\n</style>\n<table border=\"1\" class=\"dataframe\">\n  <thead>\n    <tr style=\"text-align: right;\">\n      <th></th>\n      <th>order_id</th>\n      <th>product_id</th>\n      <th>product_name</th>\n      <th>aisle_id</th>\n      <th>aisle</th>\n      <th>department_id</th>\n      <th>department</th>\n    </tr>\n  </thead>\n  <tbody>\n    <tr>\n      <th>35</th>\n      <td>4</td>\n      <td>25146</td>\n      <td>Original Orange Juice</td>\n      <td>31</td>\n      <td>refrigerated</td>\n      <td>7</td>\n      <td>beverages</td>\n    </tr>\n    <tr>\n      <th>50</th>\n      <td>5</td>\n      <td>48002</td>\n      <td>Biscuits Orange Pim's</td>\n      <td>61</td>\n      <td>cookies cakes</td>\n      <td>19</td>\n      <td>snacks</td>\n    </tr>\n    <tr>\n      <th>67</th>\n      <td>7</td>\n      <td>34050</td>\n      <td>Orange Juice</td>\n      <td>31</td>\n      <td>refrigerated</td>\n      <td>7</td>\n      <td>beverages</td>\n    </tr>\n    <tr>\n      <th>111</th>\n      <td>12</td>\n      <td>3164</td>\n      <td>100% Juice No Added Sugar Orange Tangerine</td>\n      <td>98</td>\n      <td>juice nectars</td>\n      <td>7</td>\n      <td>beverages</td>\n    </tr>\n    <tr>\n      <th>437</th>\n      <td>51</td>\n      <td>4493</td>\n      <td>Italian Sparkling Pomegranate And Orange Soda</td>\n      <td>115</td>\n      <td>water seltzer sparkling water</td>\n      <td>7</td>\n      <td>beverages</td>\n    </tr>\n    <tr>\n      <th>...</th>\n      <td>...</td>\n      <td>...</td>\n      <td>...</td>\n      <td>...</td>\n      <td>...</td>\n      <td>...</td>\n      <td>...</td>\n    </tr>\n    <tr>\n      <th>986976</th>\n      <td>99970</td>\n      <td>34050</td>\n      <td>Orange Juice</td>\n      <td>31</td>\n      <td>refrigerated</td>\n      <td>7</td>\n      <td>beverages</td>\n    </tr>\n    <tr>\n      <th>987018</th>\n      <td>99975</td>\n      <td>8174</td>\n      <td>Organic Navel Orange</td>\n      <td>24</td>\n      <td>fresh fruits</td>\n      <td>4</td>\n      <td>produce</td>\n    </tr>\n    <tr>\n      <th>987037</th>\n      <td>99978</td>\n      <td>8174</td>\n      <td>Organic Navel Orange</td>\n      <td>24</td>\n      <td>fresh fruits</td>\n      <td>4</td>\n      <td>produce</td>\n    </tr>\n    <tr>\n      <th>987071</th>\n      <td>99981</td>\n      <td>15607</td>\n      <td>Sesame Ginger with Mandarin Orange Juice Marinade</td>\n      <td>5</td>\n      <td>marinades meat preparation</td>\n      <td>13</td>\n      <td>pantry</td>\n    </tr>\n    <tr>\n      <th>987216</th>\n      <td>99997</td>\n      <td>30639</td>\n      <td>Organic Orange Juice</td>\n      <td>98</td>\n      <td>juice nectars</td>\n      <td>7</td>\n      <td>beverages</td>\n    </tr>\n  </tbody>\n</table>\n<p>14002 rows × 7 columns</p>\n</div>"
     },
     "execution_count": 7,
     "metadata": {},
     "output_type": "execute_result"
    }
   ],
   "source": [
    "rows_with_x"
   ]
  },
  {
   "cell_type": "markdown",
   "id": "545c4b10",
   "metadata": {},
   "source": [
    "### Helper Functions"
   ]
  },
  {
   "cell_type": "code",
   "execution_count": 8,
   "id": "b1f02987",
   "metadata": {},
   "outputs": [],
   "source": [
    "def get_similar_products(product_name: str) -> list:\n",
    "    \"\"\"\n",
    "    Get products similar to product_name\n",
    "\n",
    "    Parameters:\n",
    "    - product_name (str): Input string.\n",
    "\n",
    "    Returns:\n",
    "    - list: list of similar product_names.\n",
    "    \"\"\"\n",
    "    aisle = find_aisle(product_name)\n",
    "\n",
    "    temp_df = top_1000[top_1000['aisle']== aisle]\n",
    "    prod_name_list = temp_df['product_name'].tolist()\n",
    "\n",
    "    # Check if the product_name is in the list\n",
    "    if product_name in prod_name_list:\n",
    "        prod_name_list.remove(product_name)\n",
    "\n",
    "    return prod_name_list"
   ]
  },
  {
   "cell_type": "code",
   "execution_count": 9,
   "id": "ed20c7a2",
   "metadata": {},
   "outputs": [],
   "source": [
    "def find_aisle(product_name: str) -> str:\n",
    "    \"\"\"\n",
    "    Find the aisle of product_name\n",
    "\n",
    "    Parameters:\n",
    "    - product_name (str): Input string.\n",
    "\n",
    "    Returns:\n",
    "    - str: aisle.\n",
    "    \"\"\"\n",
    "    result_df = df[df['product_name'] == product_name]\n",
    "\n",
    "    if not result_df.empty:\n",
    "        product_info = result_df.iloc[0]\n",
    "        # Now you can use product_info as needed\n",
    "        return product_info['aisle']\n",
    "    else:\n",
    "        print(f\"No information found for the product: {product_name}. Canceling the run.\")\n",
    "        sys.exit()\n"
   ]
  },
  {
   "cell_type": "code",
   "execution_count": 10,
   "id": "ee19d087",
   "metadata": {},
   "outputs": [],
   "source": [
    "def find_department(product_name: str) -> str:\n",
    "    \"\"\"\n",
    "    Find the department of product_name\n",
    "\n",
    "    Parameters:\n",
    "    - product_name (str): Input string.\n",
    "\n",
    "    Returns:\n",
    "    - str: department.\n",
    "    \"\"\"\n",
    "    product_info = df[df['product_name'] == product_name].iloc[0]\n",
    "\n",
    "    return product_info['department']"
   ]
  },
  {
   "cell_type": "markdown",
   "id": "7ba0aae8",
   "metadata": {},
   "source": [
    "### Subsitution with Term Frequenccy"
   ]
  },
  {
   "cell_type": "code",
   "execution_count": 11,
   "id": "5ef921f1",
   "metadata": {},
   "outputs": [],
   "source": [
    "def substitution_term_freq(product_name: str) -> str:\n",
    "    \"\"\"\n",
    "    Converts product_name to vector, counts word occurance. Similar proccess for products available for substitution.\n",
    "\n",
    "    Parameters:\n",
    "    - product_name (str): String parameter for unavailable item\n",
    "\n",
    "    Returns:\n",
    "    - str: The recommended product\n",
    "    \"\"\"\n",
    "    # Example: Printing the input DataFrame and string for demonstration\n",
    "    prod_name_list = get_similar_products(product_name)\n",
    "\n",
    "    tfidf_vectorizer = TfidfVectorizer(stop_words='english')\n",
    "    tfidf_matrix = tfidf_vectorizer.fit_transform(prod_name_list + [product_name])\n",
    "\n",
    "    # Step 3: Similarity Calculation\n",
    "    cosine_similarities = cosine_similarity(tfidf_matrix, tfidf_matrix)\n",
    "\n",
    "    # Step 4: Recommendation\n",
    "    target_product_index = len(prod_name_list)  # Index of the product_name in the extended list\n",
    "    similarity_scores = cosine_similarities[target_product_index]\n",
    "    most_similar_index = similarity_scores.argsort()[-2]  # Index of the most similar product (excluding the target product itself)\n",
    "\n",
    "    return prod_name_list[most_similar_index]"
   ]
  },
  {
   "cell_type": "code",
   "execution_count": 12,
   "id": "4dfb86b4",
   "metadata": {},
   "outputs": [
    {
     "name": "stdout",
     "output_type": "stream",
     "text": [
      "CPU times: user 2 µs, sys: 1 µs, total: 3 µs\n",
      "Wall time: 5.25 µs\n"
     ]
    }
   ],
   "source": [
    "%%time\n",
    "# print(substitution_term_freq(top_1000, 'Bag of Organic Bananas'))"
   ]
  },
  {
   "cell_type": "code",
   "execution_count": 13,
   "id": "74db31c9",
   "metadata": {},
   "outputs": [
    {
     "name": "stdout",
     "output_type": "stream",
     "text": [
      "CPU times: user 2 µs, sys: 1 µs, total: 3 µs\n",
      "Wall time: 4.77 µs\n"
     ]
    }
   ],
   "source": [
    "%%time\n",
    "# print(substitution_term_freq(top_1000, '100% Juice No Added Sugar Orange Tangerine'))"
   ]
  },
  {
   "cell_type": "markdown",
   "id": "b694e01b",
   "metadata": {},
   "source": [
    "### Substitution with Sequence Transformer"
   ]
  },
  {
   "cell_type": "code",
   "execution_count": 14,
   "id": "723d565f",
   "metadata": {},
   "outputs": [],
   "source": [
    "def substitution_seq_trans(product_name: str) -> str:\n",
    "    \"\"\"\n",
    "    Process a DataFrame based on a given input string.\n",
    "\n",
    "    Parameters:\n",
    "    - product_name (str): String parameter for unavailable item\n",
    "\n",
    "    Returns:\n",
    "    - str: The recommended product\n",
    "    \"\"\"\n",
    "    # Pre-trained model\n",
    "    # model = SentenceTransformer('paraphrase-MiniLM-L6-v2')\n",
    "    model = SentenceTransformer('substitute_classifier/st_checkpoint_final')\n",
    "    prod_name_list = get_similar_products(product_name)\n",
    "\n",
    "    # Encode descriptions to get embeddings\n",
    "    description_embeddings = model.encode(prod_name_list + [product_name], convert_to_tensor=True)\n",
    "\n",
    "    # Calculate cosine similarities between the desired product and other products\n",
    "    similarities = util.pytorch_cos_sim(description_embeddings[-1:], description_embeddings[:-1])\n",
    "\n",
    "    # Get the most similar product\n",
    "    most_similar_index = similarities.argmax().item()\n",
    "    recommended_product = prod_name_list[most_similar_index]\n",
    "\n",
    "    return recommended_product"
   ]
  },
  {
   "cell_type": "code",
   "execution_count": 15,
   "id": "314ab063",
   "metadata": {},
   "outputs": [],
   "source": [
    "# %%time\n",
    "# print(substitution_seq_trans('Bag of Organic Bananas'))"
   ]
  },
  {
   "cell_type": "code",
   "execution_count": null,
   "id": "9d4e6d3a",
   "metadata": {
    "pycharm": {
     "is_executing": true
    }
   },
   "outputs": [],
   "source": [
    "%%time\n",
    "model = SentenceTransformer('substitute_classifier/st_checkpoint_final')"
   ]
  },
  {
   "cell_type": "code",
   "execution_count": null,
   "outputs": [],
   "source": [],
   "metadata": {
    "collapsed": false
   }
  }
 ],
 "metadata": {
  "kernelspec": {
   "display_name": "Python 3 (ipykernel)",
   "language": "python",
   "name": "python3"
  },
  "language_info": {
   "codemirror_mode": {
    "name": "ipython",
    "version": 3
   },
   "file_extension": ".py",
   "mimetype": "text/x-python",
   "name": "python",
   "nbconvert_exporter": "python",
   "pygments_lexer": "ipython3",
   "version": "3.9.13"
  }
 },
 "nbformat": 4,
 "nbformat_minor": 5
}
