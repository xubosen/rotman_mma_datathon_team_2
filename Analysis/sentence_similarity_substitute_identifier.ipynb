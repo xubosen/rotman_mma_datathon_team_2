{
 "cells": [
  {
   "cell_type": "markdown",
   "source": [
    "# Rotman Data Science Competition\n",
    "### Section 4.3: Using sentence similarity to calculate similarity score between different substitute products\n",
    "## 0. Imports\n"
   ],
   "metadata": {
    "collapsed": false
   }
  },
  {
   "cell_type": "code",
   "execution_count": 1,
   "outputs": [],
   "source": [
    "import pandas as pd"
   ],
   "metadata": {
    "collapsed": false
   }
  },
  {
   "cell_type": "markdown",
   "source": [
    "## 1. Data Preprocessing"
   ],
   "metadata": {
    "collapsed": false
   }
  },
  {
   "cell_type": "code",
   "execution_count": 2,
   "outputs": [
    {
     "data": {
      "text/plain": "   order_id  product_id                                   product_name  \\\n0         1       49302                               Bulgarian Yogurt   \n1         1       11109  Organic 4% Milk Fat Whole Milk Cottage Cheese   \n2         1       10246                          Organic Celery Hearts   \n3         1       49683                                 Cucumber Kirby   \n4         1       43633           Lightly Smoked Sardines in Olive Oil   \n\n   aisle_id                 aisle  department_id    department  order_size  \n0       120                yogurt             16    dairy eggs           8  \n1       108  other creams cheeses             16    dairy eggs           8  \n2        83      fresh vegetables              4       produce           8  \n3        83      fresh vegetables              4       produce           8  \n4        95   canned meat seafood             15  canned goods           8  ",
      "text/html": "<div>\n<style scoped>\n    .dataframe tbody tr th:only-of-type {\n        vertical-align: middle;\n    }\n\n    .dataframe tbody tr th {\n        vertical-align: top;\n    }\n\n    .dataframe thead th {\n        text-align: right;\n    }\n</style>\n<table border=\"1\" class=\"dataframe\">\n  <thead>\n    <tr style=\"text-align: right;\">\n      <th></th>\n      <th>order_id</th>\n      <th>product_id</th>\n      <th>product_name</th>\n      <th>aisle_id</th>\n      <th>aisle</th>\n      <th>department_id</th>\n      <th>department</th>\n      <th>order_size</th>\n    </tr>\n  </thead>\n  <tbody>\n    <tr>\n      <th>0</th>\n      <td>1</td>\n      <td>49302</td>\n      <td>Bulgarian Yogurt</td>\n      <td>120</td>\n      <td>yogurt</td>\n      <td>16</td>\n      <td>dairy eggs</td>\n      <td>8</td>\n    </tr>\n    <tr>\n      <th>1</th>\n      <td>1</td>\n      <td>11109</td>\n      <td>Organic 4% Milk Fat Whole Milk Cottage Cheese</td>\n      <td>108</td>\n      <td>other creams cheeses</td>\n      <td>16</td>\n      <td>dairy eggs</td>\n      <td>8</td>\n    </tr>\n    <tr>\n      <th>2</th>\n      <td>1</td>\n      <td>10246</td>\n      <td>Organic Celery Hearts</td>\n      <td>83</td>\n      <td>fresh vegetables</td>\n      <td>4</td>\n      <td>produce</td>\n      <td>8</td>\n    </tr>\n    <tr>\n      <th>3</th>\n      <td>1</td>\n      <td>49683</td>\n      <td>Cucumber Kirby</td>\n      <td>83</td>\n      <td>fresh vegetables</td>\n      <td>4</td>\n      <td>produce</td>\n      <td>8</td>\n    </tr>\n    <tr>\n      <th>4</th>\n      <td>1</td>\n      <td>43633</td>\n      <td>Lightly Smoked Sardines in Olive Oil</td>\n      <td>95</td>\n      <td>canned meat seafood</td>\n      <td>15</td>\n      <td>canned goods</td>\n      <td>8</td>\n    </tr>\n  </tbody>\n</table>\n</div>"
     },
     "execution_count": 2,
     "metadata": {},
     "output_type": "execute_result"
    }
   ],
   "source": [
    "data = pd.read_csv(\"data/mma_mart_augmented.csv\")\n",
    "data.drop(columns=['portion_of_order', 'b_score (full dataset)'], inplace=True)\n",
    "data.head()"
   ],
   "metadata": {
    "collapsed": false
   }
  },
  {
   "cell_type": "code",
   "execution_count": 3,
   "outputs": [],
   "source": [
    "id_to_products = data.groupby(\"order_id\")[\"product_id\"].apply(set)\n",
    "id_to_aisles = data.groupby(\"order_id\")[\"aisle_id\"].apply(set)\n",
    "id_to_departments = data.groupby(\"order_id\")[\"department_id\"].apply(set)"
   ],
   "metadata": {
    "collapsed": false
   }
  },
  {
   "cell_type": "code",
   "execution_count": 4,
   "outputs": [
    {
     "data": {
      "text/plain": "                                                product_ids  \\\norder_id                                                      \n1         {11109, 10246, 47209, 43633, 49683, 22035, 493...   \n2         {33120, 17794, 40141, 9327, 30035, 43668, 2898...   \n3         {17668, 24838, 17704, 46667, 21903, 17461, 326...   \n4         {26434, 32645, 10054, 21351, 22598, 39758, 348...   \n5         {48002, 45698, 18569, 37011, 15005, 8479, 9633...   \n\n                                                  aisle_ids  \\\norder_id                                                      \n1                                {108, 83, 21, 120, 24, 95}   \n2                       {104, 105, 17, 19, 83, 86, 88, 123}   \n3                               {35, 91, 112, 83, 120, 123}   \n4                     {64, 3, 107, 11, 78, 48, 125, 93, 31}   \n5         {1, 131, 4, 21, 24, 32, 33, 45, 49, 54, 61, 78...   \n\n                                    department_ids  order_size  \norder_id                                                        \n1                                      {16, 4, 15}           8  \n2                                      {16, 4, 13}           9  \n3                                   {16, 3, 4, 12}           8  \n4                               {3, 7, 11, 14, 19}          13  \n5         {4, 6, 7, 9, 11, 12, 13, 16, 17, 19, 20}          26  ",
      "text/html": "<div>\n<style scoped>\n    .dataframe tbody tr th:only-of-type {\n        vertical-align: middle;\n    }\n\n    .dataframe tbody tr th {\n        vertical-align: top;\n    }\n\n    .dataframe thead th {\n        text-align: right;\n    }\n</style>\n<table border=\"1\" class=\"dataframe\">\n  <thead>\n    <tr style=\"text-align: right;\">\n      <th></th>\n      <th>product_ids</th>\n      <th>aisle_ids</th>\n      <th>department_ids</th>\n      <th>order_size</th>\n    </tr>\n    <tr>\n      <th>order_id</th>\n      <th></th>\n      <th></th>\n      <th></th>\n      <th></th>\n    </tr>\n  </thead>\n  <tbody>\n    <tr>\n      <th>1</th>\n      <td>{11109, 10246, 47209, 43633, 49683, 22035, 493...</td>\n      <td>{108, 83, 21, 120, 24, 95}</td>\n      <td>{16, 4, 15}</td>\n      <td>8</td>\n    </tr>\n    <tr>\n      <th>2</th>\n      <td>{33120, 17794, 40141, 9327, 30035, 43668, 2898...</td>\n      <td>{104, 105, 17, 19, 83, 86, 88, 123}</td>\n      <td>{16, 4, 13}</td>\n      <td>9</td>\n    </tr>\n    <tr>\n      <th>3</th>\n      <td>{17668, 24838, 17704, 46667, 21903, 17461, 326...</td>\n      <td>{35, 91, 112, 83, 120, 123}</td>\n      <td>{16, 3, 4, 12}</td>\n      <td>8</td>\n    </tr>\n    <tr>\n      <th>4</th>\n      <td>{26434, 32645, 10054, 21351, 22598, 39758, 348...</td>\n      <td>{64, 3, 107, 11, 78, 48, 125, 93, 31}</td>\n      <td>{3, 7, 11, 14, 19}</td>\n      <td>13</td>\n    </tr>\n    <tr>\n      <th>5</th>\n      <td>{48002, 45698, 18569, 37011, 15005, 8479, 9633...</td>\n      <td>{1, 131, 4, 21, 24, 32, 33, 45, 49, 54, 61, 78...</td>\n      <td>{4, 6, 7, 9, 11, 12, 13, 16, 17, 19, 20}</td>\n      <td>26</td>\n    </tr>\n  </tbody>\n</table>\n</div>"
     },
     "execution_count": 4,
     "metadata": {},
     "output_type": "execute_result"
    }
   ],
   "source": [
    "orders = pd.DataFrame({\"product_ids\": id_to_products, \"aisle_ids\": id_to_aisles, \"department_ids\": id_to_departments})\n",
    "order_id_to_order_size = data.groupby(\"order_id\")[\"order_id\"].count()\n",
    "orders[\"order_size\"] = orders.index.map(order_id_to_order_size)\n",
    "orders.head()"
   ],
   "metadata": {
    "collapsed": false
   }
  },
  {
   "cell_type": "code",
   "execution_count": 5,
   "outputs": [
    {
     "data": {
      "text/plain": "(45181, 4)"
     },
     "execution_count": 5,
     "metadata": {},
     "output_type": "execute_result"
    }
   ],
   "source": [
    "orders.sort_values(by=\"order_size\", ascending=True, inplace=True)\n",
    "orders = orders[orders[\"order_size\"] < 10]\n",
    "orders = orders[orders[\"order_size\"] > 2]\n",
    "orders.shape"
   ],
   "metadata": {
    "collapsed": false
   }
  },
  {
   "cell_type": "code",
   "execution_count": 6,
   "outputs": [
    {
     "name": "stdout",
     "output_type": "stream",
     "text": [
      "Finished 0 orders in 1.8835067749023438e-05 seconds\n",
      "Expected time left: 0.0850987195968628 seconds\n",
      "Finished 10 orders in 7.91727089881897 seconds\n",
      "Expected time left: 35763.10437705517 seconds\n",
      "Finished 20 orders in 7.700314044952393 seconds\n",
      "Expected time left: 34775.388258409504 seconds\n",
      "Finished 30 orders in 8.669085264205933 seconds\n",
      "Expected time left: 39141.78687641621 seconds\n",
      "Finished 40 orders in 10.215246200561523 seconds\n",
      "Expected time left: 46112.64287395478 seconds\n",
      "Finished 50 orders in 8.47151517868042 seconds\n",
      "Expected time left: 38232.7951529026 seconds\n",
      "Finished 60 orders in 11.255697250366211 seconds\n",
      "Expected time left: 50786.83156337738 seconds\n",
      "Finished 70 orders in 10.209503889083862 seconds\n",
      "Expected time left: 46056.092994046216 seconds\n",
      "Finished 80 orders in 10.036381006240845 seconds\n",
      "Expected time left: 45265.08197624684 seconds\n",
      "Finished 90 orders in 8.824197053909302 seconds\n",
      "Expected time left: 39789.18693578243 seconds\n",
      "Finished 100 orders in 10.871473789215088 seconds\n",
      "Expected time left: 49009.69098916054 seconds\n",
      "Finished 110 orders in 10.874636173248291 seconds\n",
      "Expected time left: 49013.07269644738 seconds\n",
      "Finished 120 orders in 10.817384958267212 seconds\n",
      "Expected time left: 48744.218360447885 seconds\n",
      "Finished 130 orders in 9.466106176376343 seconds\n",
      "Expected time left: 42645.754935193065 seconds\n",
      "Finished 140 orders in 7.436918020248413 seconds\n",
      "Expected time left: 33496.62245500088 seconds\n",
      "Finished 150 orders in 10.124030828475952 seconds\n",
      "Expected time left: 45589.523223710064 seconds\n"
     ]
    },
    {
     "ename": "KeyboardInterrupt",
     "evalue": "",
     "output_type": "error",
     "traceback": [
      "\u001B[0;31m---------------------------------------------------------------------------\u001B[0m",
      "\u001B[0;31mKeyboardInterrupt\u001B[0m                         Traceback (most recent call last)",
      "File \u001B[0;32m<timed exec>:25\u001B[0m\n",
      "File \u001B[0;32m~/opt/anaconda3/envs/ml_practice/lib/python3.10/site-packages/pandas/core/indexing.py:1073\u001B[0m, in \u001B[0;36m_LocationIndexer.__getitem__\u001B[0;34m(self, key)\u001B[0m\n\u001B[1;32m   1070\u001B[0m axis \u001B[38;5;241m=\u001B[39m \u001B[38;5;28mself\u001B[39m\u001B[38;5;241m.\u001B[39maxis \u001B[38;5;129;01mor\u001B[39;00m \u001B[38;5;241m0\u001B[39m\n\u001B[1;32m   1072\u001B[0m maybe_callable \u001B[38;5;241m=\u001B[39m com\u001B[38;5;241m.\u001B[39mapply_if_callable(key, \u001B[38;5;28mself\u001B[39m\u001B[38;5;241m.\u001B[39mobj)\n\u001B[0;32m-> 1073\u001B[0m \u001B[38;5;28;01mreturn\u001B[39;00m \u001B[38;5;28;43mself\u001B[39;49m\u001B[38;5;241;43m.\u001B[39;49m\u001B[43m_getitem_axis\u001B[49m\u001B[43m(\u001B[49m\u001B[43mmaybe_callable\u001B[49m\u001B[43m,\u001B[49m\u001B[43m \u001B[49m\u001B[43maxis\u001B[49m\u001B[38;5;241;43m=\u001B[39;49m\u001B[43maxis\u001B[49m\u001B[43m)\u001B[49m\n",
      "File \u001B[0;32m~/opt/anaconda3/envs/ml_practice/lib/python3.10/site-packages/pandas/core/indexing.py:1312\u001B[0m, in \u001B[0;36m_LocIndexer._getitem_axis\u001B[0;34m(self, key, axis)\u001B[0m\n\u001B[1;32m   1310\u001B[0m \u001B[38;5;66;03m# fall thru to straight lookup\u001B[39;00m\n\u001B[1;32m   1311\u001B[0m \u001B[38;5;28mself\u001B[39m\u001B[38;5;241m.\u001B[39m_validate_key(key, axis)\n\u001B[0;32m-> 1312\u001B[0m \u001B[38;5;28;01mreturn\u001B[39;00m \u001B[38;5;28;43mself\u001B[39;49m\u001B[38;5;241;43m.\u001B[39;49m\u001B[43m_get_label\u001B[49m\u001B[43m(\u001B[49m\u001B[43mkey\u001B[49m\u001B[43m,\u001B[49m\u001B[43m \u001B[49m\u001B[43maxis\u001B[49m\u001B[38;5;241;43m=\u001B[39;49m\u001B[43maxis\u001B[49m\u001B[43m)\u001B[49m\n",
      "File \u001B[0;32m~/opt/anaconda3/envs/ml_practice/lib/python3.10/site-packages/pandas/core/indexing.py:1260\u001B[0m, in \u001B[0;36m_LocIndexer._get_label\u001B[0;34m(self, label, axis)\u001B[0m\n\u001B[1;32m   1258\u001B[0m \u001B[38;5;28;01mdef\u001B[39;00m \u001B[38;5;21m_get_label\u001B[39m(\u001B[38;5;28mself\u001B[39m, label, axis: \u001B[38;5;28mint\u001B[39m):\n\u001B[1;32m   1259\u001B[0m     \u001B[38;5;66;03m# GH#5567 this will fail if the label is not present in the axis.\u001B[39;00m\n\u001B[0;32m-> 1260\u001B[0m     \u001B[38;5;28;01mreturn\u001B[39;00m \u001B[38;5;28;43mself\u001B[39;49m\u001B[38;5;241;43m.\u001B[39;49m\u001B[43mobj\u001B[49m\u001B[38;5;241;43m.\u001B[39;49m\u001B[43mxs\u001B[49m\u001B[43m(\u001B[49m\u001B[43mlabel\u001B[49m\u001B[43m,\u001B[49m\u001B[43m \u001B[49m\u001B[43maxis\u001B[49m\u001B[38;5;241;43m=\u001B[39;49m\u001B[43maxis\u001B[49m\u001B[43m)\u001B[49m\n",
      "File \u001B[0;32m~/opt/anaconda3/envs/ml_practice/lib/python3.10/site-packages/pandas/core/generic.py:4076\u001B[0m, in \u001B[0;36mNDFrame.xs\u001B[0;34m(self, key, axis, level, drop_level)\u001B[0m\n\u001B[1;32m   4070\u001B[0m     \u001B[38;5;28;01mif\u001B[39;00m \u001B[38;5;28mself\u001B[39m\u001B[38;5;241m.\u001B[39mndim \u001B[38;5;241m==\u001B[39m \u001B[38;5;241m1\u001B[39m:\n\u001B[1;32m   4071\u001B[0m         \u001B[38;5;66;03m# if we encounter an array-like and we only have 1 dim\u001B[39;00m\n\u001B[1;32m   4072\u001B[0m         \u001B[38;5;66;03m# that means that their are list/ndarrays inside the Series!\u001B[39;00m\n\u001B[1;32m   4073\u001B[0m         \u001B[38;5;66;03m# so just return them (GH 6394)\u001B[39;00m\n\u001B[1;32m   4074\u001B[0m         \u001B[38;5;28;01mreturn\u001B[39;00m \u001B[38;5;28mself\u001B[39m\u001B[38;5;241m.\u001B[39m_values[loc]\n\u001B[0;32m-> 4076\u001B[0m     new_mgr \u001B[38;5;241m=\u001B[39m \u001B[38;5;28;43mself\u001B[39;49m\u001B[38;5;241;43m.\u001B[39;49m\u001B[43m_mgr\u001B[49m\u001B[38;5;241;43m.\u001B[39;49m\u001B[43mfast_xs\u001B[49m\u001B[43m(\u001B[49m\u001B[43mloc\u001B[49m\u001B[43m)\u001B[49m\n\u001B[1;32m   4078\u001B[0m     result \u001B[38;5;241m=\u001B[39m \u001B[38;5;28mself\u001B[39m\u001B[38;5;241m.\u001B[39m_constructor_sliced(\n\u001B[1;32m   4079\u001B[0m         new_mgr, name\u001B[38;5;241m=\u001B[39m\u001B[38;5;28mself\u001B[39m\u001B[38;5;241m.\u001B[39mindex[loc]\n\u001B[1;32m   4080\u001B[0m     )\u001B[38;5;241m.\u001B[39m__finalize__(\u001B[38;5;28mself\u001B[39m)\n\u001B[1;32m   4081\u001B[0m \u001B[38;5;28;01melif\u001B[39;00m is_scalar(loc):\n",
      "File \u001B[0;32m~/opt/anaconda3/envs/ml_practice/lib/python3.10/site-packages/pandas/core/internals/managers.py:1101\u001B[0m, in \u001B[0;36mBlockManager.fast_xs\u001B[0;34m(self, loc)\u001B[0m\n\u001B[1;32m   1097\u001B[0m     \u001B[38;5;28;01mreturn\u001B[39;00m SingleBlockManager(block, \u001B[38;5;28mself\u001B[39m\u001B[38;5;241m.\u001B[39maxes[\u001B[38;5;241m0\u001B[39m], [ref], parent\u001B[38;5;241m=\u001B[39m\u001B[38;5;28mself\u001B[39m)\n\u001B[1;32m   1099\u001B[0m dtype \u001B[38;5;241m=\u001B[39m interleaved_dtype([blk\u001B[38;5;241m.\u001B[39mdtype \u001B[38;5;28;01mfor\u001B[39;00m blk \u001B[38;5;129;01min\u001B[39;00m \u001B[38;5;28mself\u001B[39m\u001B[38;5;241m.\u001B[39mblocks])\n\u001B[0;32m-> 1101\u001B[0m n \u001B[38;5;241m=\u001B[39m \u001B[38;5;28;43mlen\u001B[39;49m\u001B[43m(\u001B[49m\u001B[38;5;28;43mself\u001B[39;49m\u001B[43m)\u001B[49m\n\u001B[1;32m   1103\u001B[0m \u001B[38;5;66;03m# GH#46406\u001B[39;00m\n\u001B[1;32m   1104\u001B[0m immutable_ea \u001B[38;5;241m=\u001B[39m \u001B[38;5;28misinstance\u001B[39m(dtype, SparseDtype)\n",
      "File \u001B[0;32m~/opt/anaconda3/envs/ml_practice/lib/python3.10/site-packages/pandas/core/internals/base.py:48\u001B[0m, in \u001B[0;36mDataManager.__len__\u001B[0;34m(self)\u001B[0m\n\u001B[1;32m     46\u001B[0m \u001B[38;5;129m@final\u001B[39m\n\u001B[1;32m     47\u001B[0m \u001B[38;5;28;01mdef\u001B[39;00m \u001B[38;5;21m__len__\u001B[39m(\u001B[38;5;28mself\u001B[39m) \u001B[38;5;241m-\u001B[39m\u001B[38;5;241m>\u001B[39m \u001B[38;5;28mint\u001B[39m:\n\u001B[0;32m---> 48\u001B[0m     \u001B[38;5;28;01mreturn\u001B[39;00m \u001B[38;5;28;43mlen\u001B[39;49m\u001B[43m(\u001B[49m\u001B[38;5;28;43mself\u001B[39;49m\u001B[38;5;241;43m.\u001B[39;49m\u001B[43mitems\u001B[49m\u001B[43m)\u001B[49m\n",
      "File \u001B[0;32m~/opt/anaconda3/envs/ml_practice/lib/python3.10/site-packages/pandas/core/indexes/base.py:926\u001B[0m, in \u001B[0;36mIndex.__len__\u001B[0;34m(self)\u001B[0m\n\u001B[1;32m    916\u001B[0m     \u001B[38;5;28;01mreturn\u001B[39;00m {\n\u001B[1;32m    917\u001B[0m         c\n\u001B[1;32m    918\u001B[0m         \u001B[38;5;28;01mfor\u001B[39;00m c \u001B[38;5;129;01min\u001B[39;00m \u001B[38;5;28mself\u001B[39m\u001B[38;5;241m.\u001B[39munique(level\u001B[38;5;241m=\u001B[39m\u001B[38;5;241m0\u001B[39m)[: get_option(\u001B[38;5;124m\"\u001B[39m\u001B[38;5;124mdisplay.max_dir_items\u001B[39m\u001B[38;5;124m\"\u001B[39m)]\n\u001B[1;32m    919\u001B[0m         \u001B[38;5;28;01mif\u001B[39;00m \u001B[38;5;28misinstance\u001B[39m(c, \u001B[38;5;28mstr\u001B[39m) \u001B[38;5;129;01mand\u001B[39;00m c\u001B[38;5;241m.\u001B[39misidentifier()\n\u001B[1;32m    920\u001B[0m     }\n\u001B[1;32m    922\u001B[0m \u001B[38;5;66;03m# --------------------------------------------------------------------\u001B[39;00m\n\u001B[1;32m    923\u001B[0m \u001B[38;5;66;03m# Array-Like Methods\u001B[39;00m\n\u001B[1;32m    924\u001B[0m \n\u001B[1;32m    925\u001B[0m \u001B[38;5;66;03m# ndarray compat\u001B[39;00m\n\u001B[0;32m--> 926\u001B[0m \u001B[38;5;28;01mdef\u001B[39;00m \u001B[38;5;21m__len__\u001B[39m(\u001B[38;5;28mself\u001B[39m) \u001B[38;5;241m-\u001B[39m\u001B[38;5;241m>\u001B[39m \u001B[38;5;28mint\u001B[39m:\n\u001B[1;32m    927\u001B[0m     \u001B[38;5;124;03m\"\"\"\u001B[39;00m\n\u001B[1;32m    928\u001B[0m \u001B[38;5;124;03m    Return the length of the Index.\u001B[39;00m\n\u001B[1;32m    929\u001B[0m \u001B[38;5;124;03m    \"\"\"\u001B[39;00m\n\u001B[1;32m    930\u001B[0m     \u001B[38;5;28;01mreturn\u001B[39;00m \u001B[38;5;28mlen\u001B[39m(\u001B[38;5;28mself\u001B[39m\u001B[38;5;241m.\u001B[39m_data)\n",
      "\u001B[0;31mKeyboardInterrupt\u001B[0m: "
     ]
    }
   ],
   "source": [
    "%%time\n",
    "\n",
    "from time import time\n",
    "\n",
    "\n",
    "cur_time = time()\n",
    "count = 0\n",
    "\n",
    "similar_orders = []\n",
    "for i in orders.index:\n",
    "\n",
    "    if count % 10 == 0:\n",
    "        time_elapsed_for_10_iters = time() - cur_time\n",
    "        print(f\"Finished {count} orders in {time_elapsed_for_10_iters} seconds\")\n",
    "        cur_time = time()\n",
    "\n",
    "        # Print expected time to finish\n",
    "        num_orders_left = orders.shape[0] - count\n",
    "        expected_time_left = (num_orders_left / 10) * time_elapsed_for_10_iters\n",
    "        print(f\"Expected time left: {expected_time_left} seconds\")\n",
    "\n",
    "    count += 1\n",
    "\n",
    "    order_i = orders.loc[i]\n",
    "    i_size = len(order_i[\"product_ids\"])\n",
    "    for j in orders.index:\n",
    "        order_j = orders.loc[j]\n",
    "        j_size = len(order_j[\"product_ids\"])\n",
    "        if i <= j:\n",
    "            continue\n",
    "        elif j_size < i_size - 1:\n",
    "            continue\n",
    "        elif j_size > i_size + 1:\n",
    "            break\n",
    "        else:\n",
    "            product_intersection = order_i[\"product_ids\"].intersection(order_j[\"product_ids\"])\n",
    "            percent_prod_shared = len(product_intersection) / i_size\n",
    "\n",
    "            is_prod_shared = percent_prod_shared > 0.5\n",
    "            if is_prod_shared:\n",
    "                similar_orders.append((i, j))\n",
    "                break"
   ],
   "metadata": {
    "collapsed": false
   }
  },
  {
   "cell_type": "code",
   "execution_count": 9,
   "outputs": [
    {
     "data": {
      "text/plain": "157"
     },
     "execution_count": 9,
     "metadata": {},
     "output_type": "execute_result"
    }
   ],
   "source": [
    "count"
   ],
   "metadata": {
    "collapsed": false
   }
  },
  {
   "cell_type": "code",
   "execution_count": 10,
   "outputs": [
    {
     "data": {
      "text/plain": "35"
     },
     "execution_count": 10,
     "metadata": {},
     "output_type": "execute_result"
    }
   ],
   "source": [
    "len(similar_orders)"
   ],
   "metadata": {
    "collapsed": false
   }
  },
  {
   "cell_type": "code",
   "execution_count": 22,
   "outputs": [
    {
     "data": {
      "text/plain": "[(60365, 50921),\n (15991, 6068),\n (84571, 76816),\n (84043, 50312),\n (60095, 15201),\n (84846, 69424),\n (14368, 7563),\n (36623, 15598),\n (14955, 8230),\n (35963, 5815)]"
     },
     "execution_count": 22,
     "metadata": {},
     "output_type": "execute_result"
    }
   ],
   "source": [
    "similar_orders[:10]"
   ],
   "metadata": {
    "collapsed": false
   }
  },
  {
   "cell_type": "code",
   "execution_count": 14,
   "outputs": [
    {
     "data": {
      "text/plain": "                    product_ids      aisle_ids department_ids  order_size\norder_id                                                                 \n60366       {274, 22667, 31509}   {43, 52, 87}     {17, 3, 1}           3\n60365      {9896, 18531, 27845}  {106, 84, 53}       {16, 12}           3\n60096     {15200, 30720, 11365}       {32, 83}            {4}           3\n61999      {3856, 35762, 24518}    {96, 3, 52}    {1, 19, 20}           3\n15991      {28626, 16797, 6615}  {24, 21, 111}    {16, 17, 4}           3",
      "text/html": "<div>\n<style scoped>\n    .dataframe tbody tr th:only-of-type {\n        vertical-align: middle;\n    }\n\n    .dataframe tbody tr th {\n        vertical-align: top;\n    }\n\n    .dataframe thead th {\n        text-align: right;\n    }\n</style>\n<table border=\"1\" class=\"dataframe\">\n  <thead>\n    <tr style=\"text-align: right;\">\n      <th></th>\n      <th>product_ids</th>\n      <th>aisle_ids</th>\n      <th>department_ids</th>\n      <th>order_size</th>\n    </tr>\n    <tr>\n      <th>order_id</th>\n      <th></th>\n      <th></th>\n      <th></th>\n      <th></th>\n    </tr>\n  </thead>\n  <tbody>\n    <tr>\n      <th>60366</th>\n      <td>{274, 22667, 31509}</td>\n      <td>{43, 52, 87}</td>\n      <td>{17, 3, 1}</td>\n      <td>3</td>\n    </tr>\n    <tr>\n      <th>60365</th>\n      <td>{9896, 18531, 27845}</td>\n      <td>{106, 84, 53}</td>\n      <td>{16, 12}</td>\n      <td>3</td>\n    </tr>\n    <tr>\n      <th>60096</th>\n      <td>{15200, 30720, 11365}</td>\n      <td>{32, 83}</td>\n      <td>{4}</td>\n      <td>3</td>\n    </tr>\n    <tr>\n      <th>61999</th>\n      <td>{3856, 35762, 24518}</td>\n      <td>{96, 3, 52}</td>\n      <td>{1, 19, 20}</td>\n      <td>3</td>\n    </tr>\n    <tr>\n      <th>15991</th>\n      <td>{28626, 16797, 6615}</td>\n      <td>{24, 21, 111}</td>\n      <td>{16, 17, 4}</td>\n      <td>3</td>\n    </tr>\n  </tbody>\n</table>\n</div>"
     },
     "execution_count": 14,
     "metadata": {},
     "output_type": "execute_result"
    }
   ],
   "source": [
    "orders.head()"
   ],
   "metadata": {
    "collapsed": false
   }
  },
  {
   "cell_type": "code",
   "execution_count": 19,
   "outputs": [
    {
     "data": {
      "text/plain": "                    product_ids      aisle_ids department_ids  order_size\norder_id                                                                 \n60365      {9896, 18531, 27845}  {106, 84, 53}       {16, 12}           3\n50921     {21938, 18531, 27845}   {83, 84, 53}        {16, 4}           3",
      "text/html": "<div>\n<style scoped>\n    .dataframe tbody tr th:only-of-type {\n        vertical-align: middle;\n    }\n\n    .dataframe tbody tr th {\n        vertical-align: top;\n    }\n\n    .dataframe thead th {\n        text-align: right;\n    }\n</style>\n<table border=\"1\" class=\"dataframe\">\n  <thead>\n    <tr style=\"text-align: right;\">\n      <th></th>\n      <th>product_ids</th>\n      <th>aisle_ids</th>\n      <th>department_ids</th>\n      <th>order_size</th>\n    </tr>\n    <tr>\n      <th>order_id</th>\n      <th></th>\n      <th></th>\n      <th></th>\n      <th></th>\n    </tr>\n  </thead>\n  <tbody>\n    <tr>\n      <th>60365</th>\n      <td>{9896, 18531, 27845}</td>\n      <td>{106, 84, 53}</td>\n      <td>{16, 12}</td>\n      <td>3</td>\n    </tr>\n    <tr>\n      <th>50921</th>\n      <td>{21938, 18531, 27845}</td>\n      <td>{83, 84, 53}</td>\n      <td>{16, 4}</td>\n      <td>3</td>\n    </tr>\n  </tbody>\n</table>\n</div>"
     },
     "execution_count": 19,
     "metadata": {},
     "output_type": "execute_result"
    }
   ],
   "source": [
    "orders.loc[[60365, 50921]]"
   ],
   "metadata": {
    "collapsed": false
   }
  },
  {
   "cell_type": "code",
   "execution_count": 23,
   "outputs": [
    {
     "data": {
      "text/plain": "        order_id  product_id                   product_name  aisle_id  \\\n828930     84043       34126  Organic Italian Parsley Bunch        16   \n828931     84043       42701             Organic Sour Cream       108   \n828932     84043       34358                         Garlic        83   \n\n                       aisle  department_id  department  order_size  \n828930           fresh herbs              4     produce           3  \n828931  other creams cheeses             16  dairy eggs           3  \n828932      fresh vegetables              4     produce           3  ",
      "text/html": "<div>\n<style scoped>\n    .dataframe tbody tr th:only-of-type {\n        vertical-align: middle;\n    }\n\n    .dataframe tbody tr th {\n        vertical-align: top;\n    }\n\n    .dataframe thead th {\n        text-align: right;\n    }\n</style>\n<table border=\"1\" class=\"dataframe\">\n  <thead>\n    <tr style=\"text-align: right;\">\n      <th></th>\n      <th>order_id</th>\n      <th>product_id</th>\n      <th>product_name</th>\n      <th>aisle_id</th>\n      <th>aisle</th>\n      <th>department_id</th>\n      <th>department</th>\n      <th>order_size</th>\n    </tr>\n  </thead>\n  <tbody>\n    <tr>\n      <th>828930</th>\n      <td>84043</td>\n      <td>34126</td>\n      <td>Organic Italian Parsley Bunch</td>\n      <td>16</td>\n      <td>fresh herbs</td>\n      <td>4</td>\n      <td>produce</td>\n      <td>3</td>\n    </tr>\n    <tr>\n      <th>828931</th>\n      <td>84043</td>\n      <td>42701</td>\n      <td>Organic Sour Cream</td>\n      <td>108</td>\n      <td>other creams cheeses</td>\n      <td>16</td>\n      <td>dairy eggs</td>\n      <td>3</td>\n    </tr>\n    <tr>\n      <th>828932</th>\n      <td>84043</td>\n      <td>34358</td>\n      <td>Garlic</td>\n      <td>83</td>\n      <td>fresh vegetables</td>\n      <td>4</td>\n      <td>produce</td>\n      <td>3</td>\n    </tr>\n  </tbody>\n</table>\n</div>"
     },
     "execution_count": 23,
     "metadata": {},
     "output_type": "execute_result"
    }
   ],
   "source": [
    "data[data[\"order_id\"] == 84043]"
   ],
   "metadata": {
    "collapsed": false
   }
  },
  {
   "cell_type": "code",
   "execution_count": 24,
   "outputs": [
    {
     "data": {
      "text/plain": "        order_id  product_id                   product_name  aisle_id  \\\n496687     50312       34126  Organic Italian Parsley Bunch        16   \n496688     50312       34358                         Garlic        83   \n496689     50312       13198           85% Lean Ground Beef       122   \n\n                   aisle  department_id    department  order_size  \n496687       fresh herbs              4       produce           3  \n496688  fresh vegetables              4       produce           3  \n496689      meat counter             12  meat seafood           3  ",
      "text/html": "<div>\n<style scoped>\n    .dataframe tbody tr th:only-of-type {\n        vertical-align: middle;\n    }\n\n    .dataframe tbody tr th {\n        vertical-align: top;\n    }\n\n    .dataframe thead th {\n        text-align: right;\n    }\n</style>\n<table border=\"1\" class=\"dataframe\">\n  <thead>\n    <tr style=\"text-align: right;\">\n      <th></th>\n      <th>order_id</th>\n      <th>product_id</th>\n      <th>product_name</th>\n      <th>aisle_id</th>\n      <th>aisle</th>\n      <th>department_id</th>\n      <th>department</th>\n      <th>order_size</th>\n    </tr>\n  </thead>\n  <tbody>\n    <tr>\n      <th>496687</th>\n      <td>50312</td>\n      <td>34126</td>\n      <td>Organic Italian Parsley Bunch</td>\n      <td>16</td>\n      <td>fresh herbs</td>\n      <td>4</td>\n      <td>produce</td>\n      <td>3</td>\n    </tr>\n    <tr>\n      <th>496688</th>\n      <td>50312</td>\n      <td>34358</td>\n      <td>Garlic</td>\n      <td>83</td>\n      <td>fresh vegetables</td>\n      <td>4</td>\n      <td>produce</td>\n      <td>3</td>\n    </tr>\n    <tr>\n      <th>496689</th>\n      <td>50312</td>\n      <td>13198</td>\n      <td>85% Lean Ground Beef</td>\n      <td>122</td>\n      <td>meat counter</td>\n      <td>12</td>\n      <td>meat seafood</td>\n      <td>3</td>\n    </tr>\n  </tbody>\n</table>\n</div>"
     },
     "execution_count": 24,
     "metadata": {},
     "output_type": "execute_result"
    }
   ],
   "source": [
    "data[data[\"order_id\"] == 50312]"
   ],
   "metadata": {
    "collapsed": false
   }
  },
  {
   "cell_type": "code",
   "execution_count": null,
   "outputs": [],
   "source": [],
   "metadata": {
    "collapsed": false
   }
  }
 ],
 "metadata": {
  "kernelspec": {
   "display_name": "Python 3",
   "language": "python",
   "name": "python3"
  },
  "language_info": {
   "codemirror_mode": {
    "name": "ipython",
    "version": 2
   },
   "file_extension": ".py",
   "mimetype": "text/x-python",
   "name": "python",
   "nbconvert_exporter": "python",
   "pygments_lexer": "ipython2",
   "version": "2.7.6"
  }
 },
 "nbformat": 4,
 "nbformat_minor": 0
}
