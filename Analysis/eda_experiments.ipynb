{
 "cells": [
  {
   "cell_type": "markdown",
   "source": [
    "# Rotman Data Science Competition\n",
    "## Section 1.3: Experiments on Approaches\n",
    "### 0. Load Data\n"
   ],
   "metadata": {
    "collapsed": false
   }
  },
  {
   "cell_type": "code",
   "execution_count": 276,
   "outputs": [],
   "source": [
    "import pandas as pd\n",
    "import numpy as np\n",
    "from sklearn.model_selection import train_test_split"
   ],
   "metadata": {
    "collapsed": false
   }
  },
  {
   "cell_type": "code",
   "execution_count": 277,
   "outputs": [],
   "source": [
    "SHOW_GRAPHS = False"
   ],
   "metadata": {
    "collapsed": false
   }
  },
  {
   "cell_type": "code",
   "execution_count": 278,
   "outputs": [],
   "source": [
    "def load_competition_data() -> pd.DataFrame:\n",
    "    DATA_PATH = \"data/mma_mart.csv\"\n",
    "    data = pd.read_csv(DATA_PATH)\n",
    "    return data\n",
    "\n",
    "GRAPH_OUT_PATH = \"graphs/\""
   ],
   "metadata": {
    "collapsed": false
   }
  },
  {
   "cell_type": "code",
   "execution_count": 279,
   "outputs": [
    {
     "data": {
      "text/plain": "   order_id  product_id                                   product_name  \\\n0         1       49302                               Bulgarian Yogurt   \n1         1       11109  Organic 4% Milk Fat Whole Milk Cottage Cheese   \n2         1       10246                          Organic Celery Hearts   \n3         1       49683                                 Cucumber Kirby   \n4         1       43633           Lightly Smoked Sardines in Olive Oil   \n\n   aisle_id                 aisle  department_id    department  \n0       120                yogurt             16    dairy eggs  \n1       108  other creams cheeses             16    dairy eggs  \n2        83      fresh vegetables              4       produce  \n3        83      fresh vegetables              4       produce  \n4        95   canned meat seafood             15  canned goods  ",
      "text/html": "<div>\n<style scoped>\n    .dataframe tbody tr th:only-of-type {\n        vertical-align: middle;\n    }\n\n    .dataframe tbody tr th {\n        vertical-align: top;\n    }\n\n    .dataframe thead th {\n        text-align: right;\n    }\n</style>\n<table border=\"1\" class=\"dataframe\">\n  <thead>\n    <tr style=\"text-align: right;\">\n      <th></th>\n      <th>order_id</th>\n      <th>product_id</th>\n      <th>product_name</th>\n      <th>aisle_id</th>\n      <th>aisle</th>\n      <th>department_id</th>\n      <th>department</th>\n    </tr>\n  </thead>\n  <tbody>\n    <tr>\n      <th>0</th>\n      <td>1</td>\n      <td>49302</td>\n      <td>Bulgarian Yogurt</td>\n      <td>120</td>\n      <td>yogurt</td>\n      <td>16</td>\n      <td>dairy eggs</td>\n    </tr>\n    <tr>\n      <th>1</th>\n      <td>1</td>\n      <td>11109</td>\n      <td>Organic 4% Milk Fat Whole Milk Cottage Cheese</td>\n      <td>108</td>\n      <td>other creams cheeses</td>\n      <td>16</td>\n      <td>dairy eggs</td>\n    </tr>\n    <tr>\n      <th>2</th>\n      <td>1</td>\n      <td>10246</td>\n      <td>Organic Celery Hearts</td>\n      <td>83</td>\n      <td>fresh vegetables</td>\n      <td>4</td>\n      <td>produce</td>\n    </tr>\n    <tr>\n      <th>3</th>\n      <td>1</td>\n      <td>49683</td>\n      <td>Cucumber Kirby</td>\n      <td>83</td>\n      <td>fresh vegetables</td>\n      <td>4</td>\n      <td>produce</td>\n    </tr>\n    <tr>\n      <th>4</th>\n      <td>1</td>\n      <td>43633</td>\n      <td>Lightly Smoked Sardines in Olive Oil</td>\n      <td>95</td>\n      <td>canned meat seafood</td>\n      <td>15</td>\n      <td>canned goods</td>\n    </tr>\n  </tbody>\n</table>\n</div>"
     },
     "execution_count": 279,
     "metadata": {},
     "output_type": "execute_result"
    }
   ],
   "source": [
    "mma_data = load_competition_data()\n",
    "mma_data.head()"
   ],
   "metadata": {
    "collapsed": false
   }
  },
  {
   "cell_type": "code",
   "execution_count": 280,
   "outputs": [],
   "source": [
    "mma_orders = mma_data[\"order_id\"].unique()\n",
    "train_orders, test_orders = train_test_split(mma_orders, test_size=0.2, random_state=42) # Specify random state 42 for reproducibility\n",
    "\n",
    "mma_train = mma_data[mma_data[\"order_id\"].isin(train_orders)]\n",
    "mma_test = mma_data[mma_data[\"order_id\"].isin(test_orders)]"
   ],
   "metadata": {
    "collapsed": false
   }
  },
  {
   "cell_type": "markdown",
   "source": [
    "## 1. Evaluation Metrics\n",
    "### a) The number of orders that utilize the in-aisle items"
   ],
   "metadata": {
    "collapsed": false
   }
  },
  {
   "cell_type": "code",
   "execution_count": 281,
   "outputs": [],
   "source": [
    "def metric_a(test_data: pd.DataFrame, insta_aisle: list) -> float:\n",
    "    \"\"\" Return the number of orders that utilize the in-aisle items as a percentage of the total number of orders in the test_data dataset. insta_aisle should contain 1000 product ids.\n",
    "\n",
    "    Precondition:\n",
    "    len(insta_aisle) == 1000\n",
    "    len(test_data) > 0\n",
    "    \"\"\"\n",
    "    # Count the orders that utilize in-aisle items\n",
    "    purchases_in_aisle = test_data[test_data[\"product_id\"].isin(insta_aisle)]\n",
    "    orders_in_aisle = purchases_in_aisle[\"order_id\"].nunique()\n",
    "    total_orders = test_data[\"order_id\"].nunique()\n",
    "\n",
    "    if total_orders <= 0:\n",
    "        raise ValueError(\"There must be at least one order in the test data\")\n",
    "\n",
    "    if len(insta_aisle) != 1000:\n",
    "        raise ValueError(\"insta_aisle must contain 1000 product ids\")\n",
    "\n",
    "    return (orders_in_aisle / total_orders) * 100"
   ],
   "metadata": {
    "collapsed": false
   }
  },
  {
   "cell_type": "markdown",
   "source": [
    "### (b) Average % of items in each order that utilize in-aisle items"
   ],
   "metadata": {
    "collapsed": false
   }
  },
  {
   "cell_type": "code",
   "execution_count": 282,
   "outputs": [],
   "source": [
    "def metric_b(test_data: pd.DataFrame, insta_aisle: list) -> float:\n",
    "    \"\"\" Calculate the percentage of items in each order that utilize in-aisle items and return the average of these percentages. insta_aisle should contain 1000 product ids.\n",
    "\n",
    "    Precondition:\n",
    "    len(insta_aisle) == 1000\n",
    "    \"\"\"\n",
    "    # Check that there are not more than 1000 orders in the test data\n",
    "    if len(insta_aisle) != 1000:\n",
    "        raise ValueError(\"There should be 1000 items in the aisle\")\n",
    "\n",
    "    # Get the order ids of all the orders in the test data\n",
    "    order_ids = test_data[\"order_id\"].unique()\n",
    "\n",
    "    # Create a dataframe that allows us to input an order id and get a dataframe of the products with that order id\n",
    "    ord_id_to_products = test_data.set_index(\"order_id\")\n",
    "\n",
    "    # Calculate the percentage of items in each order that utilize in-aisle items\n",
    "    order_percentages = np.zeros(order_ids.shape[0])\n",
    "    idx = 0\n",
    "    for order_id in order_ids:\n",
    "        order = ord_id_to_products.loc[order_id]\n",
    "        order_percentages[idx] = _get_order_in_aisle_percentage(order, insta_aisle)\n",
    "        idx += 1\n",
    "\n",
    "    return np.mean(order_percentages)\n",
    "\n",
    "def _get_order_in_aisle_percentage(order: pd.Series, insta_aisle: list) -> float:\n",
    "    \"\"\" Return the percentage of items in the order that utilize in-aisle items. insta_aisle should contain 1000 product ids. order is a dataframe containing all the purchases associated with a single order id.\n",
    "\n",
    "    Preconditions:\n",
    "    - len(insta_aisle) == 1000\n",
    "    - order contains one order id only\n",
    "    - order contains at least one item\n",
    "    \"\"\"\n",
    "\n",
    "    # Check that there is at least one item in the order\n",
    "    if order.shape[0] <= 0:\n",
    "        raise ValueError(\"Order must contain at least one item\")\n",
    "\n",
    "    # Catch edge case\n",
    "    elif len(order.shape) == 1:\n",
    "        # When there is only one order, pandas turns it into a vertical series\n",
    "        return 100.0 if order.loc[\"product_id\"] in insta_aisle else 0.0\n",
    "\n",
    "    # Calculate the percentage of items in the order that utilize in-aisle items\n",
    "    else:\n",
    "        items_found_in_aisle = order[order[\"product_id\"].isin(insta_aisle)]\n",
    "        num_items_found_in_aisle = items_found_in_aisle.shape[0]\n",
    "        total_items_in_order = order.shape[0]\n",
    "        return (num_items_found_in_aisle / total_items_in_order) * 100"
   ],
   "metadata": {
    "collapsed": false
   }
  },
  {
   "cell_type": "markdown",
   "source": [
    "### (c) Average % of items in each order that utilize in-aisle items accounting for any identified substitutes."
   ],
   "metadata": {
    "collapsed": false
   }
  },
  {
   "cell_type": "code",
   "execution_count": 283,
   "outputs": [],
   "source": [
    "pass"
   ],
   "metadata": {
    "collapsed": false
   }
  },
  {
   "cell_type": "markdown",
   "source": [
    "### 2. Baseline Approach\n",
    "Identify top 1000 items sold"
   ],
   "metadata": {
    "collapsed": false
   }
  },
  {
   "cell_type": "code",
   "execution_count": 284,
   "outputs": [],
   "source": [
    "def baseline(data: pd.DataFrame, k: int) -> pd.DataFrame:\n",
    "    \"\"\" Return the top k items by sales\n",
    "\n",
    "    Precondition:\n",
    "    k is less than the number of items in the dataset\n",
    "    \"\"\"\n",
    "    sales = pd.DataFrame(data.groupby([\"product_id\", \"product_name\"])[\"order_id\"].count())\n",
    "    sales.rename(columns = {\"order_id\": \"sales\"}, inplace=True)\n",
    "    sales.sort_values(by=\"sales\", ascending=False, inplace=True)\n",
    "    sales.reset_index(inplace=True)\n",
    "\n",
    "    if k > sales.shape[0]:\n",
    "        raise ValueError(\"k must be less than the number of items in the dataset\")\n",
    "\n",
    "    return sales.iloc[:k]"
   ],
   "metadata": {
    "collapsed": false
   }
  },
  {
   "cell_type": "markdown",
   "source": [
    "#### Evaluate the baseline approach"
   ],
   "metadata": {
    "collapsed": false
   }
  },
  {
   "cell_type": "code",
   "execution_count": 285,
   "outputs": [
    {
     "data": {
      "text/plain": "   product_id            product_name  sales\n0       24852                  Banana  11623\n1       13176  Bag of Organic Bananas   9335\n2       21137    Organic Strawberries   6466\n3       21903    Organic Baby Spinach   5947\n4       47209    Organic Hass Avocado   5081",
      "text/html": "<div>\n<style scoped>\n    .dataframe tbody tr th:only-of-type {\n        vertical-align: middle;\n    }\n\n    .dataframe tbody tr th {\n        vertical-align: top;\n    }\n\n    .dataframe thead th {\n        text-align: right;\n    }\n</style>\n<table border=\"1\" class=\"dataframe\">\n  <thead>\n    <tr style=\"text-align: right;\">\n      <th></th>\n      <th>product_id</th>\n      <th>product_name</th>\n      <th>sales</th>\n    </tr>\n  </thead>\n  <tbody>\n    <tr>\n      <th>0</th>\n      <td>24852</td>\n      <td>Banana</td>\n      <td>11623</td>\n    </tr>\n    <tr>\n      <th>1</th>\n      <td>13176</td>\n      <td>Bag of Organic Bananas</td>\n      <td>9335</td>\n    </tr>\n    <tr>\n      <th>2</th>\n      <td>21137</td>\n      <td>Organic Strawberries</td>\n      <td>6466</td>\n    </tr>\n    <tr>\n      <th>3</th>\n      <td>21903</td>\n      <td>Organic Baby Spinach</td>\n      <td>5947</td>\n    </tr>\n    <tr>\n      <th>4</th>\n      <td>47209</td>\n      <td>Organic Hass Avocado</td>\n      <td>5081</td>\n    </tr>\n  </tbody>\n</table>\n</div>"
     },
     "execution_count": 285,
     "metadata": {},
     "output_type": "execute_result"
    }
   ],
   "source": [
    "baseline_pred = baseline(mma_train, 1000)\n",
    "baseline_pred.head()"
   ],
   "metadata": {
    "collapsed": false
   }
  },
  {
   "cell_type": "code",
   "execution_count": 286,
   "outputs": [
    {
     "name": "stdout",
     "output_type": "stream",
     "text": [
      "Metric a: 92.42091276128176, Metric b: 53.77052784045304\n"
     ]
    }
   ],
   "source": [
    "baseline_insta_aisle = baseline_pred[\"product_id\"].tolist()\n",
    "if len(baseline_insta_aisle) != 1000:\n",
    "    raise ValueError(\"There should be 1000 items in the aisle\")\n",
    "met_a = metric_a(mma_test, baseline_insta_aisle)\n",
    "met_b = metric_b(mma_test, baseline_insta_aisle)"
   ],
   "metadata": {
    "collapsed": false
   }
  },
  {
   "cell_type": "code",
   "execution_count": 290,
   "outputs": [
    {
     "name": "stdout",
     "output_type": "stream",
     "text": [
      "Metric a: 92.42091276128176, Metric b: 53.77052784045304, Avg Score: 73.0957203008674\n"
     ]
    }
   ],
   "source": [
    "print(f\"Metric a: {met_a}, Metric b: {met_b}, Avg Score: {(met_a + met_b) / 2}\")"
   ],
   "metadata": {
    "collapsed": false
   }
  },
  {
   "cell_type": "code",
   "execution_count": null,
   "outputs": [],
   "source": [],
   "metadata": {
    "collapsed": false
   }
  }
 ],
 "metadata": {
  "kernelspec": {
   "display_name": "Python 3",
   "language": "python",
   "name": "python3"
  },
  "language_info": {
   "codemirror_mode": {
    "name": "ipython",
    "version": 2
   },
   "file_extension": ".py",
   "mimetype": "text/x-python",
   "name": "python",
   "nbconvert_exporter": "python",
   "pygments_lexer": "ipython2",
   "version": "2.7.6"
  }
 },
 "nbformat": 4,
 "nbformat_minor": 0
}
