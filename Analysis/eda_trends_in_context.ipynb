{
 "cells": [
  {
   "cell_type": "markdown",
   "source": [
    "# Rotman Data Science Competition\n",
    "## Part 1.2: Exploratory Data Analysis of Context of Orders\n",
    "\n",
    "# Table of Contents\n",
    "1. [Competition Data Anlaysis](#CompetitionData)\n",
    "\n",
    "## Part 1. Competition Data Analysis <a name=\"CompetitionData\"></a>\n",
    "### 1.0 Import Libraries & Load Data"
   ],
   "metadata": {
    "collapsed": false
   }
  },
  {
   "cell_type": "code",
   "execution_count": null,
   "outputs": [],
   "source": [
    "import pandas as pd\n",
    "import numpy as np\n",
    "import seaborn as sns"
   ],
   "metadata": {
    "collapsed": false
   }
  },
  {
   "cell_type": "code",
   "execution_count": null,
   "outputs": [],
   "source": [
    "SHOW_GRAPHS = True"
   ],
   "metadata": {
    "collapsed": false
   }
  },
  {
   "cell_type": "code",
   "execution_count": null,
   "outputs": [],
   "source": [
    "def load_competition_data() -> pd.DataFrame:\n",
    "    DATA_PATH = \"data/mma_mart.csv\"\n",
    "    data = pd.read_csv(DATA_PATH)\n",
    "    return data\n",
    "\n",
    "GRAPH_OUT_PATH = \"graphs/\""
   ],
   "metadata": {
    "collapsed": false
   }
  },
  {
   "cell_type": "code",
   "execution_count": null,
   "outputs": [],
   "source": [
    "mma_data = load_competition_data()\n",
    "mma_data.head()"
   ],
   "metadata": {
    "collapsed": false
   }
  },
  {
   "cell_type": "markdown",
   "source": [
    "### 1.1 Examining How Items in an Order Relate to Each Other\n",
    "To begin, read the data to simply identify whether the items in the order are linked manually, since automatic methods is the aim of this project\n"
   ],
   "metadata": {
    "collapsed": false
   }
  },
  {
   "cell_type": "code",
   "execution_count": null,
   "outputs": [],
   "source": [
    "mma_data.head(200)"
   ],
   "metadata": {
    "collapsed": false
   }
  },
  {
   "cell_type": "code",
   "execution_count": null,
   "outputs": [],
   "source": [
    "prod_sales_count = pd.DataFrame(mma_data.groupby(\"product_id\")[\"order_id\"].count().sort_values(ascending=False))\n",
    "prod_sales_count.reset_index(inplace=True)\n",
    "prod_sales_count.columns = [\"product_id\", \"sales_count\"]"
   ],
   "metadata": {
    "collapsed": false
   }
  },
  {
   "cell_type": "code",
   "execution_count": null,
   "outputs": [],
   "source": [
    "# Add column of product names corresponding to the product IDs\n",
    "id_to_name = mma_data[[\"product_id\", \"product_name\"]].drop_duplicates().set_index(\"product_id\")\n",
    "prod_sales_count[\"product_name\"] = prod_sales_count[\"product_id\"].map(id_to_name[\"product_name\"])\n",
    "prod_sales_count.head(100)"
   ],
   "metadata": {
    "collapsed": false
   }
  },
  {
   "cell_type": "markdown",
   "source": [
    "### a) Case Study\n",
    "First, look for a product that has two very clear ways of substituting. (e.g. apple -> apple juice, apple -> apple extract, apple -> banana)"
   ],
   "metadata": {
    "collapsed": false
   }
  },
  {
   "cell_type": "code",
   "execution_count": null,
   "outputs": [],
   "source": [
    "# Look for good products for a case study\n",
    "prod_sales_count[prod_sales_count[\"product_name\"].str.contains(\"garlic\", case=False)]"
   ],
   "metadata": {
    "collapsed": false
   }
  },
  {
   "cell_type": "code",
   "execution_count": null,
   "outputs": [],
   "source": [],
   "metadata": {
    "collapsed": false
   }
  }
 ],
 "metadata": {
  "kernelspec": {
   "display_name": "Python 3",
   "language": "python",
   "name": "python3"
  },
  "language_info": {
   "codemirror_mode": {
    "name": "ipython",
    "version": 2
   },
   "file_extension": ".py",
   "mimetype": "text/x-python",
   "name": "python",
   "nbconvert_exporter": "python",
   "pygments_lexer": "ipython2",
   "version": "2.7.6"
  }
 },
 "nbformat": 4,
 "nbformat_minor": 0
}
