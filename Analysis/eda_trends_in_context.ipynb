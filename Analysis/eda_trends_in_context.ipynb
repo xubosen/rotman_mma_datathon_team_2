{
 "cells": [
  {
   "cell_type": "markdown",
   "source": [
    "# Rotman Data Science Competition\n",
    "## Part 1.2: Exploratory Data Analysis of Context of Orders\n",
    "\n",
    "# Table of Contents\n",
    "1. [Competition Data Anlaysis](#CompetitionData)\n",
    "\n",
    "## Part 1. Competition Data Analysis <a name=\"CompetitionData\"></a>\n",
    "### 1.0 Import Libraries & Load Data"
   ],
   "metadata": {
    "collapsed": false
   }
  },
  {
   "cell_type": "code",
   "execution_count": null,
   "outputs": [],
   "source": [
    "import pandas as pd\n",
    "import numpy as np\n",
    "import seaborn as sns"
   ],
   "metadata": {
    "collapsed": false
   }
  },
  {
   "cell_type": "code",
   "execution_count": null,
   "outputs": [],
   "source": [
    "SHOW_GRAPHS = True"
   ],
   "metadata": {
    "collapsed": false
   }
  },
  {
   "cell_type": "code",
   "execution_count": null,
   "outputs": [],
   "source": [
    "def load_competition_data() -> pd.DataFrame:\n",
    "    DATA_PATH = \"data/mma_mart.csv\"\n",
    "    data = pd.read_csv(DATA_PATH)\n",
    "    return data\n",
    "\n",
    "GRAPH_OUT_PATH = \"graphs/\""
   ],
   "metadata": {
    "collapsed": false
   }
  },
  {
   "cell_type": "code",
   "execution_count": null,
   "outputs": [],
   "source": [
    "mma_data = load_competition_data()\n",
    "mma_data.head()"
   ],
   "metadata": {
    "collapsed": false
   }
  },
  {
   "cell_type": "markdown",
   "source": [
    "### 1.1 Examining How Items in an Order Relate to Each Other\n",
    "To begin, read the data to simply identify whether the items in the order are linked manually, since automatic methods is the aim of this project\n"
   ],
   "metadata": {
    "collapsed": false
   }
  },
  {
   "cell_type": "code",
   "execution_count": null,
   "outputs": [],
   "source": [
    "mma_data.head(200)"
   ],
   "metadata": {
    "collapsed": false
   }
  },
  {
   "cell_type": "code",
   "execution_count": null,
   "outputs": [],
   "source": [
    "prod_sales_count = pd.DataFrame(mma_data.groupby(\"product_id\")[\"order_id\"].count().sort_values(ascending=False))\n",
    "prod_sales_count.reset_index(inplace=True)\n",
    "prod_sales_count.columns = [\"product_id\", \"sales_count\"]"
   ],
   "metadata": {
    "collapsed": false
   }
  },
  {
   "cell_type": "code",
   "execution_count": null,
   "outputs": [],
   "source": [
    "# Add column of product names corresponding to the product IDs\n",
    "id_to_name = mma_data[[\"product_id\", \"product_name\"]].drop_duplicates().set_index(\"product_id\")\n",
    "prod_sales_count[\"product_name\"] = prod_sales_count[\"product_id\"].map(id_to_name[\"product_name\"])\n",
    "prod_sales_count.head(100)"
   ],
   "metadata": {
    "collapsed": false
   }
  },
  {
   "cell_type": "markdown",
   "source": [
    "### a) Case Study\n",
    "First, look for a product that has two very clear ways of substituting. (e.g. apple -> apple juice, apple -> apple extract, apple -> banana)"
   ],
   "metadata": {
    "collapsed": false
   }
  },
  {
   "cell_type": "code",
   "execution_count": null,
   "outputs": [],
   "source": [
    "# Look for good products for a case study\n",
    "prod_sales_count[prod_sales_count[\"product_name\"].str.contains(\"garlic\", case=False)]"
   ],
   "metadata": {
    "collapsed": false
   }
  },
  {
   "cell_type": "markdown",
   "source": [
    "### b) Trying Out the Fill-Mask Task Manually\n",
    "Remove random entries from orders, and see if we can predict the missing entries manually"
   ],
   "metadata": {
    "collapsed": false
   }
  },
  {
   "cell_type": "code",
   "execution_count": 81,
   "outputs": [],
   "source": [
    "# Extract a few short orders between 5 to 10 items\n",
    "short_order_oids = mma_data.groupby(\"order_id\")[\"product_id\"].count()\n",
    "short_order_oids = pd.DataFrame(short_order_oids[short_order_oids.between(5, 8)].index)"
   ],
   "metadata": {
    "collapsed": false
   }
  },
  {
   "cell_type": "code",
   "execution_count": 84,
   "outputs": [
    {
     "name": "stdout",
     "output_type": "stream",
     "text": [
      "   order_id\n",
      "0         1\n",
      "1         3\n",
      "2        11\n",
      "3        15\n",
      "4        20\n"
     ]
    },
    {
     "data": {
      "text/plain": "(26656, 1)"
     },
     "execution_count": 84,
     "metadata": {},
     "output_type": "execute_result"
    }
   ],
   "source": [
    "print(short_order_oids.head())\n",
    "short_order_oids.shape"
   ],
   "metadata": {
    "collapsed": false
   }
  },
  {
   "cell_type": "markdown",
   "source": [
    "Pick a few orders, then randomly remove the product name from an item in the order\n"
   ],
   "metadata": {
    "collapsed": false
   }
  },
  {
   "cell_type": "code",
   "execution_count": 88,
   "outputs": [
    {
     "name": "stderr",
     "output_type": "stream",
     "text": [
      "/var/folders/71/jllnlvwn0gv1k0610m4_0dvh0000gn/T/ipykernel_13091/2834284329.py:4: SettingWithCopyWarning: \n",
      "A value is trying to be set on a copy of a slice from a DataFrame\n",
      "\n",
      "See the caveats in the documentation: https://pandas.pydata.org/pandas-docs/stable/user_guide/indexing.html#returning-a-view-versus-a-copy\n",
      "  short_ord_samp.drop(columns=[\"product_id\", \"aisle_id\", \"aisle\", \"department_id\", \"department\"], inplace=True)\n"
     ]
    },
    {
     "data": {
      "text/plain": "        order_id                                      product_name\n135800     13730                                    guess who I am\n135801     13730                      Diet Coke Caffeine Free Soda\n135802     13730            Thin Sliced Oven Roasted Turkey Breast\n135803     13730                            Muenster Cheese Slices\n135804     13730                              Premium Paper Towels\n135805     13730  Naturally Hickory Smoked Hometown Original Bacon\n135806     13730                   Buttermilk Ranch Dressing & Dip\n168920     17053                                    guess who I am\n168921     17053                           Smoked Uncured Kielbasa\n168922     17053                                            Garlic\n168923     17053                                       Large Lemon\n168924     17053                             Organic Italian Salad\n168925     17053                      Delmonicos Dress Pepper Rnch\n579481     58719                                    guess who I am\n579482     58719                  Sunny Days Strawberry Snack Bars\n579483     58719                                     Chicken Salad\n579484     58719                                            Banana\n579485     58719                           Organic Cherry Tomatoes\n796264     80755                                    guess who I am\n796265     80755                     Butter with Canola Oil Spread\n796266     80755                  Philadelphia Cream Cheese Spread\n796267     80755                         Devil's Food Cookie Cakes\n796268     80755        Original No Pulp 100% Florida Orange Juice\n881387     89470                                    guess who I am\n881388     89470                           American Cheese Singles\n881389     89470                       Oats & Chocolate Chewy Bars\n881390     89470                                Penne Rigate Pasta\n881391     89470                Pike Place Roast Whole Bean Coffee\n881392     89470                                   Flour Tortillas\n881393     89470             Star Wars Italian Sweet Creme Creamer\n881394     89470      Cheese Shredded Sharp Cheddar Reduced Fat 2%",
      "text/html": "<div>\n<style scoped>\n    .dataframe tbody tr th:only-of-type {\n        vertical-align: middle;\n    }\n\n    .dataframe tbody tr th {\n        vertical-align: top;\n    }\n\n    .dataframe thead th {\n        text-align: right;\n    }\n</style>\n<table border=\"1\" class=\"dataframe\">\n  <thead>\n    <tr style=\"text-align: right;\">\n      <th></th>\n      <th>order_id</th>\n      <th>product_name</th>\n    </tr>\n  </thead>\n  <tbody>\n    <tr>\n      <th>135800</th>\n      <td>13730</td>\n      <td>guess who I am</td>\n    </tr>\n    <tr>\n      <th>135801</th>\n      <td>13730</td>\n      <td>Diet Coke Caffeine Free Soda</td>\n    </tr>\n    <tr>\n      <th>135802</th>\n      <td>13730</td>\n      <td>Thin Sliced Oven Roasted Turkey Breast</td>\n    </tr>\n    <tr>\n      <th>135803</th>\n      <td>13730</td>\n      <td>Muenster Cheese Slices</td>\n    </tr>\n    <tr>\n      <th>135804</th>\n      <td>13730</td>\n      <td>Premium Paper Towels</td>\n    </tr>\n    <tr>\n      <th>135805</th>\n      <td>13730</td>\n      <td>Naturally Hickory Smoked Hometown Original Bacon</td>\n    </tr>\n    <tr>\n      <th>135806</th>\n      <td>13730</td>\n      <td>Buttermilk Ranch Dressing &amp; Dip</td>\n    </tr>\n    <tr>\n      <th>168920</th>\n      <td>17053</td>\n      <td>guess who I am</td>\n    </tr>\n    <tr>\n      <th>168921</th>\n      <td>17053</td>\n      <td>Smoked Uncured Kielbasa</td>\n    </tr>\n    <tr>\n      <th>168922</th>\n      <td>17053</td>\n      <td>Garlic</td>\n    </tr>\n    <tr>\n      <th>168923</th>\n      <td>17053</td>\n      <td>Large Lemon</td>\n    </tr>\n    <tr>\n      <th>168924</th>\n      <td>17053</td>\n      <td>Organic Italian Salad</td>\n    </tr>\n    <tr>\n      <th>168925</th>\n      <td>17053</td>\n      <td>Delmonicos Dress Pepper Rnch</td>\n    </tr>\n    <tr>\n      <th>579481</th>\n      <td>58719</td>\n      <td>guess who I am</td>\n    </tr>\n    <tr>\n      <th>579482</th>\n      <td>58719</td>\n      <td>Sunny Days Strawberry Snack Bars</td>\n    </tr>\n    <tr>\n      <th>579483</th>\n      <td>58719</td>\n      <td>Chicken Salad</td>\n    </tr>\n    <tr>\n      <th>579484</th>\n      <td>58719</td>\n      <td>Banana</td>\n    </tr>\n    <tr>\n      <th>579485</th>\n      <td>58719</td>\n      <td>Organic Cherry Tomatoes</td>\n    </tr>\n    <tr>\n      <th>796264</th>\n      <td>80755</td>\n      <td>guess who I am</td>\n    </tr>\n    <tr>\n      <th>796265</th>\n      <td>80755</td>\n      <td>Butter with Canola Oil Spread</td>\n    </tr>\n    <tr>\n      <th>796266</th>\n      <td>80755</td>\n      <td>Philadelphia Cream Cheese Spread</td>\n    </tr>\n    <tr>\n      <th>796267</th>\n      <td>80755</td>\n      <td>Devil's Food Cookie Cakes</td>\n    </tr>\n    <tr>\n      <th>796268</th>\n      <td>80755</td>\n      <td>Original No Pulp 100% Florida Orange Juice</td>\n    </tr>\n    <tr>\n      <th>881387</th>\n      <td>89470</td>\n      <td>guess who I am</td>\n    </tr>\n    <tr>\n      <th>881388</th>\n      <td>89470</td>\n      <td>American Cheese Singles</td>\n    </tr>\n    <tr>\n      <th>881389</th>\n      <td>89470</td>\n      <td>Oats &amp; Chocolate Chewy Bars</td>\n    </tr>\n    <tr>\n      <th>881390</th>\n      <td>89470</td>\n      <td>Penne Rigate Pasta</td>\n    </tr>\n    <tr>\n      <th>881391</th>\n      <td>89470</td>\n      <td>Pike Place Roast Whole Bean Coffee</td>\n    </tr>\n    <tr>\n      <th>881392</th>\n      <td>89470</td>\n      <td>Flour Tortillas</td>\n    </tr>\n    <tr>\n      <th>881393</th>\n      <td>89470</td>\n      <td>Star Wars Italian Sweet Creme Creamer</td>\n    </tr>\n    <tr>\n      <th>881394</th>\n      <td>89470</td>\n      <td>Cheese Shredded Sharp Cheddar Reduced Fat 2%</td>\n    </tr>\n  </tbody>\n</table>\n</div>"
     },
     "execution_count": 88,
     "metadata": {},
     "output_type": "execute_result"
    }
   ],
   "source": [
    "# Pick a few orders\n",
    "short_ord_id_samp = short_order_oids.sample(5)\n",
    "short_ord_samp = mma_data[mma_data[\"order_id\"].isin(short_ord_id_samp[\"order_id\"])]\n",
    "short_ord_samp.drop(columns=[\"product_id\", \"aisle_id\", \"aisle\", \"department_id\", \"department\"], inplace=True)\n",
    "\n",
    "answers = short_ord_samp.copy(deep=True)\n",
    "# Remove the product name from the first item in each order\n",
    "cur_o_id = \"\"\n",
    "for i in short_ord_samp.index:\n",
    "    if cur_o_id != short_ord_samp.loc[i, \"order_id\"]:\n",
    "        cur_o_id = short_ord_samp.loc[i, \"order_id\"]\n",
    "        short_ord_samp.loc[i, \"product_name\"] = \"guess who I am\"\n",
    "\n",
    "short_ord_samp"
   ],
   "metadata": {
    "collapsed": false
   }
  },
  {
   "cell_type": "markdown",
   "source": [
    "My Guesses:\n",
    "13730: Turkey meal accessory or dressing\n",
    "17053: Salad ingredient or main course\n",
    "58719: Snack or fruit or drink or salad dressing\n",
    "80755: Something to accompany cake. Drink or another sweet food item or accessories like candles\n",
    "89470: Sidedish or topping or drink\n",
    "\n",
    "Correct answers:\n",
    "13730: AA Batteries x\n",
    "17053: Yellow Potato √\n",
    "58719: Original Hummus √\n",
    "80755: Bananas √\n",
    "89470: Lime Seltzer √\n",
    "\n",
    "My score: 4/5"
   ],
   "metadata": {
    "collapsed": false
   }
  },
  {
   "cell_type": "code",
   "execution_count": 89,
   "outputs": [
    {
     "data": {
      "text/plain": "        order_id                                      product_name\n135800     13730                            Coppertop AA Batteries\n135801     13730                      Diet Coke Caffeine Free Soda\n135802     13730            Thin Sliced Oven Roasted Turkey Breast\n135803     13730                            Muenster Cheese Slices\n135804     13730                              Premium Paper Towels\n135805     13730  Naturally Hickory Smoked Hometown Original Bacon\n135806     13730                   Buttermilk Ranch Dressing & Dip\n168920     17053                                     Yellow Potato\n168921     17053                           Smoked Uncured Kielbasa\n168922     17053                                            Garlic\n168923     17053                                       Large Lemon\n168924     17053                             Organic Italian Salad\n168925     17053                      Delmonicos Dress Pepper Rnch\n579481     58719                                   Original Hummus\n579482     58719                  Sunny Days Strawberry Snack Bars\n579483     58719                                     Chicken Salad\n579484     58719                                            Banana\n579485     58719                           Organic Cherry Tomatoes\n796264     80755                            Bag of Organic Bananas\n796265     80755                     Butter with Canola Oil Spread\n796266     80755                  Philadelphia Cream Cheese Spread\n796267     80755                         Devil's Food Cookie Cakes\n796268     80755        Original No Pulp 100% Florida Orange Juice\n881387     89470                                      Lime Seltzer\n881388     89470                           American Cheese Singles\n881389     89470                       Oats & Chocolate Chewy Bars\n881390     89470                                Penne Rigate Pasta\n881391     89470                Pike Place Roast Whole Bean Coffee\n881392     89470                                   Flour Tortillas\n881393     89470             Star Wars Italian Sweet Creme Creamer\n881394     89470      Cheese Shredded Sharp Cheddar Reduced Fat 2%",
      "text/html": "<div>\n<style scoped>\n    .dataframe tbody tr th:only-of-type {\n        vertical-align: middle;\n    }\n\n    .dataframe tbody tr th {\n        vertical-align: top;\n    }\n\n    .dataframe thead th {\n        text-align: right;\n    }\n</style>\n<table border=\"1\" class=\"dataframe\">\n  <thead>\n    <tr style=\"text-align: right;\">\n      <th></th>\n      <th>order_id</th>\n      <th>product_name</th>\n    </tr>\n  </thead>\n  <tbody>\n    <tr>\n      <th>135800</th>\n      <td>13730</td>\n      <td>Coppertop AA Batteries</td>\n    </tr>\n    <tr>\n      <th>135801</th>\n      <td>13730</td>\n      <td>Diet Coke Caffeine Free Soda</td>\n    </tr>\n    <tr>\n      <th>135802</th>\n      <td>13730</td>\n      <td>Thin Sliced Oven Roasted Turkey Breast</td>\n    </tr>\n    <tr>\n      <th>135803</th>\n      <td>13730</td>\n      <td>Muenster Cheese Slices</td>\n    </tr>\n    <tr>\n      <th>135804</th>\n      <td>13730</td>\n      <td>Premium Paper Towels</td>\n    </tr>\n    <tr>\n      <th>135805</th>\n      <td>13730</td>\n      <td>Naturally Hickory Smoked Hometown Original Bacon</td>\n    </tr>\n    <tr>\n      <th>135806</th>\n      <td>13730</td>\n      <td>Buttermilk Ranch Dressing &amp; Dip</td>\n    </tr>\n    <tr>\n      <th>168920</th>\n      <td>17053</td>\n      <td>Yellow Potato</td>\n    </tr>\n    <tr>\n      <th>168921</th>\n      <td>17053</td>\n      <td>Smoked Uncured Kielbasa</td>\n    </tr>\n    <tr>\n      <th>168922</th>\n      <td>17053</td>\n      <td>Garlic</td>\n    </tr>\n    <tr>\n      <th>168923</th>\n      <td>17053</td>\n      <td>Large Lemon</td>\n    </tr>\n    <tr>\n      <th>168924</th>\n      <td>17053</td>\n      <td>Organic Italian Salad</td>\n    </tr>\n    <tr>\n      <th>168925</th>\n      <td>17053</td>\n      <td>Delmonicos Dress Pepper Rnch</td>\n    </tr>\n    <tr>\n      <th>579481</th>\n      <td>58719</td>\n      <td>Original Hummus</td>\n    </tr>\n    <tr>\n      <th>579482</th>\n      <td>58719</td>\n      <td>Sunny Days Strawberry Snack Bars</td>\n    </tr>\n    <tr>\n      <th>579483</th>\n      <td>58719</td>\n      <td>Chicken Salad</td>\n    </tr>\n    <tr>\n      <th>579484</th>\n      <td>58719</td>\n      <td>Banana</td>\n    </tr>\n    <tr>\n      <th>579485</th>\n      <td>58719</td>\n      <td>Organic Cherry Tomatoes</td>\n    </tr>\n    <tr>\n      <th>796264</th>\n      <td>80755</td>\n      <td>Bag of Organic Bananas</td>\n    </tr>\n    <tr>\n      <th>796265</th>\n      <td>80755</td>\n      <td>Butter with Canola Oil Spread</td>\n    </tr>\n    <tr>\n      <th>796266</th>\n      <td>80755</td>\n      <td>Philadelphia Cream Cheese Spread</td>\n    </tr>\n    <tr>\n      <th>796267</th>\n      <td>80755</td>\n      <td>Devil's Food Cookie Cakes</td>\n    </tr>\n    <tr>\n      <th>796268</th>\n      <td>80755</td>\n      <td>Original No Pulp 100% Florida Orange Juice</td>\n    </tr>\n    <tr>\n      <th>881387</th>\n      <td>89470</td>\n      <td>Lime Seltzer</td>\n    </tr>\n    <tr>\n      <th>881388</th>\n      <td>89470</td>\n      <td>American Cheese Singles</td>\n    </tr>\n    <tr>\n      <th>881389</th>\n      <td>89470</td>\n      <td>Oats &amp; Chocolate Chewy Bars</td>\n    </tr>\n    <tr>\n      <th>881390</th>\n      <td>89470</td>\n      <td>Penne Rigate Pasta</td>\n    </tr>\n    <tr>\n      <th>881391</th>\n      <td>89470</td>\n      <td>Pike Place Roast Whole Bean Coffee</td>\n    </tr>\n    <tr>\n      <th>881392</th>\n      <td>89470</td>\n      <td>Flour Tortillas</td>\n    </tr>\n    <tr>\n      <th>881393</th>\n      <td>89470</td>\n      <td>Star Wars Italian Sweet Creme Creamer</td>\n    </tr>\n    <tr>\n      <th>881394</th>\n      <td>89470</td>\n      <td>Cheese Shredded Sharp Cheddar Reduced Fat 2%</td>\n    </tr>\n  </tbody>\n</table>\n</div>"
     },
     "execution_count": 89,
     "metadata": {},
     "output_type": "execute_result"
    }
   ],
   "source": [
    "answers"
   ],
   "metadata": {
    "collapsed": false
   }
  },
  {
   "cell_type": "markdown",
   "source": [
    "This experiment shows that it is very possible to gain information about the missing item in an order by looking at the other items in the order, suggesting that a Natural Language Processing approach may be useful for this problem."
   ],
   "metadata": {
    "collapsed": false
   }
  },
  {
   "cell_type": "markdown",
   "source": [],
   "metadata": {
    "collapsed": false
   }
  }
 ],
 "metadata": {
  "kernelspec": {
   "display_name": "Python 3",
   "language": "python",
   "name": "python3"
  },
  "language_info": {
   "codemirror_mode": {
    "name": "ipython",
    "version": 2
   },
   "file_extension": ".py",
   "mimetype": "text/x-python",
   "name": "python",
   "nbconvert_exporter": "python",
   "pygments_lexer": "ipython2",
   "version": "2.7.6"
  }
 },
 "nbformat": 4,
 "nbformat_minor": 0
}
