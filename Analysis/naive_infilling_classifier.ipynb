{
 "cells": [
  {
   "cell_type": "markdown",
   "source": [
    "# Rotman Data Science Competition\n",
    "### A no-brainer implementation to use text-infilling to calculate similarity score between different substitute products\n",
    "## Imports\n"
   ],
   "metadata": {
    "collapsed": false
   }
  },
  {
   "cell_type": "code",
   "execution_count": 1,
   "outputs": [],
   "source": [
    "import pandas as pd\n",
    "import numpy as np\n",
    "from datetime import datetime"
   ],
   "metadata": {
    "collapsed": false
   }
  },
  {
   "cell_type": "code",
   "execution_count": 2,
   "outputs": [],
   "source": [
    "from datasets import Dataset, DatasetDict\n",
    "import torch\n",
    "from transformers import T5Tokenizer, T5ForConditionalGeneration, DataCollatorForSeq2Seq, Seq2SeqTrainingArguments, Seq2SeqTrainer"
   ],
   "metadata": {
    "collapsed": false
   }
  },
  {
   "cell_type": "code",
   "execution_count": 13,
   "outputs": [],
   "source": [
    "today_date = datetime.today().strftime('%Y-%m-%d')\n",
    "\n",
    "DATA_SAVE_PATH = \"./data/formated_data_for_seq2seq.csv\"\n",
    "CHECKPOINT_SAVE_PATH = f\"./substitute_classifier/T5/checkpoint_for_{today_date}\""
   ],
   "metadata": {
    "collapsed": false
   }
  },
  {
   "cell_type": "markdown",
   "source": [
    "## Data Preprocessing\n",
    "### Turning our data into format for text-infilling"
   ],
   "metadata": {
    "collapsed": false
   }
  },
  {
   "cell_type": "code",
   "execution_count": 46,
   "outputs": [],
   "source": [
    "REPROCESS_DATA = False\n",
    "if REPROCESS_DATA:\n",
    "    DATA_PATH = \"./data/mma_mart.csv\"\n",
    "    raw_data = pd.read_csv(DATA_PATH)\n",
    "    raw_data.head()"
   ],
   "metadata": {
    "collapsed": false
   }
  },
  {
   "cell_type": "code",
   "execution_count": 7,
   "outputs": [],
   "source": [
    "if REPROCESS_DATA:\n",
    "    products = raw_data.loc[:, 'product_id' : 'product_name']\n",
    "    products.drop_duplicates(\"product_id\", inplace=True)\n",
    "    products.set_index(\"product_id\", inplace=True)\n",
    "    raw_data = raw_data.loc[:, 'order_id':'product_name']\n",
    "    raw_data.head()"
   ],
   "metadata": {
    "collapsed": false
   }
  },
  {
   "cell_type": "code",
   "execution_count": 8,
   "outputs": [],
   "source": [
    "if REPROCESS_DATA:\n",
    "    # Put orders into string format\n",
    "    FORMAT = \"On order {x} a customer bought {item 1, ... , item y}.\"\n",
    "\n",
    "    raw_data[\"str_p_id\"] = [f\"(id {str(i)})\" for i in raw_data[\"product_id\"]]\n",
    "    raw_data[\"target_text\"] = raw_data[\"product_name\"] + raw_data[\"str_p_id\"]\n",
    "    # raw_data.drop(columns=[\"product_id\", \"product_name\", \"str_p_id\"], inplace=True)\n",
    "    raw_data.head()"
   ],
   "metadata": {
    "collapsed": false
   }
  },
  {
   "cell_type": "code",
   "execution_count": 9,
   "outputs": [],
   "source": [
    "if REPROCESS_DATA:\n",
    "    # Pick about 15% of the items to mask out\n",
    "    MASK_RATE = 0.15\n",
    "    RANDOM_SEED = 42\n",
    "    random_generator = np.random.default_rng(RANDOM_SEED)\n",
    "    mask_idx = random_generator.choice(raw_data.index, size= int(raw_data.shape[0] * MASK_RATE), replace=False, axis=0)\n",
    "    mask_idx[:10]"
   ],
   "metadata": {
    "collapsed": false
   }
  },
  {
   "cell_type": "code",
   "execution_count": 10,
   "outputs": [],
   "source": [
    "if REPROCESS_DATA:\n",
    "    raw_data_masked = raw_data.copy()\n",
    "    raw_data_masked.loc[mask_idx, \"target_text\"] = \"[MASK]\"\n",
    "    raw_data_masked.head()"
   ],
   "metadata": {
    "collapsed": false
   }
  },
  {
   "cell_type": "code",
   "execution_count": 11,
   "outputs": [],
   "source": [
    "if REPROCESS_DATA:\n",
    "    formated_data = pd.DataFrame(columns=[\"source_text\", \"target_text\"], index=raw_data.order_id.unique())\n",
    "    formated_data.head(10)"
   ],
   "metadata": {
    "collapsed": false
   }
  },
  {
   "cell_type": "code",
   "execution_count": 12,
   "outputs": [],
   "source": [
    "if REPROCESS_DATA:\n",
    "    FORMAT = \"On order {} a customer bought {}.\"\n",
    "    raw_data = raw_data.set_index(\"order_id\")\n",
    "    raw_data_masked = raw_data_masked.set_index(\"order_id\")\n",
    "    for idx in raw_data.index.unique():\n",
    "        items = \", \".join(raw_data.loc[idx][\"target_text\"])\n",
    "        items_masked = \", \".join(raw_data_masked.loc[idx][\"target_text\"])\n",
    "        formated_data.loc[idx, \"target_text\"] = FORMAT.format(idx, items)\n",
    "        formated_data.loc[idx, \"source_text\"] = FORMAT.format(idx, items_masked)\n",
    "\n",
    "    formated_data.to_csv(DATA_SAVE_PATH, index=False)"
   ],
   "metadata": {
    "collapsed": false
   }
  },
  {
   "cell_type": "markdown",
   "source": [
    "## Training"
   ],
   "metadata": {
    "collapsed": false
   }
  },
  {
   "cell_type": "code",
   "execution_count": 5,
   "outputs": [
    {
     "data": {
      "text/plain": "                                         source_text  \\\n0  On order 1 a customer bought [MASK], Organic 4...   \n1  On order 2 a customer bought Organic Egg White...   \n2  On order 3 a customer bought Total 2% with Str...   \n3  On order 4 a customer bought [MASK], Honey/Lem...   \n4  On order 5 a customer bought Bag of Organic Ba...   \n\n                                         target_text  \n0  On order 1 a customer bought Bulgarian Yogurt(...  \n1  On order 2 a customer bought Organic Egg White...  \n2  On order 3 a customer bought Total 2% with Str...  \n3  On order 4 a customer bought Plain Pre-Sliced ...  \n4  On order 5 a customer bought Bag of Organic Ba...  ",
      "text/html": "<div>\n<style scoped>\n    .dataframe tbody tr th:only-of-type {\n        vertical-align: middle;\n    }\n\n    .dataframe tbody tr th {\n        vertical-align: top;\n    }\n\n    .dataframe thead th {\n        text-align: right;\n    }\n</style>\n<table border=\"1\" class=\"dataframe\">\n  <thead>\n    <tr style=\"text-align: right;\">\n      <th></th>\n      <th>source_text</th>\n      <th>target_text</th>\n    </tr>\n  </thead>\n  <tbody>\n    <tr>\n      <th>0</th>\n      <td>On order 1 a customer bought [MASK], Organic 4...</td>\n      <td>On order 1 a customer bought Bulgarian Yogurt(...</td>\n    </tr>\n    <tr>\n      <th>1</th>\n      <td>On order 2 a customer bought Organic Egg White...</td>\n      <td>On order 2 a customer bought Organic Egg White...</td>\n    </tr>\n    <tr>\n      <th>2</th>\n      <td>On order 3 a customer bought Total 2% with Str...</td>\n      <td>On order 3 a customer bought Total 2% with Str...</td>\n    </tr>\n    <tr>\n      <th>3</th>\n      <td>On order 4 a customer bought [MASK], Honey/Lem...</td>\n      <td>On order 4 a customer bought Plain Pre-Sliced ...</td>\n    </tr>\n    <tr>\n      <th>4</th>\n      <td>On order 5 a customer bought Bag of Organic Ba...</td>\n      <td>On order 5 a customer bought Bag of Organic Ba...</td>\n    </tr>\n  </tbody>\n</table>\n</div>"
     },
     "execution_count": 5,
     "metadata": {},
     "output_type": "execute_result"
    }
   ],
   "source": [
    "my_data = pd.read_csv(DATA_SAVE_PATH)\n",
    "my_data.head()"
   ],
   "metadata": {
    "collapsed": false
   }
  },
  {
   "cell_type": "markdown",
   "source": [
    "### 3. Set model, tokenizer, and data_collator variables"
   ],
   "metadata": {
    "collapsed": false
   }
  },
  {
   "cell_type": "code",
   "execution_count": 10,
   "outputs": [
    {
     "name": "stderr",
     "output_type": "stream",
     "text": [
      "You are using the default legacy behaviour of the <class 'transformers.models.t5.tokenization_t5.T5Tokenizer'>. If you see this, DO NOT PANIC! This is expected, and simply means that the `legacy` (previous) behavior will be used so nothing changes for you. If you want to use the new behaviour, set `legacy=False`. This should only be set if you understand what it means, and thouroughly read the reason why this was added as explained in https://github.com/huggingface/transformers/pull/24565\n"
     ]
    },
    {
     "ename": "NameError",
     "evalue": "name 'model' is not defined",
     "output_type": "error",
     "traceback": [
      "\u001B[0;31m---------------------------------------------------------------------------\u001B[0m",
      "\u001B[0;31mNameError\u001B[0m                                 Traceback (most recent call last)",
      "Cell \u001B[0;32mIn[10], line 3\u001B[0m\n\u001B[1;32m      1\u001B[0m tokenizer \u001B[38;5;241m=\u001B[39m T5Tokenizer\u001B[38;5;241m.\u001B[39mfrom_pretrained(\u001B[38;5;124m\"\u001B[39m\u001B[38;5;124mt5-small\u001B[39m\u001B[38;5;124m\"\u001B[39m)\n\u001B[1;32m      2\u001B[0m \u001B[38;5;66;03m# model = T5ForConditionalGeneration.from_pretrained(\"t5-small\")\u001B[39;00m\n\u001B[0;32m----> 3\u001B[0m data_collator \u001B[38;5;241m=\u001B[39m DataCollatorForSeq2Seq(tokenizer\u001B[38;5;241m=\u001B[39mtokenizer, model\u001B[38;5;241m=\u001B[39m\u001B[43mmodel\u001B[49m)\n",
      "\u001B[0;31mNameError\u001B[0m: name 'model' is not defined"
     ]
    }
   ],
   "source": [
    "tokenizer = T5Tokenizer.from_pretrained(\"t5-small\")\n",
    "# model = T5ForConditionalGeneration.from_pretrained(\"t5-small\")\n",
    "data_collator = DataCollatorForSeq2Seq(tokenizer=tokenizer, model=model)"
   ],
   "metadata": {
    "collapsed": false
   }
  },
  {
   "cell_type": "markdown",
   "source": [
    "### 4. Get data and divide into train, eval, and test sets\n",
    "We use 80% of the data for training, 10% for evaluation, and 10% for testing."
   ],
   "metadata": {
    "collapsed": false
   }
  },
  {
   "cell_type": "code",
   "execution_count": 6,
   "outputs": [
    {
     "data": {
      "text/plain": "                                             source_text  \\\n22652  On order 23139 a customer bought Organic Avoca...   \n42695  On order 43680 a customer bought First Prunes(...   \n38279  On order 39159 a customer bought [MASK], Koshe...   \n78622  On order 80380 a customer bought Organic Baby ...   \n15252  On order 15570 a customer bought Sharp Cheddar...   \n\n                                             target_text  \n22652  On order 23139 a customer bought Organic Avoca...  \n42695  On order 43680 a customer bought First Prunes(...  \n38279  On order 39159 a customer bought Organic Diced...  \n78622  On order 80380 a customer bought Organic Baby ...  \n15252  On order 15570 a customer bought Sharp Cheddar...  ",
      "text/html": "<div>\n<style scoped>\n    .dataframe tbody tr th:only-of-type {\n        vertical-align: middle;\n    }\n\n    .dataframe tbody tr th {\n        vertical-align: top;\n    }\n\n    .dataframe thead th {\n        text-align: right;\n    }\n</style>\n<table border=\"1\" class=\"dataframe\">\n  <thead>\n    <tr style=\"text-align: right;\">\n      <th></th>\n      <th>source_text</th>\n      <th>target_text</th>\n    </tr>\n  </thead>\n  <tbody>\n    <tr>\n      <th>22652</th>\n      <td>On order 23139 a customer bought Organic Avoca...</td>\n      <td>On order 23139 a customer bought Organic Avoca...</td>\n    </tr>\n    <tr>\n      <th>42695</th>\n      <td>On order 43680 a customer bought First Prunes(...</td>\n      <td>On order 43680 a customer bought First Prunes(...</td>\n    </tr>\n    <tr>\n      <th>38279</th>\n      <td>On order 39159 a customer bought [MASK], Koshe...</td>\n      <td>On order 39159 a customer bought Organic Diced...</td>\n    </tr>\n    <tr>\n      <th>78622</th>\n      <td>On order 80380 a customer bought Organic Baby ...</td>\n      <td>On order 80380 a customer bought Organic Baby ...</td>\n    </tr>\n    <tr>\n      <th>15252</th>\n      <td>On order 15570 a customer bought Sharp Cheddar...</td>\n      <td>On order 15570 a customer bought Sharp Cheddar...</td>\n    </tr>\n  </tbody>\n</table>\n</div>"
     },
     "execution_count": 6,
     "metadata": {},
     "output_type": "execute_result"
    }
   ],
   "source": [
    "TRAIN_SPLIT_SEED = 42\n",
    "train_df = my_data.sample(frac = 0.8, random_state=TRAIN_SPLIT_SEED)\n",
    "eval_df = my_data.drop(train_df.index).sample(frac = 0.5, random_state=TRAIN_SPLIT_SEED)\n",
    "test_df = my_data.drop(train_df.index).drop(eval_df.index)\n",
    "train_df.head()"
   ],
   "metadata": {
    "collapsed": false
   }
  },
  {
   "cell_type": "markdown",
   "source": [
    "### 5. Create a dataset dict from the dataframes"
   ],
   "metadata": {
    "collapsed": false
   }
  },
  {
   "cell_type": "code",
   "execution_count": 7,
   "outputs": [
    {
     "data": {
      "text/plain": "{'train': (78266, 3), 'eval': (9784, 3), 'test': (9783, 3)}"
     },
     "execution_count": 7,
     "metadata": {},
     "output_type": "execute_result"
    }
   ],
   "source": [
    "my_dataset = DatasetDict({\n",
    "    \"train\": Dataset.from_pandas(train_df),\n",
    "    \"eval\": Dataset.from_pandas(eval_df),\n",
    "    \"test\": Dataset.from_pandas(test_df),\n",
    "    })\n",
    "my_dataset.shape"
   ],
   "metadata": {
    "collapsed": false
   }
  },
  {
   "cell_type": "markdown",
   "source": [
    "Downsample the dataset to 10,000 examples for training, 1,000 for evaluation, and 1,000 for testing for the sake of fast training"
   ],
   "metadata": {
    "collapsed": false
   }
  },
  {
   "cell_type": "code",
   "execution_count": 8,
   "outputs": [
    {
     "data": {
      "text/plain": "DatasetDict({\n    train: Dataset({\n        features: ['source_text', 'target_text', '__index_level_0__'],\n        num_rows: 10000\n    })\n    test: Dataset({\n        features: ['source_text', 'target_text', '__index_level_0__'],\n        num_rows: 1000\n    })\n    eval: Dataset({\n        features: ['source_text', 'target_text', '__index_level_0__'],\n        num_rows: 1000\n    })\n})"
     },
     "execution_count": 8,
     "metadata": {},
     "output_type": "execute_result"
    }
   ],
   "source": [
    "train_size = 10000\n",
    "test_size = train_size // 10\n",
    "eval_size = train_size // 10\n",
    "\n",
    "down_sampled_ds = my_dataset[\"train\"].train_test_split(train_size=train_size, test_size=test_size + eval_size, seed=TRAIN_SPLIT_SEED)\n",
    "test_valid = down_sampled_ds[\"test\"].train_test_split(train_size=eval_size, test_size=test_size, seed=TRAIN_SPLIT_SEED)\n",
    "down_sampled_ds[\"eval\"] = test_valid[\"train\"]\n",
    "down_sampled_ds[\"test\"] = test_valid[\"test\"]\n",
    "down_sampled_ds"
   ],
   "metadata": {
    "collapsed": false
   }
  },
  {
   "cell_type": "markdown",
   "source": [
    "### 6. Tokenize the dataset"
   ],
   "metadata": {
    "collapsed": false
   }
  },
  {
   "cell_type": "code",
   "execution_count": 11,
   "outputs": [
    {
     "data": {
      "text/plain": "Map:   0%|          | 0/10000 [00:00<?, ? examples/s]",
      "application/vnd.jupyter.widget-view+json": {
       "version_major": 2,
       "version_minor": 0,
       "model_id": "ca8a7a835ba74a93a1078bb6baffd667"
      }
     },
     "metadata": {},
     "output_type": "display_data"
    },
    {
     "data": {
      "text/plain": "Map:   0%|          | 0/1000 [00:00<?, ? examples/s]",
      "application/vnd.jupyter.widget-view+json": {
       "version_major": 2,
       "version_minor": 0,
       "model_id": "87704ed7615448c7bd84deb43a98d24c"
      }
     },
     "metadata": {},
     "output_type": "display_data"
    },
    {
     "data": {
      "text/plain": "Map:   0%|          | 0/1000 [00:00<?, ? examples/s]",
      "application/vnd.jupyter.widget-view+json": {
       "version_major": 2,
       "version_minor": 0,
       "model_id": "016ffb39df3b4dcca8d040381014688a"
      }
     },
     "metadata": {},
     "output_type": "display_data"
    }
   ],
   "source": [
    "MAX_LENGTH = 512\n",
    "def tokenize(source_texts, target_texts):\n",
    "    model_inputs = tokenizer(text=source_texts, max_length=MAX_LENGTH, truncation=True)\n",
    "    labels = tokenizer(text_target=target_texts, max_length=MAX_LENGTH, truncation=True)\n",
    "    model_inputs[\"labels\"] = labels[\"input_ids\"]\n",
    "    return model_inputs\n",
    "tokenized_dataset = down_sampled_ds.map(tokenize, input_columns=[\"source_text\", \"target_text\"], remove_columns=[\"source_text\", \"target_text\"])"
   ],
   "metadata": {
    "collapsed": false
   }
  },
  {
   "cell_type": "markdown",
   "source": [
    "### 7. Set training arguments\n",
    "Change \"output_directory\" to your desired output directory. You can also change the batch_size, learning_rate, num_train_epochs and other parameters here. See the documentation for more details: [https://huggingface.co/docs/transformers/v4.21.3/en/main_classes/trainer#transformers.TrainingArguments](https://huggingface.co/docs/transformers/v4.21.3/en/main_classes/trainer#transformers.TrainingArguments)"
   ],
   "metadata": {
    "collapsed": false
   }
  },
  {
   "cell_type": "code",
   "execution_count": 19,
   "outputs": [],
   "source": [
    "ON_CUDA_GPU = False\n",
    "if ON_CUDA_GPU:\n",
    "    training_arguments = Seq2SeqTrainingArguments(\n",
    "        \"output_directory\",\n",
    "        learning_rate=0.0001,\n",
    "        weight_decay=0.01,\n",
    "        fp16=True,\n",
    "        per_device_train_batch_size=4,\n",
    "        per_device_eval_batch_size=4,\n",
    "        gradient_accumulation_steps=2,\n",
    "        num_train_epochs=20,\n",
    "        evaluation_strategy=\"epoch\",\n",
    "        report_to=\"all\"\n",
    "    )\n",
    "else:\n",
    "    training_arguments = Seq2SeqTrainingArguments(\n",
    "        \"output_directory\",\n",
    "        learning_rate=0.0001,\n",
    "        weight_decay=0.01,\n",
    "        per_device_train_batch_size=4,\n",
    "        per_device_eval_batch_size=4,\n",
    "        gradient_accumulation_steps=2,\n",
    "        num_train_epochs=20,\n",
    "        evaluation_strategy=\"epoch\",\n",
    "        report_to=\"all\"\n",
    "    )"
   ],
   "metadata": {
    "collapsed": false
   }
  },
  {
   "cell_type": "markdown",
   "source": [
    "### 8. Create a trainer"
   ],
   "metadata": {
    "collapsed": false
   }
  },
  {
   "cell_type": "code",
   "execution_count": 20,
   "outputs": [],
   "source": [
    "trainer = Seq2SeqTrainer(\n",
    "    model,\n",
    "    training_arguments,\n",
    "    train_dataset=tokenized_dataset[\"train\"],\n",
    "    eval_dataset=tokenized_dataset[\"eval\"],\n",
    "    data_collator=data_collator,\n",
    "    tokenizer=tokenizer\n",
    ")"
   ],
   "metadata": {
    "collapsed": false
   }
  },
  {
   "cell_type": "markdown",
   "source": [
    "Enabling MPS"
   ],
   "metadata": {
    "collapsed": false
   }
  },
  {
   "cell_type": "code",
   "execution_count": 21,
   "outputs": [
    {
     "data": {
      "text/plain": "'2.2.0.dev20231001'"
     },
     "execution_count": 21,
     "metadata": {},
     "output_type": "execute_result"
    }
   ],
   "source": [
    "torch.__version__"
   ],
   "metadata": {
    "collapsed": false
   }
  },
  {
   "cell_type": "code",
   "execution_count": 22,
   "outputs": [],
   "source": [
    "if torch.backends.mps.is_available():\n",
    "    mps_device = torch.device(\"mps\")\n",
    "    torch.mps.set_per_process_memory_fraction(0.0)\n",
    "else:\n",
    "    print(\"MPS is not available\")"
   ],
   "metadata": {
    "collapsed": false
   }
  },
  {
   "cell_type": "code",
   "execution_count": 23,
   "outputs": [
    {
     "data": {
      "text/plain": "False"
     },
     "execution_count": 23,
     "metadata": {},
     "output_type": "execute_result"
    }
   ],
   "source": [
    "torch.cuda.is_available()"
   ],
   "metadata": {
    "collapsed": false
   }
  },
  {
   "cell_type": "markdown",
   "source": [
    "### 9. Train the model"
   ],
   "metadata": {
    "collapsed": false
   }
  },
  {
   "cell_type": "code",
   "execution_count": null,
   "outputs": [],
   "source": [
    "trainer.train()"
   ],
   "metadata": {
    "collapsed": false
   }
  },
  {
   "cell_type": "markdown",
   "source": [
    "### 10. Evaluate"
   ],
   "metadata": {
    "collapsed": false
   }
  },
  {
   "cell_type": "code",
   "execution_count": 127,
   "outputs": [],
   "source": [
    "CHECKPOINT_SAVE_PATH = \"./substitute_classifier/T5/checkpoint-38000\"\n",
    "model = T5ForConditionalGeneration.from_pretrained(CHECKPOINT_SAVE_PATH)"
   ],
   "metadata": {
    "collapsed": false
   }
  },
  {
   "cell_type": "code",
   "execution_count": 128,
   "outputs": [],
   "source": [
    "input_text = down_sampled_ds[\"test\"]['source_text'][0:10]\n",
    "target_text = down_sampled_ds[\"test\"]['target_text'][0:10]"
   ],
   "metadata": {
    "collapsed": false
   }
  },
  {
   "cell_type": "code",
   "execution_count": 129,
   "outputs": [],
   "source": [
    "device = torch.device(\"mps\")\n",
    "model = model.to(device)"
   ],
   "metadata": {
    "collapsed": false
   }
  },
  {
   "cell_type": "code",
   "execution_count": 130,
   "outputs": [
    {
     "name": "stderr",
     "output_type": "stream",
     "text": [
      "Keyword arguments {'padding_side': 'left'} not recognized.\n",
      "Keyword arguments {'padding_side': 'left'} not recognized.\n",
      "Keyword arguments {'padding_side': 'left'} not recognized.\n",
      "Keyword arguments {'padding_side': 'left'} not recognized.\n",
      "Keyword arguments {'padding_side': 'left'} not recognized.\n",
      "Keyword arguments {'padding_side': 'left'} not recognized.\n",
      "Keyword arguments {'padding_side': 'left'} not recognized.\n",
      "Keyword arguments {'padding_side': 'left'} not recognized.\n",
      "Keyword arguments {'padding_side': 'left'} not recognized.\n",
      "Keyword arguments {'padding_side': 'left'} not recognized.\n"
     ]
    }
   ],
   "source": [
    "input_ids = tokenizer(input_text, return_tensors=\"pt\", truncation=True, padding=True, padding_side='left')\n",
    "input_ids = input_ids.to(device)\n",
    "output_ids = model.generate(input_ids['input_ids'], max_length=512, num_beams=5, do_sample=False, num_return_sequences=1)"
   ],
   "metadata": {
    "collapsed": false
   }
  },
  {
   "cell_type": "code",
   "execution_count": 119,
   "outputs": [],
   "source": [
    "all_output = tokenizer.batch_decode(output_ids)"
   ],
   "metadata": {
    "collapsed": false
   }
  },
  {
   "cell_type": "code",
   "execution_count": 120,
   "outputs": [],
   "source": [
    "all_output_df = pd.DataFrame(all_output, columns=[\"output\"])\n",
    "all_output_df[\"target\"] = target_text\n",
    "all_output_df[\"input\"] = input_text"
   ],
   "metadata": {
    "collapsed": false
   }
  },
  {
   "cell_type": "code",
   "execution_count": 121,
   "outputs": [],
   "source": [
    "def get_substitute_score(input_text, target, candidate) -> float:\n",
    "    input_ids = tokenizer(input_text, return_tensors=\"pt\").input_ids\n",
    "    target_input_id = tokenizer(target, return_tensors=\"pt\").input_ids\n",
    "    candidate_input_id = tokenizer(candidate, return_tensors=\"pt\").input_ids\n",
    "    # true_loss = model(input_ids = input_ids, labels = target_input_id)\n",
    "    true_loss = model(input_ids = input_ids, labels = target_input_id).loss.item()\n",
    "    candidate_loss = model(input_ids = input_ids, labels = candidate_input_id).loss.item()\n",
    "    print(true_loss, candidate_loss)\n",
    "    return (1-candidate_loss)/(1-true_loss)"
   ],
   "metadata": {
    "collapsed": false
   }
  },
  {
   "cell_type": "code",
   "execution_count": 131,
   "outputs": [
    {
     "data": {
      "text/plain": "                                               output  \\\n0   <pad> On order 12206 a customer bought Organic...   \n1   <pad> On order 34530 a customer bought Cinnamo...   \n2   <pad> On order 51732 a customer bought Organic...   \n3   <pad> On order 92888 a customer bought Organic...   \n4   <pad> On order 47540 a customer bought Organic...   \n5   <pad> On order 26751 a customer bought Organic...   \n6   <pad> On order 14723 a customer bought Baby Cu...   \n7   <pad> On order 88432 a customer bought C, i, n...   \n8   <pad> On order 75759 a customer bought Four Ch...   \n9   <pad> On order 54227 a customer bought Caramel...   \n10  <pad> On order 35696 a customer bought Super S...   \n11  <pad> On order 11489 a customer bought Organic...   \n12  <pad> On order 87569 a customer bought Pure Co...   \n13  <pad> On order 72973 a customer bought Organic...   \n14  <pad> On order 11903 a customer bought Organic...   \n15  <pad> On order 60768 a customer bought Green B...   \n16  <pad> On order 66423 a customer bought Natural...   \n17  <pad> On order 30978 a customer bought Organic...   \n18  <pad> On order 35004 a customer bought Calcium...   \n19  <pad> On order 95164 a customer bought Advance...   \n20  <pad> On order 3352 a customer bought Banana(i...   \n21  <pad> On order 4542 a customer bought Organic ...   \n22  <pad> On order 71062 a customer bought Organic...   \n23  <pad> On order 6488 a customer bought Organic ...   \n24  <pad>On order 15508 a customer bought Organic ...   \n25  <pad> On order 82383 a customer bought Organic...   \n26  <pad> On order 79404 a customer bought Primord...   \n27  <pad> On order 39521 a customer bought Organic...   \n28  <pad> On order 96363 a customer bought Diet Ch...   \n29  <pad> On order 90867 a customer bought O, r, g...   \n30  <pad> On order 61930 a customer bought Mini Ca...   \n31  <pad> On order 94814 a customer bought Organic...   \n32  <pad> On order 88869 a customer bought Large B...   \n33  <pad> On order 89081 a customer bought Zero Co...   \n34  <pad> On order 12720 a customer bought R, i, c...   \n35  <pad>On order 31170 a customer bought Bag of O...   \n36  <pad> On order 43129 a customer bought Extra S...   \n37  <pad> On order 28120 a customer bought Organic...   \n38  <pad> On order 30002 a customer bought Banana(...   \n39  <pad> On order 80126 a customer bought On the ...   \n40  <pad> On order 60702 a customer bought Organic...   \n41  <pad> On order 12757 a customer bought Clement...   \n42  <pad> On order 54838 a customer bought Asparag...   \n43  <pad> On order 92609 a customer bought Ripe La...   \n44  <pad> On order 45966 a customer bought 13 Gall...   \n45  <pad> On order 2353 a customer bought Organic ...   \n46  <pad> On order 16178 a customer bought Strawbe...   \n47  <pad> On order 62831 a customer bought Green B...   \n48  <pad> On order 17268 a customer bought Organic...   \n49  <pad> On order 18601 a customer bought Cranber...   \n\n                                               target  \\\n0   On order 12206 a customer bought Organic Romai...   \n1   On order 34530 a customer bought Cinnamon Stic...   \n2   On order 51732 a customer bought Organic Calim...   \n3   On order 92888 a customer bought Organic Navel...   \n4   On order 47540 a customer bought Ten Soda(id 2...   \n5   On order 26751 a customer bought Large Deep Di...   \n6   On order 14723 a customer bought Baby Cucumber...   \n7   On order 88432 a customer bought C, i, n, n, a...   \n8   On order 75759 a customer bought Four Cheese P...   \n9   On order 54227 a customer bought Caramel Sauce...   \n10  On order 35696 a customer bought Super Soft Fl...   \n11  On order 11489 a customer bought Spring Water(...   \n12  On order 87569 a customer bought Pure Coconut ...   \n13  On order 72973 a customer bought Organic Avoca...   \n14  On order 11903 a customer bought Organic Austr...   \n15  On order 60768 a customer bought Green Beans(i...   \n16  On order 66423 a customer bought Natural Artis...   \n17  On order 30978 a customer bought Reduced-fat S...   \n18  On order 35004 a customer bought Calcium Enric...   \n19  On order 95164 a customer bought Advance Infan...   \n20  On order 3352 a customer bought Banana(id 2485...   \n21  On order 4542 a customer bought Organic Unswee...   \n22  On order 71062 a customer bought Organic Lacin...   \n23  On order 6488 a customer bought Healthfull Nut...   \n24  On order 15508 a customer bought Classic Whipp...   \n25  On order 82383 a customer bought Organic Cream...   \n26  On order 79404 a customer bought Primordial Hi...   \n27  On order 39521 a customer bought Organic Turme...   \n28  On order 96363 a customer bought Diet Cherry S...   \n29  On order 90867 a customer bought C, h, o, c, o...   \n30  On order 61930 a customer bought Mini Cabrie S...   \n31  On order 94814 a customer bought Organic Avoca...   \n32  On order 88869 a customer bought Large Brown E...   \n33  On order 89081 a customer bought Zero Cola(id ...   \n34  On order 12720 a customer bought R, i, c, e,  ...   \n35  On order 31170 a customer bought Bag of Organi...   \n36  On order 43129 a customer bought Extra Strengt...   \n37  On order 28120 a customer bought Banana(id 248...   \n38  On order 30002 a customer bought Banana(id 248...   \n39  On order 80126 a customer bought On the Go Low...   \n40  On order 60702 a customer bought Organic Uncur...   \n41  On order 12757 a customer bought Clementines, ...   \n42  On order 54838 a customer bought Asparagus(id ...   \n43  On order 92609 a customer bought Ripe Large Pi...   \n44  On order 45966 a customer bought 13 Gallon Tal...   \n45  On order 2353 a customer bought Organic Strawb...   \n46  On order 16178 a customer bought Strawberries(...   \n47  On order 62831 a customer bought Green Beans(i...   \n48  On order 17268 a customer bought Organic Straw...   \n49  On order 18601 a customer bought Cranberry Jui...   \n\n                                                input  \n0   On order 12206 a customer bought Organic Romai...  \n1   On order 34530 a customer bought Cinnamon Stic...  \n2   On order 51732 a customer bought Organic Calim...  \n3   On order 92888 a customer bought Organic Navel...  \n4   On order 47540 a customer bought [MASK], Root ...  \n5   On order 26751 a customer bought [MASK], Large...  \n6   On order 14723 a customer bought Baby Cucumber...  \n7   On order 88432 a customer bought C, i, n, n, a...  \n8   On order 75759 a customer bought Four Cheese P...  \n9   On order 54227 a customer bought Caramel Sauce...  \n10  On order 35696 a customer bought Super Soft Fl...  \n11  On order 11489 a customer bought [MASK], Tall ...  \n12  On order 87569 a customer bought Pure Coconut ...  \n13  On order 72973 a customer bought Organic Avoca...  \n14  On order 11903 a customer bought Organic Austr...  \n15  On order 60768 a customer bought Green Beans(i...  \n16  On order 66423 a customer bought Natural Artis...  \n17  On order 30978 a customer bought [MASK], 100% ...  \n18  On order 35004 a customer bought Calcium Enric...  \n19  On order 95164 a customer bought Advance Infan...  \n20  On order 3352 a customer bought Banana(id 2485...  \n21  On order 4542 a customer bought [MASK], Yogurt...  \n22  On order 71062 a customer bought Organic Lacin...  \n23  On order 6488 a customer bought [MASK], Choppe...  \n24  On order 15508 a customer bought [MASK], Organ...  \n25  On order 82383 a customer bought Organic Cream...  \n26  On order 79404 a customer bought Primordial Hi...  \n27  On order 39521 a customer bought Organic Turme...  \n28  On order 96363 a customer bought Diet Cherry S...  \n29  On order 90867 a customer bought [, M, A, S, K...  \n30  On order 61930 a customer bought Mini Cabrie S...  \n31  On order 94814 a customer bought [MASK], Large...  \n32  On order 88869 a customer bought Large Brown E...  \n33  On order 89081 a customer bought Zero Cola(id ...  \n34  On order 12720 a customer bought R, i, c, e,  ...  \n35  On order 31170 a customer bought Bag of Organi...  \n36  On order 43129 a customer bought Extra Strengt...  \n37  On order 28120 a customer bought [MASK], Choco...  \n38  On order 30002 a customer bought Banana(id 248...  \n39  On order 80126 a customer bought On the Go Low...  \n40  On order 60702 a customer bought Organic Uncur...  \n41  On order 12757 a customer bought Clementines, ...  \n42  On order 54838 a customer bought Asparagus(id ...  \n43  On order 92609 a customer bought Ripe Large Pi...  \n44  On order 45966 a customer bought 13 Gallon Tal...  \n45  On order 2353 a customer bought Organic Strawb...  \n46  On order 16178 a customer bought Strawberries(...  \n47  On order 62831 a customer bought Green Beans(i...  \n48  On order 17268 a customer bought Organic Straw...  \n49  On order 18601 a customer bought Cranberry Jui...  ",
      "text/html": "<div>\n<style scoped>\n    .dataframe tbody tr th:only-of-type {\n        vertical-align: middle;\n    }\n\n    .dataframe tbody tr th {\n        vertical-align: top;\n    }\n\n    .dataframe thead th {\n        text-align: right;\n    }\n</style>\n<table border=\"1\" class=\"dataframe\">\n  <thead>\n    <tr style=\"text-align: right;\">\n      <th></th>\n      <th>output</th>\n      <th>target</th>\n      <th>input</th>\n    </tr>\n  </thead>\n  <tbody>\n    <tr>\n      <th>0</th>\n      <td>&lt;pad&gt; On order 12206 a customer bought Organic...</td>\n      <td>On order 12206 a customer bought Organic Romai...</td>\n      <td>On order 12206 a customer bought Organic Romai...</td>\n    </tr>\n    <tr>\n      <th>1</th>\n      <td>&lt;pad&gt; On order 34530 a customer bought Cinnamo...</td>\n      <td>On order 34530 a customer bought Cinnamon Stic...</td>\n      <td>On order 34530 a customer bought Cinnamon Stic...</td>\n    </tr>\n    <tr>\n      <th>2</th>\n      <td>&lt;pad&gt; On order 51732 a customer bought Organic...</td>\n      <td>On order 51732 a customer bought Organic Calim...</td>\n      <td>On order 51732 a customer bought Organic Calim...</td>\n    </tr>\n    <tr>\n      <th>3</th>\n      <td>&lt;pad&gt; On order 92888 a customer bought Organic...</td>\n      <td>On order 92888 a customer bought Organic Navel...</td>\n      <td>On order 92888 a customer bought Organic Navel...</td>\n    </tr>\n    <tr>\n      <th>4</th>\n      <td>&lt;pad&gt; On order 47540 a customer bought Organic...</td>\n      <td>On order 47540 a customer bought Ten Soda(id 2...</td>\n      <td>On order 47540 a customer bought [MASK], Root ...</td>\n    </tr>\n    <tr>\n      <th>5</th>\n      <td>&lt;pad&gt; On order 26751 a customer bought Organic...</td>\n      <td>On order 26751 a customer bought Large Deep Di...</td>\n      <td>On order 26751 a customer bought [MASK], Large...</td>\n    </tr>\n    <tr>\n      <th>6</th>\n      <td>&lt;pad&gt; On order 14723 a customer bought Baby Cu...</td>\n      <td>On order 14723 a customer bought Baby Cucumber...</td>\n      <td>On order 14723 a customer bought Baby Cucumber...</td>\n    </tr>\n    <tr>\n      <th>7</th>\n      <td>&lt;pad&gt; On order 88432 a customer bought C, i, n...</td>\n      <td>On order 88432 a customer bought C, i, n, n, a...</td>\n      <td>On order 88432 a customer bought C, i, n, n, a...</td>\n    </tr>\n    <tr>\n      <th>8</th>\n      <td>&lt;pad&gt; On order 75759 a customer bought Four Ch...</td>\n      <td>On order 75759 a customer bought Four Cheese P...</td>\n      <td>On order 75759 a customer bought Four Cheese P...</td>\n    </tr>\n    <tr>\n      <th>9</th>\n      <td>&lt;pad&gt; On order 54227 a customer bought Caramel...</td>\n      <td>On order 54227 a customer bought Caramel Sauce...</td>\n      <td>On order 54227 a customer bought Caramel Sauce...</td>\n    </tr>\n    <tr>\n      <th>10</th>\n      <td>&lt;pad&gt; On order 35696 a customer bought Super S...</td>\n      <td>On order 35696 a customer bought Super Soft Fl...</td>\n      <td>On order 35696 a customer bought Super Soft Fl...</td>\n    </tr>\n    <tr>\n      <th>11</th>\n      <td>&lt;pad&gt; On order 11489 a customer bought Organic...</td>\n      <td>On order 11489 a customer bought Spring Water(...</td>\n      <td>On order 11489 a customer bought [MASK], Tall ...</td>\n    </tr>\n    <tr>\n      <th>12</th>\n      <td>&lt;pad&gt; On order 87569 a customer bought Pure Co...</td>\n      <td>On order 87569 a customer bought Pure Coconut ...</td>\n      <td>On order 87569 a customer bought Pure Coconut ...</td>\n    </tr>\n    <tr>\n      <th>13</th>\n      <td>&lt;pad&gt; On order 72973 a customer bought Organic...</td>\n      <td>On order 72973 a customer bought Organic Avoca...</td>\n      <td>On order 72973 a customer bought Organic Avoca...</td>\n    </tr>\n    <tr>\n      <th>14</th>\n      <td>&lt;pad&gt; On order 11903 a customer bought Organic...</td>\n      <td>On order 11903 a customer bought Organic Austr...</td>\n      <td>On order 11903 a customer bought Organic Austr...</td>\n    </tr>\n    <tr>\n      <th>15</th>\n      <td>&lt;pad&gt; On order 60768 a customer bought Green B...</td>\n      <td>On order 60768 a customer bought Green Beans(i...</td>\n      <td>On order 60768 a customer bought Green Beans(i...</td>\n    </tr>\n    <tr>\n      <th>16</th>\n      <td>&lt;pad&gt; On order 66423 a customer bought Natural...</td>\n      <td>On order 66423 a customer bought Natural Artis...</td>\n      <td>On order 66423 a customer bought Natural Artis...</td>\n    </tr>\n    <tr>\n      <th>17</th>\n      <td>&lt;pad&gt; On order 30978 a customer bought Organic...</td>\n      <td>On order 30978 a customer bought Reduced-fat S...</td>\n      <td>On order 30978 a customer bought [MASK], 100% ...</td>\n    </tr>\n    <tr>\n      <th>18</th>\n      <td>&lt;pad&gt; On order 35004 a customer bought Calcium...</td>\n      <td>On order 35004 a customer bought Calcium Enric...</td>\n      <td>On order 35004 a customer bought Calcium Enric...</td>\n    </tr>\n    <tr>\n      <th>19</th>\n      <td>&lt;pad&gt; On order 95164 a customer bought Advance...</td>\n      <td>On order 95164 a customer bought Advance Infan...</td>\n      <td>On order 95164 a customer bought Advance Infan...</td>\n    </tr>\n    <tr>\n      <th>20</th>\n      <td>&lt;pad&gt; On order 3352 a customer bought Banana(i...</td>\n      <td>On order 3352 a customer bought Banana(id 2485...</td>\n      <td>On order 3352 a customer bought Banana(id 2485...</td>\n    </tr>\n    <tr>\n      <th>21</th>\n      <td>&lt;pad&gt; On order 4542 a customer bought Organic ...</td>\n      <td>On order 4542 a customer bought Organic Unswee...</td>\n      <td>On order 4542 a customer bought [MASK], Yogurt...</td>\n    </tr>\n    <tr>\n      <th>22</th>\n      <td>&lt;pad&gt; On order 71062 a customer bought Organic...</td>\n      <td>On order 71062 a customer bought Organic Lacin...</td>\n      <td>On order 71062 a customer bought Organic Lacin...</td>\n    </tr>\n    <tr>\n      <th>23</th>\n      <td>&lt;pad&gt; On order 6488 a customer bought Organic ...</td>\n      <td>On order 6488 a customer bought Healthfull Nut...</td>\n      <td>On order 6488 a customer bought [MASK], Choppe...</td>\n    </tr>\n    <tr>\n      <th>24</th>\n      <td>&lt;pad&gt;On order 15508 a customer bought Organic ...</td>\n      <td>On order 15508 a customer bought Classic Whipp...</td>\n      <td>On order 15508 a customer bought [MASK], Organ...</td>\n    </tr>\n    <tr>\n      <th>25</th>\n      <td>&lt;pad&gt; On order 82383 a customer bought Organic...</td>\n      <td>On order 82383 a customer bought Organic Cream...</td>\n      <td>On order 82383 a customer bought Organic Cream...</td>\n    </tr>\n    <tr>\n      <th>26</th>\n      <td>&lt;pad&gt; On order 79404 a customer bought Primord...</td>\n      <td>On order 79404 a customer bought Primordial Hi...</td>\n      <td>On order 79404 a customer bought Primordial Hi...</td>\n    </tr>\n    <tr>\n      <th>27</th>\n      <td>&lt;pad&gt; On order 39521 a customer bought Organic...</td>\n      <td>On order 39521 a customer bought Organic Turme...</td>\n      <td>On order 39521 a customer bought Organic Turme...</td>\n    </tr>\n    <tr>\n      <th>28</th>\n      <td>&lt;pad&gt; On order 96363 a customer bought Diet Ch...</td>\n      <td>On order 96363 a customer bought Diet Cherry S...</td>\n      <td>On order 96363 a customer bought Diet Cherry S...</td>\n    </tr>\n    <tr>\n      <th>29</th>\n      <td>&lt;pad&gt; On order 90867 a customer bought O, r, g...</td>\n      <td>On order 90867 a customer bought C, h, o, c, o...</td>\n      <td>On order 90867 a customer bought [, M, A, S, K...</td>\n    </tr>\n    <tr>\n      <th>30</th>\n      <td>&lt;pad&gt; On order 61930 a customer bought Mini Ca...</td>\n      <td>On order 61930 a customer bought Mini Cabrie S...</td>\n      <td>On order 61930 a customer bought Mini Cabrie S...</td>\n    </tr>\n    <tr>\n      <th>31</th>\n      <td>&lt;pad&gt; On order 94814 a customer bought Organic...</td>\n      <td>On order 94814 a customer bought Organic Avoca...</td>\n      <td>On order 94814 a customer bought [MASK], Large...</td>\n    </tr>\n    <tr>\n      <th>32</th>\n      <td>&lt;pad&gt; On order 88869 a customer bought Large B...</td>\n      <td>On order 88869 a customer bought Large Brown E...</td>\n      <td>On order 88869 a customer bought Large Brown E...</td>\n    </tr>\n    <tr>\n      <th>33</th>\n      <td>&lt;pad&gt; On order 89081 a customer bought Zero Co...</td>\n      <td>On order 89081 a customer bought Zero Cola(id ...</td>\n      <td>On order 89081 a customer bought Zero Cola(id ...</td>\n    </tr>\n    <tr>\n      <th>34</th>\n      <td>&lt;pad&gt; On order 12720 a customer bought R, i, c...</td>\n      <td>On order 12720 a customer bought R, i, c, e,  ...</td>\n      <td>On order 12720 a customer bought R, i, c, e,  ...</td>\n    </tr>\n    <tr>\n      <th>35</th>\n      <td>&lt;pad&gt;On order 31170 a customer bought Bag of O...</td>\n      <td>On order 31170 a customer bought Bag of Organi...</td>\n      <td>On order 31170 a customer bought Bag of Organi...</td>\n    </tr>\n    <tr>\n      <th>36</th>\n      <td>&lt;pad&gt; On order 43129 a customer bought Extra S...</td>\n      <td>On order 43129 a customer bought Extra Strengt...</td>\n      <td>On order 43129 a customer bought Extra Strengt...</td>\n    </tr>\n    <tr>\n      <th>37</th>\n      <td>&lt;pad&gt; On order 28120 a customer bought Organic...</td>\n      <td>On order 28120 a customer bought Banana(id 248...</td>\n      <td>On order 28120 a customer bought [MASK], Choco...</td>\n    </tr>\n    <tr>\n      <th>38</th>\n      <td>&lt;pad&gt; On order 30002 a customer bought Banana(...</td>\n      <td>On order 30002 a customer bought Banana(id 248...</td>\n      <td>On order 30002 a customer bought Banana(id 248...</td>\n    </tr>\n    <tr>\n      <th>39</th>\n      <td>&lt;pad&gt; On order 80126 a customer bought On the ...</td>\n      <td>On order 80126 a customer bought On the Go Low...</td>\n      <td>On order 80126 a customer bought On the Go Low...</td>\n    </tr>\n    <tr>\n      <th>40</th>\n      <td>&lt;pad&gt; On order 60702 a customer bought Organic...</td>\n      <td>On order 60702 a customer bought Organic Uncur...</td>\n      <td>On order 60702 a customer bought Organic Uncur...</td>\n    </tr>\n    <tr>\n      <th>41</th>\n      <td>&lt;pad&gt; On order 12757 a customer bought Clement...</td>\n      <td>On order 12757 a customer bought Clementines, ...</td>\n      <td>On order 12757 a customer bought Clementines, ...</td>\n    </tr>\n    <tr>\n      <th>42</th>\n      <td>&lt;pad&gt; On order 54838 a customer bought Asparag...</td>\n      <td>On order 54838 a customer bought Asparagus(id ...</td>\n      <td>On order 54838 a customer bought Asparagus(id ...</td>\n    </tr>\n    <tr>\n      <th>43</th>\n      <td>&lt;pad&gt; On order 92609 a customer bought Ripe La...</td>\n      <td>On order 92609 a customer bought Ripe Large Pi...</td>\n      <td>On order 92609 a customer bought Ripe Large Pi...</td>\n    </tr>\n    <tr>\n      <th>44</th>\n      <td>&lt;pad&gt; On order 45966 a customer bought 13 Gall...</td>\n      <td>On order 45966 a customer bought 13 Gallon Tal...</td>\n      <td>On order 45966 a customer bought 13 Gallon Tal...</td>\n    </tr>\n    <tr>\n      <th>45</th>\n      <td>&lt;pad&gt; On order 2353 a customer bought Organic ...</td>\n      <td>On order 2353 a customer bought Organic Strawb...</td>\n      <td>On order 2353 a customer bought Organic Strawb...</td>\n    </tr>\n    <tr>\n      <th>46</th>\n      <td>&lt;pad&gt; On order 16178 a customer bought Strawbe...</td>\n      <td>On order 16178 a customer bought Strawberries(...</td>\n      <td>On order 16178 a customer bought Strawberries(...</td>\n    </tr>\n    <tr>\n      <th>47</th>\n      <td>&lt;pad&gt; On order 62831 a customer bought Green B...</td>\n      <td>On order 62831 a customer bought Green Beans(i...</td>\n      <td>On order 62831 a customer bought Green Beans(i...</td>\n    </tr>\n    <tr>\n      <th>48</th>\n      <td>&lt;pad&gt; On order 17268 a customer bought Organic...</td>\n      <td>On order 17268 a customer bought Organic Straw...</td>\n      <td>On order 17268 a customer bought Organic Straw...</td>\n    </tr>\n    <tr>\n      <th>49</th>\n      <td>&lt;pad&gt; On order 18601 a customer bought Cranber...</td>\n      <td>On order 18601 a customer bought Cranberry Jui...</td>\n      <td>On order 18601 a customer bought Cranberry Jui...</td>\n    </tr>\n  </tbody>\n</table>\n</div>"
     },
     "execution_count": 131,
     "metadata": {},
     "output_type": "execute_result"
    }
   ],
   "source": [
    "all_output_df"
   ],
   "metadata": {
    "collapsed": false
   }
  },
  {
   "cell_type": "code",
   "execution_count": 126,
   "outputs": [
    {
     "ename": "RuntimeError",
     "evalue": "Placeholder storage has not been allocated on MPS device!",
     "output_type": "error",
     "traceback": [
      "\u001B[0;31m---------------------------------------------------------------------------\u001B[0m",
      "\u001B[0;31mRuntimeError\u001B[0m                              Traceback (most recent call last)",
      "Cell \u001B[0;32mIn[126], line 3\u001B[0m\n\u001B[1;32m      1\u001B[0m input_text \u001B[38;5;241m=\u001B[39m input_text[\u001B[38;5;241m5\u001B[39m]\n\u001B[1;32m      2\u001B[0m target_text \u001B[38;5;241m=\u001B[39m target_text[\u001B[38;5;241m5\u001B[39m]\n\u001B[0;32m----> 3\u001B[0m \u001B[43mget_substitute_score\u001B[49m\u001B[43m(\u001B[49m\u001B[43minput_text\u001B[49m\u001B[43m,\u001B[49m\u001B[43m \u001B[49m\u001B[43mtarget_text\u001B[49m\u001B[43m,\u001B[49m\u001B[43m \u001B[49m\u001B[43mall_output\u001B[49m\u001B[43m[\u001B[49m\u001B[38;5;241;43m5\u001B[39;49m\u001B[43m]\u001B[49m\u001B[43m)\u001B[49m\n",
      "Cell \u001B[0;32mIn[121], line 6\u001B[0m, in \u001B[0;36mget_substitute_score\u001B[0;34m(input_text, target, candidate)\u001B[0m\n\u001B[1;32m      4\u001B[0m candidate_input_id \u001B[38;5;241m=\u001B[39m tokenizer(candidate, return_tensors\u001B[38;5;241m=\u001B[39m\u001B[38;5;124m\"\u001B[39m\u001B[38;5;124mpt\u001B[39m\u001B[38;5;124m\"\u001B[39m)\u001B[38;5;241m.\u001B[39minput_ids\n\u001B[1;32m      5\u001B[0m \u001B[38;5;66;03m# true_loss = model(input_ids = input_ids, labels = target_input_id)\u001B[39;00m\n\u001B[0;32m----> 6\u001B[0m true_loss \u001B[38;5;241m=\u001B[39m \u001B[43mmodel\u001B[49m\u001B[43m(\u001B[49m\u001B[43minput_ids\u001B[49m\u001B[43m \u001B[49m\u001B[38;5;241;43m=\u001B[39;49m\u001B[43m \u001B[49m\u001B[43minput_ids\u001B[49m\u001B[43m,\u001B[49m\u001B[43m \u001B[49m\u001B[43mlabels\u001B[49m\u001B[43m \u001B[49m\u001B[38;5;241;43m=\u001B[39;49m\u001B[43m \u001B[49m\u001B[43mtarget_input_id\u001B[49m\u001B[43m)\u001B[49m\u001B[38;5;241m.\u001B[39mloss\u001B[38;5;241m.\u001B[39mitem()\n\u001B[1;32m      7\u001B[0m candidate_loss \u001B[38;5;241m=\u001B[39m model(input_ids \u001B[38;5;241m=\u001B[39m input_ids, labels \u001B[38;5;241m=\u001B[39m candidate_input_id)\u001B[38;5;241m.\u001B[39mloss\u001B[38;5;241m.\u001B[39mitem()\n\u001B[1;32m      8\u001B[0m \u001B[38;5;28mprint\u001B[39m(true_loss, candidate_loss)\n",
      "File \u001B[0;32m~/opt/anaconda3/envs/ml_practice/lib/python3.10/site-packages/torch/nn/modules/module.py:1519\u001B[0m, in \u001B[0;36mModule._wrapped_call_impl\u001B[0;34m(self, *args, **kwargs)\u001B[0m\n\u001B[1;32m   1517\u001B[0m     \u001B[38;5;28;01mreturn\u001B[39;00m \u001B[38;5;28mself\u001B[39m\u001B[38;5;241m.\u001B[39m_compiled_call_impl(\u001B[38;5;241m*\u001B[39margs, \u001B[38;5;241m*\u001B[39m\u001B[38;5;241m*\u001B[39mkwargs)  \u001B[38;5;66;03m# type: ignore[misc]\u001B[39;00m\n\u001B[1;32m   1518\u001B[0m \u001B[38;5;28;01melse\u001B[39;00m:\n\u001B[0;32m-> 1519\u001B[0m     \u001B[38;5;28;01mreturn\u001B[39;00m \u001B[38;5;28;43mself\u001B[39;49m\u001B[38;5;241;43m.\u001B[39;49m\u001B[43m_call_impl\u001B[49m\u001B[43m(\u001B[49m\u001B[38;5;241;43m*\u001B[39;49m\u001B[43margs\u001B[49m\u001B[43m,\u001B[49m\u001B[43m \u001B[49m\u001B[38;5;241;43m*\u001B[39;49m\u001B[38;5;241;43m*\u001B[39;49m\u001B[43mkwargs\u001B[49m\u001B[43m)\u001B[49m\n",
      "File \u001B[0;32m~/opt/anaconda3/envs/ml_practice/lib/python3.10/site-packages/torch/nn/modules/module.py:1528\u001B[0m, in \u001B[0;36mModule._call_impl\u001B[0;34m(self, *args, **kwargs)\u001B[0m\n\u001B[1;32m   1523\u001B[0m \u001B[38;5;66;03m# If we don't have any hooks, we want to skip the rest of the logic in\u001B[39;00m\n\u001B[1;32m   1524\u001B[0m \u001B[38;5;66;03m# this function, and just call forward.\u001B[39;00m\n\u001B[1;32m   1525\u001B[0m \u001B[38;5;28;01mif\u001B[39;00m \u001B[38;5;129;01mnot\u001B[39;00m (\u001B[38;5;28mself\u001B[39m\u001B[38;5;241m.\u001B[39m_backward_hooks \u001B[38;5;129;01mor\u001B[39;00m \u001B[38;5;28mself\u001B[39m\u001B[38;5;241m.\u001B[39m_backward_pre_hooks \u001B[38;5;129;01mor\u001B[39;00m \u001B[38;5;28mself\u001B[39m\u001B[38;5;241m.\u001B[39m_forward_hooks \u001B[38;5;129;01mor\u001B[39;00m \u001B[38;5;28mself\u001B[39m\u001B[38;5;241m.\u001B[39m_forward_pre_hooks\n\u001B[1;32m   1526\u001B[0m         \u001B[38;5;129;01mor\u001B[39;00m _global_backward_pre_hooks \u001B[38;5;129;01mor\u001B[39;00m _global_backward_hooks\n\u001B[1;32m   1527\u001B[0m         \u001B[38;5;129;01mor\u001B[39;00m _global_forward_hooks \u001B[38;5;129;01mor\u001B[39;00m _global_forward_pre_hooks):\n\u001B[0;32m-> 1528\u001B[0m     \u001B[38;5;28;01mreturn\u001B[39;00m \u001B[43mforward_call\u001B[49m\u001B[43m(\u001B[49m\u001B[38;5;241;43m*\u001B[39;49m\u001B[43margs\u001B[49m\u001B[43m,\u001B[49m\u001B[43m \u001B[49m\u001B[38;5;241;43m*\u001B[39;49m\u001B[38;5;241;43m*\u001B[39;49m\u001B[43mkwargs\u001B[49m\u001B[43m)\u001B[49m\n\u001B[1;32m   1530\u001B[0m \u001B[38;5;28;01mtry\u001B[39;00m:\n\u001B[1;32m   1531\u001B[0m     result \u001B[38;5;241m=\u001B[39m \u001B[38;5;28;01mNone\u001B[39;00m\n",
      "File \u001B[0;32m~/opt/anaconda3/envs/ml_practice/lib/python3.10/site-packages/transformers/models/t5/modeling_t5.py:1709\u001B[0m, in \u001B[0;36mT5ForConditionalGeneration.forward\u001B[0;34m(self, input_ids, attention_mask, decoder_input_ids, decoder_attention_mask, head_mask, decoder_head_mask, cross_attn_head_mask, encoder_outputs, past_key_values, inputs_embeds, decoder_inputs_embeds, labels, use_cache, output_attentions, output_hidden_states, return_dict)\u001B[0m\n\u001B[1;32m   1706\u001B[0m \u001B[38;5;66;03m# Encode if needed (training, first prediction pass)\u001B[39;00m\n\u001B[1;32m   1707\u001B[0m \u001B[38;5;28;01mif\u001B[39;00m encoder_outputs \u001B[38;5;129;01mis\u001B[39;00m \u001B[38;5;28;01mNone\u001B[39;00m:\n\u001B[1;32m   1708\u001B[0m     \u001B[38;5;66;03m# Convert encoder inputs in embeddings if needed\u001B[39;00m\n\u001B[0;32m-> 1709\u001B[0m     encoder_outputs \u001B[38;5;241m=\u001B[39m \u001B[38;5;28;43mself\u001B[39;49m\u001B[38;5;241;43m.\u001B[39;49m\u001B[43mencoder\u001B[49m\u001B[43m(\u001B[49m\n\u001B[1;32m   1710\u001B[0m \u001B[43m        \u001B[49m\u001B[43minput_ids\u001B[49m\u001B[38;5;241;43m=\u001B[39;49m\u001B[43minput_ids\u001B[49m\u001B[43m,\u001B[49m\n\u001B[1;32m   1711\u001B[0m \u001B[43m        \u001B[49m\u001B[43mattention_mask\u001B[49m\u001B[38;5;241;43m=\u001B[39;49m\u001B[43mattention_mask\u001B[49m\u001B[43m,\u001B[49m\n\u001B[1;32m   1712\u001B[0m \u001B[43m        \u001B[49m\u001B[43minputs_embeds\u001B[49m\u001B[38;5;241;43m=\u001B[39;49m\u001B[43minputs_embeds\u001B[49m\u001B[43m,\u001B[49m\n\u001B[1;32m   1713\u001B[0m \u001B[43m        \u001B[49m\u001B[43mhead_mask\u001B[49m\u001B[38;5;241;43m=\u001B[39;49m\u001B[43mhead_mask\u001B[49m\u001B[43m,\u001B[49m\n\u001B[1;32m   1714\u001B[0m \u001B[43m        \u001B[49m\u001B[43moutput_attentions\u001B[49m\u001B[38;5;241;43m=\u001B[39;49m\u001B[43moutput_attentions\u001B[49m\u001B[43m,\u001B[49m\n\u001B[1;32m   1715\u001B[0m \u001B[43m        \u001B[49m\u001B[43moutput_hidden_states\u001B[49m\u001B[38;5;241;43m=\u001B[39;49m\u001B[43moutput_hidden_states\u001B[49m\u001B[43m,\u001B[49m\n\u001B[1;32m   1716\u001B[0m \u001B[43m        \u001B[49m\u001B[43mreturn_dict\u001B[49m\u001B[38;5;241;43m=\u001B[39;49m\u001B[43mreturn_dict\u001B[49m\u001B[43m,\u001B[49m\n\u001B[1;32m   1717\u001B[0m \u001B[43m    \u001B[49m\u001B[43m)\u001B[49m\n\u001B[1;32m   1718\u001B[0m \u001B[38;5;28;01melif\u001B[39;00m return_dict \u001B[38;5;129;01mand\u001B[39;00m \u001B[38;5;129;01mnot\u001B[39;00m \u001B[38;5;28misinstance\u001B[39m(encoder_outputs, BaseModelOutput):\n\u001B[1;32m   1719\u001B[0m     encoder_outputs \u001B[38;5;241m=\u001B[39m BaseModelOutput(\n\u001B[1;32m   1720\u001B[0m         last_hidden_state\u001B[38;5;241m=\u001B[39mencoder_outputs[\u001B[38;5;241m0\u001B[39m],\n\u001B[1;32m   1721\u001B[0m         hidden_states\u001B[38;5;241m=\u001B[39mencoder_outputs[\u001B[38;5;241m1\u001B[39m] \u001B[38;5;28;01mif\u001B[39;00m \u001B[38;5;28mlen\u001B[39m(encoder_outputs) \u001B[38;5;241m>\u001B[39m \u001B[38;5;241m1\u001B[39m \u001B[38;5;28;01melse\u001B[39;00m \u001B[38;5;28;01mNone\u001B[39;00m,\n\u001B[1;32m   1722\u001B[0m         attentions\u001B[38;5;241m=\u001B[39mencoder_outputs[\u001B[38;5;241m2\u001B[39m] \u001B[38;5;28;01mif\u001B[39;00m \u001B[38;5;28mlen\u001B[39m(encoder_outputs) \u001B[38;5;241m>\u001B[39m \u001B[38;5;241m2\u001B[39m \u001B[38;5;28;01melse\u001B[39;00m \u001B[38;5;28;01mNone\u001B[39;00m,\n\u001B[1;32m   1723\u001B[0m     )\n",
      "File \u001B[0;32m~/opt/anaconda3/envs/ml_practice/lib/python3.10/site-packages/torch/nn/modules/module.py:1519\u001B[0m, in \u001B[0;36mModule._wrapped_call_impl\u001B[0;34m(self, *args, **kwargs)\u001B[0m\n\u001B[1;32m   1517\u001B[0m     \u001B[38;5;28;01mreturn\u001B[39;00m \u001B[38;5;28mself\u001B[39m\u001B[38;5;241m.\u001B[39m_compiled_call_impl(\u001B[38;5;241m*\u001B[39margs, \u001B[38;5;241m*\u001B[39m\u001B[38;5;241m*\u001B[39mkwargs)  \u001B[38;5;66;03m# type: ignore[misc]\u001B[39;00m\n\u001B[1;32m   1518\u001B[0m \u001B[38;5;28;01melse\u001B[39;00m:\n\u001B[0;32m-> 1519\u001B[0m     \u001B[38;5;28;01mreturn\u001B[39;00m \u001B[38;5;28;43mself\u001B[39;49m\u001B[38;5;241;43m.\u001B[39;49m\u001B[43m_call_impl\u001B[49m\u001B[43m(\u001B[49m\u001B[38;5;241;43m*\u001B[39;49m\u001B[43margs\u001B[49m\u001B[43m,\u001B[49m\u001B[43m \u001B[49m\u001B[38;5;241;43m*\u001B[39;49m\u001B[38;5;241;43m*\u001B[39;49m\u001B[43mkwargs\u001B[49m\u001B[43m)\u001B[49m\n",
      "File \u001B[0;32m~/opt/anaconda3/envs/ml_practice/lib/python3.10/site-packages/torch/nn/modules/module.py:1528\u001B[0m, in \u001B[0;36mModule._call_impl\u001B[0;34m(self, *args, **kwargs)\u001B[0m\n\u001B[1;32m   1523\u001B[0m \u001B[38;5;66;03m# If we don't have any hooks, we want to skip the rest of the logic in\u001B[39;00m\n\u001B[1;32m   1524\u001B[0m \u001B[38;5;66;03m# this function, and just call forward.\u001B[39;00m\n\u001B[1;32m   1525\u001B[0m \u001B[38;5;28;01mif\u001B[39;00m \u001B[38;5;129;01mnot\u001B[39;00m (\u001B[38;5;28mself\u001B[39m\u001B[38;5;241m.\u001B[39m_backward_hooks \u001B[38;5;129;01mor\u001B[39;00m \u001B[38;5;28mself\u001B[39m\u001B[38;5;241m.\u001B[39m_backward_pre_hooks \u001B[38;5;129;01mor\u001B[39;00m \u001B[38;5;28mself\u001B[39m\u001B[38;5;241m.\u001B[39m_forward_hooks \u001B[38;5;129;01mor\u001B[39;00m \u001B[38;5;28mself\u001B[39m\u001B[38;5;241m.\u001B[39m_forward_pre_hooks\n\u001B[1;32m   1526\u001B[0m         \u001B[38;5;129;01mor\u001B[39;00m _global_backward_pre_hooks \u001B[38;5;129;01mor\u001B[39;00m _global_backward_hooks\n\u001B[1;32m   1527\u001B[0m         \u001B[38;5;129;01mor\u001B[39;00m _global_forward_hooks \u001B[38;5;129;01mor\u001B[39;00m _global_forward_pre_hooks):\n\u001B[0;32m-> 1528\u001B[0m     \u001B[38;5;28;01mreturn\u001B[39;00m \u001B[43mforward_call\u001B[49m\u001B[43m(\u001B[49m\u001B[38;5;241;43m*\u001B[39;49m\u001B[43margs\u001B[49m\u001B[43m,\u001B[49m\u001B[43m \u001B[49m\u001B[38;5;241;43m*\u001B[39;49m\u001B[38;5;241;43m*\u001B[39;49m\u001B[43mkwargs\u001B[49m\u001B[43m)\u001B[49m\n\u001B[1;32m   1530\u001B[0m \u001B[38;5;28;01mtry\u001B[39;00m:\n\u001B[1;32m   1531\u001B[0m     result \u001B[38;5;241m=\u001B[39m \u001B[38;5;28;01mNone\u001B[39;00m\n",
      "File \u001B[0;32m~/opt/anaconda3/envs/ml_practice/lib/python3.10/site-packages/transformers/models/t5/modeling_t5.py:1021\u001B[0m, in \u001B[0;36mT5Stack.forward\u001B[0;34m(self, input_ids, attention_mask, encoder_hidden_states, encoder_attention_mask, inputs_embeds, head_mask, cross_attn_head_mask, past_key_values, use_cache, output_attentions, output_hidden_states, return_dict)\u001B[0m\n\u001B[1;32m   1019\u001B[0m     \u001B[38;5;28;01mif\u001B[39;00m \u001B[38;5;28mself\u001B[39m\u001B[38;5;241m.\u001B[39membed_tokens \u001B[38;5;129;01mis\u001B[39;00m \u001B[38;5;28;01mNone\u001B[39;00m:\n\u001B[1;32m   1020\u001B[0m         \u001B[38;5;28;01mraise\u001B[39;00m \u001B[38;5;167;01mValueError\u001B[39;00m(\u001B[38;5;124m\"\u001B[39m\u001B[38;5;124mYou have to initialize the model with valid token embeddings\u001B[39m\u001B[38;5;124m\"\u001B[39m)\n\u001B[0;32m-> 1021\u001B[0m     inputs_embeds \u001B[38;5;241m=\u001B[39m \u001B[38;5;28;43mself\u001B[39;49m\u001B[38;5;241;43m.\u001B[39;49m\u001B[43membed_tokens\u001B[49m\u001B[43m(\u001B[49m\u001B[43minput_ids\u001B[49m\u001B[43m)\u001B[49m\n\u001B[1;32m   1023\u001B[0m batch_size, seq_length \u001B[38;5;241m=\u001B[39m input_shape\n\u001B[1;32m   1025\u001B[0m \u001B[38;5;66;03m# required mask seq length can be calculated via length of past\u001B[39;00m\n",
      "File \u001B[0;32m~/opt/anaconda3/envs/ml_practice/lib/python3.10/site-packages/torch/nn/modules/module.py:1519\u001B[0m, in \u001B[0;36mModule._wrapped_call_impl\u001B[0;34m(self, *args, **kwargs)\u001B[0m\n\u001B[1;32m   1517\u001B[0m     \u001B[38;5;28;01mreturn\u001B[39;00m \u001B[38;5;28mself\u001B[39m\u001B[38;5;241m.\u001B[39m_compiled_call_impl(\u001B[38;5;241m*\u001B[39margs, \u001B[38;5;241m*\u001B[39m\u001B[38;5;241m*\u001B[39mkwargs)  \u001B[38;5;66;03m# type: ignore[misc]\u001B[39;00m\n\u001B[1;32m   1518\u001B[0m \u001B[38;5;28;01melse\u001B[39;00m:\n\u001B[0;32m-> 1519\u001B[0m     \u001B[38;5;28;01mreturn\u001B[39;00m \u001B[38;5;28;43mself\u001B[39;49m\u001B[38;5;241;43m.\u001B[39;49m\u001B[43m_call_impl\u001B[49m\u001B[43m(\u001B[49m\u001B[38;5;241;43m*\u001B[39;49m\u001B[43margs\u001B[49m\u001B[43m,\u001B[49m\u001B[43m \u001B[49m\u001B[38;5;241;43m*\u001B[39;49m\u001B[38;5;241;43m*\u001B[39;49m\u001B[43mkwargs\u001B[49m\u001B[43m)\u001B[49m\n",
      "File \u001B[0;32m~/opt/anaconda3/envs/ml_practice/lib/python3.10/site-packages/torch/nn/modules/module.py:1528\u001B[0m, in \u001B[0;36mModule._call_impl\u001B[0;34m(self, *args, **kwargs)\u001B[0m\n\u001B[1;32m   1523\u001B[0m \u001B[38;5;66;03m# If we don't have any hooks, we want to skip the rest of the logic in\u001B[39;00m\n\u001B[1;32m   1524\u001B[0m \u001B[38;5;66;03m# this function, and just call forward.\u001B[39;00m\n\u001B[1;32m   1525\u001B[0m \u001B[38;5;28;01mif\u001B[39;00m \u001B[38;5;129;01mnot\u001B[39;00m (\u001B[38;5;28mself\u001B[39m\u001B[38;5;241m.\u001B[39m_backward_hooks \u001B[38;5;129;01mor\u001B[39;00m \u001B[38;5;28mself\u001B[39m\u001B[38;5;241m.\u001B[39m_backward_pre_hooks \u001B[38;5;129;01mor\u001B[39;00m \u001B[38;5;28mself\u001B[39m\u001B[38;5;241m.\u001B[39m_forward_hooks \u001B[38;5;129;01mor\u001B[39;00m \u001B[38;5;28mself\u001B[39m\u001B[38;5;241m.\u001B[39m_forward_pre_hooks\n\u001B[1;32m   1526\u001B[0m         \u001B[38;5;129;01mor\u001B[39;00m _global_backward_pre_hooks \u001B[38;5;129;01mor\u001B[39;00m _global_backward_hooks\n\u001B[1;32m   1527\u001B[0m         \u001B[38;5;129;01mor\u001B[39;00m _global_forward_hooks \u001B[38;5;129;01mor\u001B[39;00m _global_forward_pre_hooks):\n\u001B[0;32m-> 1528\u001B[0m     \u001B[38;5;28;01mreturn\u001B[39;00m \u001B[43mforward_call\u001B[49m\u001B[43m(\u001B[49m\u001B[38;5;241;43m*\u001B[39;49m\u001B[43margs\u001B[49m\u001B[43m,\u001B[49m\u001B[43m \u001B[49m\u001B[38;5;241;43m*\u001B[39;49m\u001B[38;5;241;43m*\u001B[39;49m\u001B[43mkwargs\u001B[49m\u001B[43m)\u001B[49m\n\u001B[1;32m   1530\u001B[0m \u001B[38;5;28;01mtry\u001B[39;00m:\n\u001B[1;32m   1531\u001B[0m     result \u001B[38;5;241m=\u001B[39m \u001B[38;5;28;01mNone\u001B[39;00m\n",
      "File \u001B[0;32m~/opt/anaconda3/envs/ml_practice/lib/python3.10/site-packages/torch/nn/modules/sparse.py:162\u001B[0m, in \u001B[0;36mEmbedding.forward\u001B[0;34m(self, input)\u001B[0m\n\u001B[1;32m    161\u001B[0m \u001B[38;5;28;01mdef\u001B[39;00m \u001B[38;5;21mforward\u001B[39m(\u001B[38;5;28mself\u001B[39m, \u001B[38;5;28minput\u001B[39m: Tensor) \u001B[38;5;241m-\u001B[39m\u001B[38;5;241m>\u001B[39m Tensor:\n\u001B[0;32m--> 162\u001B[0m     \u001B[38;5;28;01mreturn\u001B[39;00m \u001B[43mF\u001B[49m\u001B[38;5;241;43m.\u001B[39;49m\u001B[43membedding\u001B[49m\u001B[43m(\u001B[49m\n\u001B[1;32m    163\u001B[0m \u001B[43m        \u001B[49m\u001B[38;5;28;43minput\u001B[39;49m\u001B[43m,\u001B[49m\u001B[43m \u001B[49m\u001B[38;5;28;43mself\u001B[39;49m\u001B[38;5;241;43m.\u001B[39;49m\u001B[43mweight\u001B[49m\u001B[43m,\u001B[49m\u001B[43m \u001B[49m\u001B[38;5;28;43mself\u001B[39;49m\u001B[38;5;241;43m.\u001B[39;49m\u001B[43mpadding_idx\u001B[49m\u001B[43m,\u001B[49m\u001B[43m \u001B[49m\u001B[38;5;28;43mself\u001B[39;49m\u001B[38;5;241;43m.\u001B[39;49m\u001B[43mmax_norm\u001B[49m\u001B[43m,\u001B[49m\n\u001B[1;32m    164\u001B[0m \u001B[43m        \u001B[49m\u001B[38;5;28;43mself\u001B[39;49m\u001B[38;5;241;43m.\u001B[39;49m\u001B[43mnorm_type\u001B[49m\u001B[43m,\u001B[49m\u001B[43m \u001B[49m\u001B[38;5;28;43mself\u001B[39;49m\u001B[38;5;241;43m.\u001B[39;49m\u001B[43mscale_grad_by_freq\u001B[49m\u001B[43m,\u001B[49m\u001B[43m \u001B[49m\u001B[38;5;28;43mself\u001B[39;49m\u001B[38;5;241;43m.\u001B[39;49m\u001B[43msparse\u001B[49m\u001B[43m)\u001B[49m\n",
      "File \u001B[0;32m~/opt/anaconda3/envs/ml_practice/lib/python3.10/site-packages/torch/nn/functional.py:2233\u001B[0m, in \u001B[0;36membedding\u001B[0;34m(input, weight, padding_idx, max_norm, norm_type, scale_grad_by_freq, sparse)\u001B[0m\n\u001B[1;32m   2227\u001B[0m     \u001B[38;5;66;03m# Note [embedding_renorm set_grad_enabled]\u001B[39;00m\n\u001B[1;32m   2228\u001B[0m     \u001B[38;5;66;03m# XXX: equivalent to\u001B[39;00m\n\u001B[1;32m   2229\u001B[0m     \u001B[38;5;66;03m# with torch.no_grad():\u001B[39;00m\n\u001B[1;32m   2230\u001B[0m     \u001B[38;5;66;03m#   torch.embedding_renorm_\u001B[39;00m\n\u001B[1;32m   2231\u001B[0m     \u001B[38;5;66;03m# remove once script supports set_grad_enabled\u001B[39;00m\n\u001B[1;32m   2232\u001B[0m     _no_grad_embedding_renorm_(weight, \u001B[38;5;28minput\u001B[39m, max_norm, norm_type)\n\u001B[0;32m-> 2233\u001B[0m \u001B[38;5;28;01mreturn\u001B[39;00m \u001B[43mtorch\u001B[49m\u001B[38;5;241;43m.\u001B[39;49m\u001B[43membedding\u001B[49m\u001B[43m(\u001B[49m\u001B[43mweight\u001B[49m\u001B[43m,\u001B[49m\u001B[43m \u001B[49m\u001B[38;5;28;43minput\u001B[39;49m\u001B[43m,\u001B[49m\u001B[43m \u001B[49m\u001B[43mpadding_idx\u001B[49m\u001B[43m,\u001B[49m\u001B[43m \u001B[49m\u001B[43mscale_grad_by_freq\u001B[49m\u001B[43m,\u001B[49m\u001B[43m \u001B[49m\u001B[43msparse\u001B[49m\u001B[43m)\u001B[49m\n",
      "\u001B[0;31mRuntimeError\u001B[0m: Placeholder storage has not been allocated on MPS device!"
     ]
    }
   ],
   "source": [
    "input_text = input_text[5]\n",
    "target_text = target_text[5]\n",
    "get_substitute_score(input_text, target_text, all_output[5])"
   ],
   "metadata": {
    "collapsed": false
   }
  },
  {
   "cell_type": "code",
   "execution_count": null,
   "outputs": [],
   "source": [],
   "metadata": {
    "collapsed": false
   }
  }
 ],
 "metadata": {
  "kernelspec": {
   "display_name": "Python 3",
   "language": "python",
   "name": "python3"
  },
  "language_info": {
   "codemirror_mode": {
    "name": "ipython",
    "version": 2
   },
   "file_extension": ".py",
   "mimetype": "text/x-python",
   "name": "python",
   "nbconvert_exporter": "python",
   "pygments_lexer": "ipython2",
   "version": "2.7.6"
  }
 },
 "nbformat": 4,
 "nbformat_minor": 0
}
