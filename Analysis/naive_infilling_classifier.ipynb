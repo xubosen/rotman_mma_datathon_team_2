{
 "cells": [
  {
   "cell_type": "markdown",
   "source": [
    "# Rotman Data Science Competition\n",
    "### Section 4.2: A no-brainer implementation to use text-infilling to calculate similarity score between different substitute products\n",
    "## Imports\n"
   ],
   "metadata": {
    "collapsed": false
   }
  },
  {
   "cell_type": "code",
   "execution_count": 64,
   "outputs": [],
   "source": [
    "import pandas as pd\n",
    "import numpy as np\n",
    "import seaborn as sns\n",
    "from datetime import datetime"
   ],
   "metadata": {
    "collapsed": false
   }
  },
  {
   "cell_type": "code",
   "execution_count": 2,
   "outputs": [],
   "source": [
    "from datasets import Dataset, DatasetDict\n",
    "import torch\n",
    "from transformers import T5Tokenizer, T5ForConditionalGeneration, DataCollatorForSeq2Seq, Seq2SeqTrainingArguments, Seq2SeqTrainer"
   ],
   "metadata": {
    "collapsed": false
   }
  },
  {
   "cell_type": "code",
   "execution_count": 3,
   "outputs": [],
   "source": [
    "today_date = datetime.today().strftime('%Y-%m-%d')\n",
    "\n",
    "DATA_SAVE_PATH = \"data/formated_data_for_seq2seq.csv\"\n",
    "CHECKPOINT_SAVE_PATH = f\"./substitute_classifier/T5/checkpoint_for_{today_date}\""
   ],
   "metadata": {
    "collapsed": false
   }
  },
  {
   "cell_type": "markdown",
   "source": [
    "## Data Preprocessing\n",
    "### Turning our data into format for text-infilling"
   ],
   "metadata": {
    "collapsed": false
   }
  },
  {
   "cell_type": "code",
   "execution_count": 4,
   "outputs": [],
   "source": [
    "REPROCESS_DATA = False\n",
    "if REPROCESS_DATA:\n",
    "    DATA_PATH = \"./data/mma_mart.csv\"\n",
    "    raw_data = pd.read_csv(DATA_PATH)\n",
    "    raw_data.head()"
   ],
   "metadata": {
    "collapsed": false
   }
  },
  {
   "cell_type": "code",
   "execution_count": 5,
   "outputs": [],
   "source": [
    "if REPROCESS_DATA:\n",
    "    products = raw_data.loc[:, 'product_id' : 'product_name']\n",
    "    products.drop_duplicates(\"product_id\", inplace=True)\n",
    "    products.set_index(\"product_id\", inplace=True)\n",
    "    raw_data = raw_data.loc[:, 'order_id':'product_name']\n",
    "    raw_data.head()"
   ],
   "metadata": {
    "collapsed": false
   }
  },
  {
   "cell_type": "code",
   "execution_count": 6,
   "outputs": [],
   "source": [
    "if REPROCESS_DATA:\n",
    "    # Put orders into string format\n",
    "    FORMAT = \"On order {x} a customer bought {item 1, ... , item y}.\"\n",
    "\n",
    "    raw_data[\"str_p_id\"] = [f\"(id {str(i)})\" for i in raw_data[\"product_id\"]]\n",
    "    raw_data[\"target_text\"] = raw_data[\"product_name\"] + raw_data[\"str_p_id\"]\n",
    "    # raw_data.drop(columns=[\"product_id\", \"product_name\", \"str_p_id\"], inplace=True)\n",
    "    raw_data.head()"
   ],
   "metadata": {
    "collapsed": false
   }
  },
  {
   "cell_type": "code",
   "execution_count": 7,
   "outputs": [],
   "source": [
    "if REPROCESS_DATA:\n",
    "    # Pick about 15% of the items to mask out\n",
    "    MASK_RATE = 0.15\n",
    "    RANDOM_SEED = 42\n",
    "    random_generator = np.random.default_rng(RANDOM_SEED)\n",
    "    mask_idx = random_generator.choice(raw_data.index, size= int(raw_data.shape[0] * MASK_RATE), replace=False, axis=0)\n",
    "    mask_idx[:10]"
   ],
   "metadata": {
    "collapsed": false
   }
  },
  {
   "cell_type": "code",
   "execution_count": 8,
   "outputs": [],
   "source": [
    "if REPROCESS_DATA:\n",
    "    raw_data_masked = raw_data.copy()\n",
    "    raw_data_masked.loc[mask_idx, \"target_text\"] = \"[MASK]\"\n",
    "    raw_data_masked.head()"
   ],
   "metadata": {
    "collapsed": false
   }
  },
  {
   "cell_type": "code",
   "execution_count": 9,
   "outputs": [],
   "source": [
    "if REPROCESS_DATA:\n",
    "    formated_data = pd.DataFrame(columns=[\"source_text\", \"target_text\"], index=raw_data.order_id.unique())\n",
    "    formated_data.head(10)"
   ],
   "metadata": {
    "collapsed": false
   }
  },
  {
   "cell_type": "code",
   "execution_count": 10,
   "outputs": [],
   "source": [
    "if REPROCESS_DATA:\n",
    "    FORMAT = \"On order {} a customer bought {}.\"\n",
    "    raw_data = raw_data.set_index(\"order_id\")\n",
    "    raw_data_masked = raw_data_masked.set_index(\"order_id\")\n",
    "    for idx in raw_data.index.unique():\n",
    "        items = \", \".join(raw_data.loc[idx][\"target_text\"])\n",
    "        items_masked = \", \".join(raw_data_masked.loc[idx][\"target_text\"])\n",
    "        formated_data.loc[idx, \"target_text\"] = FORMAT.format(idx, items)\n",
    "        formated_data.loc[idx, \"source_text\"] = FORMAT.format(idx, items_masked)\n",
    "\n",
    "    formated_data.to_csv(DATA_SAVE_PATH, index=False)"
   ],
   "metadata": {
    "collapsed": false
   }
  },
  {
   "cell_type": "markdown",
   "source": [
    "## Data"
   ],
   "metadata": {
    "collapsed": false
   }
  },
  {
   "cell_type": "code",
   "execution_count": 11,
   "outputs": [
    {
     "data": {
      "text/plain": "                                         source_text  \\\n0  On order 1 a customer bought [MASK], Organic 4...   \n1  On order 2 a customer bought Organic Egg White...   \n2  On order 3 a customer bought Total 2% with Str...   \n3  On order 4 a customer bought [MASK], Honey/Lem...   \n4  On order 5 a customer bought Bag of Organic Ba...   \n\n                                         target_text  \n0  On order 1 a customer bought Bulgarian Yogurt(...  \n1  On order 2 a customer bought Organic Egg White...  \n2  On order 3 a customer bought Total 2% with Str...  \n3  On order 4 a customer bought Plain Pre-Sliced ...  \n4  On order 5 a customer bought Bag of Organic Ba...  ",
      "text/html": "<div>\n<style scoped>\n    .dataframe tbody tr th:only-of-type {\n        vertical-align: middle;\n    }\n\n    .dataframe tbody tr th {\n        vertical-align: top;\n    }\n\n    .dataframe thead th {\n        text-align: right;\n    }\n</style>\n<table border=\"1\" class=\"dataframe\">\n  <thead>\n    <tr style=\"text-align: right;\">\n      <th></th>\n      <th>source_text</th>\n      <th>target_text</th>\n    </tr>\n  </thead>\n  <tbody>\n    <tr>\n      <th>0</th>\n      <td>On order 1 a customer bought [MASK], Organic 4...</td>\n      <td>On order 1 a customer bought Bulgarian Yogurt(...</td>\n    </tr>\n    <tr>\n      <th>1</th>\n      <td>On order 2 a customer bought Organic Egg White...</td>\n      <td>On order 2 a customer bought Organic Egg White...</td>\n    </tr>\n    <tr>\n      <th>2</th>\n      <td>On order 3 a customer bought Total 2% with Str...</td>\n      <td>On order 3 a customer bought Total 2% with Str...</td>\n    </tr>\n    <tr>\n      <th>3</th>\n      <td>On order 4 a customer bought [MASK], Honey/Lem...</td>\n      <td>On order 4 a customer bought Plain Pre-Sliced ...</td>\n    </tr>\n    <tr>\n      <th>4</th>\n      <td>On order 5 a customer bought Bag of Organic Ba...</td>\n      <td>On order 5 a customer bought Bag of Organic Ba...</td>\n    </tr>\n  </tbody>\n</table>\n</div>"
     },
     "execution_count": 11,
     "metadata": {},
     "output_type": "execute_result"
    }
   ],
   "source": [
    "my_data = pd.read_csv(DATA_SAVE_PATH)\n",
    "my_data.head()"
   ],
   "metadata": {
    "collapsed": false
   }
  },
  {
   "cell_type": "markdown",
   "source": [
    "### 1. Divide into train, eval, and test sets\n",
    "We use 80% of the data for training, 10% for evaluation, and 10% for testing."
   ],
   "metadata": {
    "collapsed": false
   }
  },
  {
   "cell_type": "code",
   "execution_count": 12,
   "outputs": [
    {
     "data": {
      "text/plain": "                                             source_text  \\\n22652  On order 23139 a customer bought Organic Avoca...   \n42695  On order 43680 a customer bought First Prunes(...   \n38279  On order 39159 a customer bought [MASK], Koshe...   \n78622  On order 80380 a customer bought Organic Baby ...   \n15252  On order 15570 a customer bought Sharp Cheddar...   \n\n                                             target_text  \n22652  On order 23139 a customer bought Organic Avoca...  \n42695  On order 43680 a customer bought First Prunes(...  \n38279  On order 39159 a customer bought Organic Diced...  \n78622  On order 80380 a customer bought Organic Baby ...  \n15252  On order 15570 a customer bought Sharp Cheddar...  ",
      "text/html": "<div>\n<style scoped>\n    .dataframe tbody tr th:only-of-type {\n        vertical-align: middle;\n    }\n\n    .dataframe tbody tr th {\n        vertical-align: top;\n    }\n\n    .dataframe thead th {\n        text-align: right;\n    }\n</style>\n<table border=\"1\" class=\"dataframe\">\n  <thead>\n    <tr style=\"text-align: right;\">\n      <th></th>\n      <th>source_text</th>\n      <th>target_text</th>\n    </tr>\n  </thead>\n  <tbody>\n    <tr>\n      <th>22652</th>\n      <td>On order 23139 a customer bought Organic Avoca...</td>\n      <td>On order 23139 a customer bought Organic Avoca...</td>\n    </tr>\n    <tr>\n      <th>42695</th>\n      <td>On order 43680 a customer bought First Prunes(...</td>\n      <td>On order 43680 a customer bought First Prunes(...</td>\n    </tr>\n    <tr>\n      <th>38279</th>\n      <td>On order 39159 a customer bought [MASK], Koshe...</td>\n      <td>On order 39159 a customer bought Organic Diced...</td>\n    </tr>\n    <tr>\n      <th>78622</th>\n      <td>On order 80380 a customer bought Organic Baby ...</td>\n      <td>On order 80380 a customer bought Organic Baby ...</td>\n    </tr>\n    <tr>\n      <th>15252</th>\n      <td>On order 15570 a customer bought Sharp Cheddar...</td>\n      <td>On order 15570 a customer bought Sharp Cheddar...</td>\n    </tr>\n  </tbody>\n</table>\n</div>"
     },
     "execution_count": 12,
     "metadata": {},
     "output_type": "execute_result"
    }
   ],
   "source": [
    "TRAIN_SPLIT_SEED = 42\n",
    "train_df = my_data.sample(frac = 0.8, random_state=TRAIN_SPLIT_SEED)\n",
    "eval_df = my_data.drop(train_df.index).sample(frac = 0.5, random_state=TRAIN_SPLIT_SEED)\n",
    "test_df = my_data.drop(train_df.index).drop(eval_df.index)\n",
    "train_df.head()"
   ],
   "metadata": {
    "collapsed": false
   }
  },
  {
   "cell_type": "markdown",
   "source": [
    "### 2. Create a dataset dict from the dataframes"
   ],
   "metadata": {
    "collapsed": false
   }
  },
  {
   "cell_type": "code",
   "execution_count": 24,
   "outputs": [
    {
     "name": "stdout",
     "output_type": "stream",
     "text": [
      "{'train': (78266, 3), 'eval': (9784, 3), 'test': (9783, 3)}\n"
     ]
    }
   ],
   "source": [
    "my_dataset = DatasetDict({\n",
    "    \"train\": Dataset.from_pandas(train_df),\n",
    "    \"eval\": Dataset.from_pandas(eval_df),\n",
    "    \"test\": Dataset.from_pandas(test_df),\n",
    "    })\n",
    "print(my_dataset.shape)"
   ],
   "metadata": {
    "collapsed": false
   }
  },
  {
   "cell_type": "markdown",
   "source": [
    "## Training"
   ],
   "metadata": {
    "collapsed": false
   }
  },
  {
   "cell_type": "markdown",
   "source": [
    "### 1. Set model, tokenizer, and data_collator variables"
   ],
   "metadata": {
    "collapsed": false
   }
  },
  {
   "cell_type": "code",
   "execution_count": 25,
   "outputs": [],
   "source": [
    "DO_TRAINING = False\n",
    "if DO_TRAINING:\n",
    "    CHECKPOINT = \"t5-small\"\n",
    "    tokenizer = T5Tokenizer.from_pretrained(CHECKPOINT)\n",
    "    model = T5ForConditionalGeneration.from_pretrained(CHECKPOINT)\n",
    "    data_collator = DataCollatorForSeq2Seq(tokenizer=tokenizer, model=model)"
   ],
   "metadata": {
    "collapsed": false
   }
  },
  {
   "cell_type": "markdown",
   "source": [
    "### 2. Down sample the dataset to 10,000 examples for training, 1,000 for evaluation, and 1,000 for testing for the sake of fast training"
   ],
   "metadata": {
    "collapsed": false
   }
  },
  {
   "cell_type": "code",
   "execution_count": 26,
   "outputs": [],
   "source": [
    "if DO_TRAINING:\n",
    "    train_size = 10000\n",
    "    test_size = train_size // 10\n",
    "    eval_size = train_size // 10\n",
    "\n",
    "    down_sampled_ds = my_dataset[\"train\"].train_test_split(train_size=train_size, test_size=test_size + eval_size, seed=TRAIN_SPLIT_SEED)\n",
    "    test_valid = down_sampled_ds[\"test\"].train_test_split(train_size=eval_size, test_size=test_size, seed=TRAIN_SPLIT_SEED)\n",
    "    down_sampled_ds[\"eval\"] = test_valid[\"train\"]\n",
    "    down_sampled_ds[\"test\"] = test_valid[\"test\"]"
   ],
   "metadata": {
    "collapsed": false
   }
  },
  {
   "cell_type": "markdown",
   "source": [
    "### 3. Tokenize the dataset"
   ],
   "metadata": {
    "collapsed": false
   }
  },
  {
   "cell_type": "code",
   "execution_count": 27,
   "outputs": [],
   "source": [
    "if DO_TRAINING:\n",
    "    MAX_LENGTH = 512\n",
    "    def tokenize(source_texts, target_texts):\n",
    "        model_inputs = tokenizer(text=source_texts, max_length=MAX_LENGTH, truncation=True)\n",
    "        labels = tokenizer(text_target=target_texts, max_length=MAX_LENGTH, truncation=True)\n",
    "        model_inputs[\"labels\"] = labels[\"input_ids\"]\n",
    "        return model_inputs\n",
    "    tokenized_dataset = down_sampled_ds.map(tokenize, input_columns=[\"source_text\", \"target_text\"], remove_columns=[\"source_text\", \"target_text\"])"
   ],
   "metadata": {
    "collapsed": false
   }
  },
  {
   "cell_type": "markdown",
   "source": [
    "### 4. Set training arguments\n",
    "Change \"output_directory\" to your desired output directory. You can also change the batch_size, learning_rate, num_train_epochs and other parameters here. See the documentation for more details: [https://huggingface.co/docs/transformers/v4.21.3/en/main_classes/trainer#transformers.TrainingArguments](https://huggingface.co/docs/transformers/v4.21.3/en/main_classes/trainer#transformers.TrainingArguments)"
   ],
   "metadata": {
    "collapsed": false
   }
  },
  {
   "cell_type": "code",
   "execution_count": 28,
   "outputs": [],
   "source": [
    "if DO_TRAINING:\n",
    "    if torch.cuda.is_available():\n",
    "        training_arguments = Seq2SeqTrainingArguments(\n",
    "            \"output_directory\",\n",
    "            learning_rate=0.0001,\n",
    "            weight_decay=0.01,\n",
    "            fp16=True,\n",
    "            per_device_train_batch_size=4,\n",
    "            per_device_eval_batch_size=4,\n",
    "            gradient_accumulation_steps=2,\n",
    "            num_train_epochs=20,\n",
    "            evaluation_strategy=\"epoch\",\n",
    "            report_to=\"all\"\n",
    "        )\n",
    "    elif torch.backends.mps.is_available():\n",
    "        mps_device = torch.device(\"mps\")\n",
    "        torch.mps.set_per_process_memory_fraction(0.0)\n",
    "\n",
    "        training_arguments = Seq2SeqTrainingArguments(\n",
    "            \"output_directory\",\n",
    "            learning_rate=0.0001,\n",
    "            weight_decay=0.01,\n",
    "            per_device_train_batch_size=4,\n",
    "            per_device_eval_batch_size=4,\n",
    "            gradient_accumulation_steps=2,\n",
    "            num_train_epochs=20,\n",
    "            evaluation_strategy=\"epoch\",\n",
    "            report_to=\"all\"\n",
    "        )\n",
    "    else:\n",
    "        training_arguments = Seq2SeqTrainingArguments(\n",
    "            \"output_directory\",\n",
    "            learning_rate=0.0001,\n",
    "            weight_decay=0.01,\n",
    "            per_device_train_batch_size=4,\n",
    "            per_device_eval_batch_size=4,\n",
    "            gradient_accumulation_steps=2,\n",
    "            num_train_epochs=20,\n",
    "            evaluation_strategy=\"epoch\",\n",
    "            report_to=\"all\"\n",
    "        )"
   ],
   "metadata": {
    "collapsed": false
   }
  },
  {
   "cell_type": "markdown",
   "source": [
    "### 5. Create a trainer"
   ],
   "metadata": {
    "collapsed": false
   }
  },
  {
   "cell_type": "code",
   "execution_count": 29,
   "outputs": [],
   "source": [
    "if DO_TRAINING:\n",
    "    trainer = Seq2SeqTrainer(\n",
    "        model,\n",
    "        training_arguments,\n",
    "        train_dataset=tokenized_dataset[\"train\"],\n",
    "        eval_dataset=tokenized_dataset[\"eval\"],\n",
    "        data_collator=data_collator,\n",
    "        tokenizer=tokenizer\n",
    "    )"
   ],
   "metadata": {
    "collapsed": false
   }
  },
  {
   "cell_type": "code",
   "execution_count": 30,
   "outputs": [
    {
     "data": {
      "text/plain": "False"
     },
     "execution_count": 30,
     "metadata": {},
     "output_type": "execute_result"
    }
   ],
   "source": [
    "torch.cuda.is_available()"
   ],
   "metadata": {
    "collapsed": false
   }
  },
  {
   "cell_type": "markdown",
   "source": [
    "### 6. Train the model"
   ],
   "metadata": {
    "collapsed": false
   }
  },
  {
   "cell_type": "code",
   "execution_count": 31,
   "outputs": [],
   "source": [
    "if DO_TRAINING:\n",
    "    trainer.train()"
   ],
   "metadata": {
    "collapsed": false
   }
  },
  {
   "cell_type": "markdown",
   "source": [
    "## Evaluate"
   ],
   "metadata": {
    "collapsed": false
   }
  },
  {
   "cell_type": "code",
   "execution_count": 40,
   "outputs": [],
   "source": [
    "CHECKPOINT_SAVE_PATH = \"./substitute_classifier/T5/checkpoint_for_2023-10-01\"\n",
    "model = T5ForConditionalGeneration.from_pretrained(CHECKPOINT_SAVE_PATH)\n",
    "tokenizer = T5Tokenizer.from_pretrained(CHECKPOINT_SAVE_PATH, padding_side=\"left\")"
   ],
   "metadata": {
    "collapsed": false
   }
  },
  {
   "cell_type": "code",
   "execution_count": 41,
   "outputs": [],
   "source": [
    "input_text = my_dataset[\"test\"]['source_text'][0:10]\n",
    "target_text = my_dataset[\"test\"]['target_text'][0:10]"
   ],
   "metadata": {
    "collapsed": false
   }
  },
  {
   "cell_type": "code",
   "execution_count": 42,
   "outputs": [],
   "source": [
    "device = torch.device(\"mps\")\n",
    "model = model.to(device)"
   ],
   "metadata": {
    "collapsed": false
   }
  },
  {
   "cell_type": "code",
   "execution_count": 68,
   "outputs": [
    {
     "name": "stdout",
     "output_type": "stream",
     "text": [
      "CPU times: user 5.71 ms, sys: 2.58 ms, total: 8.29 ms\n",
      "Wall time: 933 ms\n"
     ]
    }
   ],
   "source": [
    "%%time\n",
    "input_ids = tokenizer(input_text, return_tensors=\"pt\", truncation=True, padding=True)\n",
    "input_ids = input_ids.to(device)"
   ],
   "metadata": {
    "collapsed": false
   }
  },
  {
   "cell_type": "code",
   "execution_count": 69,
   "outputs": [
    {
     "name": "stdout",
     "output_type": "stream",
     "text": [
      "CPU times: user 23.5 s, sys: 14.9 s, total: 38.4 s\n",
      "Wall time: 39.7 s\n"
     ]
    }
   ],
   "source": [
    "%%time\n",
    "output_ids = model.generate(input_ids['input_ids'], max_length=512, num_beams=5, do_sample=True, num_return_sequences=1)"
   ],
   "metadata": {
    "collapsed": false
   }
  },
  {
   "cell_type": "code",
   "execution_count": 70,
   "outputs": [
    {
     "name": "stdout",
     "output_type": "stream",
     "text": [
      "CPU times: user 47.4 ms, sys: 4.45 ms, total: 51.9 ms\n",
      "Wall time: 976 ms\n"
     ]
    }
   ],
   "source": [
    "%%time\n",
    "all_output = tokenizer.batch_decode(output_ids)"
   ],
   "metadata": {
    "collapsed": false
   }
  },
  {
   "cell_type": "code",
   "execution_count": 71,
   "outputs": [],
   "source": [
    "all_output_df = pd.DataFrame(all_output, columns=[\"output\"])\n",
    "all_output_df[\"target\"] = target_text\n",
    "all_output_df[\"input\"] = input_text\n",
    "all_output_df = all_output_df[[\"input\", \"target\", \"output\"]]"
   ],
   "metadata": {
    "collapsed": false
   }
  },
  {
   "cell_type": "code",
   "execution_count": 72,
   "outputs": [],
   "source": [
    "def get_substitute_score(input_text, target, candidate) -> float:\n",
    "    input_ids = tokenizer(input_text, return_tensors=\"pt\").input_ids\n",
    "    target_input_id = tokenizer(target, return_tensors=\"pt\").input_ids\n",
    "    candidate_input_id = tokenizer(candidate, return_tensors=\"pt\").input_ids\n",
    "    # true_loss = model(input_ids = input_ids, labels = target_input_id)\n",
    "    true_loss = model(input_ids = input_ids, labels = target_input_id).loss.item()\n",
    "    candidate_loss = model(input_ids = input_ids, labels = candidate_input_id).loss.item()\n",
    "    print(true_loss, candidate_loss)\n",
    "    return (1-candidate_loss)/(1-true_loss)"
   ],
   "metadata": {
    "collapsed": false
   }
  },
  {
   "cell_type": "code",
   "execution_count": 73,
   "outputs": [
    {
     "data": {
      "text/plain": "                                               input  \\\n0  On order 6 a customer bought Cleanse(id 40462)...   \n1  On order 16 a customer bought Original Popcorn...   \n2  On order 22 a customer bought 2% Reduced Fat M...   \n3  On order 40 a customer bought Organic 1% Low F...   \n4  On order 45 a customer bought O, r, g, a, n, i...   \n5  On order 48 a customer bought Organic Chicken ...   \n6  On order 51 a customer bought [MASK], Milk Who...   \n7  On order 53 a customer bought Banana(id 24852)...   \n8  On order 59 a customer bought [MASK], Chopped ...   \n9  On order 63 a customer bought Wild Blend Rice(...   \n\n                                              target  \\\n0  On order 6 a customer bought Cleanse(id 40462)...   \n1  On order 16 a customer bought Original Popcorn...   \n2  On order 22 a customer bought 2% Reduced Fat M...   \n3  On order 40 a customer bought Organic 1% Low F...   \n4  On order 45 a customer bought O, r, g, a, n, i...   \n5  On order 48 a customer bought Organic Chicken ...   \n6  On order 51 a customer bought Artesano Style B...   \n7  On order 53 a customer bought Banana(id 24852)...   \n8  On order 59 a customer bought Prepared Meals S...   \n9  On order 63 a customer bought Wild Blend Rice(...   \n\n                                              output  \n0  <pad> On order 6 a customer bought Cleanse(id ...  \n1  <pad> On order 16 a customer bought Original P...  \n2  <pad> On order 22 a customer bought 2% Reduced...  \n3  <pad> On order 40 a customer bought Organic 1%...  \n4  <pad> On order 45 a customer bought O, r, g, a...  \n5  <pad> On order 48 a customer bought Organic Ch...  \n6  <pad> On order 51 a customer bought Organic Ba...  \n7  <pad> On order 53 a customer bought Banana(id ...  \n8  <pad> On order 59 a customer bought Organic Wh...  \n9  <pad> On order 63 a customer bought Wild Blend...  ",
      "text/html": "<div>\n<style scoped>\n    .dataframe tbody tr th:only-of-type {\n        vertical-align: middle;\n    }\n\n    .dataframe tbody tr th {\n        vertical-align: top;\n    }\n\n    .dataframe thead th {\n        text-align: right;\n    }\n</style>\n<table border=\"1\" class=\"dataframe\">\n  <thead>\n    <tr style=\"text-align: right;\">\n      <th></th>\n      <th>input</th>\n      <th>target</th>\n      <th>output</th>\n    </tr>\n  </thead>\n  <tbody>\n    <tr>\n      <th>0</th>\n      <td>On order 6 a customer bought Cleanse(id 40462)...</td>\n      <td>On order 6 a customer bought Cleanse(id 40462)...</td>\n      <td>&lt;pad&gt; On order 6 a customer bought Cleanse(id ...</td>\n    </tr>\n    <tr>\n      <th>1</th>\n      <td>On order 16 a customer bought Original Popcorn...</td>\n      <td>On order 16 a customer bought Original Popcorn...</td>\n      <td>&lt;pad&gt; On order 16 a customer bought Original P...</td>\n    </tr>\n    <tr>\n      <th>2</th>\n      <td>On order 22 a customer bought 2% Reduced Fat M...</td>\n      <td>On order 22 a customer bought 2% Reduced Fat M...</td>\n      <td>&lt;pad&gt; On order 22 a customer bought 2% Reduced...</td>\n    </tr>\n    <tr>\n      <th>3</th>\n      <td>On order 40 a customer bought Organic 1% Low F...</td>\n      <td>On order 40 a customer bought Organic 1% Low F...</td>\n      <td>&lt;pad&gt; On order 40 a customer bought Organic 1%...</td>\n    </tr>\n    <tr>\n      <th>4</th>\n      <td>On order 45 a customer bought O, r, g, a, n, i...</td>\n      <td>On order 45 a customer bought O, r, g, a, n, i...</td>\n      <td>&lt;pad&gt; On order 45 a customer bought O, r, g, a...</td>\n    </tr>\n    <tr>\n      <th>5</th>\n      <td>On order 48 a customer bought Organic Chicken ...</td>\n      <td>On order 48 a customer bought Organic Chicken ...</td>\n      <td>&lt;pad&gt; On order 48 a customer bought Organic Ch...</td>\n    </tr>\n    <tr>\n      <th>6</th>\n      <td>On order 51 a customer bought [MASK], Milk Who...</td>\n      <td>On order 51 a customer bought Artesano Style B...</td>\n      <td>&lt;pad&gt; On order 51 a customer bought Organic Ba...</td>\n    </tr>\n    <tr>\n      <th>7</th>\n      <td>On order 53 a customer bought Banana(id 24852)...</td>\n      <td>On order 53 a customer bought Banana(id 24852)...</td>\n      <td>&lt;pad&gt; On order 53 a customer bought Banana(id ...</td>\n    </tr>\n    <tr>\n      <th>8</th>\n      <td>On order 59 a customer bought [MASK], Chopped ...</td>\n      <td>On order 59 a customer bought Prepared Meals S...</td>\n      <td>&lt;pad&gt; On order 59 a customer bought Organic Wh...</td>\n    </tr>\n    <tr>\n      <th>9</th>\n      <td>On order 63 a customer bought Wild Blend Rice(...</td>\n      <td>On order 63 a customer bought Wild Blend Rice(...</td>\n      <td>&lt;pad&gt; On order 63 a customer bought Wild Blend...</td>\n    </tr>\n  </tbody>\n</table>\n</div>"
     },
     "execution_count": 73,
     "metadata": {},
     "output_type": "execute_result"
    }
   ],
   "source": [
    "all_output_df"
   ],
   "metadata": {
    "collapsed": false
   }
  },
  {
   "cell_type": "code",
   "execution_count": 74,
   "outputs": [
    {
     "data": {
      "text/plain": "                                               input  \\\n0  Cleanse(id 40462), Dryer Sheets Geranium Scent...   \n1  Original Popcorn(id 9755), Water(id 25466), Se...   \n2  2% Reduced Fat Milk(id 23909), Butter Top Whit...   \n3  Organic 1% Low Fat Milk(id 10070), Macaroni & ...   \n4  O, r, g, a, n, i, c,  , Y, a, m, s, (, i, d,  ...   \n5  Organic Chicken Bone Broth(id 14129), Yo Baby ...   \n6  [MASK], Milk Whole(id 3594), Baby Dynamic Duo ...   \n7  Banana(id 24852), Organic Gala Apples(id 37646...   \n8  [MASK], Chopped Blends With Beef, Carrots, Pea...   \n9  Wild Blend Rice(id 25886), Reduced-fat Soft Cr...   \n\n                                              target  \\\n0  Cleanse(id 40462), Dryer Sheets Geranium Scent...   \n1  Original Popcorn(id 9755), Water(id 25466), Se...   \n2  2% Reduced Fat Milk(id 23909), Butter Top Whit...   \n3  Organic 1% Low Fat Milk(id 10070), Macaroni & ...   \n4  O, r, g, a, n, i, c,  , Y, a, m, s, (, i, d,  ...   \n5  Organic Chicken Bone Broth(id 14129), Yo Baby ...   \n6  Artesano Style Bread(id 30274), Milk Whole(id ...   \n7  Banana(id 24852), Organic Gala Apples(id 37646...   \n8  Prepared Meals Simmered Chicken Medley Wet Dog...   \n9  Wild Blend Rice(id 25886), Reduced-fat Soft Cr...   \n\n                                              output  \n0   Cleanse(id 40462), Dryer Sheets Geranium Scen...  \n1   Original Popcorn(id 9755), Water(id 25466), S...  \n2   2% Reduced Fat Milk(id 23909), Butter Top Whi...  \n3   Organic 1% Low Fat Milk(id 10070), Macaroni &...  \n4   O, r, g, a, n, i, c,, Y, a, m, s, (, i, d,, 1...  \n5   Organic Chicken Bone Broth(id 14129), Yo Baby...  \n6   Organic Baby Spinach(id 21903), Milk Whole(id...  \n7   Banana(id 24852), Organic Gala Apples(id 3764...  \n8   Organic Whole Milk(id 27845), Chopped Blends ...  \n9   Wild Blend Rice(id 25886), Reduced-fat Soft C...  ",
      "text/html": "<div>\n<style scoped>\n    .dataframe tbody tr th:only-of-type {\n        vertical-align: middle;\n    }\n\n    .dataframe tbody tr th {\n        vertical-align: top;\n    }\n\n    .dataframe thead th {\n        text-align: right;\n    }\n</style>\n<table border=\"1\" class=\"dataframe\">\n  <thead>\n    <tr style=\"text-align: right;\">\n      <th></th>\n      <th>input</th>\n      <th>target</th>\n      <th>output</th>\n    </tr>\n  </thead>\n  <tbody>\n    <tr>\n      <th>0</th>\n      <td>Cleanse(id 40462), Dryer Sheets Geranium Scent...</td>\n      <td>Cleanse(id 40462), Dryer Sheets Geranium Scent...</td>\n      <td>Cleanse(id 40462), Dryer Sheets Geranium Scen...</td>\n    </tr>\n    <tr>\n      <th>1</th>\n      <td>Original Popcorn(id 9755), Water(id 25466), Se...</td>\n      <td>Original Popcorn(id 9755), Water(id 25466), Se...</td>\n      <td>Original Popcorn(id 9755), Water(id 25466), S...</td>\n    </tr>\n    <tr>\n      <th>2</th>\n      <td>2% Reduced Fat Milk(id 23909), Butter Top Whit...</td>\n      <td>2% Reduced Fat Milk(id 23909), Butter Top Whit...</td>\n      <td>2% Reduced Fat Milk(id 23909), Butter Top Whi...</td>\n    </tr>\n    <tr>\n      <th>3</th>\n      <td>Organic 1% Low Fat Milk(id 10070), Macaroni &amp; ...</td>\n      <td>Organic 1% Low Fat Milk(id 10070), Macaroni &amp; ...</td>\n      <td>Organic 1% Low Fat Milk(id 10070), Macaroni &amp;...</td>\n    </tr>\n    <tr>\n      <th>4</th>\n      <td>O, r, g, a, n, i, c,  , Y, a, m, s, (, i, d,  ...</td>\n      <td>O, r, g, a, n, i, c,  , Y, a, m, s, (, i, d,  ...</td>\n      <td>O, r, g, a, n, i, c,, Y, a, m, s, (, i, d,, 1...</td>\n    </tr>\n    <tr>\n      <th>5</th>\n      <td>Organic Chicken Bone Broth(id 14129), Yo Baby ...</td>\n      <td>Organic Chicken Bone Broth(id 14129), Yo Baby ...</td>\n      <td>Organic Chicken Bone Broth(id 14129), Yo Baby...</td>\n    </tr>\n    <tr>\n      <th>6</th>\n      <td>[MASK], Milk Whole(id 3594), Baby Dynamic Duo ...</td>\n      <td>Artesano Style Bread(id 30274), Milk Whole(id ...</td>\n      <td>Organic Baby Spinach(id 21903), Milk Whole(id...</td>\n    </tr>\n    <tr>\n      <th>7</th>\n      <td>Banana(id 24852), Organic Gala Apples(id 37646...</td>\n      <td>Banana(id 24852), Organic Gala Apples(id 37646...</td>\n      <td>Banana(id 24852), Organic Gala Apples(id 3764...</td>\n    </tr>\n    <tr>\n      <th>8</th>\n      <td>[MASK], Chopped Blends With Beef, Carrots, Pea...</td>\n      <td>Prepared Meals Simmered Chicken Medley Wet Dog...</td>\n      <td>Organic Whole Milk(id 27845), Chopped Blends ...</td>\n    </tr>\n    <tr>\n      <th>9</th>\n      <td>Wild Blend Rice(id 25886), Reduced-fat Soft Cr...</td>\n      <td>Wild Blend Rice(id 25886), Reduced-fat Soft Cr...</td>\n      <td>Wild Blend Rice(id 25886), Reduced-fat Soft C...</td>\n    </tr>\n  </tbody>\n</table>\n</div>"
     },
     "execution_count": 74,
     "metadata": {},
     "output_type": "execute_result"
    }
   ],
   "source": [
    "# Remove redundant text and show the substitute identified\n",
    "all_output_df[\"output\"] = all_output_df[\"output\"].str.replace(\"On order \\d+ a customer bought \", \"\")\n",
    "all_output_df[\"target\"] = all_output_df[\"target\"].str.replace(\"On order \\d+ a customer bought \", \"\")\n",
    "all_output_df[\"input\"] = all_output_df[\"input\"].str.replace(\"On order \\d+ a customer bought \", \"\")\n",
    "\n",
    "# Remove padding tokens\n",
    "all_output_df[\"output\"] = all_output_df[\"output\"].str.replace(\"<pad>\", \"\")\n",
    "\n",
    "all_output_df"
   ],
   "metadata": {
    "collapsed": false
   }
  },
  {
   "cell_type": "code",
   "execution_count": 53,
   "outputs": [
    {
     "data": {
      "text/plain": "   Epoch  Training Loss  Validation Loss\n0      1         0.3924         0.368313\n1      2         0.3561         0.338654\n2      3         0.3395         0.320604\n3      4         0.3166         0.306147\n4      5         0.2990         0.295683",
      "text/html": "<div>\n<style scoped>\n    .dataframe tbody tr th:only-of-type {\n        vertical-align: middle;\n    }\n\n    .dataframe tbody tr th {\n        vertical-align: top;\n    }\n\n    .dataframe thead th {\n        text-align: right;\n    }\n</style>\n<table border=\"1\" class=\"dataframe\">\n  <thead>\n    <tr style=\"text-align: right;\">\n      <th></th>\n      <th>Epoch</th>\n      <th>Training Loss</th>\n      <th>Validation Loss</th>\n    </tr>\n  </thead>\n  <tbody>\n    <tr>\n      <th>0</th>\n      <td>1</td>\n      <td>0.3924</td>\n      <td>0.368313</td>\n    </tr>\n    <tr>\n      <th>1</th>\n      <td>2</td>\n      <td>0.3561</td>\n      <td>0.338654</td>\n    </tr>\n    <tr>\n      <th>2</th>\n      <td>3</td>\n      <td>0.3395</td>\n      <td>0.320604</td>\n    </tr>\n    <tr>\n      <th>3</th>\n      <td>4</td>\n      <td>0.3166</td>\n      <td>0.306147</td>\n    </tr>\n    <tr>\n      <th>4</th>\n      <td>5</td>\n      <td>0.2990</td>\n      <td>0.295683</td>\n    </tr>\n  </tbody>\n</table>\n</div>"
     },
     "execution_count": 53,
     "metadata": {},
     "output_type": "execute_result"
    }
   ],
   "source": [
    "training_info = pd.read_csv(\"substitute_classifier/T5/training_data.csv\")\n",
    "training_info.head()"
   ],
   "metadata": {
    "collapsed": false
   }
  },
  {
   "cell_type": "code",
   "execution_count": 66,
   "outputs": [
    {
     "data": {
      "text/plain": "<seaborn.axisgrid.FacetGrid at 0x7fc2d36d16c0>"
     },
     "execution_count": 66,
     "metadata": {},
     "output_type": "execute_result"
    },
    {
     "data": {
      "text/plain": "<Figure size 500x500 with 1 Axes>",
      "image/png": "[encoded data removed]"
     },
     "metadata": {},
     "output_type": "display_data"
    },
    {
     "data": {
      "text/plain": "<Figure size 500x500 with 1 Axes>",
      "image/png": "[encoded data removed]"
     },
     "metadata": {},
     "output_type": "display_data"
    }
   ],
   "source": [
    "# import warnings\n",
    "# warnings.filterwarnings('ignore')\n",
    "sns.relplot(data=training_info, x=\"Epoch\", y=\"Training Loss\", kind=\"line\")\n",
    "sns.relplot(data=training_info, x=\"Epoch\", y=\"Validation Loss\", kind=\"line\")"
   ],
   "metadata": {
    "collapsed": false
   }
  },
  {
   "cell_type": "code",
   "execution_count": null,
   "outputs": [],
   "source": [
    "# input_text = input_text[5]\n",
    "# target_text = target_text[5]\n",
    "# get_substitute_score(input_text, target_text, all_output[5])\n"
   ],
   "metadata": {
    "collapsed": false
   }
  }
 ],
 "metadata": {
  "kernelspec": {
   "display_name": "Python 3",
   "language": "python",
   "name": "python3"
  },
  "language_info": {
   "codemirror_mode": {
    "name": "ipython",
    "version": 2
   },
   "file_extension": ".py",
   "mimetype": "text/x-python",
   "name": "python",
   "nbconvert_exporter": "python",
   "pygments_lexer": "ipython2",
   "version": "2.7.6"
  }
 },
 "nbformat": 4,
 "nbformat_minor": 0
}
