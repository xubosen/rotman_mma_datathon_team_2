{
 "cells": [
  {
   "cell_type": "markdown",
   "source": [
    "# Rotman Data Science Competition\n",
    "### Section 6: Picking Top 1000 Products"
   ],
   "metadata": {
    "collapsed": false
   }
  },
  {
   "cell_type": "markdown",
   "source": [
    "## 0. Imports\n"
   ],
   "metadata": {
    "collapsed": false
   }
  },
  {
   "cell_type": "code",
   "execution_count": 1,
   "outputs": [],
   "source": [
    "import pandas as pd\n",
    "from sklearn.model_selection import train_test_split"
   ],
   "metadata": {
    "collapsed": false
   }
  },
  {
   "cell_type": "markdown",
   "source": [
    "## 1. Load Data\n"
   ],
   "metadata": {
    "collapsed": false
   }
  },
  {
   "cell_type": "code",
   "execution_count": 2,
   "outputs": [],
   "source": [
    "# Make dummy substitute data file\n",
    "def make_dummy_substitute_data() -> bool:\n",
    "    DATA_PATH = \"data/mma_mart.csv\"\n",
    "    data = pd.read_csv(DATA_PATH)\n",
    "    data[\"substitute\"] = data[\"product_id\"]\n",
    "    data[\"frozen\"] = [False] * data.shape[0]\n",
    "    data[\"refrigerated\"] = [False] * data.shape[0]\n",
    "    return data\n",
    "# data = make_dummy_substitute_data()"
   ],
   "metadata": {
    "collapsed": false
   }
  },
  {
   "cell_type": "code",
   "execution_count": 3,
   "outputs": [
    {
     "data": {
      "text/plain": "(35070, 11)"
     },
     "execution_count": 3,
     "metadata": {},
     "output_type": "execute_result"
    }
   ],
   "source": [
    "DATA_WTH_SUBS_PATH = \"substitute_df.csv\"\n",
    "data = pd.read_csv(DATA_WTH_SUBS_PATH)\n",
    "# data.head()\n",
    "data.shape"
   ],
   "metadata": {
    "collapsed": false
   }
  },
  {
   "cell_type": "markdown",
   "source": [
    "## 2. Baseline Model"
   ],
   "metadata": {
    "collapsed": false
   }
  },
  {
   "cell_type": "code",
   "execution_count": 4,
   "outputs": [],
   "source": [
    "def baseline(data: pd.DataFrame, k: int, use_substitutes=True) -> pd.DataFrame:\n",
    "    \"\"\" Return the top k items by sales\n",
    "\n",
    "    Precondition:\n",
    "    k is less than the number of items in the dataset\n",
    "    \"\"\"\n",
    "\n",
    "    # Account for whether we are using substitutes or not\n",
    "    if use_substitutes:\n",
    "        column = \"substitute\"\n",
    "    else:\n",
    "        column = \"product_id\"\n",
    "\n",
    "    # Count number of unique orders for each product or substitute\n",
    "    sales = pd.DataFrame(data.groupby(column)[\"order_id\"].nunique())\n",
    "\n",
    "    # Rename column to sales and sort by sales\n",
    "    sales.rename(columns = {\"order_id\" : \"sales\"}, inplace=True)\n",
    "    sales.sort_values(by=\"sales\", ascending=False, inplace=True)\n",
    "    sales.reset_index(inplace=True)\n",
    "\n",
    "    # Catch errors for debugging purposes\n",
    "    if k > sales.shape[0]:\n",
    "        raise ValueError(\"k must be less than the number of items in the dataset\")\n",
    "\n",
    "    # Return top k items by sales (i.e. top k items with most orders)\n",
    "    return sales.iloc[:k][column].tolist()"
   ],
   "metadata": {
    "collapsed": false
   }
  },
  {
   "cell_type": "markdown",
   "source": [
    "## 3. Processing Data For Metric B Optimization\n"
   ],
   "metadata": {
    "collapsed": false
   }
  },
  {
   "cell_type": "code",
   "execution_count": 5,
   "outputs": [],
   "source": [
    "def add_met_b_column(data, use_substitutes=True) -> None:\n",
    "    \"\"\" Add a column to the data that is the metric b impact score for each product calculated over the full dataset \"\"\"\n",
    "    order_id_to_order_size = data.groupby(\"order_id\")[\"order_id\"].count()\n",
    "    mma_data_aug = data.copy()\n",
    "    mma_data_aug[\"order_size\"] = mma_data_aug[\"order_id\"].map(order_id_to_order_size)\n",
    "\n",
    "    mma_data_aug.loc[:, \"portion_of_order\"] = 1 / mma_data_aug[\"order_size\"]\n",
    "\n",
    "    if use_substitutes:\n",
    "        column = \"substitute\"\n",
    "    else:\n",
    "        column = \"product_id\"\n",
    "\n",
    "    id_to_met_b_score = mma_data_aug.groupby(column)[\"portion_of_order\"].sum()\n",
    "    data[\"met_b_score\"] = data[column].map(id_to_met_b_score)\n",
    "    return None"
   ],
   "metadata": {
    "collapsed": false
   }
  },
  {
   "cell_type": "code",
   "execution_count": 6,
   "outputs": [],
   "source": [
    "add_met_b_column(data)"
   ],
   "metadata": {
    "collapsed": false
   }
  },
  {
   "cell_type": "code",
   "execution_count": 7,
   "outputs": [
    {
     "data": {
      "text/plain": "                                  product_name  total_quantity_sold  order_id  \\\n18436                                 Cucumber                    4      3735   \n8548                         Cucumber Seedless                   15      6037   \n15                              Cucumber Kirby                 2905         1   \n17699              Chicken and Cheese Taquitos                    4     39357   \n32365                          Pierogi & Onion                    1     61336   \n...                                        ...                  ...       ...   \n13743          Mandarin Orange Sparkling Water                    7      6460   \n12717     Tangerine Lemongrass Sparkling Water                    8     14608   \n16009  Mandarin Orange Sparkling Seltzer Water                    5     15567   \n24391                    Black Raspberry Water                    2     89519   \n20073                    Berry Sparkling Water                    3     22607   \n\n       product_id  aisle_id                          aisle  department_id  \\\n18436        6581        83               fresh vegetables              4   \n8548        34809        83               fresh vegetables              4   \n15          49683        83               fresh vegetables              4   \n17699       11716       129        frozen appetizers sides              1   \n32365       46551        38                   frozen meals              1   \n...           ...       ...                            ...            ...   \n13743        5711       115  water seltzer sparkling water              7   \n12717       39199       115  water seltzer sparkling water              7   \n16009       11194       115  water seltzer sparkling water              7   \n24391       33142       100                        missing             21   \n20073       45475       115  water seltzer sparkling water              7   \n\n      department  substitute  frozen  refrigerated  met_b_score  \n18436    produce       49683   False         False     1.625000  \n8548     produce       49683   False         False     1.625000  \n15       produce       49683   False         False     1.625000  \n17699     frozen       49678    True         False     2.325000  \n32365     frozen       49678    True         False     2.325000  \n...          ...         ...     ...           ...          ...  \n13743  beverages       49520   False         False    15.369553  \n12717  beverages       49520   False         False    15.369553  \n16009  beverages       49520   False         False    15.369553  \n24391    missing       49520   False         False    15.369553  \n20073  beverages       49520   False         False    15.369553  \n\n[100 rows x 12 columns]",
      "text/html": "<div>\n<style scoped>\n    .dataframe tbody tr th:only-of-type {\n        vertical-align: middle;\n    }\n\n    .dataframe tbody tr th {\n        vertical-align: top;\n    }\n\n    .dataframe thead th {\n        text-align: right;\n    }\n</style>\n<table border=\"1\" class=\"dataframe\">\n  <thead>\n    <tr style=\"text-align: right;\">\n      <th></th>\n      <th>product_name</th>\n      <th>total_quantity_sold</th>\n      <th>order_id</th>\n      <th>product_id</th>\n      <th>aisle_id</th>\n      <th>aisle</th>\n      <th>department_id</th>\n      <th>department</th>\n      <th>substitute</th>\n      <th>frozen</th>\n      <th>refrigerated</th>\n      <th>met_b_score</th>\n    </tr>\n  </thead>\n  <tbody>\n    <tr>\n      <th>18436</th>\n      <td>Cucumber</td>\n      <td>4</td>\n      <td>3735</td>\n      <td>6581</td>\n      <td>83</td>\n      <td>fresh vegetables</td>\n      <td>4</td>\n      <td>produce</td>\n      <td>49683</td>\n      <td>False</td>\n      <td>False</td>\n      <td>1.625000</td>\n    </tr>\n    <tr>\n      <th>8548</th>\n      <td>Cucumber Seedless</td>\n      <td>15</td>\n      <td>6037</td>\n      <td>34809</td>\n      <td>83</td>\n      <td>fresh vegetables</td>\n      <td>4</td>\n      <td>produce</td>\n      <td>49683</td>\n      <td>False</td>\n      <td>False</td>\n      <td>1.625000</td>\n    </tr>\n    <tr>\n      <th>15</th>\n      <td>Cucumber Kirby</td>\n      <td>2905</td>\n      <td>1</td>\n      <td>49683</td>\n      <td>83</td>\n      <td>fresh vegetables</td>\n      <td>4</td>\n      <td>produce</td>\n      <td>49683</td>\n      <td>False</td>\n      <td>False</td>\n      <td>1.625000</td>\n    </tr>\n    <tr>\n      <th>17699</th>\n      <td>Chicken and Cheese Taquitos</td>\n      <td>4</td>\n      <td>39357</td>\n      <td>11716</td>\n      <td>129</td>\n      <td>frozen appetizers sides</td>\n      <td>1</td>\n      <td>frozen</td>\n      <td>49678</td>\n      <td>True</td>\n      <td>False</td>\n      <td>2.325000</td>\n    </tr>\n    <tr>\n      <th>32365</th>\n      <td>Pierogi &amp; Onion</td>\n      <td>1</td>\n      <td>61336</td>\n      <td>46551</td>\n      <td>38</td>\n      <td>frozen meals</td>\n      <td>1</td>\n      <td>frozen</td>\n      <td>49678</td>\n      <td>True</td>\n      <td>False</td>\n      <td>2.325000</td>\n    </tr>\n    <tr>\n      <th>...</th>\n      <td>...</td>\n      <td>...</td>\n      <td>...</td>\n      <td>...</td>\n      <td>...</td>\n      <td>...</td>\n      <td>...</td>\n      <td>...</td>\n      <td>...</td>\n      <td>...</td>\n      <td>...</td>\n      <td>...</td>\n    </tr>\n    <tr>\n      <th>13743</th>\n      <td>Mandarin Orange Sparkling Water</td>\n      <td>7</td>\n      <td>6460</td>\n      <td>5711</td>\n      <td>115</td>\n      <td>water seltzer sparkling water</td>\n      <td>7</td>\n      <td>beverages</td>\n      <td>49520</td>\n      <td>False</td>\n      <td>False</td>\n      <td>15.369553</td>\n    </tr>\n    <tr>\n      <th>12717</th>\n      <td>Tangerine Lemongrass Sparkling Water</td>\n      <td>8</td>\n      <td>14608</td>\n      <td>39199</td>\n      <td>115</td>\n      <td>water seltzer sparkling water</td>\n      <td>7</td>\n      <td>beverages</td>\n      <td>49520</td>\n      <td>False</td>\n      <td>False</td>\n      <td>15.369553</td>\n    </tr>\n    <tr>\n      <th>16009</th>\n      <td>Mandarin Orange Sparkling Seltzer Water</td>\n      <td>5</td>\n      <td>15567</td>\n      <td>11194</td>\n      <td>115</td>\n      <td>water seltzer sparkling water</td>\n      <td>7</td>\n      <td>beverages</td>\n      <td>49520</td>\n      <td>False</td>\n      <td>False</td>\n      <td>15.369553</td>\n    </tr>\n    <tr>\n      <th>24391</th>\n      <td>Black Raspberry Water</td>\n      <td>2</td>\n      <td>89519</td>\n      <td>33142</td>\n      <td>100</td>\n      <td>missing</td>\n      <td>21</td>\n      <td>missing</td>\n      <td>49520</td>\n      <td>False</td>\n      <td>False</td>\n      <td>15.369553</td>\n    </tr>\n    <tr>\n      <th>20073</th>\n      <td>Berry Sparkling Water</td>\n      <td>3</td>\n      <td>22607</td>\n      <td>45475</td>\n      <td>115</td>\n      <td>water seltzer sparkling water</td>\n      <td>7</td>\n      <td>beverages</td>\n      <td>49520</td>\n      <td>False</td>\n      <td>False</td>\n      <td>15.369553</td>\n    </tr>\n  </tbody>\n</table>\n<p>100 rows × 12 columns</p>\n</div>"
     },
     "execution_count": 7,
     "metadata": {},
     "output_type": "execute_result"
    }
   ],
   "source": [
    "data.sort_values(by=\"substitute\", ascending=False).head(100)"
   ],
   "metadata": {
    "collapsed": false
   }
  },
  {
   "cell_type": "markdown",
   "source": [
    "## 4. Optimization and Finding Top 1000 Products\n"
   ],
   "metadata": {
    "collapsed": false
   }
  },
  {
   "cell_type": "code",
   "execution_count": 8,
   "outputs": [
    {
     "data": {
      "text/plain": "             product_name  total_quantity_sold  order_id  product_id  \\\n0                  Banana                14494        10       24852   \n1  Bag of Organic Bananas                11694         1       13176   \n2    Organic Strawberries                 8081        10       21137   \n3    Organic Baby Spinach                 7369         3       21903   \n4    Organic Hass Avocado                 6411         1       47209   \n\n   substitute  frozen  refrigerated  met_b_score  \n0       24852   False         False    22.188600  \n1       13176   False         False     3.503968  \n2       21137   False         False    17.255952  \n3       21903   False         False    10.514652  \n4       47209   False         False     4.249242  ",
      "text/html": "<div>\n<style scoped>\n    .dataframe tbody tr th:only-of-type {\n        vertical-align: middle;\n    }\n\n    .dataframe tbody tr th {\n        vertical-align: top;\n    }\n\n    .dataframe thead th {\n        text-align: right;\n    }\n</style>\n<table border=\"1\" class=\"dataframe\">\n  <thead>\n    <tr style=\"text-align: right;\">\n      <th></th>\n      <th>product_name</th>\n      <th>total_quantity_sold</th>\n      <th>order_id</th>\n      <th>product_id</th>\n      <th>substitute</th>\n      <th>frozen</th>\n      <th>refrigerated</th>\n      <th>met_b_score</th>\n    </tr>\n  </thead>\n  <tbody>\n    <tr>\n      <th>0</th>\n      <td>Banana</td>\n      <td>14494</td>\n      <td>10</td>\n      <td>24852</td>\n      <td>24852</td>\n      <td>False</td>\n      <td>False</td>\n      <td>22.188600</td>\n    </tr>\n    <tr>\n      <th>1</th>\n      <td>Bag of Organic Bananas</td>\n      <td>11694</td>\n      <td>1</td>\n      <td>13176</td>\n      <td>13176</td>\n      <td>False</td>\n      <td>False</td>\n      <td>3.503968</td>\n    </tr>\n    <tr>\n      <th>2</th>\n      <td>Organic Strawberries</td>\n      <td>8081</td>\n      <td>10</td>\n      <td>21137</td>\n      <td>21137</td>\n      <td>False</td>\n      <td>False</td>\n      <td>17.255952</td>\n    </tr>\n    <tr>\n      <th>3</th>\n      <td>Organic Baby Spinach</td>\n      <td>7369</td>\n      <td>3</td>\n      <td>21903</td>\n      <td>21903</td>\n      <td>False</td>\n      <td>False</td>\n      <td>10.514652</td>\n    </tr>\n    <tr>\n      <th>4</th>\n      <td>Organic Hass Avocado</td>\n      <td>6411</td>\n      <td>1</td>\n      <td>47209</td>\n      <td>47209</td>\n      <td>False</td>\n      <td>False</td>\n      <td>4.249242</td>\n    </tr>\n  </tbody>\n</table>\n</div>"
     },
     "execution_count": 8,
     "metadata": {},
     "output_type": "execute_result"
    }
   ],
   "source": [
    "# trim data\n",
    "my_data = data.drop(columns=[\"aisle_id\", \"aisle\", \"department_id\", \"department\"])\n",
    "my_data.head()"
   ],
   "metadata": {
    "collapsed": false
   }
  },
  {
   "cell_type": "code",
   "execution_count": 9,
   "outputs": [],
   "source": [
    "def max_metric_a_aisle(data: pd.DataFrame, k:int, use_substitutes=True) -> list:\n",
    "    \"\"\" Return the aisle that maximizes metric a over the data. Do this by first getting the item with most sales, then getting the item with most sales in orders that do not contain the first item, and so on. For why this produces max list, see proof writeup.\n",
    "    \"\"\"\n",
    "    return _max_metric_a_recur_helper(data, [], k, use_substitutes=use_substitutes)\n",
    "\n",
    "def _max_metric_a_recur_helper(data: pd.DataFrame, aisle: list, k, use_substitutes=True) -> list:\n",
    "    \"\"\" Return the aisle that maximizes metric a over the data. Do this by first getting the item with most sales, then getting the item with most sales in orders that do not contain the first item, and so on.\n",
    "\n",
    "    Precondition:\n",
    "    - data must be a subset of the test data\n",
    "    - aisle must be a subset of the top 1000 items by sales\n",
    "    \"\"\"\n",
    "    # Base case\n",
    "    if len(aisle) == k:\n",
    "        return aisle\n",
    "    elif data.shape[0] == 0:\n",
    "        return aisle\n",
    "    else:\n",
    "        # Get the top item by sales in data\n",
    "        top_item = _get_top_product(data, use_substitutes=use_substitutes)\n",
    "\n",
    "        # Add top item to aisle\n",
    "        aisle.append(top_item)\n",
    "\n",
    "        # Filter data to only include orders that do not contain the top item\n",
    "        if use_substitutes:\n",
    "            top_item_orders = data[data[\"substitute\"] == top_item]\n",
    "        else:\n",
    "            top_item_orders = data[data[\"product_id\"] == top_item]\n",
    "        data_excluding_top_item = data[~data[\"order_id\"].isin(top_item_orders[\"order_id\"])]\n",
    "\n",
    "        # Recursively call helper function\n",
    "        return _max_metric_a_recur_helper(data_excluding_top_item, aisle, k, use_substitutes=use_substitutes)\n",
    "\n",
    "def _get_top_product(data: pd.DataFrame, use_substitutes=True) -> list:\n",
    "    \"\"\" Return the top item by sales in data. \"\"\"\n",
    "\n",
    "    if use_substitutes:\n",
    "        column = \"substitute\"\n",
    "    else:\n",
    "        column = \"product_id\"\n",
    "\n",
    "    sales = pd.DataFrame(data.groupby(column)[\"order_id\"].nunique())\n",
    "\n",
    "    # Rename column to sales\n",
    "    sales.rename(columns = {\"order_id\": \"sales\"}, inplace=True)\n",
    "\n",
    "    # Get top item by sales\n",
    "    sales.reset_index(inplace=True) # Reset index so we don't get multiple items if there is a tie\n",
    "    top_item =  sales.loc[sales[\"sales\"].idxmax()][column]\n",
    "\n",
    "    return top_item"
   ],
   "metadata": {
    "collapsed": false
   }
  },
  {
   "cell_type": "code",
   "execution_count": 10,
   "outputs": [],
   "source": [
    "def max_metric_b_aisle(data: pd.DataFrame, k: int, use_substitutes=True) -> list:\n",
    "    \"\"\" Return the aisle that maximizes metric b over the data. Do this by picking the thousand items with the highest metric b score.\n",
    "    \"\"\"\n",
    "    if data.shape[0] < k:\n",
    "        raise ValueError(\"k must be less than the number of items in the dataset\")\n",
    "\n",
    "    if use_substitutes:\n",
    "        column = \"substitute\"\n",
    "    else:\n",
    "        column = \"product_id\"\n",
    "\n",
    "    data_copy = data.copy()\n",
    "    add_met_b_column(data_copy)\n",
    "\n",
    "    met_b_top_k = data_copy.sort_values(by=\"met_b_score\", ascending=False)\n",
    "    met_b_top_k.drop(columns=\"order_id\", inplace=True)\n",
    "    met_b_top_k.drop_duplicates(subset=column, inplace=True)\n",
    "    met_b_top_k.reset_index(drop=True, inplace=True)\n",
    "    met_b_top_k = met_b_top_k.iloc[:k][column].tolist()\n",
    "    return met_b_top_k"
   ],
   "metadata": {
    "collapsed": false
   }
  },
  {
   "cell_type": "code",
   "execution_count": 40,
   "outputs": [],
   "source": [
    "def get_max_aisle(data: pd.DataFrame, k: int, use_substitutes=True) -> list:\n",
    "    \"\"\" Make our aisle of k items \"\"\"\n",
    "    if data.shape[0] < k:\n",
    "        raise ValueError(\"k must be less than the number of items in the dataset\")\n",
    "\n",
    "    return max_metric_b_aisle(data, k, use_substitutes=use_substitutes)"
   ],
   "metadata": {
    "collapsed": false
   }
  },
  {
   "cell_type": "markdown",
   "source": [
    "## 5. Combining Code"
   ],
   "metadata": {
    "collapsed": false
   }
  },
  {
   "cell_type": "code",
   "execution_count": 41,
   "outputs": [],
   "source": [
    "def make_1000_items(data: pd.DataFrame, use_substitutes=True) -> list:\n",
    "    \"\"\" Make our aisle of 1000 items \"\"\"\n",
    "    data_copy = data.copy()\n",
    "    add_met_b_column(data_copy)\n",
    "    return get_max_aisle(data_copy, 1000, use_substitutes=use_substitutes)"
   ],
   "metadata": {
    "collapsed": false
   }
  },
  {
   "cell_type": "markdown",
   "source": [
    "## 6. Evaluation\n"
   ],
   "metadata": {
    "collapsed": false
   }
  },
  {
   "cell_type": "markdown",
   "source": [
    "### Defining Metrics"
   ],
   "metadata": {
    "collapsed": false
   }
  },
  {
   "cell_type": "code",
   "execution_count": 13,
   "outputs": [],
   "source": [
    "def metric_a(test_data: pd.DataFrame, insta_aisle: list, use_substitutes=True) -> float:\n",
    "    \"\"\" Return the number of orders that utilize the in-aisle items as a percentage of the total number of orders in the test_data dataset.\n",
    "\n",
    "    Precondition:\n",
    "    len(test_data) > 0\n",
    "    \"\"\"\n",
    "    # Account for whether we are using substitutes or not\n",
    "    if use_substitutes:\n",
    "        column = \"substitute\"\n",
    "    else:\n",
    "        column = \"product_id\"\n",
    "\n",
    "    # Count the orders that utilize in-aisle items\n",
    "    ## Filter the data to only include orders that purchased at least one item in the aisle\n",
    "    purchases_in_aisle = test_data[test_data[column].isin(insta_aisle)]\n",
    "\n",
    "    ## Count the number of orders that include at least one item in the aisle\n",
    "    orders_in_aisle = purchases_in_aisle[\"order_id\"].nunique()\n",
    "\n",
    "    ## Count the total number of orders in the test data\n",
    "    total_orders = test_data[\"order_id\"].nunique()\n",
    "\n",
    "    # Check for errors for debugging purposes\n",
    "    if total_orders <= 0:\n",
    "        raise ValueError(\"There must be at least one order in the test data\")\n",
    "\n",
    "    # Return the percentage of orders that utilize in-aisle items\n",
    "    result = (orders_in_aisle / total_orders) * 100\n",
    "\n",
    "    return result"
   ],
   "metadata": {
    "collapsed": false
   }
  },
  {
   "cell_type": "code",
   "execution_count": 14,
   "outputs": [],
   "source": [
    "def metric_b(test_data: pd.DataFrame, insta_aisle: list, use_substitutes=True) -> float:\n",
    "    \"\"\" Calculate the percentage of items in each order that utilize in-aisle items and return the average of these percentages.\n",
    "    \"\"\"\n",
    "\n",
    "    # Account for whether we are using substitutes or not\n",
    "    if use_substitutes:\n",
    "        column = \"substitute\"\n",
    "    else:\n",
    "        column = \"product_id\"\n",
    "\n",
    "    # Copy data to prevent altering test_data\n",
    "    test_data_copy = test_data.copy()\n",
    "\n",
    "    # Add column that is 1 if the product id is in insta_aisle and 0 if not\n",
    "    test_data_copy[\"is_utilized\"] = test_data_copy[column].isin(insta_aisle).astype(int)\n",
    "\n",
    "    # Sum the new column and divide by total number of items in order\n",
    "    ## Get a map mapping order_id to the number of items in the order that are utilized\n",
    "    order_to_ultilized_items = test_data_copy.groupby(\"order_id\")[\"is_utilized\"].sum()\n",
    "\n",
    "    ## Get a map mapping order_id to the total number of items in the order\n",
    "    order_to_total_items = test_data_copy.groupby(\"order_id\")[\"order_id\"].count()\n",
    "\n",
    "    ## Divide the two maps to get order to the percentage of items in the order that are utilized\n",
    "    order_to_precent_ultilization = order_to_ultilized_items / order_to_total_items\n",
    "\n",
    "\n",
    "    # Return average of percentage ultilization over all orders\n",
    "    return order_to_precent_ultilization.mean() * 100\n"
   ],
   "metadata": {
    "collapsed": false
   }
  },
  {
   "cell_type": "code",
   "execution_count": 15,
   "outputs": [],
   "source": [
    "def metric_average(test_data: pd.DataFrame, insta_aisle: list, use_substitutes=True) -> float:\n",
    "    \"\"\" Return the average of metric a and metric b \"\"\"\n",
    "    return (metric_a(test_data, insta_aisle, use_substitutes) + metric_b(test_data, insta_aisle, use_substitutes)) / 2"
   ],
   "metadata": {
    "collapsed": false
   }
  },
  {
   "cell_type": "code",
   "execution_count": 16,
   "outputs": [],
   "source": [
    "def get_num_frozen_and_refrigerated(data, aisle, use_substitutes=True) -> tuple:\n",
    "    \"\"\" Return the number of frozen and refrigerated items in the aisle \"\"\"\n",
    "    # Get the number of frozen and refrigerated items in the aisle\n",
    "    if use_substitutes:\n",
    "        column = \"product_id\" # Don't double count frozen and refrigerated items\n",
    "    else:\n",
    "        column = \"product_id\"\n",
    "    data.drop_duplicates(subset=column, inplace=True)\n",
    "    frozen = data[data[column].isin(aisle)][\"frozen\"].astype(int).sum()\n",
    "    refrigerated = data[data[column].isin(aisle)][\"refrigerated\"].astype(int).sum()\n",
    "    return frozen, refrigerated"
   ],
   "metadata": {
    "collapsed": false
   }
  },
  {
   "cell_type": "markdown",
   "source": [
    "### Get Training and Testing Sets"
   ],
   "metadata": {
    "collapsed": false
   }
  },
  {
   "cell_type": "code",
   "execution_count": 17,
   "outputs": [],
   "source": [
    "product_id_to_substitute = data.set_index(\"product_id\")[\"substitute\"]\n",
    "product_id_to_frozen = data.set_index(\"product_id\")[\"frozen\"]\n",
    "product_id_to_refrigerated = data.set_index(\"product_id\")[\"refrigerated\"]"
   ],
   "metadata": {
    "collapsed": false
   }
  },
  {
   "cell_type": "code",
   "execution_count": 18,
   "outputs": [
    {
     "data": {
      "text/plain": "   order_id  product_id                                   product_name  \\\n0         1       49302                               Bulgarian Yogurt   \n1         1       11109  Organic 4% Milk Fat Whole Milk Cottage Cheese   \n2         1       10246                          Organic Celery Hearts   \n3         1       49683                                 Cucumber Kirby   \n4         1       43633           Lightly Smoked Sardines in Olive Oil   \n\n   aisle_id                 aisle  department_id    department  \n0       120                yogurt             16    dairy eggs  \n1       108  other creams cheeses             16    dairy eggs  \n2        83      fresh vegetables              4       produce  \n3        83      fresh vegetables              4       produce  \n4        95   canned meat seafood             15  canned goods  ",
      "text/html": "<div>\n<style scoped>\n    .dataframe tbody tr th:only-of-type {\n        vertical-align: middle;\n    }\n\n    .dataframe tbody tr th {\n        vertical-align: top;\n    }\n\n    .dataframe thead th {\n        text-align: right;\n    }\n</style>\n<table border=\"1\" class=\"dataframe\">\n  <thead>\n    <tr style=\"text-align: right;\">\n      <th></th>\n      <th>order_id</th>\n      <th>product_id</th>\n      <th>product_name</th>\n      <th>aisle_id</th>\n      <th>aisle</th>\n      <th>department_id</th>\n      <th>department</th>\n    </tr>\n  </thead>\n  <tbody>\n    <tr>\n      <th>0</th>\n      <td>1</td>\n      <td>49302</td>\n      <td>Bulgarian Yogurt</td>\n      <td>120</td>\n      <td>yogurt</td>\n      <td>16</td>\n      <td>dairy eggs</td>\n    </tr>\n    <tr>\n      <th>1</th>\n      <td>1</td>\n      <td>11109</td>\n      <td>Organic 4% Milk Fat Whole Milk Cottage Cheese</td>\n      <td>108</td>\n      <td>other creams cheeses</td>\n      <td>16</td>\n      <td>dairy eggs</td>\n    </tr>\n    <tr>\n      <th>2</th>\n      <td>1</td>\n      <td>10246</td>\n      <td>Organic Celery Hearts</td>\n      <td>83</td>\n      <td>fresh vegetables</td>\n      <td>4</td>\n      <td>produce</td>\n    </tr>\n    <tr>\n      <th>3</th>\n      <td>1</td>\n      <td>49683</td>\n      <td>Cucumber Kirby</td>\n      <td>83</td>\n      <td>fresh vegetables</td>\n      <td>4</td>\n      <td>produce</td>\n    </tr>\n    <tr>\n      <th>4</th>\n      <td>1</td>\n      <td>43633</td>\n      <td>Lightly Smoked Sardines in Olive Oil</td>\n      <td>95</td>\n      <td>canned meat seafood</td>\n      <td>15</td>\n      <td>canned goods</td>\n    </tr>\n  </tbody>\n</table>\n</div>"
     },
     "execution_count": 18,
     "metadata": {},
     "output_type": "execute_result"
    }
   ],
   "source": [
    "mma_data = pd.read_csv(\"data/mma_mart.csv\")\n",
    "mma_data.head()"
   ],
   "metadata": {
    "collapsed": false
   }
  },
  {
   "cell_type": "code",
   "execution_count": 19,
   "outputs": [
    {
     "data": {
      "text/plain": "   order_id  product_id                                   product_name  \\\n0         1       49302                               Bulgarian Yogurt   \n1         1       11109  Organic 4% Milk Fat Whole Milk Cottage Cheese   \n2         1       10246                          Organic Celery Hearts   \n3         1       49683                                 Cucumber Kirby   \n4         1       43633           Lightly Smoked Sardines in Olive Oil   \n\n   aisle_id                 aisle  department_id    department  substitute  \\\n0       120                yogurt             16    dairy eggs       47912   \n1       108  other creams cheeses             16    dairy eggs       11109   \n2        83      fresh vegetables              4       produce       44359   \n3        83      fresh vegetables              4       produce       49683   \n4        95   canned meat seafood             15  canned goods       29195   \n\n   frozen  refrigerated  \n0   False          True  \n1   False          True  \n2   False         False  \n3   False         False  \n4   False         False  ",
      "text/html": "<div>\n<style scoped>\n    .dataframe tbody tr th:only-of-type {\n        vertical-align: middle;\n    }\n\n    .dataframe tbody tr th {\n        vertical-align: top;\n    }\n\n    .dataframe thead th {\n        text-align: right;\n    }\n</style>\n<table border=\"1\" class=\"dataframe\">\n  <thead>\n    <tr style=\"text-align: right;\">\n      <th></th>\n      <th>order_id</th>\n      <th>product_id</th>\n      <th>product_name</th>\n      <th>aisle_id</th>\n      <th>aisle</th>\n      <th>department_id</th>\n      <th>department</th>\n      <th>substitute</th>\n      <th>frozen</th>\n      <th>refrigerated</th>\n    </tr>\n  </thead>\n  <tbody>\n    <tr>\n      <th>0</th>\n      <td>1</td>\n      <td>49302</td>\n      <td>Bulgarian Yogurt</td>\n      <td>120</td>\n      <td>yogurt</td>\n      <td>16</td>\n      <td>dairy eggs</td>\n      <td>47912</td>\n      <td>False</td>\n      <td>True</td>\n    </tr>\n    <tr>\n      <th>1</th>\n      <td>1</td>\n      <td>11109</td>\n      <td>Organic 4% Milk Fat Whole Milk Cottage Cheese</td>\n      <td>108</td>\n      <td>other creams cheeses</td>\n      <td>16</td>\n      <td>dairy eggs</td>\n      <td>11109</td>\n      <td>False</td>\n      <td>True</td>\n    </tr>\n    <tr>\n      <th>2</th>\n      <td>1</td>\n      <td>10246</td>\n      <td>Organic Celery Hearts</td>\n      <td>83</td>\n      <td>fresh vegetables</td>\n      <td>4</td>\n      <td>produce</td>\n      <td>44359</td>\n      <td>False</td>\n      <td>False</td>\n    </tr>\n    <tr>\n      <th>3</th>\n      <td>1</td>\n      <td>49683</td>\n      <td>Cucumber Kirby</td>\n      <td>83</td>\n      <td>fresh vegetables</td>\n      <td>4</td>\n      <td>produce</td>\n      <td>49683</td>\n      <td>False</td>\n      <td>False</td>\n    </tr>\n    <tr>\n      <th>4</th>\n      <td>1</td>\n      <td>43633</td>\n      <td>Lightly Smoked Sardines in Olive Oil</td>\n      <td>95</td>\n      <td>canned meat seafood</td>\n      <td>15</td>\n      <td>canned goods</td>\n      <td>29195</td>\n      <td>False</td>\n      <td>False</td>\n    </tr>\n  </tbody>\n</table>\n</div>"
     },
     "execution_count": 19,
     "metadata": {},
     "output_type": "execute_result"
    }
   ],
   "source": [
    "mma_data[\"substitute\"] = mma_data[\"product_id\"].map(product_id_to_substitute)\n",
    "mma_data[\"frozen\"] = mma_data[\"product_id\"].map(product_id_to_frozen)\n",
    "mma_data[\"refrigerated\"] = mma_data[\"product_id\"].map(product_id_to_refrigerated)\n",
    "mma_data.head()"
   ],
   "metadata": {
    "collapsed": false
   }
  },
  {
   "cell_type": "code",
   "execution_count": 20,
   "outputs": [],
   "source": [
    "TRAIN_TEST_SEED = 42 # Specify random state 42 for reproducibility.\n",
    "TEST_SIZE = 0.2 # Use 20% of the data for testing.\n",
    "orders = mma_data[\"order_id\"].unique() # Get all unique order ids\n",
    "\n",
    "# Split the orders into train and test sets\n",
    "train_orders, test_orders = train_test_split(orders, test_size=TEST_SIZE, random_state=TRAIN_TEST_SEED)\n",
    "\n",
    "# Retrieve all the purchases in the train and test order sets\n",
    "train_data = mma_data[mma_data[\"order_id\"].isin(train_orders)]\n",
    "test_data = mma_data[mma_data[\"order_id\"].isin(test_orders)]"
   ],
   "metadata": {
    "collapsed": false
   }
  },
  {
   "cell_type": "code",
   "execution_count": 21,
   "outputs": [
    {
     "data": {
      "text/plain": "(790099, 10)"
     },
     "execution_count": 21,
     "metadata": {},
     "output_type": "execute_result"
    }
   ],
   "source": [
    "train_data.shape"
   ],
   "metadata": {
    "collapsed": false
   }
  },
  {
   "cell_type": "code",
   "execution_count": 22,
   "outputs": [],
   "source": [
    "# Free up memory\n",
    "data = 0"
   ],
   "metadata": {
    "collapsed": false
   }
  },
  {
   "cell_type": "markdown",
   "source": [
    "### Evaluate on the train test split"
   ],
   "metadata": {
    "collapsed": false
   }
  },
  {
   "cell_type": "code",
   "execution_count": 42,
   "outputs": [],
   "source": [
    "our_aisle = make_1000_items(train_data, use_substitutes=True)\n",
    "our_aisle_no_sub = make_1000_items(train_data, use_substitutes=False)"
   ],
   "metadata": {
    "collapsed": false
   }
  },
  {
   "cell_type": "code",
   "execution_count": 24,
   "outputs": [],
   "source": [
    "baseline_aisle = baseline(train_data, 1000, use_substitutes=True)\n",
    "baseline_aisle_no_sub = baseline(train_data, 1000, use_substitutes=False)"
   ],
   "metadata": {
    "collapsed": false
   }
  },
  {
   "cell_type": "code",
   "execution_count": 25,
   "outputs": [],
   "source": [
    "max_aisle_met_a = max_metric_a_aisle(test_data, 1000, use_substitutes=True)\n",
    "max_aisle_met_b = max_metric_b_aisle(test_data, 1000, use_substitutes=True)"
   ],
   "metadata": {
    "collapsed": false
   }
  },
  {
   "cell_type": "code",
   "execution_count": 26,
   "outputs": [],
   "source": [
    "def show_results(aisle, test_data, name=\"Aisle\"):\n",
    "    print(name)\n",
    "    print(\"Metric A: \", metric_a(test_data, aisle))\n",
    "    print(\"Metric B: \", metric_b(test_data, aisle))\n",
    "    print(\"Average: \", metric_average(test_data, aisle))\n",
    "    print()"
   ],
   "metadata": {
    "collapsed": false
   }
  },
  {
   "cell_type": "code",
   "execution_count": 43,
   "outputs": [
    {
     "name": "stdout",
     "output_type": "stream",
     "text": [
      "Our Aisle\n",
      "Metric A:  99.36116931568458\n",
      "Metric B:  89.57402192252175\n",
      "Average:  94.46759561910316\n",
      "\n",
      "Our Aisle (No Substitutes)\n",
      "Metric A:  77.28318086574333\n",
      "Metric B:  25.410390644325137\n",
      "Average:  51.34678575503423\n",
      "\n",
      "Baseline Aisle\n",
      "Metric A:  99.23340317882149\n",
      "Metric B:  89.461903099833\n",
      "Average:  94.34765313932724\n",
      "\n",
      "Baseline Aisle (No Substitutes)\n",
      "Metric A:  97.39357080799304\n",
      "Metric B:  73.65808556591533\n",
      "Average:  85.52582818695419\n",
      "\n",
      "Theoretical Maximum Aisle Metric A\n",
      "Metric A:  99.73424643532478\n",
      "Metric B:  84.68696210695022\n",
      "Average:  92.2106042711375\n",
      "\n",
      "Theoretical Maximum Aisle Metric B\n",
      "Metric A:  99.42249706137886\n",
      "Metric B:  89.76667637352155\n",
      "Average:  94.5945867174502\n",
      "\n"
     ]
    }
   ],
   "source": [
    "show_results(our_aisle, test_data, name=\"Our Aisle\")\n",
    "show_results(our_aisle_no_sub, test_data, name=\"Our Aisle (No Substitutes)\")\n",
    "show_results(baseline_aisle, test_data, name=\"Baseline Aisle\")\n",
    "show_results(baseline_aisle_no_sub, test_data, name=\"Baseline Aisle (No Substitutes)\")\n",
    "show_results(max_aisle_met_a, test_data, name=\"Theoretical Maximum Aisle Metric A\")\n",
    "show_results(max_aisle_met_b, test_data, name=\"Theoretical Maximum Aisle Metric B\")"
   ],
   "metadata": {
    "collapsed": false
   }
  },
  {
   "cell_type": "markdown",
   "source": [
    "### Evaluate on the full dataset"
   ],
   "metadata": {
    "collapsed": false
   }
  },
  {
   "cell_type": "code",
   "execution_count": 28,
   "outputs": [
    {
     "name": "stdout",
     "output_type": "stream",
     "text": [
      "CPU times: user 25.8 s, sys: 5.12 s, total: 31 s\n",
      "Wall time: 31.1 s\n"
     ]
    }
   ],
   "source": [
    "%%time\n",
    "# Make Our Aisles\n",
    "our_aisle = make_1000_items(mma_data, use_substitutes=True)\n",
    "our_aisle_no_sub = make_1000_items(mma_data, use_substitutes=False)"
   ],
   "metadata": {
    "collapsed": false
   }
  },
  {
   "cell_type": "code",
   "execution_count": 29,
   "outputs": [
    {
     "name": "stdout",
     "output_type": "stream",
     "text": [
      "CPU times: user 571 ms, sys: 54.3 ms, total: 625 ms\n",
      "Wall time: 625 ms\n"
     ]
    }
   ],
   "source": [
    "%%time\n",
    "# Make Baseline Aisles\n",
    "baseline_aisle = baseline(mma_data, 1000, use_substitutes=True)\n",
    "baseline_aisle_no_sub = baseline(mma_data, 1000, use_substitutes=False)"
   ],
   "metadata": {
    "collapsed": false
   }
  },
  {
   "cell_type": "code",
   "execution_count": 30,
   "outputs": [
    {
     "name": "stdout",
     "output_type": "stream",
     "text": [
      "CPU times: user 6.82 s, sys: 884 ms, total: 7.7 s\n",
      "Wall time: 7.72 s\n"
     ]
    }
   ],
   "source": [
    "%%time\n",
    "# Get the theoretical maximum aisles\n",
    "max_aisle_met_a = max_metric_a_aisle(mma_data, 1000, use_substitutes=True)\n",
    "max_aisle_met_b = max_metric_b_aisle(mma_data, 1000,  use_substitutes=True)"
   ],
   "metadata": {
    "collapsed": false
   }
  },
  {
   "cell_type": "code",
   "execution_count": 31,
   "outputs": [
    {
     "data": {
      "text/plain": "(987259, 10)"
     },
     "execution_count": 31,
     "metadata": {},
     "output_type": "execute_result"
    }
   ],
   "source": [
    "mma_data.shape"
   ],
   "metadata": {
    "collapsed": false
   }
  },
  {
   "cell_type": "code",
   "execution_count": 32,
   "outputs": [
    {
     "name": "stdout",
     "output_type": "stream",
     "text": [
      "Our Aisle\n",
      "Metric A:  98.89812231046784\n",
      "Metric B:  80.82759378580327\n",
      "Average:  89.86285804813556\n",
      "\n",
      "Our Aisle (No Substitutes)\n",
      "Metric A:  90.97748203571392\n",
      "Metric B:  42.59184630788048\n",
      "Average:  66.7846641717972\n",
      "\n",
      "Baseline Aisle\n",
      "Metric A:  99.19352365766152\n",
      "Metric B:  89.51572307420527\n",
      "Average:  94.35462336593339\n",
      "\n",
      "Baseline Aisle (No Substitutes)\n",
      "Metric A:  87.88752261506853\n",
      "Metric B:  37.43603597974471\n",
      "Average:  62.661779297406625\n",
      "\n",
      "Theoretical Maximum Aisle (No Substitutes)\n",
      "Metric A:  87.6166528676418\n",
      "\n",
      "Theoretical Maximum Aisle Metric B (No Substitutes)\n",
      "Metric B:  37.620506930301836\n",
      "\n",
      "Theoretical Maximum Aisle Average (No Substitutes)\n",
      "Average:  62.65364463649513\n",
      "\n",
      "Theoretical Maximum Aisle (With Substitutes)\n",
      "Metric A:  99.72401950262181\n",
      "\n",
      "Theoretical Maximum Aisle Metric B (With Substitutes)\n",
      "Metric B:  89.76192913446106\n",
      "\n",
      "Theoretical Maximum Aisle Average (Impossible to Achieve)\n",
      "Average:  94.74534793807169\n"
     ]
    }
   ],
   "source": [
    "# Evaluate our aisles\n",
    "print(\"Our Aisle\")\n",
    "print(\"Metric A: \", metric_a(mma_data, our_aisle))\n",
    "print(\"Metric B: \", metric_b(mma_data, our_aisle))\n",
    "print(\"Average: \", metric_average(mma_data, our_aisle))\n",
    "\n",
    "print(\"\\nOur Aisle (No Substitutes)\")\n",
    "print(\"Metric A: \", metric_a(mma_data, our_aisle_no_sub, use_substitutes=False))\n",
    "print(\"Metric B: \", metric_b(mma_data, our_aisle_no_sub, use_substitutes=False))\n",
    "print(\"Average: \", metric_average(mma_data, our_aisle_no_sub, use_substitutes=False))\n",
    "\n",
    "# Evaluate baseline aisles\n",
    "print(\"\\nBaseline Aisle\")\n",
    "print(\"Metric A: \", metric_a(mma_data, baseline_aisle))\n",
    "print(\"Metric B: \", metric_b(mma_data, baseline_aisle))\n",
    "print(\"Average: \", metric_average(mma_data, baseline_aisle))\n",
    "\n",
    "print(\"\\nBaseline Aisle (No Substitutes)\")\n",
    "print(\"Metric A: \", metric_a(mma_data, baseline_aisle, use_substitutes=False))\n",
    "print(\"Metric B: \", metric_b(mma_data, baseline_aisle, use_substitutes=False))\n",
    "print(\"Average: \", metric_average(mma_data, baseline_aisle, use_substitutes=False))\n",
    "\n",
    "# Evaluate theoretical maximum aisles (no substitutes)\n",
    "print(\"\\nTheoretical Maximum Aisle (No Substitutes)\")\n",
    "print(\"Metric A: \", metric_a(mma_data, max_aisle_met_a, use_substitutes=False))\n",
    "\n",
    "print(\"\\nTheoretical Maximum Aisle Metric B (No Substitutes)\")\n",
    "print(\"Metric B: \", metric_b(mma_data, max_aisle_met_b, use_substitutes=False))\n",
    "\n",
    "print(\"\\nTheoretical Maximum Aisle Average (No Substitutes)\")\n",
    "print(\"Average: \", (metric_a(mma_data, max_aisle_met_a, use_substitutes=False) + metric_b(test_data, max_aisle_met_b, use_substitutes=False)) / 2)\n",
    "\n",
    "# Evaluate theoretical maximum aisles (with substitutes)\n",
    "print(\"\\nTheoretical Maximum Aisle (With Substitutes)\")\n",
    "print(\"Metric A: \", metric_a(mma_data, max_aisle_met_a, use_substitutes=True))\n",
    "\n",
    "print(\"\\nTheoretical Maximum Aisle Metric B (With Substitutes)\")\n",
    "print(\"Metric B: \", metric_b(mma_data, max_aisle_met_b, use_substitutes=True))\n",
    "\n",
    "print(\"\\nTheoretical Maximum Aisle Average (Impossible to Achieve)\")\n",
    "print(\"Average: \", (metric_a(mma_data, max_aisle_met_a, use_substitutes=True) + metric_b(test_data, max_aisle_met_b, use_substitutes=True)) / 2)"
   ],
   "metadata": {
    "collapsed": false
   }
  },
  {
   "cell_type": "code",
   "execution_count": 33,
   "outputs": [
    {
     "name": "stdout",
     "output_type": "stream",
     "text": [
      "Our Aisle\n",
      "Frozen:  48\n",
      "Refrigerated:  154\n"
     ]
    }
   ],
   "source": [
    "# Get the number of frozen and refrigerated items in our aisle\n",
    "our_frozen, our_refrigerated = get_num_frozen_and_refrigerated(mma_data, our_aisle)\n",
    "print(\"Our Aisle\")\n",
    "print(\"Frozen: \", our_frozen)\n",
    "print(\"Refrigerated: \", our_refrigerated)"
   ],
   "metadata": {
    "collapsed": false
   }
  },
  {
   "cell_type": "code",
   "execution_count": 34,
   "outputs": [
    {
     "name": "stdout",
     "output_type": "stream",
     "text": [
      "Baseline Aisle\n",
      "Frozen:  90\n",
      "Refrigerated:  248\n"
     ]
    }
   ],
   "source": [
    "# Get the number of frozen and refrigerated items in baseline aisle\n",
    "baseline_frozen, baseline_refrigerated = get_num_frozen_and_refrigerated(mma_data, baseline_aisle)\n",
    "print(\"Baseline Aisle\")\n",
    "print(\"Frozen: \", baseline_frozen)\n",
    "print(\"Refrigerated: \", baseline_refrigerated)"
   ],
   "metadata": {
    "collapsed": false
   }
  },
  {
   "cell_type": "code",
   "execution_count": 35,
   "outputs": [
    {
     "data": {
      "text/plain": "563"
     },
     "execution_count": 35,
     "metadata": {},
     "output_type": "execute_result"
    }
   ],
   "source": [
    "len(set(our_aisle).intersection(set(baseline_aisle)))\n"
   ],
   "metadata": {
    "collapsed": false
   }
  }
 ],
 "metadata": {
  "kernelspec": {
   "display_name": "Python 3",
   "language": "python",
   "name": "python3"
  },
  "language_info": {
   "codemirror_mode": {
    "name": "ipython",
    "version": 2
   },
   "file_extension": ".py",
   "mimetype": "text/x-python",
   "name": "python",
   "nbconvert_exporter": "python",
   "pygments_lexer": "ipython2",
   "version": "2.7.6"
  }
 },
 "nbformat": 4,
 "nbformat_minor": 0
}
