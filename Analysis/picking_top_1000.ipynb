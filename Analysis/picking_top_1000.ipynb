{
 "cells": [
  {
   "cell_type": "markdown",
   "source": [
    "# Rotman Data Science Competition\n",
    "### Section 6: Picking Top 1000 Products"
   ],
   "metadata": {
    "collapsed": false
   }
  },
  {
   "cell_type": "markdown",
   "source": [
    "## 0. Imports\n"
   ],
   "metadata": {
    "collapsed": false
   }
  },
  {
   "cell_type": "code",
   "execution_count": 424,
   "outputs": [],
   "source": [
    "import pandas as pd\n",
    "from sklearn.model_selection import train_test_split"
   ],
   "metadata": {
    "collapsed": false
   }
  },
  {
   "cell_type": "markdown",
   "source": [
    "## 1. Load Data\n"
   ],
   "metadata": {
    "collapsed": false
   }
  },
  {
   "cell_type": "code",
   "execution_count": 425,
   "outputs": [],
   "source": [
    "# Make dummy substitute data file\n",
    "def make_dummy_substitute_data() -> bool:\n",
    "    DATA_PATH = \"data/mma_mart.csv\"\n",
    "    data = pd.read_csv(DATA_PATH)\n",
    "    data[\"substitute\"] = data[\"product_id\"]\n",
    "    data[\"frozen\"] = [False] * data.shape[0]\n",
    "    data[\"refrigerated\"] = [False] * data.shape[0]\n",
    "    return data\n",
    "# data = make_dummy_substitute_data()"
   ],
   "metadata": {
    "collapsed": false
   }
  },
  {
   "cell_type": "code",
   "execution_count": 472,
   "outputs": [
    {
     "data": {
      "text/plain": "(35070, 11)"
     },
     "execution_count": 472,
     "metadata": {},
     "output_type": "execute_result"
    }
   ],
   "source": [
    "DATA_WTH_SUBS_PATH = \"substitute_df.csv\"\n",
    "data = pd.read_csv(DATA_WTH_SUBS_PATH)\n",
    "# data.head()\n",
    "data.shape"
   ],
   "metadata": {
    "collapsed": false
   }
  },
  {
   "cell_type": "markdown",
   "source": [
    "## 2. Baseline Model"
   ],
   "metadata": {
    "collapsed": false
   }
  },
  {
   "cell_type": "code",
   "execution_count": 427,
   "outputs": [],
   "source": [
    "def baseline(data: pd.DataFrame, k: int, use_substitutes=True) -> pd.DataFrame:\n",
    "    \"\"\" Return the top k items by sales\n",
    "\n",
    "    Precondition:\n",
    "    k is less than the number of items in the dataset\n",
    "    \"\"\"\n",
    "\n",
    "    # Account for whether we are using substitutes or not\n",
    "    if use_substitutes:\n",
    "        column = \"substitute\"\n",
    "    else:\n",
    "        column = \"product_id\"\n",
    "\n",
    "    # Count number of unique orders for each product or substitute\n",
    "    sales = pd.DataFrame(data.groupby(column)[\"order_id\"].nunique())\n",
    "\n",
    "    # Rename column to sales and sort by sales\n",
    "    sales.rename(columns = {\"order_id\" : \"sales\"}, inplace=True)\n",
    "    sales.sort_values(by=\"sales\", ascending=False, inplace=True)\n",
    "    sales.reset_index(inplace=True)\n",
    "\n",
    "    # Catch errors for debugging purposes\n",
    "    if k > sales.shape[0]:\n",
    "        raise ValueError(\"k must be less than the number of items in the dataset\")\n",
    "\n",
    "    # Return top k items by sales (i.e. top k items with most orders)\n",
    "    return sales.iloc[:k][column].tolist()"
   ],
   "metadata": {
    "collapsed": false
   }
  },
  {
   "cell_type": "markdown",
   "source": [
    "## 3. Processing Data For Metric B Optimization\n"
   ],
   "metadata": {
    "collapsed": false
   }
  },
  {
   "cell_type": "code",
   "execution_count": 428,
   "outputs": [],
   "source": [
    "def add_met_b_column(data, use_substitutes=True) -> None:\n",
    "    \"\"\" Add a column to the data that is the metric b impact score for each product calculated over the full dataset \"\"\"\n",
    "    order_id_to_order_size = data.groupby(\"order_id\")[\"order_id\"].count()\n",
    "    mma_data_aug = data.copy()\n",
    "    mma_data_aug[\"order_size\"] = mma_data_aug[\"order_id\"].map(order_id_to_order_size)\n",
    "\n",
    "    mma_data_aug.loc[:, \"portion_of_order\"] = 1 / mma_data_aug[\"order_size\"]\n",
    "\n",
    "    if use_substitutes:\n",
    "        column = \"substitute\"\n",
    "    else:\n",
    "        column = \"product_id\"\n",
    "\n",
    "    id_to_met_b_score = mma_data_aug.groupby(column)[\"portion_of_order\"].sum()\n",
    "    data[\"met_b_score\"] = data[column].map(id_to_met_b_score)\n",
    "    return None"
   ],
   "metadata": {
    "collapsed": false
   }
  },
  {
   "cell_type": "code",
   "execution_count": 429,
   "outputs": [],
   "source": [
    "add_met_b_column(data)"
   ],
   "metadata": {
    "collapsed": false
   }
  },
  {
   "cell_type": "code",
   "execution_count": 430,
   "outputs": [
    {
     "data": {
      "text/plain": "                                  product_name  total_quantity_sold  order_id  \\\n18436                                 Cucumber                    4      3735   \n8548                         Cucumber Seedless                   15      6037   \n15                              Cucumber Kirby                 2905         1   \n17699              Chicken and Cheese Taquitos                    4     39357   \n32365                          Pierogi & Onion                    1     61336   \n...                                        ...                  ...       ...   \n13743          Mandarin Orange Sparkling Water                    7      6460   \n12717     Tangerine Lemongrass Sparkling Water                    8     14608   \n16009  Mandarin Orange Sparkling Seltzer Water                    5     15567   \n24391                    Black Raspberry Water                    2     89519   \n20073                    Berry Sparkling Water                    3     22607   \n\n       product_id  aisle_id                          aisle  department_id  \\\n18436        6581        83               fresh vegetables              4   \n8548        34809        83               fresh vegetables              4   \n15          49683        83               fresh vegetables              4   \n17699       11716       129        frozen appetizers sides              1   \n32365       46551        38                   frozen meals              1   \n...           ...       ...                            ...            ...   \n13743        5711       115  water seltzer sparkling water              7   \n12717       39199       115  water seltzer sparkling water              7   \n16009       11194       115  water seltzer sparkling water              7   \n24391       33142       100                        missing             21   \n20073       45475       115  water seltzer sparkling water              7   \n\n      department  substitute  frozen  refrigerated  met_b_score  \n18436    produce       49683   False         False     1.625000  \n8548     produce       49683   False         False     1.625000  \n15       produce       49683   False         False     1.625000  \n17699     frozen       49678    True         False     2.325000  \n32365     frozen       49678    True         False     2.325000  \n...          ...         ...     ...           ...          ...  \n13743  beverages       49520   False         False    15.369553  \n12717  beverages       49520   False         False    15.369553  \n16009  beverages       49520   False         False    15.369553  \n24391    missing       49520   False         False    15.369553  \n20073  beverages       49520   False         False    15.369553  \n\n[100 rows x 12 columns]",
      "text/html": "<div>\n<style scoped>\n    .dataframe tbody tr th:only-of-type {\n        vertical-align: middle;\n    }\n\n    .dataframe tbody tr th {\n        vertical-align: top;\n    }\n\n    .dataframe thead th {\n        text-align: right;\n    }\n</style>\n<table border=\"1\" class=\"dataframe\">\n  <thead>\n    <tr style=\"text-align: right;\">\n      <th></th>\n      <th>product_name</th>\n      <th>total_quantity_sold</th>\n      <th>order_id</th>\n      <th>product_id</th>\n      <th>aisle_id</th>\n      <th>aisle</th>\n      <th>department_id</th>\n      <th>department</th>\n      <th>substitute</th>\n      <th>frozen</th>\n      <th>refrigerated</th>\n      <th>met_b_score</th>\n    </tr>\n  </thead>\n  <tbody>\n    <tr>\n      <th>18436</th>\n      <td>Cucumber</td>\n      <td>4</td>\n      <td>3735</td>\n      <td>6581</td>\n      <td>83</td>\n      <td>fresh vegetables</td>\n      <td>4</td>\n      <td>produce</td>\n      <td>49683</td>\n      <td>False</td>\n      <td>False</td>\n      <td>1.625000</td>\n    </tr>\n    <tr>\n      <th>8548</th>\n      <td>Cucumber Seedless</td>\n      <td>15</td>\n      <td>6037</td>\n      <td>34809</td>\n      <td>83</td>\n      <td>fresh vegetables</td>\n      <td>4</td>\n      <td>produce</td>\n      <td>49683</td>\n      <td>False</td>\n      <td>False</td>\n      <td>1.625000</td>\n    </tr>\n    <tr>\n      <th>15</th>\n      <td>Cucumber Kirby</td>\n      <td>2905</td>\n      <td>1</td>\n      <td>49683</td>\n      <td>83</td>\n      <td>fresh vegetables</td>\n      <td>4</td>\n      <td>produce</td>\n      <td>49683</td>\n      <td>False</td>\n      <td>False</td>\n      <td>1.625000</td>\n    </tr>\n    <tr>\n      <th>17699</th>\n      <td>Chicken and Cheese Taquitos</td>\n      <td>4</td>\n      <td>39357</td>\n      <td>11716</td>\n      <td>129</td>\n      <td>frozen appetizers sides</td>\n      <td>1</td>\n      <td>frozen</td>\n      <td>49678</td>\n      <td>True</td>\n      <td>False</td>\n      <td>2.325000</td>\n    </tr>\n    <tr>\n      <th>32365</th>\n      <td>Pierogi &amp; Onion</td>\n      <td>1</td>\n      <td>61336</td>\n      <td>46551</td>\n      <td>38</td>\n      <td>frozen meals</td>\n      <td>1</td>\n      <td>frozen</td>\n      <td>49678</td>\n      <td>True</td>\n      <td>False</td>\n      <td>2.325000</td>\n    </tr>\n    <tr>\n      <th>...</th>\n      <td>...</td>\n      <td>...</td>\n      <td>...</td>\n      <td>...</td>\n      <td>...</td>\n      <td>...</td>\n      <td>...</td>\n      <td>...</td>\n      <td>...</td>\n      <td>...</td>\n      <td>...</td>\n      <td>...</td>\n    </tr>\n    <tr>\n      <th>13743</th>\n      <td>Mandarin Orange Sparkling Water</td>\n      <td>7</td>\n      <td>6460</td>\n      <td>5711</td>\n      <td>115</td>\n      <td>water seltzer sparkling water</td>\n      <td>7</td>\n      <td>beverages</td>\n      <td>49520</td>\n      <td>False</td>\n      <td>False</td>\n      <td>15.369553</td>\n    </tr>\n    <tr>\n      <th>12717</th>\n      <td>Tangerine Lemongrass Sparkling Water</td>\n      <td>8</td>\n      <td>14608</td>\n      <td>39199</td>\n      <td>115</td>\n      <td>water seltzer sparkling water</td>\n      <td>7</td>\n      <td>beverages</td>\n      <td>49520</td>\n      <td>False</td>\n      <td>False</td>\n      <td>15.369553</td>\n    </tr>\n    <tr>\n      <th>16009</th>\n      <td>Mandarin Orange Sparkling Seltzer Water</td>\n      <td>5</td>\n      <td>15567</td>\n      <td>11194</td>\n      <td>115</td>\n      <td>water seltzer sparkling water</td>\n      <td>7</td>\n      <td>beverages</td>\n      <td>49520</td>\n      <td>False</td>\n      <td>False</td>\n      <td>15.369553</td>\n    </tr>\n    <tr>\n      <th>24391</th>\n      <td>Black Raspberry Water</td>\n      <td>2</td>\n      <td>89519</td>\n      <td>33142</td>\n      <td>100</td>\n      <td>missing</td>\n      <td>21</td>\n      <td>missing</td>\n      <td>49520</td>\n      <td>False</td>\n      <td>False</td>\n      <td>15.369553</td>\n    </tr>\n    <tr>\n      <th>20073</th>\n      <td>Berry Sparkling Water</td>\n      <td>3</td>\n      <td>22607</td>\n      <td>45475</td>\n      <td>115</td>\n      <td>water seltzer sparkling water</td>\n      <td>7</td>\n      <td>beverages</td>\n      <td>49520</td>\n      <td>False</td>\n      <td>False</td>\n      <td>15.369553</td>\n    </tr>\n  </tbody>\n</table>\n<p>100 rows × 12 columns</p>\n</div>"
     },
     "execution_count": 430,
     "metadata": {},
     "output_type": "execute_result"
    }
   ],
   "source": [
    "data.sort_values(by=\"substitute\", ascending=False).head(100)"
   ],
   "metadata": {
    "collapsed": false
   }
  },
  {
   "cell_type": "markdown",
   "source": [
    "## 4. Optimization and Finding Top 1000 Products\n"
   ],
   "metadata": {
    "collapsed": false
   }
  },
  {
   "cell_type": "code",
   "execution_count": 431,
   "outputs": [
    {
     "data": {
      "text/plain": "             product_name  total_quantity_sold  order_id  product_id  \\\n0                  Banana                14494        10       24852   \n1  Bag of Organic Bananas                11694         1       13176   \n2    Organic Strawberries                 8081        10       21137   \n3    Organic Baby Spinach                 7369         3       21903   \n4    Organic Hass Avocado                 6411         1       47209   \n\n   substitute  frozen  refrigerated  met_b_score  \n0       24852   False         False    22.188600  \n1       13176   False         False     3.503968  \n2       21137   False         False    17.255952  \n3       21903   False         False    10.514652  \n4       47209   False         False     4.249242  ",
      "text/html": "<div>\n<style scoped>\n    .dataframe tbody tr th:only-of-type {\n        vertical-align: middle;\n    }\n\n    .dataframe tbody tr th {\n        vertical-align: top;\n    }\n\n    .dataframe thead th {\n        text-align: right;\n    }\n</style>\n<table border=\"1\" class=\"dataframe\">\n  <thead>\n    <tr style=\"text-align: right;\">\n      <th></th>\n      <th>product_name</th>\n      <th>total_quantity_sold</th>\n      <th>order_id</th>\n      <th>product_id</th>\n      <th>substitute</th>\n      <th>frozen</th>\n      <th>refrigerated</th>\n      <th>met_b_score</th>\n    </tr>\n  </thead>\n  <tbody>\n    <tr>\n      <th>0</th>\n      <td>Banana</td>\n      <td>14494</td>\n      <td>10</td>\n      <td>24852</td>\n      <td>24852</td>\n      <td>False</td>\n      <td>False</td>\n      <td>22.188600</td>\n    </tr>\n    <tr>\n      <th>1</th>\n      <td>Bag of Organic Bananas</td>\n      <td>11694</td>\n      <td>1</td>\n      <td>13176</td>\n      <td>13176</td>\n      <td>False</td>\n      <td>False</td>\n      <td>3.503968</td>\n    </tr>\n    <tr>\n      <th>2</th>\n      <td>Organic Strawberries</td>\n      <td>8081</td>\n      <td>10</td>\n      <td>21137</td>\n      <td>21137</td>\n      <td>False</td>\n      <td>False</td>\n      <td>17.255952</td>\n    </tr>\n    <tr>\n      <th>3</th>\n      <td>Organic Baby Spinach</td>\n      <td>7369</td>\n      <td>3</td>\n      <td>21903</td>\n      <td>21903</td>\n      <td>False</td>\n      <td>False</td>\n      <td>10.514652</td>\n    </tr>\n    <tr>\n      <th>4</th>\n      <td>Organic Hass Avocado</td>\n      <td>6411</td>\n      <td>1</td>\n      <td>47209</td>\n      <td>47209</td>\n      <td>False</td>\n      <td>False</td>\n      <td>4.249242</td>\n    </tr>\n  </tbody>\n</table>\n</div>"
     },
     "execution_count": 431,
     "metadata": {},
     "output_type": "execute_result"
    }
   ],
   "source": [
    "# trim data\n",
    "my_data = data.drop(columns=[\"aisle_id\", \"aisle\", \"department_id\", \"department\"])\n",
    "my_data.head()"
   ],
   "metadata": {
    "collapsed": false
   }
  },
  {
   "cell_type": "code",
   "execution_count": 432,
   "outputs": [],
   "source": [
    "def get_max_aisle(data: pd.DataFrame, use_substitutes=True) -> list:\n",
    "    \"\"\" Return the optimal aisle of size 1000. \"\"\"\n",
    "    if data.shape[0] < 1000:\n",
    "        raise ValueError(\"There must be at least 1000 orders in the data\")\n",
    "\n",
    "    top_aisle =  _max_aisle_recur_helper(data, [], 1000, use_substitutes=use_substitutes)\n",
    "\n",
    "    # Fill in the rest of the aisle with the top items by metric b score because metric a score is already 100\n",
    "    if len(top_aisle) < 1000:\n",
    "\n",
    "        # Account for whether we are using substitutes or not\n",
    "        if use_substitutes:\n",
    "            column = \"substitute\"\n",
    "        else:\n",
    "            column = \"product_id\"\n",
    "\n",
    "        # Copy data to prevent altering test_data\n",
    "        not_in_aisle = data[~data[column].isin(top_aisle)]\n",
    "        not_in_aisle.sort_values(by=\"met_b_score\", ascending=False, inplace=True)\n",
    "        not_in_aisle.drop_duplicates(subset=column, inplace=True)\n",
    "        remaining_spots = 1000 - len(top_aisle)\n",
    "        filler_items = not_in_aisle.iloc[remaining_spots]\n",
    "        filler_list = filler_items[column].tolist()\n",
    "        top_aisle.extend(filler_list)\n",
    "\n",
    "    return top_aisle"
   ],
   "metadata": {
    "collapsed": false
   }
  },
  {
   "cell_type": "code",
   "execution_count": 433,
   "outputs": [],
   "source": [
    "def _get_top_product_by_sales(data: pd.DataFrame, use_substitutes=True) -> list:\n",
    "    \"\"\" Return the top item by sales in data. \"\"\"\n",
    "    # Count number of orders for each product\n",
    "    if use_substitutes:\n",
    "        # Count number of unique orders for each product (accounting for substitutes)\n",
    "        sales = pd.DataFrame(data.groupby(\"substitute\")[\"order_id\"].nunique())\n",
    "    else:\n",
    "        # Count number of orders for each product. Uniqueness is given.\n",
    "        sales = pd.DataFrame(data.groupby(\"product_id\")[\"order_id\"].count())\n",
    "\n",
    "    # Rename column to sales\n",
    "    sales.rename(columns = {\"order_id\": \"sales\"}, inplace=True)\n",
    "\n",
    "    # Get top item by sales\n",
    "    sales.reset_index(inplace=True) # Reset index so we don't get multiple items if there is a tie\n",
    "\n",
    "    # Get top item\n",
    "    if use_substitutes:\n",
    "        top_item =  sales.loc[sales[\"sales\"].idxmax()][\"substitute\"]\n",
    "    else:\n",
    "        top_item =  sales.loc[sales[\"sales\"].idxmax()][\"product_id\"]\n",
    "\n",
    "    return top_item"
   ],
   "metadata": {
    "collapsed": false
   }
  },
  {
   "cell_type": "code",
   "execution_count": 434,
   "outputs": [],
   "source": [
    "def _max_aisle_recur_helper(data: pd.DataFrame, aisle: list, k: int, use_substitutes=True) -> list:\n",
    "    \"\"\" Return the aisle of size k by the process of picking the item with the highest metric b score, removing all orders that contain that item, and repeating until the aisle is of size k.\n",
    "\n",
    "    Precondition:\n",
    "    - aisle must be a subset of the test data\n",
    "    \"\"\"\n",
    "    # Account for whether we are using substitutes or not\n",
    "    if use_substitutes:\n",
    "        column = \"substitute\"\n",
    "    else:\n",
    "        column = \"product_id\"\n",
    "\n",
    "    # Base case\n",
    "    if len(aisle) == k:\n",
    "        return aisle\n",
    "    elif data.shape[0] == 0:\n",
    "        return aisle\n",
    "    else:\n",
    "        # Get top items by metric b score\n",
    "        top_items = data[data[\"met_b_score\"] == data[\"met_b_score\"].max()]\n",
    "\n",
    "        # If there is a tie, break it by picking the item with the highest sales\n",
    "        top_item = _get_top_product_by_sales(top_items, use_substitutes=use_substitutes)\n",
    "\n",
    "        # Add top item to aisle\n",
    "        aisle.append(top_item)\n",
    "\n",
    "        # Filter data to only include orders that do not contain the top item\n",
    "        top_item_orders = data[data[column] == top_item]\n",
    "        data_excluding_top_item = data[~data[\"order_id\"].isin(top_item_orders[\"order_id\"])]\n",
    "\n",
    "        # Recursively call helper function\n",
    "        return _max_aisle_recur_helper(data_excluding_top_item, aisle, k)"
   ],
   "metadata": {
    "collapsed": false
   }
  },
  {
   "cell_type": "code",
   "execution_count": 435,
   "outputs": [],
   "source": [
    "# Get the Aisle\n",
    "my_max_aisle = get_max_aisle(my_data, use_substitutes=True)\n",
    "my_aisle_df = data[data[\"substitute\"].isin(my_max_aisle)]"
   ],
   "metadata": {
    "collapsed": false
   }
  },
  {
   "cell_type": "markdown",
   "source": [
    "## 5. Combining Code"
   ],
   "metadata": {
    "collapsed": false
   }
  },
  {
   "cell_type": "code",
   "execution_count": 436,
   "outputs": [],
   "source": [
    "def make_1000_items(data: pd.DataFrame, use_substitutes=True) -> list:\n",
    "    \"\"\" Make our aisle of 1000 items \"\"\"\n",
    "    data_copy = data.copy()\n",
    "    add_met_b_column(data_copy)\n",
    "    return get_max_aisle(data_copy, use_substitutes=True)"
   ],
   "metadata": {
    "collapsed": false
   }
  },
  {
   "cell_type": "markdown",
   "source": [
    "## 6. Evaluation\n"
   ],
   "metadata": {
    "collapsed": false
   }
  },
  {
   "cell_type": "markdown",
   "source": [
    "### Defining Metrics"
   ],
   "metadata": {
    "collapsed": false
   }
  },
  {
   "cell_type": "code",
   "execution_count": 437,
   "outputs": [],
   "source": [
    "def metric_a(test_data: pd.DataFrame, insta_aisle: list, use_substitutes=True) -> float:\n",
    "    \"\"\" Return the number of orders that utilize the in-aisle items as a percentage of the total number of orders in the test_data dataset.\n",
    "\n",
    "    Precondition:\n",
    "    len(insta_aisle) == 1000\n",
    "    len(test_data) > 0\n",
    "    \"\"\"\n",
    "    # Account for whether we are using substitutes or not\n",
    "    if use_substitutes:\n",
    "        column = \"substitute\"\n",
    "    else:\n",
    "        column = \"product_id\"\n",
    "\n",
    "    # Count the orders that utilize in-aisle items\n",
    "    ## Filter the data to only include orders that purchased at least one item in the aisle\n",
    "    purchases_in_aisle = test_data[test_data[column].isin(insta_aisle)]\n",
    "\n",
    "    ## Count the number of orders that include at least one item in the aisle\n",
    "    orders_in_aisle = purchases_in_aisle[\"order_id\"].nunique()\n",
    "\n",
    "    ## Count the total number of orders in the test data\n",
    "    total_orders = test_data[\"order_id\"].nunique()\n",
    "\n",
    "    # Check for errors for debugging purposes\n",
    "    if total_orders <= 0:\n",
    "        raise ValueError(\"There must be at least one order in the test data\")\n",
    "\n",
    "    # Return the percentage of orders that utilize in-aisle items\n",
    "    result = (orders_in_aisle / total_orders) * 100\n",
    "\n",
    "    return result\n"
   ],
   "metadata": {
    "collapsed": false
   }
  },
  {
   "cell_type": "code",
   "execution_count": 438,
   "outputs": [],
   "source": [
    "def metric_b(test_data: pd.DataFrame, insta_aisle: list, use_substitutes=True) -> float:\n",
    "    \"\"\" Calculate the percentage of items in each order that utilize in-aisle items and return the average of these percentages.\n",
    "    \"\"\"\n",
    "\n",
    "    # Account for whether we are using substitutes or not\n",
    "    if use_substitutes:\n",
    "        column = \"substitute\"\n",
    "    else:\n",
    "        column = \"product_id\"\n",
    "\n",
    "    # Copy data to prevent altering test_data\n",
    "    test_data_copy = test_data.copy()\n",
    "\n",
    "    # Add column that is 1 if the product id is in insta_aisle and 0 if not\n",
    "    test_data_copy[\"is_utilized\"] = test_data_copy[column].isin(insta_aisle).astype(int)\n",
    "\n",
    "    # Sum the new column and divide by total number of items in order\n",
    "    ## Get a map mapping order_id to the number of items in the order that are utilized\n",
    "    order_to_ultilized_items = test_data_copy.groupby(\"order_id\")[\"is_utilized\"].sum()\n",
    "\n",
    "    ## Get a map mapping order_id to the total number of items in the order\n",
    "    order_to_total_items = test_data_copy.groupby(\"order_id\")[\"order_id\"].count()\n",
    "\n",
    "    ## Divide the two maps to get order to the percentage of items in the order that are utilized\n",
    "    order_to_precent_ultilization = order_to_ultilized_items / order_to_total_items\n",
    "\n",
    "\n",
    "    # Return average of percentage ultilization over all orders\n",
    "    return order_to_precent_ultilization.mean() * 100\n"
   ],
   "metadata": {
    "collapsed": false
   }
  },
  {
   "cell_type": "code",
   "execution_count": 439,
   "outputs": [],
   "source": [
    "def metric_average(test_data: pd.DataFrame, insta_aisle: list, use_substitutes=True) -> float:\n",
    "    \"\"\" Return the average of metric a and metric b \"\"\"\n",
    "    return (metric_a(test_data, insta_aisle, use_substitutes) + metric_b(test_data, insta_aisle, use_substitutes)) / 2"
   ],
   "metadata": {
    "collapsed": false
   }
  },
  {
   "cell_type": "code",
   "execution_count": 440,
   "outputs": [],
   "source": [
    "def get_num_frozen_and_refrigerated(data, aisle, use_substitutes=True) -> tuple:\n",
    "    \"\"\" Return the number of frozen and refrigerated items in the aisle \"\"\"\n",
    "    # Get the number of frozen and refrigerated items in the aisle\n",
    "    if use_substitutes:\n",
    "        column = \"product_id\" # Don't double count frozen and refrigerated items\n",
    "    else:\n",
    "        column = \"product_id\"\n",
    "    frozen = data[data[column].isin(aisle)][\"frozen\"].astype(int).sum()\n",
    "    refrigerated = data[data[column].isin(aisle)][\"refrigerated\"].astype(int).sum()\n",
    "    return frozen, refrigerated"
   ],
   "metadata": {
    "collapsed": false
   }
  },
  {
   "cell_type": "markdown",
   "source": [
    "### Getting Theoretical Maximum Aisles\n"
   ],
   "metadata": {
    "collapsed": false
   }
  },
  {
   "cell_type": "code",
   "execution_count": 441,
   "outputs": [],
   "source": [
    "def max_metric_a_aisle(data: pd.DataFrame, use_substitutes=True) -> list:\n",
    "    \"\"\" Return the aisle that maximizes metric a over the data. Do this by first getting the item with most sales, then getting the item with most sales in orders that do not contain the first item, and so on. For why this produces max list, see proof writeup.\n",
    "    \"\"\"\n",
    "    return _max_metric_a_recur_helper(data, [], use_substitutes=use_substitutes)\n",
    "\n",
    "def _max_metric_a_recur_helper(data: pd.DataFrame, aisle: list, use_substitutes=True) -> list:\n",
    "    \"\"\" Return the aisle that maximizes metric a over the data. Do this by first getting the item with most sales, then getting the item with most sales in orders that do not contain the first item, and so on.\n",
    "\n",
    "    Precondition:\n",
    "    - data must be a subset of the test data\n",
    "    - aisle must be a subset of the top 1000 items by sales\n",
    "    \"\"\"\n",
    "    # Base case\n",
    "    if len(aisle) == 1000:\n",
    "        return aisle\n",
    "    elif data.shape[0] == 0:\n",
    "        return aisle\n",
    "    else:\n",
    "        # Get the top item by sales in data\n",
    "        top_item = _get_top_product(data, use_substitutes=use_substitutes)\n",
    "\n",
    "        # Add top item to aisle\n",
    "        aisle.append(top_item)\n",
    "\n",
    "        # Filter data to only include orders that do not contain the top item\n",
    "        if use_substitutes:\n",
    "            top_item_orders = data[data[\"substitute\"] == top_item]\n",
    "        else:\n",
    "            top_item_orders = data[data[\"product_id\"] == top_item]\n",
    "        data_excluding_top_item = data[~data[\"order_id\"].isin(top_item_orders[\"order_id\"])]\n",
    "\n",
    "        # Recursively call helper function\n",
    "        return _max_metric_a_recur_helper(data_excluding_top_item, aisle)\n",
    "\n",
    "def _get_top_product(data: pd.DataFrame, use_substitutes=True) -> list:\n",
    "    \"\"\" Return the top item by sales in data. \"\"\"\n",
    "    if use_substitutes:\n",
    "        sales = pd.DataFrame(data.groupby(\"substitute\")[\"order_id\"].nunique())\n",
    "    else:\n",
    "        sales = pd.DataFrame(data.groupby(\"product_id\")[\"order_id\"].count())\n",
    "\n",
    "    # Rename column to sales\n",
    "    sales.rename(columns = {\"order_id\": \"sales\"}, inplace=True)\n",
    "\n",
    "    # Get top item by sales\n",
    "    sales.reset_index(inplace=True) # Reset index so we don't get multiple items if there is a tie\n",
    "    top_item =  sales.loc[sales[\"sales\"].idxmax()][\"substitute\"]\n",
    "\n",
    "    return top_item"
   ],
   "metadata": {
    "collapsed": false
   }
  },
  {
   "cell_type": "code",
   "execution_count": 442,
   "outputs": [],
   "source": [
    "def max_metric_b_aisle(data: pd.DataFrame, use_substitutes=True) -> list:\n",
    "    \"\"\" Return the aisle that maximizes metric b over the data. Do this by picking the thousand items with the highest metric b score.\n",
    "    \"\"\"\n",
    "    if use_substitutes:\n",
    "        column = \"substitute\"\n",
    "    else:\n",
    "        column = \"product_id\"\n",
    "\n",
    "    data_copy = data.copy()\n",
    "    add_met_b_column(data_copy)\n",
    "\n",
    "    met_b_top_1000 = data_copy.sort_values(by=\"met_b_score\", ascending=False)\n",
    "    met_b_top_1000.drop(columns=\"order_id\", inplace=True)\n",
    "    met_b_top_1000.drop_duplicates(subset=column, inplace=True)\n",
    "    met_b_top_1000.reset_index(drop=True, inplace=True)\n",
    "    met_b_top_1000 = met_b_top_1000.iloc[:1000][column].tolist()\n",
    "    return met_b_top_1000"
   ],
   "metadata": {
    "collapsed": false
   }
  },
  {
   "cell_type": "markdown",
   "source": [
    "### Get Training and Testing Sets"
   ],
   "metadata": {
    "collapsed": false
   }
  },
  {
   "cell_type": "code",
   "execution_count": 473,
   "outputs": [
    {
     "data": {
      "text/plain": "   order_id  product_id                                   product_name  \\\n0         1       49302                               Bulgarian Yogurt   \n1         1       11109  Organic 4% Milk Fat Whole Milk Cottage Cheese   \n2         1       10246                          Organic Celery Hearts   \n3         1       49683                                 Cucumber Kirby   \n4         1       43633           Lightly Smoked Sardines in Olive Oil   \n\n   aisle_id                 aisle  department_id    department  substitute  \n0       120                yogurt             16    dairy eggs       47912  \n1       108  other creams cheeses             16    dairy eggs       11109  \n2        83      fresh vegetables              4       produce       44359  \n3        83      fresh vegetables              4       produce       49683  \n4        95   canned meat seafood             15  canned goods       29195  ",
      "text/html": "<div>\n<style scoped>\n    .dataframe tbody tr th:only-of-type {\n        vertical-align: middle;\n    }\n\n    .dataframe tbody tr th {\n        vertical-align: top;\n    }\n\n    .dataframe thead th {\n        text-align: right;\n    }\n</style>\n<table border=\"1\" class=\"dataframe\">\n  <thead>\n    <tr style=\"text-align: right;\">\n      <th></th>\n      <th>order_id</th>\n      <th>product_id</th>\n      <th>product_name</th>\n      <th>aisle_id</th>\n      <th>aisle</th>\n      <th>department_id</th>\n      <th>department</th>\n      <th>substitute</th>\n    </tr>\n  </thead>\n  <tbody>\n    <tr>\n      <th>0</th>\n      <td>1</td>\n      <td>49302</td>\n      <td>Bulgarian Yogurt</td>\n      <td>120</td>\n      <td>yogurt</td>\n      <td>16</td>\n      <td>dairy eggs</td>\n      <td>47912</td>\n    </tr>\n    <tr>\n      <th>1</th>\n      <td>1</td>\n      <td>11109</td>\n      <td>Organic 4% Milk Fat Whole Milk Cottage Cheese</td>\n      <td>108</td>\n      <td>other creams cheeses</td>\n      <td>16</td>\n      <td>dairy eggs</td>\n      <td>11109</td>\n    </tr>\n    <tr>\n      <th>2</th>\n      <td>1</td>\n      <td>10246</td>\n      <td>Organic Celery Hearts</td>\n      <td>83</td>\n      <td>fresh vegetables</td>\n      <td>4</td>\n      <td>produce</td>\n      <td>44359</td>\n    </tr>\n    <tr>\n      <th>3</th>\n      <td>1</td>\n      <td>49683</td>\n      <td>Cucumber Kirby</td>\n      <td>83</td>\n      <td>fresh vegetables</td>\n      <td>4</td>\n      <td>produce</td>\n      <td>49683</td>\n    </tr>\n    <tr>\n      <th>4</th>\n      <td>1</td>\n      <td>43633</td>\n      <td>Lightly Smoked Sardines in Olive Oil</td>\n      <td>95</td>\n      <td>canned meat seafood</td>\n      <td>15</td>\n      <td>canned goods</td>\n      <td>29195</td>\n    </tr>\n  </tbody>\n</table>\n</div>"
     },
     "execution_count": 473,
     "metadata": {},
     "output_type": "execute_result"
    }
   ],
   "source": [
    "mma_data = pd.read_csv(\"data/mma_mart.csv\")\n",
    "product_id_to_substitute = data.set_index(\"product_id\")[\"substitute\"]\n",
    "mma_data[\"substitute\"] = mma_data[\"product_id\"].map(product_id_to_substitute)\n",
    "mma_data.head()"
   ],
   "metadata": {
    "collapsed": false
   }
  },
  {
   "cell_type": "code",
   "execution_count": 477,
   "outputs": [
    {
     "ename": "AssertionError",
     "evalue": "",
     "output_type": "error",
     "traceback": [
      "\u001B[0;31m---------------------------------------------------------------------------\u001B[0m",
      "\u001B[0;31mAssertionError\u001B[0m                            Traceback (most recent call last)",
      "Cell \u001B[0;32mIn[477], line 1\u001B[0m\n\u001B[0;32m----> 1\u001B[0m \u001B[38;5;28;01massert\u001B[39;00m mma_data\u001B[38;5;241m.\u001B[39mshape \u001B[38;5;241m==\u001B[39m data\u001B[38;5;241m.\u001B[39mshape\n",
      "\u001B[0;31mAssertionError\u001B[0m: "
     ]
    }
   ],
   "source": [
    "assert mma_data.shape == data.shape"
   ],
   "metadata": {
    "collapsed": false
   }
  },
  {
   "cell_type": "code",
   "execution_count": 450,
   "outputs": [],
   "source": [
    "TRAIN_TEST_SEED = 42 # Specify random state 42 for reproducibility.\n",
    "TEST_SIZE = 0.2 # Use 20% of the data for testing.\n",
    "orders = data[\"order_id\"].unique() # Get all unique order ids\n",
    "\n",
    "# Split the orders into train and test sets\n",
    "train_orders, test_orders = train_test_split(orders, test_size=TEST_SIZE, random_state=TRAIN_TEST_SEED)\n",
    "\n",
    "# Retrieve all the purchases in the train and test order sets\n",
    "train_data = data[data[\"order_id\"].isin(train_orders)]\n",
    "test_data = data[data[\"order_id\"].isin(test_orders)]"
   ],
   "metadata": {
    "collapsed": false
   }
  },
  {
   "cell_type": "markdown",
   "source": [
    "### Get Aisles"
   ],
   "metadata": {
    "collapsed": false
   }
  },
  {
   "cell_type": "code",
   "execution_count": 451,
   "outputs": [
    {
     "name": "stdout",
     "output_type": "stream",
     "text": [
      "CPU times: user 7.55 s, sys: 274 ms, total: 7.82 s\n",
      "Wall time: 7.99 s\n",
      "CPU times: user 7.55 s, sys: 254 ms, total: 7.81 s\n",
      "Wall time: 7.9 s\n"
     ]
    }
   ],
   "source": [
    "%%time\n",
    "# Make Our Aisles\n",
    "our_aisle = make_1000_items(train_data, use_substitutes=True)\n",
    "our_aisle_no_sub = make_1000_items(train_data, use_substitutes=False)"
   ],
   "metadata": {
    "collapsed": false
   }
  },
  {
   "cell_type": "code",
   "execution_count": 452,
   "outputs": [
    {
     "name": "stdout",
     "output_type": "stream",
     "text": [
      "CPU times: user 25.3 ms, sys: 2.19 ms, total: 27.5 ms\n",
      "Wall time: 25.7 ms\n",
      "CPU times: user 23.1 ms, sys: 5.57 ms, total: 28.7 ms\n",
      "Wall time: 27 ms\n"
     ]
    }
   ],
   "source": [
    "%%time\n",
    "# Make Baseline Aisles\n",
    "baseline_aisle = baseline(train_data, 1000, use_substitutes=True)\n",
    "baseline_aisle_no_sub = baseline(train_data, 1000, use_substitutes=False)"
   ],
   "metadata": {
    "collapsed": false
   }
  },
  {
   "cell_type": "code",
   "execution_count": 453,
   "outputs": [
    {
     "name": "stdout",
     "output_type": "stream",
     "text": [
      "CPU times: user 2.52 s, sys: 46 ms, total: 2.57 s\n",
      "Wall time: 2.62 s\n",
      "CPU times: user 3.37 s, sys: 91.7 ms, total: 3.47 s\n",
      "Wall time: 3.47 s\n"
     ]
    }
   ],
   "source": [
    "%%time\n",
    "# Get the theoretical maximum aisles\n",
    "max_aisle_met_a = max_metric_a_aisle(test_data, use_substitutes=True)\n",
    "max_aisle_met_b = max_metric_b_aisle(test_data, use_substitutes=True)"
   ],
   "metadata": {
    "collapsed": false
   }
  },
  {
   "cell_type": "markdown",
   "source": [
    "### Evaluate Aisles"
   ],
   "metadata": {
    "collapsed": false
   }
  },
  {
   "cell_type": "code",
   "execution_count": 457,
   "outputs": [
    {
     "name": "stdout",
     "output_type": "stream",
     "text": [
      "Our Aisle\n",
      "Metric A:  74.13793103448276\n",
      "Metric B:  64.84940442820258\n",
      "Average:  69.49366773134267\n",
      "\n",
      "Our Aisle (No Substitutes)\n",
      "Metric A:  3.343782654127482\n",
      "Metric B:  1.227931762175529\n",
      "Average:  2.2858572081515054\n",
      "\n",
      "Baseline Aisle\n",
      "Metric A:  74.73876698014628\n",
      "Metric B:  65.51955512970125\n",
      "Average:  70.12916105492377\n",
      "\n",
      "Baseline Aisle (No Substitutes)\n",
      "Metric A:  0.0\n",
      "Metric B:  0.0\n",
      "Average:  0.0\n",
      "\n",
      "Theoretical Maximum Aisle (Metric A)\n",
      "Metric A:  6.844305120167189\n",
      "\n",
      "Theoretical Maximum Aisle (Metric B)\n",
      "Metric B:  2.88908447594769\n",
      "\n",
      "Theoretical Maximum Aisle (Average)\n",
      "Average:  4.8666947980574395\n"
     ]
    }
   ],
   "source": [
    "# Evaluate our aisles\n",
    "print(\"Our Aisle\")\n",
    "print(\"Metric A: \", metric_a(test_data, our_aisle))\n",
    "print(\"Metric B: \", metric_b(test_data, our_aisle))\n",
    "print(\"Average: \", metric_average(test_data, our_aisle))\n",
    "\n",
    "print(\"\\nOur Aisle (No Substitutes)\")\n",
    "print(\"Metric A: \", metric_a(test_data, our_aisle_no_sub, use_substitutes=False))\n",
    "print(\"Metric B: \", metric_b(test_data, our_aisle_no_sub, use_substitutes=False))\n",
    "print(\"Average: \", metric_average(test_data, our_aisle_no_sub, use_substitutes=False))\n",
    "\n",
    "# Evaluate baseline aisles\n",
    "print(\"\\nBaseline Aisle\")\n",
    "print(\"Metric A: \", metric_a(test_data, baseline_aisle))\n",
    "print(\"Metric B: \", metric_b(test_data, baseline_aisle))\n",
    "print(\"Average: \", metric_average(test_data, baseline_aisle))\n",
    "\n",
    "print(\"\\nBaseline Aisle (No Substitutes)\")\n",
    "print(\"Metric A: \", metric_a(test_data, baseline_aisle_no_sub, use_substitutes=False))\n",
    "print(\"Metric B: \", metric_b(test_data, baseline_aisle_no_sub, use_substitutes=False))\n",
    "print(\"Average: \", metric_average(test_data, baseline_aisle_no_sub, use_substitutes=False))\n",
    "\n",
    "# Evaluate theoretical maximum aisles\n",
    "print(\"\\nTheoretical Maximum Aisle (Metric A)\")\n",
    "print(\"Metric A: \", metric_a(test_data, max_aisle_met_a, use_substitutes=False))\n",
    "\n",
    "print(\"\\nTheoretical Maximum Aisle (Metric B)\")\n",
    "print(\"Metric B: \", metric_b(test_data, max_aisle_met_b, use_substitutes=False))\n",
    "\n",
    "print(\"\\nTheoretical Maximum Aisle (Average)\")\n",
    "print(\"Average: \", (metric_a(test_data, max_aisle_met_a, use_substitutes=False) + metric_b(test_data, max_aisle_met_b, use_substitutes=False)) / 2)\n"
   ],
   "metadata": {
    "collapsed": false
   }
  }
 ],
 "metadata": {
  "kernelspec": {
   "display_name": "Python 3",
   "language": "python",
   "name": "python3"
  },
  "language_info": {
   "codemirror_mode": {
    "name": "ipython",
    "version": 2
   },
   "file_extension": ".py",
   "mimetype": "text/x-python",
   "name": "python",
   "nbconvert_exporter": "python",
   "pygments_lexer": "ipython2",
   "version": "2.7.6"
  }
 },
 "nbformat": 4,
 "nbformat_minor": 0
}
