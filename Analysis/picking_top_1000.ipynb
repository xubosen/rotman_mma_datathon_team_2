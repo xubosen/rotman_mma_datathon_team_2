{
 "cells": [
  {
   "cell_type": "markdown",
   "source": [
    "# Rotman Data Science Competition\n",
    "### Section 6: Picking Top 1000 Products"
   ],
   "metadata": {
    "collapsed": false
   }
  },
  {
   "cell_type": "markdown",
   "source": [
    "## 0. Imports\n"
   ],
   "metadata": {
    "collapsed": false
   }
  },
  {
   "cell_type": "code",
   "execution_count": 179,
   "outputs": [],
   "source": [
    "import pandas as pd"
   ],
   "metadata": {
    "collapsed": false
   }
  },
  {
   "cell_type": "markdown",
   "source": [
    "## 1. Load Data\n"
   ],
   "metadata": {
    "collapsed": false
   }
  },
  {
   "cell_type": "code",
   "execution_count": 180,
   "outputs": [],
   "source": [
    "# Make dummy substitute data file\n",
    "def make_dummy_substitute_data() -> bool:\n",
    "    DATA_PATH = \"data/mma_mart.csv\"\n",
    "    DUMMY_PATH = \"data/data_with_substitutes_dummy.csv\"\n",
    "    data = pd.read_csv(DATA_PATH)\n",
    "    data[\"substitute\"] = data[\"product_id\"]\n",
    "    data[\"frozen\"] = [False] * data.shape[0]\n",
    "    data[\"refrigerated\"] = [False] * data.shape[0]\n",
    "    data.to_csv(DUMMY_PATH, index=False)\n",
    "    return True\n",
    "# assert make_dummy_substitute_data()"
   ],
   "metadata": {
    "collapsed": false
   }
  },
  {
   "cell_type": "code",
   "execution_count": 181,
   "outputs": [
    {
     "data": {
      "text/plain": "             product_name  total_quantity_sold  order_id  product_id  \\\n0                  Banana                14494        10       24852   \n1  Bag of Organic Bananas                11694         1       13176   \n2    Organic Strawberries                 8081        10       21137   \n3    Organic Baby Spinach                 7369         3       21903   \n4    Organic Hass Avocado                 6411         1       47209   \n\n   aisle_id                       aisle  department_id department  substitute  \\\n0        24                fresh fruits              4    produce       24852   \n1        24                fresh fruits              4    produce       13176   \n2        24                fresh fruits              4    produce       21137   \n3       123  packaged vegetables fruits              4    produce       21903   \n4        24                fresh fruits              4    produce       47209   \n\n   frozen  refrigerated  \n0   False         False  \n1   False         False  \n2   False         False  \n3   False         False  \n4   False         False  ",
      "text/html": "<div>\n<style scoped>\n    .dataframe tbody tr th:only-of-type {\n        vertical-align: middle;\n    }\n\n    .dataframe tbody tr th {\n        vertical-align: top;\n    }\n\n    .dataframe thead th {\n        text-align: right;\n    }\n</style>\n<table border=\"1\" class=\"dataframe\">\n  <thead>\n    <tr style=\"text-align: right;\">\n      <th></th>\n      <th>product_name</th>\n      <th>total_quantity_sold</th>\n      <th>order_id</th>\n      <th>product_id</th>\n      <th>aisle_id</th>\n      <th>aisle</th>\n      <th>department_id</th>\n      <th>department</th>\n      <th>substitute</th>\n      <th>frozen</th>\n      <th>refrigerated</th>\n    </tr>\n  </thead>\n  <tbody>\n    <tr>\n      <th>0</th>\n      <td>Banana</td>\n      <td>14494</td>\n      <td>10</td>\n      <td>24852</td>\n      <td>24</td>\n      <td>fresh fruits</td>\n      <td>4</td>\n      <td>produce</td>\n      <td>24852</td>\n      <td>False</td>\n      <td>False</td>\n    </tr>\n    <tr>\n      <th>1</th>\n      <td>Bag of Organic Bananas</td>\n      <td>11694</td>\n      <td>1</td>\n      <td>13176</td>\n      <td>24</td>\n      <td>fresh fruits</td>\n      <td>4</td>\n      <td>produce</td>\n      <td>13176</td>\n      <td>False</td>\n      <td>False</td>\n    </tr>\n    <tr>\n      <th>2</th>\n      <td>Organic Strawberries</td>\n      <td>8081</td>\n      <td>10</td>\n      <td>21137</td>\n      <td>24</td>\n      <td>fresh fruits</td>\n      <td>4</td>\n      <td>produce</td>\n      <td>21137</td>\n      <td>False</td>\n      <td>False</td>\n    </tr>\n    <tr>\n      <th>3</th>\n      <td>Organic Baby Spinach</td>\n      <td>7369</td>\n      <td>3</td>\n      <td>21903</td>\n      <td>123</td>\n      <td>packaged vegetables fruits</td>\n      <td>4</td>\n      <td>produce</td>\n      <td>21903</td>\n      <td>False</td>\n      <td>False</td>\n    </tr>\n    <tr>\n      <th>4</th>\n      <td>Organic Hass Avocado</td>\n      <td>6411</td>\n      <td>1</td>\n      <td>47209</td>\n      <td>24</td>\n      <td>fresh fruits</td>\n      <td>4</td>\n      <td>produce</td>\n      <td>47209</td>\n      <td>False</td>\n      <td>False</td>\n    </tr>\n  </tbody>\n</table>\n</div>"
     },
     "execution_count": 181,
     "metadata": {},
     "output_type": "execute_result"
    }
   ],
   "source": [
    "DATA_WTH_SUBS_PATH = \"data/substitute_df.csv\"\n",
    "data = pd.read_csv(DATA_WTH_SUBS_PATH)\n",
    "data.head()"
   ],
   "metadata": {
    "collapsed": false
   }
  },
  {
   "cell_type": "markdown",
   "source": [
    "## 2. Baseline Model"
   ],
   "metadata": {
    "collapsed": false
   }
  },
  {
   "cell_type": "code",
   "execution_count": 182,
   "outputs": [],
   "source": [
    "def baseline(data: pd.DataFrame, k: int, use_substitutes=True) -> pd.DataFrame:\n",
    "    \"\"\" Return the top k items by sales\n",
    "\n",
    "    Precondition:\n",
    "    k is less than the number of items in the dataset\n",
    "    \"\"\"\n",
    "    # Count number of orders for each product accounting for substitutes\n",
    "    if use_substitutes:\n",
    "        # Count number of unique orders for each product (accounting for substitutes)\n",
    "        sales = pd.DataFrame(data.groupby(\"substitute\")[\"order_id\"].nunique())\n",
    "    else:\n",
    "        # Count number of orders for each product. Uniqueness is given.\n",
    "        sales = pd.DataFrame(data.groupby(\"product_id\")[\"order_id\"].count())\n",
    "\n",
    "    # Rename column to sales and sort by sales\n",
    "    sales.rename(columns = {\"order_id\": \"sales\"}, inplace=True)\n",
    "    sales.sort_values(by=\"sales\", ascending=False, inplace=True)\n",
    "    sales.reset_index(inplace=True)\n",
    "\n",
    "    # Catch errors for debugging purposes\n",
    "    if k > sales.shape[0]:\n",
    "        raise ValueError(\"k must be less than the number of items in the dataset\")\n",
    "\n",
    "    # Return top k items by sales (i.e. top k items with most orders)\n",
    "    return sales.iloc[:k]"
   ],
   "metadata": {
    "collapsed": false
   }
  },
  {
   "cell_type": "code",
   "execution_count": 183,
   "outputs": [
    {
     "data": {
      "text/plain": "   substitute  sales\n0       49075    116\n1       40709    115\n2       21417    115\n3       31433    114\n4         605    113",
      "text/html": "<div>\n<style scoped>\n    .dataframe tbody tr th:only-of-type {\n        vertical-align: middle;\n    }\n\n    .dataframe tbody tr th {\n        vertical-align: top;\n    }\n\n    .dataframe thead th {\n        text-align: right;\n    }\n</style>\n<table border=\"1\" class=\"dataframe\">\n  <thead>\n    <tr style=\"text-align: right;\">\n      <th></th>\n      <th>substitute</th>\n      <th>sales</th>\n    </tr>\n  </thead>\n  <tbody>\n    <tr>\n      <th>0</th>\n      <td>49075</td>\n      <td>116</td>\n    </tr>\n    <tr>\n      <th>1</th>\n      <td>40709</td>\n      <td>115</td>\n    </tr>\n    <tr>\n      <th>2</th>\n      <td>21417</td>\n      <td>115</td>\n    </tr>\n    <tr>\n      <th>3</th>\n      <td>31433</td>\n      <td>114</td>\n    </tr>\n    <tr>\n      <th>4</th>\n      <td>605</td>\n      <td>113</td>\n    </tr>\n  </tbody>\n</table>\n</div>"
     },
     "execution_count": 183,
     "metadata": {},
     "output_type": "execute_result"
    }
   ],
   "source": [
    "# Test baseline model\n",
    "k = 1000\n",
    "baseline_aisle = baseline(data, k, use_substitutes=True)[\"substitute\"].tolist()\n",
    "baseline(data, k, use_substitutes=True).head()"
   ],
   "metadata": {
    "collapsed": false
   }
  },
  {
   "cell_type": "markdown",
   "source": [
    "## 3. Processing Data For Metric B Optimization\n"
   ],
   "metadata": {
    "collapsed": false
   }
  },
  {
   "cell_type": "code",
   "execution_count": 184,
   "outputs": [],
   "source": [
    "def add_met_b_column(data, use_substitutes=True) -> None:\n",
    "    \"\"\" Add a column to the data that is the metric b impact score for each product calculated over the full dataset \"\"\"\n",
    "    order_id_to_order_size = data.groupby(\"order_id\")[\"order_id\"].count()\n",
    "    mma_data_aug = data.copy()\n",
    "    mma_data_aug[\"order_size\"] = mma_data_aug[\"order_id\"].map(order_id_to_order_size)\n",
    "\n",
    "    mma_data_aug.loc[:, \"portion_of_order\"] = 1 / mma_data_aug[\"order_size\"]\n",
    "\n",
    "    if use_substitutes:\n",
    "        column = \"substitute\"\n",
    "    else:\n",
    "        column = \"product_id\"\n",
    "\n",
    "    id_to_met_b_score = mma_data_aug.groupby(column)[\"portion_of_order\"].sum()\n",
    "    data[\"met_b_score\"] = data[column].map(id_to_met_b_score)\n",
    "    return None"
   ],
   "metadata": {
    "collapsed": false
   }
  },
  {
   "cell_type": "code",
   "execution_count": 185,
   "outputs": [],
   "source": [
    "add_met_b_column(data)"
   ],
   "metadata": {
    "collapsed": false
   }
  },
  {
   "cell_type": "code",
   "execution_count": 186,
   "outputs": [
    {
     "data": {
      "text/plain": "                                  product_name  total_quantity_sold  order_id  \\\n18436                                 Cucumber                    4      3735   \n8548                         Cucumber Seedless                   15      6037   \n15                              Cucumber Kirby                 2905         1   \n17699              Chicken and Cheese Taquitos                    4     39357   \n32365                          Pierogi & Onion                    1     61336   \n...                                        ...                  ...       ...   \n13743          Mandarin Orange Sparkling Water                    7      6460   \n12717     Tangerine Lemongrass Sparkling Water                    8     14608   \n16009  Mandarin Orange Sparkling Seltzer Water                    5     15567   \n24391                    Black Raspberry Water                    2     89519   \n20073                    Berry Sparkling Water                    3     22607   \n\n       product_id  aisle_id                          aisle  department_id  \\\n18436        6581        83               fresh vegetables              4   \n8548        34809        83               fresh vegetables              4   \n15          49683        83               fresh vegetables              4   \n17699       11716       129        frozen appetizers sides              1   \n32365       46551        38                   frozen meals              1   \n...           ...       ...                            ...            ...   \n13743        5711       115  water seltzer sparkling water              7   \n12717       39199       115  water seltzer sparkling water              7   \n16009       11194       115  water seltzer sparkling water              7   \n24391       33142       100                        missing             21   \n20073       45475       115  water seltzer sparkling water              7   \n\n      department  substitute  frozen  refrigerated  met_b_score  \n18436    produce       49683   False         False     1.625000  \n8548     produce       49683   False         False     1.625000  \n15       produce       49683   False         False     1.625000  \n17699     frozen       49678    True         False     2.325000  \n32365     frozen       49678    True         False     2.325000  \n...          ...         ...     ...           ...          ...  \n13743  beverages       49520   False         False    15.369553  \n12717  beverages       49520   False         False    15.369553  \n16009  beverages       49520   False         False    15.369553  \n24391    missing       49520   False         False    15.369553  \n20073  beverages       49520   False         False    15.369553  \n\n[100 rows x 12 columns]",
      "text/html": "<div>\n<style scoped>\n    .dataframe tbody tr th:only-of-type {\n        vertical-align: middle;\n    }\n\n    .dataframe tbody tr th {\n        vertical-align: top;\n    }\n\n    .dataframe thead th {\n        text-align: right;\n    }\n</style>\n<table border=\"1\" class=\"dataframe\">\n  <thead>\n    <tr style=\"text-align: right;\">\n      <th></th>\n      <th>product_name</th>\n      <th>total_quantity_sold</th>\n      <th>order_id</th>\n      <th>product_id</th>\n      <th>aisle_id</th>\n      <th>aisle</th>\n      <th>department_id</th>\n      <th>department</th>\n      <th>substitute</th>\n      <th>frozen</th>\n      <th>refrigerated</th>\n      <th>met_b_score</th>\n    </tr>\n  </thead>\n  <tbody>\n    <tr>\n      <th>18436</th>\n      <td>Cucumber</td>\n      <td>4</td>\n      <td>3735</td>\n      <td>6581</td>\n      <td>83</td>\n      <td>fresh vegetables</td>\n      <td>4</td>\n      <td>produce</td>\n      <td>49683</td>\n      <td>False</td>\n      <td>False</td>\n      <td>1.625000</td>\n    </tr>\n    <tr>\n      <th>8548</th>\n      <td>Cucumber Seedless</td>\n      <td>15</td>\n      <td>6037</td>\n      <td>34809</td>\n      <td>83</td>\n      <td>fresh vegetables</td>\n      <td>4</td>\n      <td>produce</td>\n      <td>49683</td>\n      <td>False</td>\n      <td>False</td>\n      <td>1.625000</td>\n    </tr>\n    <tr>\n      <th>15</th>\n      <td>Cucumber Kirby</td>\n      <td>2905</td>\n      <td>1</td>\n      <td>49683</td>\n      <td>83</td>\n      <td>fresh vegetables</td>\n      <td>4</td>\n      <td>produce</td>\n      <td>49683</td>\n      <td>False</td>\n      <td>False</td>\n      <td>1.625000</td>\n    </tr>\n    <tr>\n      <th>17699</th>\n      <td>Chicken and Cheese Taquitos</td>\n      <td>4</td>\n      <td>39357</td>\n      <td>11716</td>\n      <td>129</td>\n      <td>frozen appetizers sides</td>\n      <td>1</td>\n      <td>frozen</td>\n      <td>49678</td>\n      <td>True</td>\n      <td>False</td>\n      <td>2.325000</td>\n    </tr>\n    <tr>\n      <th>32365</th>\n      <td>Pierogi &amp; Onion</td>\n      <td>1</td>\n      <td>61336</td>\n      <td>46551</td>\n      <td>38</td>\n      <td>frozen meals</td>\n      <td>1</td>\n      <td>frozen</td>\n      <td>49678</td>\n      <td>True</td>\n      <td>False</td>\n      <td>2.325000</td>\n    </tr>\n    <tr>\n      <th>...</th>\n      <td>...</td>\n      <td>...</td>\n      <td>...</td>\n      <td>...</td>\n      <td>...</td>\n      <td>...</td>\n      <td>...</td>\n      <td>...</td>\n      <td>...</td>\n      <td>...</td>\n      <td>...</td>\n      <td>...</td>\n    </tr>\n    <tr>\n      <th>13743</th>\n      <td>Mandarin Orange Sparkling Water</td>\n      <td>7</td>\n      <td>6460</td>\n      <td>5711</td>\n      <td>115</td>\n      <td>water seltzer sparkling water</td>\n      <td>7</td>\n      <td>beverages</td>\n      <td>49520</td>\n      <td>False</td>\n      <td>False</td>\n      <td>15.369553</td>\n    </tr>\n    <tr>\n      <th>12717</th>\n      <td>Tangerine Lemongrass Sparkling Water</td>\n      <td>8</td>\n      <td>14608</td>\n      <td>39199</td>\n      <td>115</td>\n      <td>water seltzer sparkling water</td>\n      <td>7</td>\n      <td>beverages</td>\n      <td>49520</td>\n      <td>False</td>\n      <td>False</td>\n      <td>15.369553</td>\n    </tr>\n    <tr>\n      <th>16009</th>\n      <td>Mandarin Orange Sparkling Seltzer Water</td>\n      <td>5</td>\n      <td>15567</td>\n      <td>11194</td>\n      <td>115</td>\n      <td>water seltzer sparkling water</td>\n      <td>7</td>\n      <td>beverages</td>\n      <td>49520</td>\n      <td>False</td>\n      <td>False</td>\n      <td>15.369553</td>\n    </tr>\n    <tr>\n      <th>24391</th>\n      <td>Black Raspberry Water</td>\n      <td>2</td>\n      <td>89519</td>\n      <td>33142</td>\n      <td>100</td>\n      <td>missing</td>\n      <td>21</td>\n      <td>missing</td>\n      <td>49520</td>\n      <td>False</td>\n      <td>False</td>\n      <td>15.369553</td>\n    </tr>\n    <tr>\n      <th>20073</th>\n      <td>Berry Sparkling Water</td>\n      <td>3</td>\n      <td>22607</td>\n      <td>45475</td>\n      <td>115</td>\n      <td>water seltzer sparkling water</td>\n      <td>7</td>\n      <td>beverages</td>\n      <td>49520</td>\n      <td>False</td>\n      <td>False</td>\n      <td>15.369553</td>\n    </tr>\n  </tbody>\n</table>\n<p>100 rows × 12 columns</p>\n</div>"
     },
     "execution_count": 186,
     "metadata": {},
     "output_type": "execute_result"
    }
   ],
   "source": [
    "data.sort_values(by=\"substitute\", ascending=False).head(100)"
   ],
   "metadata": {
    "collapsed": false
   }
  },
  {
   "cell_type": "markdown",
   "source": [
    "## 4. Optimization and Finding Top 1000 Products\n"
   ],
   "metadata": {
    "collapsed": false
   }
  },
  {
   "cell_type": "code",
   "execution_count": 187,
   "outputs": [
    {
     "data": {
      "text/plain": "             product_name  total_quantity_sold  order_id  product_id  \\\n0                  Banana                14494        10       24852   \n1  Bag of Organic Bananas                11694         1       13176   \n2    Organic Strawberries                 8081        10       21137   \n3    Organic Baby Spinach                 7369         3       21903   \n4    Organic Hass Avocado                 6411         1       47209   \n\n   substitute  frozen  refrigerated  met_b_score  \n0       24852   False         False    22.188600  \n1       13176   False         False     3.503968  \n2       21137   False         False    17.255952  \n3       21903   False         False    10.514652  \n4       47209   False         False     4.249242  ",
      "text/html": "<div>\n<style scoped>\n    .dataframe tbody tr th:only-of-type {\n        vertical-align: middle;\n    }\n\n    .dataframe tbody tr th {\n        vertical-align: top;\n    }\n\n    .dataframe thead th {\n        text-align: right;\n    }\n</style>\n<table border=\"1\" class=\"dataframe\">\n  <thead>\n    <tr style=\"text-align: right;\">\n      <th></th>\n      <th>product_name</th>\n      <th>total_quantity_sold</th>\n      <th>order_id</th>\n      <th>product_id</th>\n      <th>substitute</th>\n      <th>frozen</th>\n      <th>refrigerated</th>\n      <th>met_b_score</th>\n    </tr>\n  </thead>\n  <tbody>\n    <tr>\n      <th>0</th>\n      <td>Banana</td>\n      <td>14494</td>\n      <td>10</td>\n      <td>24852</td>\n      <td>24852</td>\n      <td>False</td>\n      <td>False</td>\n      <td>22.188600</td>\n    </tr>\n    <tr>\n      <th>1</th>\n      <td>Bag of Organic Bananas</td>\n      <td>11694</td>\n      <td>1</td>\n      <td>13176</td>\n      <td>13176</td>\n      <td>False</td>\n      <td>False</td>\n      <td>3.503968</td>\n    </tr>\n    <tr>\n      <th>2</th>\n      <td>Organic Strawberries</td>\n      <td>8081</td>\n      <td>10</td>\n      <td>21137</td>\n      <td>21137</td>\n      <td>False</td>\n      <td>False</td>\n      <td>17.255952</td>\n    </tr>\n    <tr>\n      <th>3</th>\n      <td>Organic Baby Spinach</td>\n      <td>7369</td>\n      <td>3</td>\n      <td>21903</td>\n      <td>21903</td>\n      <td>False</td>\n      <td>False</td>\n      <td>10.514652</td>\n    </tr>\n    <tr>\n      <th>4</th>\n      <td>Organic Hass Avocado</td>\n      <td>6411</td>\n      <td>1</td>\n      <td>47209</td>\n      <td>47209</td>\n      <td>False</td>\n      <td>False</td>\n      <td>4.249242</td>\n    </tr>\n  </tbody>\n</table>\n</div>"
     },
     "execution_count": 187,
     "metadata": {},
     "output_type": "execute_result"
    }
   ],
   "source": [
    "# trim data\n",
    "my_data = data.drop(columns=[\"aisle_id\", \"aisle\", \"department_id\", \"department\"])\n",
    "my_data.head()"
   ],
   "metadata": {
    "collapsed": false
   }
  },
  {
   "cell_type": "code",
   "execution_count": 188,
   "outputs": [],
   "source": [
    "def get_max_aisle(data: pd.DataFrame, use_substitutes=True) -> list:\n",
    "    \"\"\" Return the optimal aisle of size 1000.\n",
    "    \"\"\"\n",
    "    return _max_aisle_recur_helper(data, [], 1000, use_substitutes=use_substitutes)"
   ],
   "metadata": {
    "collapsed": false
   }
  },
  {
   "cell_type": "code",
   "execution_count": 189,
   "outputs": [],
   "source": [
    "def get_top_product_by_sales(data: pd.DataFrame, use_substitutes=True) -> list:\n",
    "    \"\"\" Return the top item by sales in data. \"\"\"\n",
    "    # Count number of orders for each product\n",
    "    if use_substitutes:\n",
    "        # Count number of unique orders for each product (accounting for substitutes)\n",
    "        sales = pd.DataFrame(data.groupby(\"substitute\")[\"order_id\"].nunique())\n",
    "    else:\n",
    "        # Count number of orders for each product. Uniqueness is given.\n",
    "        sales = pd.DataFrame(data.groupby(\"product_id\")[\"order_id\"].count())\n",
    "\n",
    "    # Rename column to sales\n",
    "    sales.rename(columns = {\"order_id\": \"sales\"}, inplace=True)\n",
    "\n",
    "    # Get top item by sales\n",
    "    sales.reset_index(inplace=True) # Reset index so we don't get multiple items if there is a tie\n",
    "\n",
    "    # Get top item\n",
    "    if use_substitutes:\n",
    "        top_item =  sales.loc[sales[\"sales\"].idxmax()][\"substitute\"]\n",
    "    else:\n",
    "        top_item =  sales.loc[sales[\"sales\"].idxmax()][\"product_id\"]\n",
    "\n",
    "    return top_item"
   ],
   "metadata": {
    "collapsed": false
   }
  },
  {
   "cell_type": "code",
   "execution_count": 190,
   "outputs": [],
   "source": [
    "def _max_aisle_recur_helper(data: pd.DataFrame, aisle: list, k: int, use_substitutes=True) -> list:\n",
    "    \"\"\" Return the aisle of size k by the process of picking the item with the highest metric b score, removing all orders that contain that item, and repeating until the aisle is of size k.\n",
    "\n",
    "    Precondition:\n",
    "    - aisle must be a subset of the test data\n",
    "    \"\"\"\n",
    "    # Base case\n",
    "    if len(aisle) == k:\n",
    "        return aisle\n",
    "\n",
    "    else:\n",
    "        # Get top items by metric b score\n",
    "        top_items = data[data[\"met_b_score\"] == data[\"met_b_score\"].max()]\n",
    "\n",
    "        # If there is a tie, break it by picking the item with the highest sales\n",
    "        top_item = get_top_product_by_sales(top_items, use_substitutes=use_substitutes)\n",
    "\n",
    "        # Add top item to aisle\n",
    "        aisle.append(top_item)\n",
    "\n",
    "        if use_substitutes:\n",
    "            column = \"substitute\"\n",
    "        else:\n",
    "            column = \"product_id\"\n",
    "\n",
    "        # Filter data to only include orders that do not contain the top item\n",
    "        top_item_orders = data[data[column] == top_item]\n",
    "        data_excluding_top_item = data[~data[\"order_id\"].isin(top_item_orders[\"order_id\"])]\n",
    "\n",
    "        # Recursively call helper function\n",
    "        return _max_aisle_recur_helper(data_excluding_top_item, aisle, k)"
   ],
   "metadata": {
    "collapsed": false
   }
  },
  {
   "cell_type": "code",
   "execution_count": 191,
   "outputs": [],
   "source": [
    "# Get the Aisle\n",
    "my_max_aisle = get_max_aisle(my_data, use_substitutes=True)\n",
    "my_aisle_df = data[data[\"substitute\"].isin(my_max_aisle)]"
   ],
   "metadata": {
    "collapsed": false
   }
  },
  {
   "cell_type": "markdown",
   "source": [
    "## 5. Combining Code"
   ],
   "metadata": {
    "collapsed": false
   }
  },
  {
   "cell_type": "code",
   "execution_count": 192,
   "outputs": [],
   "source": [
    "def make_1000_items(data: pd.DataFrame, use_substitutes=True) -> list:\n",
    "    \"\"\" Make our aisle of 1000 items \"\"\"\n",
    "    data_copy = data.copy()\n",
    "    add_met_b_column(data_copy)\n",
    "    return get_max_aisle(data_copy, use_substitutes=True)"
   ],
   "metadata": {
    "collapsed": false
   }
  },
  {
   "cell_type": "markdown",
   "source": [
    "## 6. Evaluation\n"
   ],
   "metadata": {
    "collapsed": false
   }
  },
  {
   "cell_type": "code",
   "execution_count": 193,
   "outputs": [],
   "source": [
    "def metric_a(test_data: pd.DataFrame, insta_aisle: list, use_substitutes=True) -> float:\n",
    "    \"\"\" Return the number of orders that utilize the in-aisle items as a percentage of the total number of orders in the test_data dataset.\n",
    "\n",
    "    Precondition:\n",
    "    len(insta_aisle) == 1000\n",
    "    len(test_data) > 0\n",
    "    \"\"\"\n",
    "    # Account for whether we are using substitutes or not\n",
    "    if use_substitutes:\n",
    "        column = \"substitute\"\n",
    "    else:\n",
    "        column = \"product_id\"\n",
    "\n",
    "    # Count the orders that utilize in-aisle items\n",
    "    ## Filter the data to only include orders that purchased at least one item in the aisle\n",
    "    purchases_in_aisle = test_data[test_data[column].isin(insta_aisle)]\n",
    "\n",
    "    ## Count the number of orders that include at least one item in the aisle\n",
    "    orders_in_aisle = purchases_in_aisle[\"order_id\"].nunique()\n",
    "\n",
    "    ## Count the total number of orders in the test data\n",
    "    total_orders = test_data[\"order_id\"].nunique()\n",
    "\n",
    "    # Return the percentage of orders that utilize in-aisle items\n",
    "    result = (orders_in_aisle / total_orders) * 100\n",
    "\n",
    "\n",
    "    # Check for errors for debugging purposes\n",
    "    if total_orders <= 0:\n",
    "        raise ValueError(\"There must be at least one order in the test data\")\n",
    "\n",
    "    if len(insta_aisle) != 1000:\n",
    "        raise ValueError(\"insta_aisle must contain 1000 product ids\")\n",
    "\n",
    "\n",
    "    return result\n"
   ],
   "metadata": {
    "collapsed": false
   }
  },
  {
   "cell_type": "code",
   "execution_count": 194,
   "outputs": [],
   "source": [
    "def metric_b(test_data: pd.DataFrame, insta_aisle: list, use_substitutes=True) -> float:\n",
    "    \"\"\" Calculate the percentage of items in each order that utilize in-aisle items and return the average of these percentages.\n",
    "\n",
    "    Precondition:\n",
    "    len(insta_aisle) == 1000\n",
    "    \"\"\"\n",
    "    # Check for errors for debugging purposes\n",
    "    if len(insta_aisle) != 1000:\n",
    "        raise ValueError(\"There should be 1000 items in the aisle\")\n",
    "\n",
    "    # Account for whether we are using substitutes or not\n",
    "    if use_substitutes:\n",
    "        column = \"substitute\"\n",
    "    else:\n",
    "        column = \"product_id\"\n",
    "\n",
    "    # Copy data to prevent altering test_data\n",
    "    test_data_copy = test_data.copy()\n",
    "\n",
    "    # Add column that is 1 if the product id is in insta_aisle and 0 if not\n",
    "    test_data_copy[\"is_utilized\"] = test_data_copy[column].isin(insta_aisle).astype(int)\n",
    "\n",
    "    # Sum the new column and divide by total number of items in order\n",
    "    ## Get a map mapping order_id to the number of items in the order that are utilized\n",
    "    order_to_ultilized_items = test_data_copy.groupby(\"order_id\")[\"is_utilized\"].sum()\n",
    "\n",
    "    ## Get a map mapping order_id to the total number of items in the order\n",
    "    order_to_total_items = test_data_copy.groupby(\"order_id\")[\"order_id\"].count()\n",
    "\n",
    "    ## Divide the two maps to get order to the percentage of items in the order that are utilized\n",
    "    order_to_precent_ultilization = order_to_ultilized_items / order_to_total_items\n",
    "\n",
    "\n",
    "    # Return average of percentage ultilization over all orders\n",
    "    return order_to_precent_ultilization.mean() * 100\n"
   ],
   "metadata": {
    "collapsed": false
   }
  },
  {
   "cell_type": "code",
   "execution_count": 195,
   "outputs": [],
   "source": [
    "def metric_average(test_data: pd.DataFrame, insta_aisle: list) -> float:\n",
    "    \"\"\" Return the average of metric a and metric b\n",
    "\n",
    "    Precondition:\n",
    "    len(insta_aisle) == 1000\n",
    "    \"\"\"\n",
    "    return (metric_a(test_data, insta_aisle) + metric_b(test_data, insta_aisle)) / 2"
   ],
   "metadata": {
    "collapsed": false
   }
  },
  {
   "cell_type": "code",
   "execution_count": 196,
   "outputs": [
    {
     "data": {
      "text/plain": "73.99193621720606"
     },
     "execution_count": 196,
     "metadata": {},
     "output_type": "execute_result"
    }
   ],
   "source": [
    "metric_average(data, my_max_aisle)"
   ],
   "metadata": {
    "collapsed": false
   }
  },
  {
   "cell_type": "code",
   "execution_count": 197,
   "outputs": [
    {
     "data": {
      "text/plain": "73.05470432918452"
     },
     "execution_count": 197,
     "metadata": {},
     "output_type": "execute_result"
    }
   ],
   "source": [
    "metric_average(data, baseline_aisle)"
   ],
   "metadata": {
    "collapsed": false
   }
  },
  {
   "cell_type": "code",
   "execution_count": 198,
   "outputs": [],
   "source": [
    "def get_num_frozen_and_refrigerated(data, aisle, use_substitutes=True) -> tuple:\n",
    "    \"\"\" Return the number of frozen and refrigerated items in the aisle \"\"\"\n",
    "    # Get the number of frozen and refrigerated items in the aisle\n",
    "    if use_substitutes:\n",
    "        column = \"substitute\"\n",
    "    else:\n",
    "        column = \"product_id\"\n",
    "    frozen = data[data[column].isin(aisle)][\"frozen\"].astype(int).sum()\n",
    "    refrigerated = data[data[column].isin(aisle)][\"refrigerated\"].astype(int).sum()\n",
    "    return frozen, refrigerated"
   ],
   "metadata": {
    "collapsed": false
   }
  },
  {
   "cell_type": "code",
   "execution_count": 199,
   "outputs": [
    {
     "data": {
      "text/plain": "(2076, 3106)"
     },
     "execution_count": 199,
     "metadata": {},
     "output_type": "execute_result"
    }
   ],
   "source": [
    "get_num_frozen_and_refrigerated(data, my_max_aisle)"
   ],
   "metadata": {
    "collapsed": false
   }
  },
  {
   "cell_type": "code",
   "execution_count": 200,
   "outputs": [
    {
     "data": {
      "text/plain": "                                            product_name  total_quantity_sold  \\\n0                                                 Banana                14494   \n2                                   Organic Strawberries                 8081   \n3                                   Organic Baby Spinach                 7369   \n6                                            Large Lemon                 4688   \n7                                           Strawberries                 4340   \n...                                                  ...                  ...   \n35063                                   Buttercup Squash                    1   \n35064  Makeup Dissolving Facial Cleansing Wipes, Oil-...                    1   \n35065     Seasoned Lemon & Pepper Sensations Tuna Medley                    1   \n35068                         Major Grey's Mango Chutney                    1   \n35069           with a Splash of Pineapple Coconut Water                    1   \n\n       order_id  product_id  aisle_id                       aisle  \\\n0            10       24852        24                fresh fruits   \n2            10       21137        24                fresh fruits   \n3             3       21903       123  packaged vegetables fruits   \n6            28       47626        24                fresh fruits   \n7            47       16797        24                fresh fruits   \n...         ...         ...       ...                         ...   \n35063     28619       33235        83            fresh vegetables   \n35064     99845       13839        73                 facial care   \n35065     97599       44960        95         canned meat seafood   \n35068     64347        5480        88                     spreads   \n35069     83790        2987        98               juice nectars   \n\n       department_id     department  substitute  frozen  refrigerated  \\\n0                  4        produce       24852   False         False   \n2                  4        produce       21137   False         False   \n3                  4        produce       21903   False         False   \n6                  4        produce       47626   False         False   \n7                  4        produce       16797   False         False   \n...              ...            ...         ...     ...           ...   \n35063              4        produce       45007   False         False   \n35064             11  personal care       10732   False         False   \n35065             15   canned goods       19691   False         False   \n35068             13         pantry       15906   False         False   \n35069              7      beverages       17530   False         False   \n\n       met_b_score  \n0        22.188600  \n2        17.255952  \n3        10.514652  \n6         6.081728  \n7        13.609957  \n...            ...  \n35063    13.917106  \n35064     5.100000  \n35065    29.092460  \n35068    13.166667  \n35069    17.026923  \n\n[24135 rows x 12 columns]",
      "text/html": "<div>\n<style scoped>\n    .dataframe tbody tr th:only-of-type {\n        vertical-align: middle;\n    }\n\n    .dataframe tbody tr th {\n        vertical-align: top;\n    }\n\n    .dataframe thead th {\n        text-align: right;\n    }\n</style>\n<table border=\"1\" class=\"dataframe\">\n  <thead>\n    <tr style=\"text-align: right;\">\n      <th></th>\n      <th>product_name</th>\n      <th>total_quantity_sold</th>\n      <th>order_id</th>\n      <th>product_id</th>\n      <th>aisle_id</th>\n      <th>aisle</th>\n      <th>department_id</th>\n      <th>department</th>\n      <th>substitute</th>\n      <th>frozen</th>\n      <th>refrigerated</th>\n      <th>met_b_score</th>\n    </tr>\n  </thead>\n  <tbody>\n    <tr>\n      <th>0</th>\n      <td>Banana</td>\n      <td>14494</td>\n      <td>10</td>\n      <td>24852</td>\n      <td>24</td>\n      <td>fresh fruits</td>\n      <td>4</td>\n      <td>produce</td>\n      <td>24852</td>\n      <td>False</td>\n      <td>False</td>\n      <td>22.188600</td>\n    </tr>\n    <tr>\n      <th>2</th>\n      <td>Organic Strawberries</td>\n      <td>8081</td>\n      <td>10</td>\n      <td>21137</td>\n      <td>24</td>\n      <td>fresh fruits</td>\n      <td>4</td>\n      <td>produce</td>\n      <td>21137</td>\n      <td>False</td>\n      <td>False</td>\n      <td>17.255952</td>\n    </tr>\n    <tr>\n      <th>3</th>\n      <td>Organic Baby Spinach</td>\n      <td>7369</td>\n      <td>3</td>\n      <td>21903</td>\n      <td>123</td>\n      <td>packaged vegetables fruits</td>\n      <td>4</td>\n      <td>produce</td>\n      <td>21903</td>\n      <td>False</td>\n      <td>False</td>\n      <td>10.514652</td>\n    </tr>\n    <tr>\n      <th>6</th>\n      <td>Large Lemon</td>\n      <td>4688</td>\n      <td>28</td>\n      <td>47626</td>\n      <td>24</td>\n      <td>fresh fruits</td>\n      <td>4</td>\n      <td>produce</td>\n      <td>47626</td>\n      <td>False</td>\n      <td>False</td>\n      <td>6.081728</td>\n    </tr>\n    <tr>\n      <th>7</th>\n      <td>Strawberries</td>\n      <td>4340</td>\n      <td>47</td>\n      <td>16797</td>\n      <td>24</td>\n      <td>fresh fruits</td>\n      <td>4</td>\n      <td>produce</td>\n      <td>16797</td>\n      <td>False</td>\n      <td>False</td>\n      <td>13.609957</td>\n    </tr>\n    <tr>\n      <th>...</th>\n      <td>...</td>\n      <td>...</td>\n      <td>...</td>\n      <td>...</td>\n      <td>...</td>\n      <td>...</td>\n      <td>...</td>\n      <td>...</td>\n      <td>...</td>\n      <td>...</td>\n      <td>...</td>\n      <td>...</td>\n    </tr>\n    <tr>\n      <th>35063</th>\n      <td>Buttercup Squash</td>\n      <td>1</td>\n      <td>28619</td>\n      <td>33235</td>\n      <td>83</td>\n      <td>fresh vegetables</td>\n      <td>4</td>\n      <td>produce</td>\n      <td>45007</td>\n      <td>False</td>\n      <td>False</td>\n      <td>13.917106</td>\n    </tr>\n    <tr>\n      <th>35064</th>\n      <td>Makeup Dissolving Facial Cleansing Wipes, Oil-...</td>\n      <td>1</td>\n      <td>99845</td>\n      <td>13839</td>\n      <td>73</td>\n      <td>facial care</td>\n      <td>11</td>\n      <td>personal care</td>\n      <td>10732</td>\n      <td>False</td>\n      <td>False</td>\n      <td>5.100000</td>\n    </tr>\n    <tr>\n      <th>35065</th>\n      <td>Seasoned Lemon &amp; Pepper Sensations Tuna Medley</td>\n      <td>1</td>\n      <td>97599</td>\n      <td>44960</td>\n      <td>95</td>\n      <td>canned meat seafood</td>\n      <td>15</td>\n      <td>canned goods</td>\n      <td>19691</td>\n      <td>False</td>\n      <td>False</td>\n      <td>29.092460</td>\n    </tr>\n    <tr>\n      <th>35068</th>\n      <td>Major Grey's Mango Chutney</td>\n      <td>1</td>\n      <td>64347</td>\n      <td>5480</td>\n      <td>88</td>\n      <td>spreads</td>\n      <td>13</td>\n      <td>pantry</td>\n      <td>15906</td>\n      <td>False</td>\n      <td>False</td>\n      <td>13.166667</td>\n    </tr>\n    <tr>\n      <th>35069</th>\n      <td>with a Splash of Pineapple Coconut Water</td>\n      <td>1</td>\n      <td>83790</td>\n      <td>2987</td>\n      <td>98</td>\n      <td>juice nectars</td>\n      <td>7</td>\n      <td>beverages</td>\n      <td>17530</td>\n      <td>False</td>\n      <td>False</td>\n      <td>17.026923</td>\n    </tr>\n  </tbody>\n</table>\n<p>24135 rows × 12 columns</p>\n</div>"
     },
     "execution_count": 200,
     "metadata": {},
     "output_type": "execute_result"
    }
   ],
   "source": [
    "my_aisle_df"
   ],
   "metadata": {
    "collapsed": false
   }
  },
  {
   "cell_type": "code",
   "execution_count": 201,
   "outputs": [
    {
     "data": {
      "text/plain": "                                            product_name  total_quantity_sold  \\\n0                                                 Banana                14494   \n2                                   Organic Strawberries                 8081   \n3                                   Organic Baby Spinach                 7369   \n6                                            Large Lemon                 4688   \n7                                           Strawberries                 4340   \n...                                                  ...                  ...   \n35063                                   Buttercup Squash                    1   \n35064  Makeup Dissolving Facial Cleansing Wipes, Oil-...                    1   \n35065     Seasoned Lemon & Pepper Sensations Tuna Medley                    1   \n35068                         Major Grey's Mango Chutney                    1   \n35069           with a Splash of Pineapple Coconut Water                    1   \n\n       order_id  product_id  aisle_id                       aisle  \\\n0            10       24852        24                fresh fruits   \n2            10       21137        24                fresh fruits   \n3             3       21903       123  packaged vegetables fruits   \n6            28       47626        24                fresh fruits   \n7            47       16797        24                fresh fruits   \n...         ...         ...       ...                         ...   \n35063     28619       33235        83            fresh vegetables   \n35064     99845       13839        73                 facial care   \n35065     97599       44960        95         canned meat seafood   \n35068     64347        5480        88                     spreads   \n35069     83790        2987        98               juice nectars   \n\n       department_id     department  substitute  frozen  refrigerated  \\\n0                  4        produce       24852   False         False   \n2                  4        produce       21137   False         False   \n3                  4        produce       21903   False         False   \n6                  4        produce       47626   False         False   \n7                  4        produce       16797   False         False   \n...              ...            ...         ...     ...           ...   \n35063              4        produce       45007   False         False   \n35064             11  personal care       10732   False         False   \n35065             15   canned goods       19691   False         False   \n35068             13         pantry       15906   False         False   \n35069              7      beverages       17530   False         False   \n\n       met_b_score  \n0        22.188600  \n2        17.255952  \n3        10.514652  \n6         6.081728  \n7        13.609957  \n...            ...  \n35063    13.917106  \n35064     5.100000  \n35065    29.092460  \n35068    13.166667  \n35069    17.026923  \n\n[24369 rows x 12 columns]",
      "text/html": "<div>\n<style scoped>\n    .dataframe tbody tr th:only-of-type {\n        vertical-align: middle;\n    }\n\n    .dataframe tbody tr th {\n        vertical-align: top;\n    }\n\n    .dataframe thead th {\n        text-align: right;\n    }\n</style>\n<table border=\"1\" class=\"dataframe\">\n  <thead>\n    <tr style=\"text-align: right;\">\n      <th></th>\n      <th>product_name</th>\n      <th>total_quantity_sold</th>\n      <th>order_id</th>\n      <th>product_id</th>\n      <th>aisle_id</th>\n      <th>aisle</th>\n      <th>department_id</th>\n      <th>department</th>\n      <th>substitute</th>\n      <th>frozen</th>\n      <th>refrigerated</th>\n      <th>met_b_score</th>\n    </tr>\n  </thead>\n  <tbody>\n    <tr>\n      <th>0</th>\n      <td>Banana</td>\n      <td>14494</td>\n      <td>10</td>\n      <td>24852</td>\n      <td>24</td>\n      <td>fresh fruits</td>\n      <td>4</td>\n      <td>produce</td>\n      <td>24852</td>\n      <td>False</td>\n      <td>False</td>\n      <td>22.188600</td>\n    </tr>\n    <tr>\n      <th>2</th>\n      <td>Organic Strawberries</td>\n      <td>8081</td>\n      <td>10</td>\n      <td>21137</td>\n      <td>24</td>\n      <td>fresh fruits</td>\n      <td>4</td>\n      <td>produce</td>\n      <td>21137</td>\n      <td>False</td>\n      <td>False</td>\n      <td>17.255952</td>\n    </tr>\n    <tr>\n      <th>3</th>\n      <td>Organic Baby Spinach</td>\n      <td>7369</td>\n      <td>3</td>\n      <td>21903</td>\n      <td>123</td>\n      <td>packaged vegetables fruits</td>\n      <td>4</td>\n      <td>produce</td>\n      <td>21903</td>\n      <td>False</td>\n      <td>False</td>\n      <td>10.514652</td>\n    </tr>\n    <tr>\n      <th>6</th>\n      <td>Large Lemon</td>\n      <td>4688</td>\n      <td>28</td>\n      <td>47626</td>\n      <td>24</td>\n      <td>fresh fruits</td>\n      <td>4</td>\n      <td>produce</td>\n      <td>47626</td>\n      <td>False</td>\n      <td>False</td>\n      <td>6.081728</td>\n    </tr>\n    <tr>\n      <th>7</th>\n      <td>Strawberries</td>\n      <td>4340</td>\n      <td>47</td>\n      <td>16797</td>\n      <td>24</td>\n      <td>fresh fruits</td>\n      <td>4</td>\n      <td>produce</td>\n      <td>16797</td>\n      <td>False</td>\n      <td>False</td>\n      <td>13.609957</td>\n    </tr>\n    <tr>\n      <th>...</th>\n      <td>...</td>\n      <td>...</td>\n      <td>...</td>\n      <td>...</td>\n      <td>...</td>\n      <td>...</td>\n      <td>...</td>\n      <td>...</td>\n      <td>...</td>\n      <td>...</td>\n      <td>...</td>\n      <td>...</td>\n    </tr>\n    <tr>\n      <th>35063</th>\n      <td>Buttercup Squash</td>\n      <td>1</td>\n      <td>28619</td>\n      <td>33235</td>\n      <td>83</td>\n      <td>fresh vegetables</td>\n      <td>4</td>\n      <td>produce</td>\n      <td>45007</td>\n      <td>False</td>\n      <td>False</td>\n      <td>13.917106</td>\n    </tr>\n    <tr>\n      <th>35064</th>\n      <td>Makeup Dissolving Facial Cleansing Wipes, Oil-...</td>\n      <td>1</td>\n      <td>99845</td>\n      <td>13839</td>\n      <td>73</td>\n      <td>facial care</td>\n      <td>11</td>\n      <td>personal care</td>\n      <td>10732</td>\n      <td>False</td>\n      <td>False</td>\n      <td>5.100000</td>\n    </tr>\n    <tr>\n      <th>35065</th>\n      <td>Seasoned Lemon &amp; Pepper Sensations Tuna Medley</td>\n      <td>1</td>\n      <td>97599</td>\n      <td>44960</td>\n      <td>95</td>\n      <td>canned meat seafood</td>\n      <td>15</td>\n      <td>canned goods</td>\n      <td>19691</td>\n      <td>False</td>\n      <td>False</td>\n      <td>29.092460</td>\n    </tr>\n    <tr>\n      <th>35068</th>\n      <td>Major Grey's Mango Chutney</td>\n      <td>1</td>\n      <td>64347</td>\n      <td>5480</td>\n      <td>88</td>\n      <td>spreads</td>\n      <td>13</td>\n      <td>pantry</td>\n      <td>15906</td>\n      <td>False</td>\n      <td>False</td>\n      <td>13.166667</td>\n    </tr>\n    <tr>\n      <th>35069</th>\n      <td>with a Splash of Pineapple Coconut Water</td>\n      <td>1</td>\n      <td>83790</td>\n      <td>2987</td>\n      <td>98</td>\n      <td>juice nectars</td>\n      <td>7</td>\n      <td>beverages</td>\n      <td>17530</td>\n      <td>False</td>\n      <td>False</td>\n      <td>17.026923</td>\n    </tr>\n  </tbody>\n</table>\n<p>24369 rows × 12 columns</p>\n</div>"
     },
     "execution_count": 201,
     "metadata": {},
     "output_type": "execute_result"
    }
   ],
   "source": [
    "data[data[\"substitute\"].isin(baseline_aisle)]"
   ],
   "metadata": {
    "collapsed": false
   }
  },
  {
   "cell_type": "code",
   "execution_count": 202,
   "outputs": [
    {
     "data": {
      "text/plain": "78.6016617024612"
     },
     "execution_count": 202,
     "metadata": {},
     "output_type": "execute_result"
    }
   ],
   "source": [
    "metric_a(data, my_max_aisle)"
   ],
   "metadata": {
    "collapsed": false
   }
  },
  {
   "cell_type": "code",
   "execution_count": 203,
   "outputs": [
    {
     "data": {
      "text/plain": "69.38221073195092"
     },
     "execution_count": 203,
     "metadata": {},
     "output_type": "execute_result"
    }
   ],
   "source": [
    "metric_b(data, my_max_aisle)"
   ],
   "metadata": {
    "collapsed": false
   }
  },
  {
   "cell_type": "code",
   "execution_count": 204,
   "outputs": [
    {
     "data": {
      "text/plain": "77.48863458222291"
     },
     "execution_count": 204,
     "metadata": {},
     "output_type": "execute_result"
    }
   ],
   "source": [
    "metric_a(data, baseline_aisle)"
   ],
   "metadata": {
    "collapsed": false
   }
  },
  {
   "cell_type": "code",
   "execution_count": 205,
   "outputs": [
    {
     "data": {
      "text/plain": "68.62077407614613"
     },
     "execution_count": 205,
     "metadata": {},
     "output_type": "execute_result"
    }
   ],
   "source": [
    "metric_b(data, baseline_aisle)"
   ],
   "metadata": {
    "collapsed": false
   }
  },
  {
   "cell_type": "markdown",
   "source": [
    "## 7. Getting Theoretical Maximum Aisles\n"
   ],
   "metadata": {
    "collapsed": false
   }
  },
  {
   "cell_type": "code",
   "execution_count": 206,
   "outputs": [],
   "source": [
    "def max_metric_a_aisle(data: pd.DataFrame) -> list:\n",
    "    \"\"\" Return the aisle that maximizes metric a over the data. Do this by first getting the item with most sales, then getting the item with most sales in orders that do not contain the first item, and so on. For why this produces max list, see proof writeup.\n",
    "    \"\"\"\n",
    "    return _max_metric_a_recur_helper(data, [])\n",
    "\n",
    "def _max_metric_a_recur_helper(data: pd.DataFrame, aisle: list) -> list:\n",
    "    \"\"\" Return the aisle that maximizes metric a over the data. Do this by first getting the item with most sales, then getting the item with most sales in orders that do not contain the first item, and so on.\n",
    "\n",
    "    Precondition:\n",
    "    - data must be a subset of the test data\n",
    "    - aisle must be a subset of the top 1000 items by sales\n",
    "    \"\"\"\n",
    "    # Base case\n",
    "    if len(aisle) == 1000:\n",
    "        return aisle\n",
    "\n",
    "    else:\n",
    "        # Get the top item by sales in data\n",
    "        top_item = get_top_product(data)\n",
    "\n",
    "        # Add top item to aisle\n",
    "        aisle.append(top_item)\n",
    "\n",
    "        # Filter data to only include orders that do not contain the top item\n",
    "        top_item_orders = data[data[\"substitute\"] == top_item]\n",
    "        data_excluding_top_item = data[~data[\"order_id\"].isin(top_item_orders[\"order_id\"])]\n",
    "\n",
    "        # Recursively call helper function\n",
    "        return _max_metric_a_recur_helper(data_excluding_top_item, aisle)\n",
    "\n",
    "def get_top_product(data: pd.DataFrame) -> list:\n",
    "    \"\"\" Return the top item by sales in data. \"\"\"\n",
    "    # Count number of orders for each product\n",
    "    sales = pd.DataFrame(data.groupby(\"substitute\")[\"order_id\"].nunique())\n",
    "\n",
    "    # Rename column to sales\n",
    "    sales.rename(columns = {\"order_id\": \"sales\"}, inplace=True)\n",
    "\n",
    "    # Get top item by sales\n",
    "    sales.reset_index(inplace=True) # Reset index so we don't get multiple items if there is a tie\n",
    "    top_item =  sales.loc[sales[\"sales\"].idxmax()][\"substitute\"]\n",
    "\n",
    "    return top_item"
   ],
   "metadata": {
    "collapsed": false
   }
  },
  {
   "cell_type": "code",
   "execution_count": 207,
   "outputs": [
    {
     "name": "stdout",
     "output_type": "stream",
     "text": [
      "Max Metric a: 79.01970005748026\n",
      "CPU times: user 5.96 s, sys: 1.94 s, total: 7.9 s\n",
      "Wall time: 7.97 s\n"
     ]
    }
   ],
   "source": [
    "%%time\n",
    "# Max Metric a for the test set\n",
    "met_a_top_1000 = max_metric_a_aisle(data)\n",
    "print(f\"Max Metric a: {metric_a(data, met_a_top_1000)}\")"
   ],
   "metadata": {
    "collapsed": false
   }
  },
  {
   "cell_type": "code",
   "execution_count": 208,
   "outputs": [],
   "source": [
    "def max_metric_b_aisle(data: pd.DataFrame) -> list:\n",
    "    \"\"\" Return the aisle that maximizes metric b over the data. Do this by picking the thousand items with the highest metric b score.\n",
    "    \"\"\"\n",
    "    data_copy = data.copy()\n",
    "    add_met_b_column(data_copy)\n",
    "\n",
    "    met_b_top_1000 = data_copy.sort_values(by=\"met_b_score\", ascending=False)\n",
    "    met_b_top_1000.drop(columns=\"order_id\", inplace=True)\n",
    "    met_b_top_1000.drop_duplicates(subset=\"substitute\", inplace=True)\n",
    "    met_b_top_1000.reset_index(drop=True, inplace=True)\n",
    "    met_b_top_1000 = met_b_top_1000.iloc[:1000][\"substitute\"].tolist()\n",
    "    return met_b_top_1000"
   ],
   "metadata": {
    "collapsed": false
   }
  },
  {
   "cell_type": "code",
   "execution_count": 209,
   "outputs": [
    {
     "name": "stdout",
     "output_type": "stream",
     "text": [
      "Max Metric b: 69.38221073195092\n",
      "CPU times: user 35.4 ms, sys: 2.27 ms, total: 37.7 ms\n",
      "Wall time: 36.4 ms\n"
     ]
    }
   ],
   "source": [
    "%%time\n",
    "# Max Metric b for the test set\n",
    "met_b_top_1000 = max_metric_b_aisle(data)\n",
    "print(f\"Max Metric b: {metric_b(data, met_b_top_1000)}\")"
   ],
   "metadata": {
    "collapsed": false
   }
  },
  {
   "cell_type": "code",
   "execution_count": 210,
   "outputs": [
    {
     "data": {
      "text/plain": "74.20095539471559"
     },
     "execution_count": 210,
     "metadata": {},
     "output_type": "execute_result"
    }
   ],
   "source": [
    "max_average = (metric_a(data, met_a_top_1000) + metric_b(data, met_b_top_1000))/2\n",
    "max_average"
   ],
   "metadata": {
    "collapsed": false
   }
  },
  {
   "cell_type": "code",
   "execution_count": 212,
   "outputs": [
    {
     "data": {
      "text/plain": "                                           product_name  total_quantity_sold  \\\n15                                       Cucumber Kirby                 2905   \n8548                                  Cucumber Seedless                   15   \n18436                                          Cucumber                    4   \n11553                   Large Chicken & Cheese Taquitos                    9   \n13780                            Beef & Cheese Taquitos                    7   \n...                                                 ...                  ...   \n33705            Iso Maki, Seaweed Wrapped Rice Cracker                    1   \n34240  Ritz Crackerfuls Classic Cheddar Filled Crackers                    1   \n34275                              Rice Crackers Cheese                    1   \n34916                                Savory Cracker Mix                    1   \n35001               Sea Salt Sourdough Einkorn Crackers                    1   \n\n       order_id  product_id  aisle_id                    aisle  department_id  \\\n15            1       49683        83         fresh vegetables              4   \n8548       6037       34809        83         fresh vegetables              4   \n18436      3735        6581        83         fresh vegetables              4   \n11553      3785       49678       129  frozen appetizers sides              1   \n13780      3272       17936        38             frozen meals              1   \n...         ...         ...       ...                      ...            ...   \n33705     22327       48992        66              asian foods              6   \n34240     75998       12593        78                 crackers             19   \n34275     40989       20349        78                 crackers             19   \n34916     30280       36858       100                  missing             21   \n35001     20403       36311        78                 crackers             19   \n\n          department  substitute  frozen  refrigerated  met_b_score  \n15           produce       49683   False         False     1.625000  \n8548         produce       49683   False         False     1.625000  \n18436        produce       49683   False         False     1.625000  \n11553         frozen       49678    True         False     2.325000  \n13780         frozen       49678    True         False     2.325000  \n...              ...         ...     ...           ...          ...  \n33705  international       48595   False         False    51.111303  \n34240         snacks       48595   False         False    51.111303  \n34275         snacks       48595   False         False    51.111303  \n34916        missing       48595   False         False    51.111303  \n35001         snacks       48595   False         False    51.111303  \n\n[1000 rows x 12 columns]",
      "text/html": "<div>\n<style scoped>\n    .dataframe tbody tr th:only-of-type {\n        vertical-align: middle;\n    }\n\n    .dataframe tbody tr th {\n        vertical-align: top;\n    }\n\n    .dataframe thead th {\n        text-align: right;\n    }\n</style>\n<table border=\"1\" class=\"dataframe\">\n  <thead>\n    <tr style=\"text-align: right;\">\n      <th></th>\n      <th>product_name</th>\n      <th>total_quantity_sold</th>\n      <th>order_id</th>\n      <th>product_id</th>\n      <th>aisle_id</th>\n      <th>aisle</th>\n      <th>department_id</th>\n      <th>department</th>\n      <th>substitute</th>\n      <th>frozen</th>\n      <th>refrigerated</th>\n      <th>met_b_score</th>\n    </tr>\n  </thead>\n  <tbody>\n    <tr>\n      <th>15</th>\n      <td>Cucumber Kirby</td>\n      <td>2905</td>\n      <td>1</td>\n      <td>49683</td>\n      <td>83</td>\n      <td>fresh vegetables</td>\n      <td>4</td>\n      <td>produce</td>\n      <td>49683</td>\n      <td>False</td>\n      <td>False</td>\n      <td>1.625000</td>\n    </tr>\n    <tr>\n      <th>8548</th>\n      <td>Cucumber Seedless</td>\n      <td>15</td>\n      <td>6037</td>\n      <td>34809</td>\n      <td>83</td>\n      <td>fresh vegetables</td>\n      <td>4</td>\n      <td>produce</td>\n      <td>49683</td>\n      <td>False</td>\n      <td>False</td>\n      <td>1.625000</td>\n    </tr>\n    <tr>\n      <th>18436</th>\n      <td>Cucumber</td>\n      <td>4</td>\n      <td>3735</td>\n      <td>6581</td>\n      <td>83</td>\n      <td>fresh vegetables</td>\n      <td>4</td>\n      <td>produce</td>\n      <td>49683</td>\n      <td>False</td>\n      <td>False</td>\n      <td>1.625000</td>\n    </tr>\n    <tr>\n      <th>11553</th>\n      <td>Large Chicken &amp; Cheese Taquitos</td>\n      <td>9</td>\n      <td>3785</td>\n      <td>49678</td>\n      <td>129</td>\n      <td>frozen appetizers sides</td>\n      <td>1</td>\n      <td>frozen</td>\n      <td>49678</td>\n      <td>True</td>\n      <td>False</td>\n      <td>2.325000</td>\n    </tr>\n    <tr>\n      <th>13780</th>\n      <td>Beef &amp; Cheese Taquitos</td>\n      <td>7</td>\n      <td>3272</td>\n      <td>17936</td>\n      <td>38</td>\n      <td>frozen meals</td>\n      <td>1</td>\n      <td>frozen</td>\n      <td>49678</td>\n      <td>True</td>\n      <td>False</td>\n      <td>2.325000</td>\n    </tr>\n    <tr>\n      <th>...</th>\n      <td>...</td>\n      <td>...</td>\n      <td>...</td>\n      <td>...</td>\n      <td>...</td>\n      <td>...</td>\n      <td>...</td>\n      <td>...</td>\n      <td>...</td>\n      <td>...</td>\n      <td>...</td>\n      <td>...</td>\n    </tr>\n    <tr>\n      <th>33705</th>\n      <td>Iso Maki, Seaweed Wrapped Rice Cracker</td>\n      <td>1</td>\n      <td>22327</td>\n      <td>48992</td>\n      <td>66</td>\n      <td>asian foods</td>\n      <td>6</td>\n      <td>international</td>\n      <td>48595</td>\n      <td>False</td>\n      <td>False</td>\n      <td>51.111303</td>\n    </tr>\n    <tr>\n      <th>34240</th>\n      <td>Ritz Crackerfuls Classic Cheddar Filled Crackers</td>\n      <td>1</td>\n      <td>75998</td>\n      <td>12593</td>\n      <td>78</td>\n      <td>crackers</td>\n      <td>19</td>\n      <td>snacks</td>\n      <td>48595</td>\n      <td>False</td>\n      <td>False</td>\n      <td>51.111303</td>\n    </tr>\n    <tr>\n      <th>34275</th>\n      <td>Rice Crackers Cheese</td>\n      <td>1</td>\n      <td>40989</td>\n      <td>20349</td>\n      <td>78</td>\n      <td>crackers</td>\n      <td>19</td>\n      <td>snacks</td>\n      <td>48595</td>\n      <td>False</td>\n      <td>False</td>\n      <td>51.111303</td>\n    </tr>\n    <tr>\n      <th>34916</th>\n      <td>Savory Cracker Mix</td>\n      <td>1</td>\n      <td>30280</td>\n      <td>36858</td>\n      <td>100</td>\n      <td>missing</td>\n      <td>21</td>\n      <td>missing</td>\n      <td>48595</td>\n      <td>False</td>\n      <td>False</td>\n      <td>51.111303</td>\n    </tr>\n    <tr>\n      <th>35001</th>\n      <td>Sea Salt Sourdough Einkorn Crackers</td>\n      <td>1</td>\n      <td>20403</td>\n      <td>36311</td>\n      <td>78</td>\n      <td>crackers</td>\n      <td>19</td>\n      <td>snacks</td>\n      <td>48595</td>\n      <td>False</td>\n      <td>False</td>\n      <td>51.111303</td>\n    </tr>\n  </tbody>\n</table>\n<p>1000 rows × 12 columns</p>\n</div>"
     },
     "execution_count": 212,
     "metadata": {},
     "output_type": "execute_result"
    }
   ],
   "source": [
    "data.sort_values(by=[\"substitute\", 'met_b_score'], ascending=False).head(1000)"
   ],
   "metadata": {
    "collapsed": false
   }
  },
  {
   "cell_type": "code",
   "execution_count": null,
   "outputs": [],
   "source": [],
   "metadata": {
    "collapsed": false
   }
  }
 ],
 "metadata": {
  "kernelspec": {
   "display_name": "Python 3",
   "language": "python",
   "name": "python3"
  },
  "language_info": {
   "codemirror_mode": {
    "name": "ipython",
    "version": 2
   },
   "file_extension": ".py",
   "mimetype": "text/x-python",
   "name": "python",
   "nbconvert_exporter": "python",
   "pygments_lexer": "ipython2",
   "version": "2.7.6"
  }
 },
 "nbformat": 4,
 "nbformat_minor": 0
}
