{
 "cells": [
  {
   "cell_type": "code",
   "execution_count": 1,
   "id": "f69dc8b1",
   "metadata": {},
   "outputs": [],
   "source": [
    "import numpy as np\n",
    "import pandas as pd\n",
    "import seaborn as sns\n",
    "import matplotlib.pyplot as plt\n",
    "from scipy.stats import t\n",
    "from scipy import stats\n",
    "from apyori import apriori"
   ]
  },
  {
   "cell_type": "code",
   "execution_count": 2,
   "id": "a4a97e3e",
   "metadata": {},
   "outputs": [],
   "source": [
    "pd.set_option('display.max_rows', 200)"
   ]
  },
  {
   "cell_type": "code",
   "execution_count": 3,
   "id": "290d18ee",
   "metadata": {},
   "outputs": [],
   "source": [
    "df = pd.read_csv('data/mma_mart.csv')"
   ]
  },
  {
   "cell_type": "markdown",
   "id": "09729ed7",
   "metadata": {},
   "source": [
    "### Seperate refrigerated beerages"
   ]
  },
  {
   "cell_type": "code",
   "execution_count": 4,
   "id": "2b7b13d8",
   "metadata": {},
   "outputs": [],
   "source": [
    "df.loc[df['aisle'] == 'refrigerated', 'department'] = 'beverages_refrigerated'\n",
    "df.loc[df['department'] == 'beverages', 'department'] = 'beverages_non_refrigerated'"
   ]
  },
  {
   "cell_type": "markdown",
   "id": "443dae0b",
   "metadata": {},
   "source": [
    "### Remove 'missing' department and 'missing' aisle"
   ]
  },
  {
   "cell_type": "code",
   "execution_count": 5,
   "id": "aaa6821e",
   "metadata": {},
   "outputs": [],
   "source": [
    "df = df[df['department'] != 'missing']"
   ]
  },
  {
   "cell_type": "markdown",
   "id": "08ae4476",
   "metadata": {},
   "source": [
    "### Mark products as refrigerated or frozen"
   ]
  },
  {
   "cell_type": "code",
   "execution_count": 6,
   "id": "0dafc294",
   "metadata": {},
   "outputs": [],
   "source": [
    "df['frozen'] = df['department'] == 'frozen'\n",
    "dept_refrigerated = ['dairy eggs', 'deli', 'meat seafood', 'beverages_refrigerated']\n",
    "df['refrigerated'] = df['department'].isin(dept_refrigerated)"
   ]
  },
  {
   "cell_type": "markdown",
   "id": "ee7d3c88",
   "metadata": {},
   "source": [
    "### Largest Remainder Method"
   ]
  },
  {
   "cell_type": "code",
   "execution_count": 7,
   "id": "7110ad92",
   "metadata": {},
   "outputs": [],
   "source": [
    "def largest_remainder_method(decimal_series):\n",
    "    total_percentage = 100\n",
    "    rounded_percentages = [round(decimal * total_percentage) for decimal in decimal_series]\n",
    "\n",
    "    # Calculate the total after rounding\n",
    "    rounded_total = sum(rounded_percentages)\n",
    "\n",
    "    # Calculate the remainder for each percentage\n",
    "    remainders = [(i, rounded_percentage % 1) for i, rounded_percentage in enumerate(rounded_percentages)]\n",
    "\n",
    "    # Sort the remainders in descending order\n",
    "    remainders.sort(key=lambda x: x[1], reverse=True)\n",
    "\n",
    "    # Distribute the remaining percentage to the largest remainders\n",
    "    remaining_percentage = total_percentage - rounded_total\n",
    "    for i in range(remaining_percentage):\n",
    "        index = remainders[i % len(remainders)][0]\n",
    "        rounded_percentages[index] += 1\n",
    "\n",
    "    return rounded_percentages"
   ]
  },
  {
   "cell_type": "markdown",
   "id": "f7290032",
   "metadata": {},
   "source": [
    "### Create Refrigerated products dataframe"
   ]
  },
  {
   "cell_type": "code",
   "execution_count": 8,
   "id": "95c94534",
   "metadata": {},
   "outputs": [],
   "source": [
    "df_refrige = df[df['refrigerated'] == True]"
   ]
  },
  {
   "cell_type": "code",
   "execution_count": 9,
   "id": "483de847",
   "metadata": {},
   "outputs": [],
   "source": [
    "refridge_dept_counts = df_refrige.groupby('department').agg(\n",
    "    products_sold=pd.NamedAgg(column='product_name', aggfunc='nunique'),\n",
    "    total_items_sold=pd.NamedAgg(column='product_name', aggfunc='size')\n",
    ").reset_index()\n",
    "\n",
    "refridge_dept_counts['store_util'] = refridge_dept_counts['products_sold'] / refridge_dept_counts['products_sold'].sum()\n",
    "refridge_dept_counts['dept_dominance'] = refridge_dept_counts['total_items_sold'] / refridge_dept_counts['total_items_sold'].sum()\n",
    "refridge_dept_counts['aisle_allocation'] = largest_remainder_method(((refridge_dept_counts['store_util']+refridge_dept_counts['dept_dominance'] ) / 2))\n",
    "#refridge_dept_counts.loc[refridge_dept_counts['department'] == 'beverages', 'department'] = 'beverages_refrigerated'"
   ]
  },
  {
   "cell_type": "code",
   "execution_count": 10,
   "id": "0436575b",
   "metadata": {},
   "outputs": [
    {
     "data": {
      "text/plain": "               department  products_sold  total_items_sold  store_util  \\\n0  beverages_refrigerated            544             17663    0.104797   \n1              dairy eggs           2886            164468    0.555962   \n2                    deli           1069             32008    0.205933   \n3            meat seafood            692             21588    0.133308   \n\n   dept_dominance  aisle_allocation  \n0        0.074930                 9  \n1        0.697705                63  \n2        0.135784                17  \n3        0.091581                11  ",
      "text/html": "<div>\n<style scoped>\n    .dataframe tbody tr th:only-of-type {\n        vertical-align: middle;\n    }\n\n    .dataframe tbody tr th {\n        vertical-align: top;\n    }\n\n    .dataframe thead th {\n        text-align: right;\n    }\n</style>\n<table border=\"1\" class=\"dataframe\">\n  <thead>\n    <tr style=\"text-align: right;\">\n      <th></th>\n      <th>department</th>\n      <th>products_sold</th>\n      <th>total_items_sold</th>\n      <th>store_util</th>\n      <th>dept_dominance</th>\n      <th>aisle_allocation</th>\n    </tr>\n  </thead>\n  <tbody>\n    <tr>\n      <th>0</th>\n      <td>beverages_refrigerated</td>\n      <td>544</td>\n      <td>17663</td>\n      <td>0.104797</td>\n      <td>0.074930</td>\n      <td>9</td>\n    </tr>\n    <tr>\n      <th>1</th>\n      <td>dairy eggs</td>\n      <td>2886</td>\n      <td>164468</td>\n      <td>0.555962</td>\n      <td>0.697705</td>\n      <td>63</td>\n    </tr>\n    <tr>\n      <th>2</th>\n      <td>deli</td>\n      <td>1069</td>\n      <td>32008</td>\n      <td>0.205933</td>\n      <td>0.135784</td>\n      <td>17</td>\n    </tr>\n    <tr>\n      <th>3</th>\n      <td>meat seafood</td>\n      <td>692</td>\n      <td>21588</td>\n      <td>0.133308</td>\n      <td>0.091581</td>\n      <td>11</td>\n    </tr>\n  </tbody>\n</table>\n</div>"
     },
     "execution_count": 10,
     "metadata": {},
     "output_type": "execute_result"
    }
   ],
   "source": [
    "refridge_dept_counts"
   ]
  },
  {
   "cell_type": "code",
   "execution_count": 11,
   "id": "b5f7f7e1",
   "metadata": {},
   "outputs": [],
   "source": [
    "# Create a dictionary from the two columns\n",
    "dept_allocation = dict(zip(refridge_dept_counts['department'], refridge_dept_counts['aisle_allocation']))"
   ]
  },
  {
   "cell_type": "markdown",
   "id": "70ad5f19",
   "metadata": {},
   "source": [
    "### Create General products dataframe"
   ]
  },
  {
   "cell_type": "code",
   "execution_count": 12,
   "id": "a06fc0b6",
   "metadata": {},
   "outputs": [],
   "source": [
    "df_general = df[(df['refrigerated'] == False) & (df['frozen'] == False)]"
   ]
  },
  {
   "cell_type": "code",
   "execution_count": 13,
   "id": "b1f10cd4",
   "metadata": {},
   "outputs": [],
   "source": [
    "general_dept_counts = df_general.groupby('department').agg(\n",
    "    products_sold=pd.NamedAgg(column='product_name', aggfunc='nunique'),\n",
    "    total_items_sold=pd.NamedAgg(column='product_name', aggfunc='size')\n",
    ").reset_index()\n",
    "\n",
    "general_dept_counts['store_util'] = general_dept_counts['products_sold'] / general_dept_counts['products_sold'].sum()\n",
    "general_dept_counts['dept_dominance'] = general_dept_counts['total_items_sold'] / general_dept_counts['total_items_sold'].sum()\n",
    "general_dept_counts['aisle_allocation'] = largest_remainder_method((general_dept_counts['store_util']+general_dept_counts['dept_dominance'] ) / 2)\n",
    "general_dept_counts['aisle_allocation'] = general_dept_counts['aisle_allocation'] * 8\n",
    "#general_dept_counts.loc[general_dept_counts['department'] == 'beverages', 'department'] = 'beverages_non_refrigerated'"
   ]
  },
  {
   "cell_type": "code",
   "execution_count": 14,
   "id": "fa120953",
   "metadata": {},
   "outputs": [
    {
     "data": {
      "text/plain": "                    department  products_sold  total_items_sold  store_util  \\\n0                      alcohol            606              4580    0.023100   \n1                       babies            799             12872    0.030457   \n2                       bakery           1204             35806    0.045895   \n3   beverages_non_refrigerated           2709             64260    0.103263   \n4                    breakfast            905             21585    0.034497   \n5                         bulk             33              1087    0.001258   \n6                 canned goods           1557             32486    0.059350   \n7              dry goods pasta           1366             26096    0.052070   \n8                    household           2028             22445    0.077304   \n9                international            772              8248    0.029427   \n10                       other            303              1097    0.011550   \n11                      pantry           3691             56681    0.140695   \n12               personal care           3524             13773    0.134329   \n13                        pets            657              3157    0.025044   \n14                     produce           1437            288775    0.054776   \n15                      snacks           4643             88093    0.176984   \n\n    dept_dominance  aisle_allocation  \n0         0.006725                16  \n1         0.018900                16  \n2         0.052575                40  \n3         0.094356                80  \n4         0.031694                24  \n5         0.001596                 0  \n6         0.047701                40  \n7         0.038318                40  \n8         0.032957                48  \n9         0.012111                16  \n10        0.001611                 8  \n11        0.083227                88  \n12        0.020223                64  \n13        0.004636                 8  \n14        0.424020               192  \n15        0.129351               120  ",
      "text/html": "<div>\n<style scoped>\n    .dataframe tbody tr th:only-of-type {\n        vertical-align: middle;\n    }\n\n    .dataframe tbody tr th {\n        vertical-align: top;\n    }\n\n    .dataframe thead th {\n        text-align: right;\n    }\n</style>\n<table border=\"1\" class=\"dataframe\">\n  <thead>\n    <tr style=\"text-align: right;\">\n      <th></th>\n      <th>department</th>\n      <th>products_sold</th>\n      <th>total_items_sold</th>\n      <th>store_util</th>\n      <th>dept_dominance</th>\n      <th>aisle_allocation</th>\n    </tr>\n  </thead>\n  <tbody>\n    <tr>\n      <th>0</th>\n      <td>alcohol</td>\n      <td>606</td>\n      <td>4580</td>\n      <td>0.023100</td>\n      <td>0.006725</td>\n      <td>16</td>\n    </tr>\n    <tr>\n      <th>1</th>\n      <td>babies</td>\n      <td>799</td>\n      <td>12872</td>\n      <td>0.030457</td>\n      <td>0.018900</td>\n      <td>16</td>\n    </tr>\n    <tr>\n      <th>2</th>\n      <td>bakery</td>\n      <td>1204</td>\n      <td>35806</td>\n      <td>0.045895</td>\n      <td>0.052575</td>\n      <td>40</td>\n    </tr>\n    <tr>\n      <th>3</th>\n      <td>beverages_non_refrigerated</td>\n      <td>2709</td>\n      <td>64260</td>\n      <td>0.103263</td>\n      <td>0.094356</td>\n      <td>80</td>\n    </tr>\n    <tr>\n      <th>4</th>\n      <td>breakfast</td>\n      <td>905</td>\n      <td>21585</td>\n      <td>0.034497</td>\n      <td>0.031694</td>\n      <td>24</td>\n    </tr>\n    <tr>\n      <th>5</th>\n      <td>bulk</td>\n      <td>33</td>\n      <td>1087</td>\n      <td>0.001258</td>\n      <td>0.001596</td>\n      <td>0</td>\n    </tr>\n    <tr>\n      <th>6</th>\n      <td>canned goods</td>\n      <td>1557</td>\n      <td>32486</td>\n      <td>0.059350</td>\n      <td>0.047701</td>\n      <td>40</td>\n    </tr>\n    <tr>\n      <th>7</th>\n      <td>dry goods pasta</td>\n      <td>1366</td>\n      <td>26096</td>\n      <td>0.052070</td>\n      <td>0.038318</td>\n      <td>40</td>\n    </tr>\n    <tr>\n      <th>8</th>\n      <td>household</td>\n      <td>2028</td>\n      <td>22445</td>\n      <td>0.077304</td>\n      <td>0.032957</td>\n      <td>48</td>\n    </tr>\n    <tr>\n      <th>9</th>\n      <td>international</td>\n      <td>772</td>\n      <td>8248</td>\n      <td>0.029427</td>\n      <td>0.012111</td>\n      <td>16</td>\n    </tr>\n    <tr>\n      <th>10</th>\n      <td>other</td>\n      <td>303</td>\n      <td>1097</td>\n      <td>0.011550</td>\n      <td>0.001611</td>\n      <td>8</td>\n    </tr>\n    <tr>\n      <th>11</th>\n      <td>pantry</td>\n      <td>3691</td>\n      <td>56681</td>\n      <td>0.140695</td>\n      <td>0.083227</td>\n      <td>88</td>\n    </tr>\n    <tr>\n      <th>12</th>\n      <td>personal care</td>\n      <td>3524</td>\n      <td>13773</td>\n      <td>0.134329</td>\n      <td>0.020223</td>\n      <td>64</td>\n    </tr>\n    <tr>\n      <th>13</th>\n      <td>pets</td>\n      <td>657</td>\n      <td>3157</td>\n      <td>0.025044</td>\n      <td>0.004636</td>\n      <td>8</td>\n    </tr>\n    <tr>\n      <th>14</th>\n      <td>produce</td>\n      <td>1437</td>\n      <td>288775</td>\n      <td>0.054776</td>\n      <td>0.424020</td>\n      <td>192</td>\n    </tr>\n    <tr>\n      <th>15</th>\n      <td>snacks</td>\n      <td>4643</td>\n      <td>88093</td>\n      <td>0.176984</td>\n      <td>0.129351</td>\n      <td>120</td>\n    </tr>\n  </tbody>\n</table>\n</div>"
     },
     "execution_count": 14,
     "metadata": {},
     "output_type": "execute_result"
    }
   ],
   "source": [
    "general_dept_counts"
   ]
  },
  {
   "cell_type": "code",
   "execution_count": 15,
   "id": "6a33e60d",
   "metadata": {},
   "outputs": [],
   "source": [
    "# Create a new dictionary from the DataFrame\n",
    "temp_dict = dict(zip(general_dept_counts['department'], general_dept_counts['aisle_allocation']))\n",
    "# Add the new dictionary to the existing dictionary\n",
    "dept_allocation.update(temp_dict)\n",
    "dept_allocation['frozen'] = 100"
   ]
  },
  {
   "cell_type": "code",
   "execution_count": 16,
   "id": "7980e64f",
   "metadata": {},
   "outputs": [
    {
     "data": {
      "text/plain": "{'beverages_refrigerated': 9,\n 'dairy eggs': 63,\n 'deli': 17,\n 'meat seafood': 11,\n 'alcohol': 16,\n 'babies': 16,\n 'bakery': 40,\n 'beverages_non_refrigerated': 80,\n 'breakfast': 24,\n 'bulk': 0,\n 'canned goods': 40,\n 'dry goods pasta': 40,\n 'household': 48,\n 'international': 16,\n 'other': 8,\n 'pantry': 88,\n 'personal care': 64,\n 'pets': 8,\n 'produce': 192,\n 'snacks': 120,\n 'frozen': 100}"
     },
     "execution_count": 16,
     "metadata": {},
     "output_type": "execute_result"
    }
   ],
   "source": [
    "dept_allocation"
   ]
  },
  {
   "cell_type": "markdown",
   "id": "6e59b70f",
   "metadata": {},
   "source": [
    "### Check correlation between store_util and dept_dominance\n"
   ]
  },
  {
   "cell_type": "code",
   "execution_count": 17,
   "id": "a52bfd4e",
   "metadata": {},
   "outputs": [
    {
     "ename": "NameError",
     "evalue": "name 'department_counts' is not defined",
     "output_type": "error",
     "traceback": [
      "\u001B[0;31m---------------------------------------------------------------------------\u001B[0m",
      "\u001B[0;31mNameError\u001B[0m                                 Traceback (most recent call last)",
      "Cell \u001B[0;32mIn[17], line 2\u001B[0m\n\u001B[1;32m      1\u001B[0m \u001B[38;5;66;03m# Calculate the correlation coefficient between the two variables\u001B[39;00m\n\u001B[0;32m----> 2\u001B[0m corr_coef \u001B[38;5;241m=\u001B[39m \u001B[43mdepartment_counts\u001B[49m[\u001B[38;5;124m'\u001B[39m\u001B[38;5;124mstore_util\u001B[39m\u001B[38;5;124m'\u001B[39m]\u001B[38;5;241m.\u001B[39mcorr(department_counts[\u001B[38;5;124m'\u001B[39m\u001B[38;5;124mdept_dominance\u001B[39m\u001B[38;5;124m'\u001B[39m])\n\u001B[1;32m      4\u001B[0m \u001B[38;5;28mprint\u001B[39m(\u001B[38;5;124mf\u001B[39m\u001B[38;5;124m'\u001B[39m\u001B[38;5;124mCorrelation coefficient between store_util and dept_dominance: \u001B[39m\u001B[38;5;132;01m{\u001B[39;00mcorr_coef\u001B[38;5;132;01m}\u001B[39;00m\u001B[38;5;124m'\u001B[39m)\n",
      "\u001B[0;31mNameError\u001B[0m: name 'department_counts' is not defined"
     ]
    }
   ],
   "source": [
    "# Calculate the correlation coefficient between the two variables\n",
    "corr_coef = department_counts['store_util'].corr(department_counts['dept_dominance'])\n",
    "\n",
    "print(f'Correlation coefficient between store_util and dept_dominance: {corr_coef}')"
   ]
  },
  {
   "cell_type": "markdown",
   "id": "e8555cdb",
   "metadata": {},
   "source": [
    "Weak correlation between the number of products within each department and the total number of sales between each department. This means having more products in your department does not lead to more department sales."
   ]
  },
  {
   "cell_type": "markdown",
   "id": "5d96a1d0",
   "metadata": {},
   "source": [
    "### Confidence Interval of total_quantity_sold for each department"
   ]
  },
  {
   "cell_type": "code",
   "execution_count": null,
   "id": "3906ae69",
   "metadata": {
    "scrolled": true
   },
   "outputs": [],
   "source": [
    "department_stats = {}\n",
    "\n",
    "for department, data in top_1000.groupby('department'):\n",
    "    mean_quantity = data['total_quantity_sold'].mean()\n",
    "    std_quantity = data['total_quantity_sold'].std()\n",
    "    sem_quantity = stats.sem(data['total_quantity_sold'])\n",
    "    confidence_interval = [round(val, 2) for val in stats.t.interval(0.95, len(data)-1, loc=mean_quantity, scale=sem_quantity)]\n",
    "\n",
    "    department_stats[department] = {\n",
    "        'mean_quantity': round(mean_quantity, 2),\n",
    "        'std_quantity': round(std_quantity, 2),\n",
    "        'confidence_interval': confidence_interval\n",
    "    }\n",
    "\n",
    "# Display the results\n",
    "for department, info in department_stats.items():\n",
    "    print(f\"Department: {department}\")\n",
    "    print(f\"Mean Quantity Sold: {info['mean_quantity']}\")\n",
    "    print(f\"Standard Deviation: {info['std_quantity']}\")\n",
    "    print(f\"Confidence Interval: {info['confidence_interval']}\")\n",
    "    print()"
   ]
  },
  {
   "cell_type": "markdown",
   "id": "9b421138",
   "metadata": {},
   "source": [
    "### Top 1000 items sold"
   ]
  },
  {
   "cell_type": "code",
   "execution_count": null,
   "id": "ec7f68b5",
   "metadata": {},
   "outputs": [],
   "source": [
    "# Group by 'product_name' and sum rows for sales count\n",
    "df_quantity_sold = df.groupby('product_name').size().reset_index(name='total_quantity_sold')\n",
    "\n",
    "# Merge with df to carryover product details\n",
    "df_quantity_sold = pd.merge(df_quantity_sold, df.drop_duplicates('product_name'), on='product_name')\n",
    "df_quantity_sold = df_quantity_sold.sort_values(by='total_quantity_sold', ascending=False)\n",
    "# Find top 1000 products\n",
    "top_1000 = df_quantity_sold.head(1000)"
   ]
  },
  {
   "cell_type": "code",
   "execution_count": null,
   "id": "00444577",
   "metadata": {},
   "outputs": [],
   "source": [
    "top_1000[top_1000['department'] == 'beverages_refrigerated']"
   ]
  },
  {
   "cell_type": "markdown",
   "id": "e9db2496",
   "metadata": {},
   "source": [
    "### Find department breakdown of top_1000 products"
   ]
  },
  {
   "cell_type": "code",
   "execution_count": null,
   "id": "0068f494",
   "metadata": {},
   "outputs": [],
   "source": [
    "top_1000_department_counts = top_1000.groupby('department').agg(\n",
    "    products_sold=pd.NamedAgg(column='product_name', aggfunc='nunique'),\n",
    ").reset_index()"
   ]
  },
  {
   "cell_type": "code",
   "execution_count": null,
   "id": "7e31d406",
   "metadata": {},
   "outputs": [],
   "source": [
    "top_1000_department_counts['dept_top_1000_dominance'] = top_1000_department_counts['products_sold'] / top_1000_department_counts['products_sold'].sum()"
   ]
  },
  {
   "cell_type": "code",
   "execution_count": null,
   "id": "a9cdbbaa",
   "metadata": {},
   "outputs": [],
   "source": [
    "top_1000_department_counts"
   ]
  },
  {
   "cell_type": "markdown",
   "id": "a14d4e6d",
   "metadata": {},
   "source": [
    "### Find refridgerated breakdown of top_1000 products"
   ]
  },
  {
   "cell_type": "code",
   "execution_count": null,
   "id": "49612135",
   "metadata": {},
   "outputs": [],
   "source": [
    "top_1000_refrigerated = top_1000[top_1000['refrigerated'] == True]\n",
    "\n",
    "print(f'Number of refrigerated products in the top_1000: {top_1000_refrigerated.shape[0]}')"
   ]
  },
  {
   "cell_type": "code",
   "execution_count": null,
   "id": "5d24ef02",
   "metadata": {},
   "outputs": [],
   "source": [
    "# Dateframe of the top 100 refrigerated products\n",
    "top_100_refrigerated = top_1000_refrigerated.head(100)"
   ]
  },
  {
   "cell_type": "markdown",
   "id": "9b27608c",
   "metadata": {},
   "source": [
    "### Picking Top 1000"
   ]
  },
  {
   "cell_type": "code",
   "execution_count": null,
   "id": "6960af52",
   "metadata": {},
   "outputs": [],
   "source": [
    "selected_rows = []\n",
    "\n",
    "# Iterate through the dictionary and DataFrame to pick items\n",
    "for department, num_items in dept_allocation.items():\n",
    "    department_rows = df_quantity_sold[df_quantity_sold['department'] == department].head(num_items)\n",
    "    selected_rows.append(department_rows)\n",
    "\n",
    "# Concatenate the selected rows into a new DataFrame\n",
    "picked_df = pd.concat(selected_rows)"
   ]
  },
  {
   "cell_type": "code",
   "execution_count": null,
   "id": "435d0016",
   "metadata": {},
   "outputs": [],
   "source": [
    "picked_df.head(10)"
   ]
  },
  {
   "cell_type": "code",
   "execution_count": null,
   "id": "4672379c",
   "metadata": {},
   "outputs": [],
   "source": [
    "#picked_df.to_csv('items_1000.csv', index=False)"
   ]
  },
  {
   "cell_type": "code",
   "execution_count": null,
   "id": "ba115584",
   "metadata": {},
   "outputs": [],
   "source": [
    "# Filter rows where 'column1' contains the word 'garlic'\n",
    "filtered_df = picked_df[picked_df['product_name'].str.contains('apple', case=False)]\n",
    "\n",
    "filtered_df"
   ]
  },
  {
   "cell_type": "code",
   "execution_count": null,
   "id": "68b8d187",
   "metadata": {},
   "outputs": [],
   "source": []
  }
 ],
 "metadata": {
  "kernelspec": {
   "display_name": "Python 3 (ipykernel)",
   "language": "python",
   "name": "python3"
  },
  "language_info": {
   "codemirror_mode": {
    "name": "ipython",
    "version": 3
   },
   "file_extension": ".py",
   "mimetype": "text/x-python",
   "name": "python",
   "nbconvert_exporter": "python",
   "pygments_lexer": "ipython3",
   "version": "3.9.13"
  }
 },
 "nbformat": 4,
 "nbformat_minor": 5
}
