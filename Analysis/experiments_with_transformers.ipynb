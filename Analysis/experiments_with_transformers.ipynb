{
 "cells": [
  {
   "cell_type": "markdown",
   "source": [
    "# Rotman Data Science Competition\n",
    "## Section 2: Experimentation\n",
    "### Part 1. Case Studies\n",
    "#### a) Testing Viability of Phrasing Task as Common NLP Tasks"
   ],
   "metadata": {
    "collapsed": false
   }
  },
  {
   "cell_type": "code",
   "execution_count": 1,
   "outputs": [
    {
     "name": "stderr",
     "output_type": "stream",
     "text": [
      "/Users/simonxu/opt/anaconda3/envs/ml_practice/lib/python3.10/site-packages/tqdm/auto.py:21: TqdmWarning: IProgress not found. Please update jupyter and ipywidgets. See https://ipywidgets.readthedocs.io/en/stable/user_install.html\n",
      "  from .autonotebook import tqdm as notebook_tqdm\n"
     ]
    }
   ],
   "source": [
    "from transformers import pipeline"
   ],
   "metadata": {
    "collapsed": false
   }
  },
  {
   "cell_type": "code",
   "execution_count": 2,
   "outputs": [],
   "source": [
    "generator = pipeline(\"text-generation\", model=\"distilgpt2\")\n",
    "prompt = \"Order 17053 -- Items: Yellow Potato, garlic, Organic Italian Salad, Delmonicos Dress Pepper Rnch, Smoked Uncured Kielbasa. Order 58719 -- Items: Original Hummus, Sunny Days Strawberry Snack Bars, Chicken Salad, Banana, Organic Cherry Tomatoes. Order 89470 -- Items: Lime Seltzer, \""
   ],
   "metadata": {
    "collapsed": false
   }
  },
  {
   "cell_type": "code",
   "execution_count": 14,
   "outputs": [
    {
     "name": "stderr",
     "output_type": "stream",
     "text": [
      "Setting `pad_token_id` to `eos_token_id`:50256 for open-end generation.\n"
     ]
    },
    {
     "data": {
      "text/plain": "[{'generated_text': 'Order 17053 -- Item 1: Yellow Potato, Item 2: garlic, Item 3: Organic Italian Salad, Item 4: Delmonicos Dress Pepper Rnch, Item 5: Smoked Uncured Kielbasa, Item 6: Fresh Mushroom Cheese, Item 7: Old Sausage Salad, Item 8: Cheese Wrapping, Item 9: Beef Soup, Item 10: Hot Fried Chicken, Item 11: Cheddar Roasted Meat, Item 12: Green Potatoes, Item 13: Cheddar Cheese, Item 14: Apple Sauce, Item 15: Sweet Potato Soup, Item 16: Potato Soup, Item 17: Carrots, Item 18: Chives, Item 19: Yellow Potatoes, Item 20: Yellow Potatoes, Item 21: Yellow Potatoes, Item 22: Yellow Potatoes, Item 23: Yellow Potatoes, Item 24: Yellow Potatoes, Item 25: Yellow Potatoes, Item 26: Yellow Potatoes, Item 27: Yellow Potatoes'},\n {'generated_text': 'Order 17053 -- Item 1: Yellow Potato, Item 2: garlic, Item 3: Organic Italian Salad, Item 4: Delmonicos Dress Pepper Rnch, Item 5: Smoked Uncured Kielbasa, Item 6: Spicy Spicy Spicy Mushroom, Item 7: The Yellow Potato, Item 8: The Yellow Potato, Item 9: Potato Salad, Item 10: Sweet Potato Soup, Item 11: Yellow Potato Soup, Item 12: A Big Spicy Mushroom, Item 13: A Little Yellow Potato, Item 14: A Little Brown, Item 15: A Little Red Potato, Item 16: Belly Pepper, Item 17: A Little Brown, Item 18: A Little Gray Potato, Item 19: A Little Brown, Item 20: A Little Gray, Item 21: A Little Brown, Item 22: A Little Brown, Item 23: A Little Brown, Item 24: A Little Brown, Item 25: A Little Brown, Item 26: A'}]"
     },
     "execution_count": 14,
     "metadata": {},
     "output_type": "execute_result"
    }
   ],
   "source": [
    "outputs = generator(prompt, max_length=200, num_return_sequences=2)\n",
    "outputs"
   ],
   "metadata": {
    "collapsed": false
   }
  },
  {
   "cell_type": "code",
   "execution_count": 16,
   "outputs": [],
   "source": [
    "mask_filler = pipeline(\"fill-mask\", model=\"distilbert-base-uncased\")\n",
    "prompt = \"Order 17053 -- Item 1: Yellow Potato, Item 2: [MASK], Item 3: Organic Italian Salad, Item 4: Delmonicos Dress Pepper Rnch, Item 5: Smoked Uncured Kielbasa.\"\n",
    "outputs = mask_filler(prompt, top_k=10)"
   ],
   "metadata": {
    "collapsed": false
   }
  },
  {
   "cell_type": "code",
   "execution_count": 17,
   "outputs": [
    {
     "name": "stdout",
     "output_type": "stream",
     "text": [
      "Accuracy: 0.1\n"
     ]
    },
    {
     "data": {
      "text/plain": "[{'score': 0.21543923020362854,\n  'token': 20856,\n  'token_str': 'tomato',\n  'sequence': 'order 17053 - - item 1 : yellow potato, item 2 : tomato, item 3 : organic italian salad, item 4 : delmonicos dress pepper rnch, item 5 : smoked uncured kielbasa.'},\n {'score': 0.10297118127346039,\n  'token': 14557,\n  'token_str': 'potato',\n  'sequence': 'order 17053 - - item 1 : yellow potato, item 2 : potato, item 3 : organic italian salad, item 4 : delmonicos dress pepper rnch, item 5 : smoked uncured kielbasa.'},\n {'score': 0.040197696536779404,\n  'token': 28540,\n  'token_str': 'cabbage',\n  'sequence': 'order 17053 - - item 1 : yellow potato, item 2 : cabbage, item 3 : organic italian salad, item 4 : delmonicos dress pepper rnch, item 5 : smoked uncured kielbasa.'},\n {'score': 0.030098844319581985,\n  'token': 20548,\n  'token_str': 'garlic',\n  'sequence': 'order 17053 - - item 1 : yellow potato, item 2 : garlic, item 3 : organic italian salad, item 4 : delmonicos dress pepper rnch, item 5 : smoked uncured kielbasa.'},\n {'score': 0.0276714526116848,\n  'token': 14629,\n  'token_str': 'potatoes',\n  'sequence': 'order 17053 - - item 1 : yellow potato, item 2 : potatoes, item 3 : organic italian salad, item 4 : delmonicos dress pepper rnch, item 5 : smoked uncured kielbasa.'},\n {'score': 0.022987043485045433,\n  'token': 20949,\n  'token_str': 'onion',\n  'sequence': 'order 17053 - - item 1 : yellow potato, item 2 : onion, item 3 : organic italian salad, item 4 : delmonicos dress pepper rnch, item 5 : smoked uncured kielbasa.'},\n {'score': 0.018200643360614777,\n  'token': 24857,\n  'token_str': 'pasta',\n  'sequence': 'order 17053 - - item 1 : yellow potato, item 2 : pasta, item 3 : organic italian salad, item 4 : delmonicos dress pepper rnch, item 5 : smoked uncured kielbasa.'},\n {'score': 0.016530534252524376,\n  'token': 14380,\n  'token_str': 'lemon',\n  'sequence': 'order 17053 - - item 1 : yellow potato, item 2 : lemon, item 3 : organic italian salad, item 4 : delmonicos dress pepper rnch, item 5 : smoked uncured kielbasa.'},\n {'score': 0.016482867300510406,\n  'token': 25659,\n  'token_str': 'carrot',\n  'sequence': 'order 17053 - - item 1 : yellow potato, item 2 : carrot, item 3 : organic italian salad, item 4 : delmonicos dress pepper rnch, item 5 : smoked uncured kielbasa.'},\n {'score': 0.01412986684590578,\n  'token': 16521,\n  'token_str': 'salad',\n  'sequence': 'order 17053 - - item 1 : yellow potato, item 2 : salad, item 3 : organic italian salad, item 4 : delmonicos dress pepper rnch, item 5 : smoked uncured kielbasa.'}]"
     },
     "execution_count": 17,
     "metadata": {},
     "output_type": "execute_result"
    }
   ],
   "source": [
    "correct_answer = \"garlic\"\n",
    "accuracy = 0\n",
    "for output in outputs:\n",
    "    if correct_answer in output[\"token_str\"]:\n",
    "        accuracy += 1\n",
    "accuracy = accuracy / len(outputs)\n",
    "print(f\"Accuracy: {accuracy}\")\n",
    "outputs"
   ],
   "metadata": {
    "collapsed": false
   }
  },
  {
   "cell_type": "code",
   "execution_count": 6,
   "outputs": [
    {
     "data": {
      "text/plain": "[{'score': 0.17831414937973022,\n  'token': 20548,\n  'token_str': 'garlic',\n  'sequence': 'order 17053 - - item 1 : yellow potato, item 2 : garlic, item 3 : organic italian salad, item 4 : delmonicos dress pepper rnch, item 5 : smoked uncured kielbasa. purpose of order : garlic.'},\n {'score': 0.018526792526245117,\n  'token': 20856,\n  'token_str': 'tomato',\n  'sequence': 'order 17053 - - item 1 : yellow potato, item 2 : garlic, item 3 : organic italian salad, item 4 : delmonicos dress pepper rnch, item 5 : smoked uncured kielbasa. purpose of order : tomato.'},\n {'score': 0.01784643717110157,\n  'token': 14629,\n  'token_str': 'potatoes',\n  'sequence': 'order 17053 - - item 1 : yellow potato, item 2 : garlic, item 3 : organic italian salad, item 4 : delmonicos dress pepper rnch, item 5 : smoked uncured kielbasa. purpose of order : potatoes.'},\n {'score': 0.014760144054889679,\n  'token': 24444,\n  'token_str': 'onions',\n  'sequence': 'order 17053 - - item 1 : yellow potato, item 2 : garlic, item 3 : organic italian salad, item 4 : delmonicos dress pepper rnch, item 5 : smoked uncured kielbasa. purpose of order : onions.'},\n {'score': 0.011366339400410652,\n  'token': 8434,\n  'token_str': 'cooking',\n  'sequence': 'order 17053 - - item 1 : yellow potato, item 2 : garlic, item 3 : organic italian salad, item 4 : delmonicos dress pepper rnch, item 5 : smoked uncured kielbasa. purpose of order : cooking.'},\n {'score': 0.010832750238478184,\n  'token': 11546,\n  'token_str': 'vegetables',\n  'sequence': 'order 17053 - - item 1 : yellow potato, item 2 : garlic, item 3 : organic italian salad, item 4 : delmonicos dress pepper rnch, item 5 : smoked uncured kielbasa. purpose of order : vegetables.'},\n {'score': 0.010497898794710636,\n  'token': 23827,\n  'token_str': 'mushrooms',\n  'sequence': 'order 17053 - - item 1 : yellow potato, item 2 : garlic, item 3 : organic italian salad, item 4 : delmonicos dress pepper rnch, item 5 : smoked uncured kielbasa. purpose of order : mushrooms.'},\n {'score': 0.01033203024417162,\n  'token': 11565,\n  'token_str': 'pepper',\n  'sequence': 'order 17053 - - item 1 : yellow potato, item 2 : garlic, item 3 : organic italian salad, item 4 : delmonicos dress pepper rnch, item 5 : smoked uncured kielbasa. purpose of order : pepper.'},\n {'score': 0.00925258919596672,\n  'token': 21729,\n  'token_str': 'spices',\n  'sequence': 'order 17053 - - item 1 : yellow potato, item 2 : garlic, item 3 : organic italian salad, item 4 : delmonicos dress pepper rnch, item 5 : smoked uncured kielbasa. purpose of order : spices.'},\n {'score': 0.008557576686143875,\n  'token': 6240,\n  'token_str': 'meat',\n  'sequence': 'order 17053 - - item 1 : yellow potato, item 2 : garlic, item 3 : organic italian salad, item 4 : delmonicos dress pepper rnch, item 5 : smoked uncured kielbasa. purpose of order : meat.'}]"
     },
     "execution_count": 6,
     "metadata": {},
     "output_type": "execute_result"
    }
   ],
   "source": [
    "prompt = \"Order 17053 -- Item 1: Yellow Potato, Item 2: garlic, Item 3: Organic Italian Salad, Item 4: Delmonicos Dress Pepper Rnch, Item 5: Smoked Uncured Kielbasa. Purpose of Order: [MASK].\"\n",
    "outputs = mask_filler(prompt, top_k=10)\n",
    "outputs"
   ],
   "metadata": {
    "collapsed": false
   }
  },
  {
   "cell_type": "code",
   "execution_count": 7,
   "outputs": [
    {
     "data": {
      "text/plain": "{'sequence': 'Order 17053 -- Item 1: Yellow Potato, Item 2: garlic, Item 3: Organic Italian Salad, Item 4: Delmonicos Dress Pepper Rnch, Item 5: Smoked Uncured Kielbasa',\n 'labels': ['meal', 'utility', 'baking', 'camping'],\n 'scores': [0.9301444888114929,\n  0.05034911260008812,\n  0.011968020349740982,\n  0.007538415491580963]}"
     },
     "execution_count": 7,
     "metadata": {},
     "output_type": "execute_result"
    }
   ],
   "source": [
    "classifier = pipeline(\"zero-shot-classification\",\n",
    "                      model=\"facebook/bart-large-mnli\")\n",
    "prompt = \"Order 17053 -- Item 1: Yellow Potato, Item 2: garlic, Item 3: Organic Italian Salad, Item 4: Delmonicos Dress Pepper Rnch, Item 5: Smoked Uncured Kielbasa\"\n",
    "cand_labels = [\"meal\", \"baking\", \"camping\", \"utility\"]\n",
    "classifier(prompt, cand_labels)"
   ],
   "metadata": {
    "collapsed": false
   }
  },
  {
   "cell_type": "markdown",
   "source": [],
   "metadata": {
    "collapsed": false
   }
  },
  {
   "cell_type": "code",
   "execution_count": 18,
   "outputs": [],
   "source": [
    "from transformers import AutoTokenizer, AutoModel\n",
    "import torch\n",
    "\n",
    "checkpoint = \"sentence-transformers/msmarco-distilbert-base-tas-b\"\n",
    "model = AutoModel.from_pretrained(checkpoint)\n",
    "tokenizer = AutoTokenizer.from_pretrained(checkpoint)"
   ],
   "metadata": {
    "collapsed": false
   }
  },
  {
   "cell_type": "code",
   "execution_count": 19,
   "outputs": [],
   "source": [
    "query_pie = \"I bought apples, flour, cinnamon, salt, butter, and sugar\"\n",
    "docs_pie = [\"I bought apple curry, flour, cinnamon, salt, butter, and sugar\",\n",
    "        \"I bought apple extract, flour, cinnamon, salt, butter, and sugar\",\n",
    "        \"I bought bananas, flour, cinnamon, salt, butter, and sugar\",\n",
    "        \"I bought apple juice, flour, cinnamon, salt, butter, and sugar\"]\n",
    "\n",
    "query_basket = \"I bought apples, pears, cherries, oranges, AA batteries, and grapes\"\n",
    "docs_basket = [\"I bought apple candy, pears, cherries, oranges, AA batteries, and grapes\",\n",
    "               \"I bought apple extract, pears, cherries, oranges, AA batteries, and grapes\",\n",
    "               \"I bought bananas, pears, cherries, oranges, AA batteries, and grapes\",\n",
    "               \"I bought apple juice, pears, cherries, oranges, AA batteries, and grapes\"]\n"
   ],
   "metadata": {
    "collapsed": false
   }
  },
  {
   "cell_type": "code",
   "execution_count": 20,
   "outputs": [],
   "source": [
    "#CLS Pooling - Take output from first token\n",
    "def cls_pooling(model_output):\n",
    "    return model_output.last_hidden_state[:,0]\n",
    "\n",
    "#Encode text\n",
    "def encode(texts):\n",
    "    # Tokenize sentences\n",
    "    encoded_input = tokenizer(texts, padding=True, truncation=True, return_tensors='pt')\n",
    "\n",
    "    # Compute token embeddings\n",
    "    with torch.no_grad():\n",
    "        model_output = model(**encoded_input, return_dict=True)\n",
    "\n",
    "    # Perform pooling\n",
    "    embeddings = cls_pooling(model_output)\n",
    "\n",
    "    return embeddings"
   ],
   "metadata": {
    "collapsed": false
   }
  },
  {
   "cell_type": "code",
   "execution_count": 21,
   "outputs": [],
   "source": [
    "query_pie_emb = encode(query_pie)\n",
    "docs_pie_emb = encode(docs_pie)"
   ],
   "metadata": {
    "collapsed": false
   }
  },
  {
   "cell_type": "code",
   "execution_count": 22,
   "outputs": [
    {
     "name": "stdout",
     "output_type": "stream",
     "text": [
      "[112.56742858886719] I bought apple juice, flour, cinnamon, salt, butter, and sugar\n",
      "[112.05168151855469] I bought apple extract, flour, cinnamon, salt, butter, and sugar\n",
      "[111.874755859375] I bought bananas, flour, cinnamon, salt, butter, and sugar\n",
      "[110.29551696777344] I bought apple curry, flour, cinnamon, salt, butter, and sugar\n"
     ]
    }
   ],
   "source": [
    "#Compute dot score between query and all document embeddings\n",
    "scores = torch.mm(docs_pie_emb, query_pie_emb.transpose(0, 1)).cpu().tolist()\n",
    "\n",
    "#Combine docs & scores\n",
    "doc_score_pairs = list(zip(docs_pie, scores))\n",
    "\n",
    "#Sort by decreasing score\n",
    "doc_score_pairs = sorted(doc_score_pairs, key=lambda x: x[1], reverse=True)\n",
    "\n",
    "#Output passages & scores\n",
    "for doc, score in doc_score_pairs:\n",
    "    print(score, doc)\n"
   ],
   "metadata": {
    "collapsed": false
   }
  },
  {
   "cell_type": "markdown",
   "source": [
    "This is correct. Since the person is buying the things to make apple pie, it is likely that they would want apple juice or apple extract over bananas over apple curry in the occasion where apples are sold out."
   ],
   "metadata": {
    "collapsed": false
   }
  },
  {
   "cell_type": "code",
   "execution_count": 13,
   "outputs": [
    {
     "name": "stdout",
     "output_type": "stream",
     "text": [
      "[114.98710632324219] I bought apple juice, pears, cherries, oranges, AA batteries, and grapes\n",
      "[114.76957702636719] I bought bananas, pears, cherries, oranges, AA batteries, and grapes\n",
      "[114.55928039550781] I bought apple candy, pears, cherries, oranges, AA batteries, and grapes\n",
      "[114.43769073486328] I bought apple extract, pears, cherries, oranges, AA batteries, and grapes\n"
     ]
    }
   ],
   "source": [
    "# Repeat with query_basket and docs_basket\n",
    "query_basket_emb = encode(query_basket)\n",
    "docs_basket_emb = encode(docs_basket)\n",
    "\n",
    "scores = torch.mm(docs_basket_emb, query_basket_emb.transpose(0, 1)).cpu().tolist()\n",
    "\n",
    "doc_score_pairs = list(zip(docs_basket, scores))\n",
    "doc_score_pairs = sorted(doc_score_pairs, key=lambda x: x[1], reverse=True)\n",
    "\n",
    "for doc, score in doc_score_pairs:\n",
    "    print(score, doc)"
   ],
   "metadata": {
    "collapsed": false
   }
  },
  {
   "cell_type": "markdown",
   "source": [
    "This is, again, correct (though by a smaller margin) because somebody buying a fruit basket would want apple juice or bananas over apple candy over apple extract.\n",
    "\n",
    "Apple Pie Recipe From:\n",
    "https://www.ricardocuisine.com/en/recipes/6435-apple-pie-the-best"
   ],
   "metadata": {
    "collapsed": false
   }
  },
  {
   "cell_type": "code",
   "execution_count": 1,
   "outputs": [
    {
     "name": "stderr",
     "output_type": "stream",
     "text": [
      "/Users/simonxu/opt/anaconda3/envs/ml_practice/lib/python3.10/site-packages/tqdm/auto.py:21: TqdmWarning: IProgress not found. Please update jupyter and ipywidgets. See https://ipywidgets.readthedocs.io/en/stable/user_install.html\n",
      "  from .autonotebook import tqdm as notebook_tqdm\n",
      "Downloading data files: 100%|██████████| 1/1 [00:00<00:00, 3862.16it/s]\n",
      "Extracting data files: 100%|██████████| 1/1 [00:00<00:00, 163.53it/s]\n",
      "Generating train split: 987259 examples [00:01, 571513.01 examples/s]\n"
     ]
    },
    {
     "data": {
      "text/plain": "{'train': (987259, 7)}"
     },
     "execution_count": 1,
     "metadata": {},
     "output_type": "execute_result"
    }
   ],
   "source": [
    "from datasets import load_dataset\n",
    "dataset = load_dataset(\"csv\", data_files=\"data/mma_mart.csv\")\n",
    "dataset.shape"
   ],
   "metadata": {
    "collapsed": false
   }
  },
  {
   "cell_type": "code",
   "execution_count": 7,
   "outputs": [
    {
     "data": {
      "text/plain": "{'order_id': 1,\n 'product_id': 49302,\n 'product_name': 'Bulgarian Yogurt',\n 'aisle_id': 120,\n 'aisle': 'yogurt',\n 'department_id': 16,\n 'department': 'dairy eggs'}"
     },
     "execution_count": 7,
     "metadata": {},
     "output_type": "execute_result"
    }
   ],
   "source": [
    "dataset['train'][0]"
   ],
   "metadata": {
    "collapsed": false
   }
  },
  {
   "cell_type": "code",
   "execution_count": 8,
   "outputs": [
    {
     "data": {
      "text/plain": "154"
     },
     "execution_count": 8,
     "metadata": {},
     "output_type": "execute_result"
    }
   ],
   "source": [
    "len(\"'order_id': 1, 'product_id': 49302, 'product_name': 'Bulgarian Yogurt', 'aisle_id': 120, 'aisle': 'yogurt 'department_id': 16, 'department': 'dairy eggs'}\")\n"
   ],
   "metadata": {
    "collapsed": false
   }
  },
  {
   "cell_type": "code",
   "execution_count": null,
   "outputs": [],
   "source": [],
   "metadata": {
    "collapsed": false
   }
  }
 ],
 "metadata": {
  "kernelspec": {
   "display_name": "Python 3",
   "language": "python",
   "name": "python3"
  },
  "language_info": {
   "codemirror_mode": {
    "name": "ipython",
    "version": 2
   },
   "file_extension": ".py",
   "mimetype": "text/x-python",
   "name": "python",
   "nbconvert_exporter": "python",
   "pygments_lexer": "ipython2",
   "version": "2.7.6"
  }
 },
 "nbformat": 4,
 "nbformat_minor": 0
}
